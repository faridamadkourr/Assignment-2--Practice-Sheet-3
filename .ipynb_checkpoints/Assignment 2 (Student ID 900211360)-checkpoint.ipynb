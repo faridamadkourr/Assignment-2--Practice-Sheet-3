{
 "cells": [
  {
   "cell_type": "markdown",
   "id": "811dcec4",
   "metadata": {},
   "source": [
    "# Assignment 2 Practice Sheet 3"
   ]
  },
  {
   "cell_type": "markdown",
   "id": "6b3be72f",
   "metadata": {},
   "source": [
    "### Farida Madkour 900211360\n",
    "### DSCI 1412 Section 2"
   ]
  },
  {
   "cell_type": "markdown",
   "id": "20a2823f",
   "metadata": {},
   "source": [
    "## Install important packages:"
   ]
  },
  {
   "cell_type": "code",
   "execution_count": 1,
   "id": "45943c41",
   "metadata": {},
   "outputs": [],
   "source": [
    "import pandas as pd"
   ]
  },
  {
   "cell_type": "code",
   "execution_count": 2,
   "id": "12ad24f9",
   "metadata": {},
   "outputs": [],
   "source": [
    "import numpy as np"
   ]
  },
  {
   "cell_type": "code",
   "execution_count": 3,
   "id": "ad228f5c",
   "metadata": {},
   "outputs": [],
   "source": [
    "import statsmodels.api as sm"
   ]
  },
  {
   "cell_type": "code",
   "execution_count": 4,
   "id": "26b725a6",
   "metadata": {},
   "outputs": [],
   "source": [
    "from statsmodels.stats.proportion import proportion_confint"
   ]
  },
  {
   "cell_type": "code",
   "execution_count": 5,
   "id": "a88b11f0",
   "metadata": {},
   "outputs": [],
   "source": [
    "import matplotlib.pyplot as plt"
   ]
  },
  {
   "cell_type": "code",
   "execution_count": 6,
   "id": "4e1e4a70",
   "metadata": {},
   "outputs": [],
   "source": [
    "import scipy"
   ]
  },
  {
   "cell_type": "code",
   "execution_count": 7,
   "id": "d17b81e1",
   "metadata": {},
   "outputs": [],
   "source": [
    "from pandas.api.types import CategoricalDtype"
   ]
  },
  {
   "cell_type": "code",
   "execution_count": 8,
   "id": "6e4c2cb7",
   "metadata": {},
   "outputs": [],
   "source": [
    "import scipy.stats "
   ]
  },
  {
   "cell_type": "markdown",
   "id": "e249552e",
   "metadata": {},
   "source": [
    "## Part 1: International Football Matches Results"
   ]
  },
  {
   "cell_type": "markdown",
   "id": "fb768488",
   "metadata": {},
   "source": [
    "### Abstract"
   ]
  },
  {
   "cell_type": "markdown",
   "id": "c0ca58e7",
   "metadata": {},
   "source": [
    "The dataset being analyzed is about various football matches from all over the globe. There are several variables in the dataset, including the type of tournament, the city where it was played, the home and away teams, and the results. First and foremost, a code was created to convey whether each match ended as a draw, loss, or win for the home team. Furthermore, a code was constructed to compare the confidence intervals of five countries, Algeria, Greece, Australia, Jamaica, and Peru, when they were the location that held the FIFA World Cup Tournament. Additionally, another code was designed to measure whether fans affect the performance of football players or not in the same five countries. This was done by calculating the confidence intervals of each country twice, once when they were the home team and another when they were the guests in another country. Results showed minimal to no effect in all countries except Greece."
   ]
  },
  {
   "cell_type": "markdown",
   "id": "61e8160f",
   "metadata": {},
   "source": [
    "#### Import the CSV file"
   ]
  },
  {
   "cell_type": "code",
   "execution_count": 9,
   "id": "4c84963d",
   "metadata": {},
   "outputs": [],
   "source": [
    "df=pd.read_csv('results.csv')"
   ]
  },
  {
   "cell_type": "markdown",
   "id": "9b790732",
   "metadata": {},
   "source": [
    "#### Show first 4 records in the dataset"
   ]
  },
  {
   "cell_type": "code",
   "execution_count": 10,
   "id": "226b2da6",
   "metadata": {},
   "outputs": [
    {
     "data": {
      "text/html": [
       "<div>\n",
       "<style scoped>\n",
       "    .dataframe tbody tr th:only-of-type {\n",
       "        vertical-align: middle;\n",
       "    }\n",
       "\n",
       "    .dataframe tbody tr th {\n",
       "        vertical-align: top;\n",
       "    }\n",
       "\n",
       "    .dataframe thead th {\n",
       "        text-align: right;\n",
       "    }\n",
       "</style>\n",
       "<table border=\"1\" class=\"dataframe\">\n",
       "  <thead>\n",
       "    <tr style=\"text-align: right;\">\n",
       "      <th></th>\n",
       "      <th>date</th>\n",
       "      <th>home_team</th>\n",
       "      <th>away_team</th>\n",
       "      <th>home_score</th>\n",
       "      <th>away_score</th>\n",
       "      <th>tournament</th>\n",
       "      <th>city</th>\n",
       "      <th>country</th>\n",
       "      <th>neutral</th>\n",
       "    </tr>\n",
       "  </thead>\n",
       "  <tbody>\n",
       "    <tr>\n",
       "      <th>0</th>\n",
       "      <td>1872-11-30</td>\n",
       "      <td>Scotland</td>\n",
       "      <td>England</td>\n",
       "      <td>0</td>\n",
       "      <td>0</td>\n",
       "      <td>Friendly</td>\n",
       "      <td>Glasgow</td>\n",
       "      <td>Scotland</td>\n",
       "      <td>False</td>\n",
       "    </tr>\n",
       "    <tr>\n",
       "      <th>1</th>\n",
       "      <td>1873-03-08</td>\n",
       "      <td>England</td>\n",
       "      <td>Scotland</td>\n",
       "      <td>4</td>\n",
       "      <td>2</td>\n",
       "      <td>Friendly</td>\n",
       "      <td>London</td>\n",
       "      <td>England</td>\n",
       "      <td>False</td>\n",
       "    </tr>\n",
       "    <tr>\n",
       "      <th>2</th>\n",
       "      <td>1874-03-07</td>\n",
       "      <td>Scotland</td>\n",
       "      <td>England</td>\n",
       "      <td>2</td>\n",
       "      <td>1</td>\n",
       "      <td>Friendly</td>\n",
       "      <td>Glasgow</td>\n",
       "      <td>Scotland</td>\n",
       "      <td>False</td>\n",
       "    </tr>\n",
       "    <tr>\n",
       "      <th>3</th>\n",
       "      <td>1875-03-06</td>\n",
       "      <td>England</td>\n",
       "      <td>Scotland</td>\n",
       "      <td>2</td>\n",
       "      <td>2</td>\n",
       "      <td>Friendly</td>\n",
       "      <td>London</td>\n",
       "      <td>England</td>\n",
       "      <td>False</td>\n",
       "    </tr>\n",
       "  </tbody>\n",
       "</table>\n",
       "</div>"
      ],
      "text/plain": [
       "         date home_team away_team  home_score  away_score tournament     city  \\\n",
       "0  1872-11-30  Scotland   England           0           0   Friendly  Glasgow   \n",
       "1  1873-03-08   England  Scotland           4           2   Friendly   London   \n",
       "2  1874-03-07  Scotland   England           2           1   Friendly  Glasgow   \n",
       "3  1875-03-06   England  Scotland           2           2   Friendly   London   \n",
       "\n",
       "    country  neutral  \n",
       "0  Scotland    False  \n",
       "1   England    False  \n",
       "2  Scotland    False  \n",
       "3   England    False  "
      ]
     },
     "execution_count": 10,
     "metadata": {},
     "output_type": "execute_result"
    }
   ],
   "source": [
    "df.head(4)"
   ]
  },
  {
   "cell_type": "markdown",
   "id": "42d9c409",
   "metadata": {},
   "source": [
    "#### Show the description of the dataset"
   ]
  },
  {
   "cell_type": "code",
   "execution_count": 11,
   "id": "8c28aa7f",
   "metadata": {},
   "outputs": [
    {
     "data": {
      "text/plain": [
       "(43188, 9)"
      ]
     },
     "execution_count": 11,
     "metadata": {},
     "output_type": "execute_result"
    }
   ],
   "source": [
    "df.shape"
   ]
  },
  {
   "cell_type": "code",
   "execution_count": 12,
   "id": "8407e0c7",
   "metadata": {},
   "outputs": [
    {
     "data": {
      "text/html": [
       "<div>\n",
       "<style scoped>\n",
       "    .dataframe tbody tr th:only-of-type {\n",
       "        vertical-align: middle;\n",
       "    }\n",
       "\n",
       "    .dataframe tbody tr th {\n",
       "        vertical-align: top;\n",
       "    }\n",
       "\n",
       "    .dataframe thead th {\n",
       "        text-align: right;\n",
       "    }\n",
       "</style>\n",
       "<table border=\"1\" class=\"dataframe\">\n",
       "  <thead>\n",
       "    <tr style=\"text-align: right;\">\n",
       "      <th></th>\n",
       "      <th>home_score</th>\n",
       "      <th>away_score</th>\n",
       "    </tr>\n",
       "  </thead>\n",
       "  <tbody>\n",
       "    <tr>\n",
       "      <th>count</th>\n",
       "      <td>43188.000000</td>\n",
       "      <td>43188.000000</td>\n",
       "    </tr>\n",
       "    <tr>\n",
       "      <th>mean</th>\n",
       "      <td>1.742544</td>\n",
       "      <td>1.182666</td>\n",
       "    </tr>\n",
       "    <tr>\n",
       "      <th>std</th>\n",
       "      <td>1.753055</td>\n",
       "      <td>1.399664</td>\n",
       "    </tr>\n",
       "    <tr>\n",
       "      <th>min</th>\n",
       "      <td>0.000000</td>\n",
       "      <td>0.000000</td>\n",
       "    </tr>\n",
       "    <tr>\n",
       "      <th>25%</th>\n",
       "      <td>1.000000</td>\n",
       "      <td>0.000000</td>\n",
       "    </tr>\n",
       "    <tr>\n",
       "      <th>50%</th>\n",
       "      <td>1.000000</td>\n",
       "      <td>1.000000</td>\n",
       "    </tr>\n",
       "    <tr>\n",
       "      <th>75%</th>\n",
       "      <td>2.000000</td>\n",
       "      <td>2.000000</td>\n",
       "    </tr>\n",
       "    <tr>\n",
       "      <th>max</th>\n",
       "      <td>31.000000</td>\n",
       "      <td>21.000000</td>\n",
       "    </tr>\n",
       "  </tbody>\n",
       "</table>\n",
       "</div>"
      ],
      "text/plain": [
       "         home_score    away_score\n",
       "count  43188.000000  43188.000000\n",
       "mean       1.742544      1.182666\n",
       "std        1.753055      1.399664\n",
       "min        0.000000      0.000000\n",
       "25%        1.000000      0.000000\n",
       "50%        1.000000      1.000000\n",
       "75%        2.000000      2.000000\n",
       "max       31.000000     21.000000"
      ]
     },
     "execution_count": 12,
     "metadata": {},
     "output_type": "execute_result"
    }
   ],
   "source": [
    "df.describe()"
   ]
  },
  {
   "cell_type": "markdown",
   "id": "b6d1d95f",
   "metadata": {},
   "source": [
    "### Determine whether the home team won, lost or were at a draw with the away team:"
   ]
  },
  {
   "cell_type": "code",
   "execution_count": 13,
   "id": "bdac81ea",
   "metadata": {},
   "outputs": [],
   "source": [
    "x=df['home_score']-df['away_score']"
   ]
  },
  {
   "cell_type": "code",
   "execution_count": 14,
   "id": "177560b8",
   "metadata": {},
   "outputs": [
    {
     "data": {
      "text/plain": [
       "0        0\n",
       "1        2\n",
       "2        1\n",
       "3        0\n",
       "4        3\n",
       "        ..\n",
       "43183    1\n",
       "43184   -2\n",
       "43185    0\n",
       "43186    0\n",
       "43187    0\n",
       "Length: 43188, dtype: int64"
      ]
     },
     "execution_count": 14,
     "metadata": {},
     "output_type": "execute_result"
    }
   ],
   "source": [
    "x"
   ]
  },
  {
   "cell_type": "code",
   "execution_count": 15,
   "id": "a281b7bc",
   "metadata": {},
   "outputs": [],
   "source": [
    "conditions=[(x>0),(x<0),(x==0)]"
   ]
  },
  {
   "cell_type": "code",
   "execution_count": 16,
   "id": "b5532569",
   "metadata": {},
   "outputs": [],
   "source": [
    "values=['win','lose','draw']"
   ]
  },
  {
   "cell_type": "code",
   "execution_count": 17,
   "id": "8fb00f29",
   "metadata": {},
   "outputs": [],
   "source": [
    "df['result']=np.select(conditions,values)"
   ]
  },
  {
   "cell_type": "code",
   "execution_count": 18,
   "id": "d580a039",
   "metadata": {},
   "outputs": [
    {
     "data": {
      "text/html": [
       "<div>\n",
       "<style scoped>\n",
       "    .dataframe tbody tr th:only-of-type {\n",
       "        vertical-align: middle;\n",
       "    }\n",
       "\n",
       "    .dataframe tbody tr th {\n",
       "        vertical-align: top;\n",
       "    }\n",
       "\n",
       "    .dataframe thead th {\n",
       "        text-align: right;\n",
       "    }\n",
       "</style>\n",
       "<table border=\"1\" class=\"dataframe\">\n",
       "  <thead>\n",
       "    <tr style=\"text-align: right;\">\n",
       "      <th></th>\n",
       "      <th>date</th>\n",
       "      <th>home_team</th>\n",
       "      <th>away_team</th>\n",
       "      <th>home_score</th>\n",
       "      <th>away_score</th>\n",
       "      <th>tournament</th>\n",
       "      <th>city</th>\n",
       "      <th>country</th>\n",
       "      <th>neutral</th>\n",
       "      <th>result</th>\n",
       "    </tr>\n",
       "  </thead>\n",
       "  <tbody>\n",
       "    <tr>\n",
       "      <th>0</th>\n",
       "      <td>1872-11-30</td>\n",
       "      <td>Scotland</td>\n",
       "      <td>England</td>\n",
       "      <td>0</td>\n",
       "      <td>0</td>\n",
       "      <td>Friendly</td>\n",
       "      <td>Glasgow</td>\n",
       "      <td>Scotland</td>\n",
       "      <td>False</td>\n",
       "      <td>draw</td>\n",
       "    </tr>\n",
       "    <tr>\n",
       "      <th>1</th>\n",
       "      <td>1873-03-08</td>\n",
       "      <td>England</td>\n",
       "      <td>Scotland</td>\n",
       "      <td>4</td>\n",
       "      <td>2</td>\n",
       "      <td>Friendly</td>\n",
       "      <td>London</td>\n",
       "      <td>England</td>\n",
       "      <td>False</td>\n",
       "      <td>win</td>\n",
       "    </tr>\n",
       "    <tr>\n",
       "      <th>2</th>\n",
       "      <td>1874-03-07</td>\n",
       "      <td>Scotland</td>\n",
       "      <td>England</td>\n",
       "      <td>2</td>\n",
       "      <td>1</td>\n",
       "      <td>Friendly</td>\n",
       "      <td>Glasgow</td>\n",
       "      <td>Scotland</td>\n",
       "      <td>False</td>\n",
       "      <td>win</td>\n",
       "    </tr>\n",
       "    <tr>\n",
       "      <th>3</th>\n",
       "      <td>1875-03-06</td>\n",
       "      <td>England</td>\n",
       "      <td>Scotland</td>\n",
       "      <td>2</td>\n",
       "      <td>2</td>\n",
       "      <td>Friendly</td>\n",
       "      <td>London</td>\n",
       "      <td>England</td>\n",
       "      <td>False</td>\n",
       "      <td>draw</td>\n",
       "    </tr>\n",
       "  </tbody>\n",
       "</table>\n",
       "</div>"
      ],
      "text/plain": [
       "         date home_team away_team  home_score  away_score tournament     city  \\\n",
       "0  1872-11-30  Scotland   England           0           0   Friendly  Glasgow   \n",
       "1  1873-03-08   England  Scotland           4           2   Friendly   London   \n",
       "2  1874-03-07  Scotland   England           2           1   Friendly  Glasgow   \n",
       "3  1875-03-06   England  Scotland           2           2   Friendly   London   \n",
       "\n",
       "    country  neutral result  \n",
       "0  Scotland    False   draw  \n",
       "1   England    False    win  \n",
       "2  Scotland    False    win  \n",
       "3   England    False   draw  "
      ]
     },
     "execution_count": 18,
     "metadata": {},
     "output_type": "execute_result"
    }
   ],
   "source": [
    "df.head(4)"
   ]
  },
  {
   "cell_type": "markdown",
   "id": "2b685ed8",
   "metadata": {},
   "source": [
    "#### Find out the number of wins, losses and draws:"
   ]
  },
  {
   "cell_type": "code",
   "execution_count": 19,
   "id": "c00b9307",
   "metadata": {},
   "outputs": [
    {
     "data": {
      "text/plain": [
       "win     21009\n",
       "lose    12224\n",
       "draw     9955\n",
       "Name: result, dtype: int64"
      ]
     },
     "execution_count": 19,
     "metadata": {},
     "output_type": "execute_result"
    }
   ],
   "source": [
    "df['result'].value_counts()"
   ]
  },
  {
   "cell_type": "code",
   "execution_count": 20,
   "id": "f58efaba",
   "metadata": {},
   "outputs": [
    {
     "data": {
      "text/plain": [
       "win     0.486455\n",
       "lose    0.283042\n",
       "draw    0.230504\n",
       "Name: result, dtype: float64"
      ]
     },
     "execution_count": 20,
     "metadata": {},
     "output_type": "execute_result"
    }
   ],
   "source": [
    "df['result'].value_counts(normalize=True)"
   ]
  },
  {
   "cell_type": "code",
   "execution_count": 21,
   "id": "ee3dd4fa",
   "metadata": {},
   "outputs": [],
   "source": [
    "df_noneutral=df[df['neutral']==False]"
   ]
  },
  {
   "cell_type": "code",
   "execution_count": 22,
   "id": "fd19c60d",
   "metadata": {},
   "outputs": [
    {
     "data": {
      "text/plain": [
       "win     0.505003\n",
       "lose    0.263693\n",
       "draw    0.231304\n",
       "Name: result, dtype: float64"
      ]
     },
     "execution_count": 22,
     "metadata": {},
     "output_type": "execute_result"
    }
   ],
   "source": [
    "df_noneutral['result'].value_counts(normalize=True)"
   ]
  },
  {
   "cell_type": "markdown",
   "id": "0c84dee4",
   "metadata": {},
   "source": [
    "#### Find the confidence interval of each result:"
   ]
  },
  {
   "cell_type": "code",
   "execution_count": 23,
   "id": "9cf972c1",
   "metadata": {},
   "outputs": [],
   "source": [
    "x=df['result'].value_counts()"
   ]
  },
  {
   "cell_type": "code",
   "execution_count": 24,
   "id": "235f11c1",
   "metadata": {},
   "outputs": [],
   "source": [
    "x=np.array(x)"
   ]
  },
  {
   "cell_type": "code",
   "execution_count": 25,
   "id": "397c5200",
   "metadata": {},
   "outputs": [
    {
     "data": {
      "text/plain": [
       "array([21009, 12224,  9955])"
      ]
     },
     "execution_count": 25,
     "metadata": {},
     "output_type": "execute_result"
    }
   ],
   "source": [
    "x"
   ]
  },
  {
   "cell_type": "code",
   "execution_count": 26,
   "id": "81cccd57",
   "metadata": {},
   "outputs": [],
   "source": [
    "N=x.sum()"
   ]
  },
  {
   "cell_type": "code",
   "execution_count": 27,
   "id": "55d770da",
   "metadata": {},
   "outputs": [
    {
     "data": {
      "text/plain": [
       "43188"
      ]
     },
     "execution_count": 27,
     "metadata": {},
     "output_type": "execute_result"
    }
   ],
   "source": [
    "N"
   ]
  },
  {
   "cell_type": "code",
   "execution_count": 28,
   "id": "89244562",
   "metadata": {},
   "outputs": [],
   "source": [
    "CI_win=proportion_confint(count=x[1],nobs=N,alpha=(1-.95))"
   ]
  },
  {
   "cell_type": "code",
   "execution_count": 29,
   "id": "828aeb93",
   "metadata": {},
   "outputs": [
    {
     "data": {
      "text/plain": [
       "(0.27879305599044235, 0.28729011526083115)"
      ]
     },
     "execution_count": 29,
     "metadata": {},
     "output_type": "execute_result"
    }
   ],
   "source": [
    "CI_win"
   ]
  },
  {
   "cell_type": "code",
   "execution_count": 30,
   "id": "bff90bf3",
   "metadata": {},
   "outputs": [],
   "source": [
    "CI_lose=proportion_confint(count=x[0],nobs=N,alpha=(1-.95))"
   ]
  },
  {
   "cell_type": "code",
   "execution_count": 31,
   "id": "f6997190",
   "metadata": {},
   "outputs": [
    {
     "data": {
      "text/plain": [
       "(0.481740705905987, 0.49116843552218753)"
      ]
     },
     "execution_count": 31,
     "metadata": {},
     "output_type": "execute_result"
    }
   ],
   "source": [
    "CI_lose"
   ]
  },
  {
   "cell_type": "code",
   "execution_count": 32,
   "id": "4d02a30c",
   "metadata": {},
   "outputs": [],
   "source": [
    "CI_draw=proportion_confint(count=x[2],nobs=N,alpha=(1-.95))"
   ]
  },
  {
   "cell_type": "code",
   "execution_count": 33,
   "id": "bc1ecc99",
   "metadata": {},
   "outputs": [
    {
     "data": {
      "text/plain": [
       "(0.2265318471530234, 0.23447584016752862)"
      ]
     },
     "execution_count": 33,
     "metadata": {},
     "output_type": "execute_result"
    }
   ],
   "source": [
    "CI_draw"
   ]
  },
  {
   "cell_type": "markdown",
   "id": "bcfc7e41",
   "metadata": {},
   "source": [
    "#### Find out the number of matches played by each country:"
   ]
  },
  {
   "cell_type": "code",
   "execution_count": 34,
   "id": "3b05a07f",
   "metadata": {},
   "outputs": [
    {
     "data": {
      "text/plain": [
       "Brazil                       586\n",
       "Argentina                    561\n",
       "Mexico                       529\n",
       "Germany                      521\n",
       "England                      516\n",
       "                            ... \n",
       "Saint Pierre and Miquelon      1\n",
       "Sark                           1\n",
       "Kabylia                        1\n",
       "Chameria                       1\n",
       "Saint Helena                   1\n",
       "Name: home_team, Length: 306, dtype: int64"
      ]
     },
     "execution_count": 34,
     "metadata": {},
     "output_type": "execute_result"
    }
   ],
   "source": [
    "df['home_team'].value_counts()"
   ]
  },
  {
   "cell_type": "code",
   "execution_count": 35,
   "id": "607f3e46",
   "metadata": {},
   "outputs": [
    {
     "data": {
      "text/plain": [
       "Algeria      298\n",
       "Greece       298\n",
       "Australia    298\n",
       "Jamaica      293\n",
       "Peru         292\n",
       "Name: home_team, dtype: int64"
      ]
     },
     "execution_count": 35,
     "metadata": {},
     "output_type": "execute_result"
    }
   ],
   "source": [
    "df['home_team'].value_counts()[50:55]"
   ]
  },
  {
   "cell_type": "markdown",
   "id": "82f574de",
   "metadata": {},
   "source": [
    "### Compare the confidence intervals of five countries:"
   ]
  },
  {
   "cell_type": "markdown",
   "id": "f0edfbd5",
   "metadata": {},
   "source": [
    "#### Country #1 \"Algeria\""
   ]
  },
  {
   "cell_type": "code",
   "execution_count": 36,
   "id": "851e5ba4",
   "metadata": {},
   "outputs": [],
   "source": [
    "df_noneutralalgeria=df_noneutral[df_noneutral['country']=='Algeria']"
   ]
  },
  {
   "cell_type": "code",
   "execution_count": 37,
   "id": "ec2fa619",
   "metadata": {},
   "outputs": [
    {
     "data": {
      "text/html": [
       "<div>\n",
       "<style scoped>\n",
       "    .dataframe tbody tr th:only-of-type {\n",
       "        vertical-align: middle;\n",
       "    }\n",
       "\n",
       "    .dataframe tbody tr th {\n",
       "        vertical-align: top;\n",
       "    }\n",
       "\n",
       "    .dataframe thead th {\n",
       "        text-align: right;\n",
       "    }\n",
       "</style>\n",
       "<table border=\"1\" class=\"dataframe\">\n",
       "  <thead>\n",
       "    <tr style=\"text-align: right;\">\n",
       "      <th></th>\n",
       "      <th>date</th>\n",
       "      <th>home_team</th>\n",
       "      <th>away_team</th>\n",
       "      <th>home_score</th>\n",
       "      <th>away_score</th>\n",
       "      <th>tournament</th>\n",
       "      <th>city</th>\n",
       "      <th>country</th>\n",
       "      <th>neutral</th>\n",
       "      <th>result</th>\n",
       "    </tr>\n",
       "  </thead>\n",
       "  <tbody>\n",
       "    <tr>\n",
       "      <th>5306</th>\n",
       "      <td>1/6/1963</td>\n",
       "      <td>Algeria</td>\n",
       "      <td>Bulgaria</td>\n",
       "      <td>2</td>\n",
       "      <td>1</td>\n",
       "      <td>Friendly</td>\n",
       "      <td>Algiers</td>\n",
       "      <td>Algeria</td>\n",
       "      <td>False</td>\n",
       "      <td>win</td>\n",
       "    </tr>\n",
       "    <tr>\n",
       "      <th>5448</th>\n",
       "      <td>7/7/1963</td>\n",
       "      <td>Algeria</td>\n",
       "      <td>Egypt</td>\n",
       "      <td>2</td>\n",
       "      <td>2</td>\n",
       "      <td>Friendly</td>\n",
       "      <td>Oran</td>\n",
       "      <td>Algeria</td>\n",
       "      <td>False</td>\n",
       "      <td>draw</td>\n",
       "    </tr>\n",
       "    <tr>\n",
       "      <th>5578</th>\n",
       "      <td>1/1/1964</td>\n",
       "      <td>Algeria</td>\n",
       "      <td>Germany</td>\n",
       "      <td>2</td>\n",
       "      <td>0</td>\n",
       "      <td>Friendly</td>\n",
       "      <td>Algiers</td>\n",
       "      <td>Algeria</td>\n",
       "      <td>False</td>\n",
       "      <td>win</td>\n",
       "    </tr>\n",
       "    <tr>\n",
       "      <th>5737</th>\n",
       "      <td>11/4/1964</td>\n",
       "      <td>Algeria</td>\n",
       "      <td>Russia</td>\n",
       "      <td>2</td>\n",
       "      <td>2</td>\n",
       "      <td>Friendly</td>\n",
       "      <td>Algiers</td>\n",
       "      <td>Algeria</td>\n",
       "      <td>False</td>\n",
       "      <td>draw</td>\n",
       "    </tr>\n",
       "    <tr>\n",
       "      <th>5911</th>\n",
       "      <td>6/17/1965</td>\n",
       "      <td>Algeria</td>\n",
       "      <td>Brazil</td>\n",
       "      <td>0</td>\n",
       "      <td>3</td>\n",
       "      <td>Friendly</td>\n",
       "      <td>Oran</td>\n",
       "      <td>Algeria</td>\n",
       "      <td>False</td>\n",
       "      <td>lose</td>\n",
       "    </tr>\n",
       "    <tr>\n",
       "      <th>...</th>\n",
       "      <td>...</td>\n",
       "      <td>...</td>\n",
       "      <td>...</td>\n",
       "      <td>...</td>\n",
       "      <td>...</td>\n",
       "      <td>...</td>\n",
       "      <td>...</td>\n",
       "      <td>...</td>\n",
       "      <td>...</td>\n",
       "      <td>...</td>\n",
       "    </tr>\n",
       "    <tr>\n",
       "      <th>42313</th>\n",
       "      <td>6/6/2021</td>\n",
       "      <td>Algeria</td>\n",
       "      <td>Mali</td>\n",
       "      <td>1</td>\n",
       "      <td>0</td>\n",
       "      <td>Friendly</td>\n",
       "      <td>Blida</td>\n",
       "      <td>Algeria</td>\n",
       "      <td>False</td>\n",
       "      <td>win</td>\n",
       "    </tr>\n",
       "    <tr>\n",
       "      <th>42448</th>\n",
       "      <td>6/17/2021</td>\n",
       "      <td>Algeria</td>\n",
       "      <td>Liberia</td>\n",
       "      <td>5</td>\n",
       "      <td>1</td>\n",
       "      <td>Friendly</td>\n",
       "      <td>Oran</td>\n",
       "      <td>Algeria</td>\n",
       "      <td>False</td>\n",
       "      <td>win</td>\n",
       "    </tr>\n",
       "    <tr>\n",
       "      <th>42610</th>\n",
       "      <td>9/2/2021</td>\n",
       "      <td>Algeria</td>\n",
       "      <td>Djibouti</td>\n",
       "      <td>8</td>\n",
       "      <td>0</td>\n",
       "      <td>FIFA World Cup qualification</td>\n",
       "      <td>Blida</td>\n",
       "      <td>Algeria</td>\n",
       "      <td>False</td>\n",
       "      <td>win</td>\n",
       "    </tr>\n",
       "    <tr>\n",
       "      <th>42807</th>\n",
       "      <td>10/8/2021</td>\n",
       "      <td>Algeria</td>\n",
       "      <td>Niger</td>\n",
       "      <td>6</td>\n",
       "      <td>1</td>\n",
       "      <td>FIFA World Cup qualification</td>\n",
       "      <td>Algiers</td>\n",
       "      <td>Algeria</td>\n",
       "      <td>False</td>\n",
       "      <td>win</td>\n",
       "    </tr>\n",
       "    <tr>\n",
       "      <th>43033</th>\n",
       "      <td>11/16/2021</td>\n",
       "      <td>Algeria</td>\n",
       "      <td>Burkina Faso</td>\n",
       "      <td>2</td>\n",
       "      <td>2</td>\n",
       "      <td>FIFA World Cup qualification</td>\n",
       "      <td>Blida</td>\n",
       "      <td>Algeria</td>\n",
       "      <td>False</td>\n",
       "      <td>draw</td>\n",
       "    </tr>\n",
       "  </tbody>\n",
       "</table>\n",
       "<p>195 rows × 10 columns</p>\n",
       "</div>"
      ],
      "text/plain": [
       "             date home_team     away_team  home_score  away_score  \\\n",
       "5306     1/6/1963   Algeria      Bulgaria           2           1   \n",
       "5448     7/7/1963   Algeria         Egypt           2           2   \n",
       "5578     1/1/1964   Algeria       Germany           2           0   \n",
       "5737    11/4/1964   Algeria        Russia           2           2   \n",
       "5911    6/17/1965   Algeria        Brazil           0           3   \n",
       "...           ...       ...           ...         ...         ...   \n",
       "42313    6/6/2021   Algeria          Mali           1           0   \n",
       "42448   6/17/2021   Algeria       Liberia           5           1   \n",
       "42610    9/2/2021   Algeria      Djibouti           8           0   \n",
       "42807   10/8/2021   Algeria         Niger           6           1   \n",
       "43033  11/16/2021   Algeria  Burkina Faso           2           2   \n",
       "\n",
       "                         tournament     city  country  neutral result  \n",
       "5306                       Friendly  Algiers  Algeria    False    win  \n",
       "5448                       Friendly     Oran  Algeria    False   draw  \n",
       "5578                       Friendly  Algiers  Algeria    False    win  \n",
       "5737                       Friendly  Algiers  Algeria    False   draw  \n",
       "5911                       Friendly     Oran  Algeria    False   lose  \n",
       "...                             ...      ...      ...      ...    ...  \n",
       "42313                      Friendly    Blida  Algeria    False    win  \n",
       "42448                      Friendly     Oran  Algeria    False    win  \n",
       "42610  FIFA World Cup qualification    Blida  Algeria    False    win  \n",
       "42807  FIFA World Cup qualification  Algiers  Algeria    False    win  \n",
       "43033  FIFA World Cup qualification    Blida  Algeria    False   draw  \n",
       "\n",
       "[195 rows x 10 columns]"
      ]
     },
     "execution_count": 37,
     "metadata": {},
     "output_type": "execute_result"
    }
   ],
   "source": [
    "df_noneutralalgeria"
   ]
  },
  {
   "cell_type": "code",
   "execution_count": 38,
   "id": "1ed9a0f5",
   "metadata": {},
   "outputs": [
    {
     "data": {
      "text/plain": [
       "(195, 10)"
      ]
     },
     "execution_count": 38,
     "metadata": {},
     "output_type": "execute_result"
    }
   ],
   "source": [
    "df_noneutralalgeria.shape"
   ]
  },
  {
   "cell_type": "code",
   "execution_count": 39,
   "id": "e8a37718",
   "metadata": {},
   "outputs": [
    {
     "data": {
      "text/plain": [
       "Algeria    195\n",
       "Name: home_team, dtype: int64"
      ]
     },
     "execution_count": 39,
     "metadata": {},
     "output_type": "execute_result"
    }
   ],
   "source": [
    "df_noneutralalgeria['home_team'].value_counts()"
   ]
  },
  {
   "cell_type": "code",
   "execution_count": 40,
   "id": "e672018b",
   "metadata": {},
   "outputs": [
    {
     "data": {
      "text/plain": [
       "Morocco         12\n",
       "Burkina Faso    11\n",
       "Tunisia         11\n",
       "Senegal         10\n",
       "Guinea           7\n",
       "                ..\n",
       "North Korea      1\n",
       "Kenya            1\n",
       "Palestine        1\n",
       "Slovakia         1\n",
       "Djibouti         1\n",
       "Name: away_team, Length: 71, dtype: int64"
      ]
     },
     "execution_count": 40,
     "metadata": {},
     "output_type": "execute_result"
    }
   ],
   "source": [
    "df_noneutralalgeria['away_team'].value_counts()"
   ]
  },
  {
   "cell_type": "code",
   "execution_count": 41,
   "id": "106b1fde",
   "metadata": {},
   "outputs": [
    {
     "data": {
      "text/plain": [
       "win     124\n",
       "draw     45\n",
       "lose     26\n",
       "Name: result, dtype: int64"
      ]
     },
     "execution_count": 41,
     "metadata": {},
     "output_type": "execute_result"
    }
   ],
   "source": [
    "df_noneutralalgeria['result'].value_counts()"
   ]
  },
  {
   "cell_type": "code",
   "execution_count": 42,
   "id": "9e85dc5b",
   "metadata": {},
   "outputs": [
    {
     "data": {
      "text/plain": [
       "win     0.635897\n",
       "draw    0.230769\n",
       "lose    0.133333\n",
       "Name: result, dtype: float64"
      ]
     },
     "execution_count": 42,
     "metadata": {},
     "output_type": "execute_result"
    }
   ],
   "source": [
    "df_noneutralalgeria['result'].value_counts(normalize=True)"
   ]
  },
  {
   "cell_type": "code",
   "execution_count": 43,
   "id": "00b159e1",
   "metadata": {},
   "outputs": [],
   "source": [
    "prob_algeria=0.635897/0.230769"
   ]
  },
  {
   "cell_type": "code",
   "execution_count": 44,
   "id": "79b966e0",
   "metadata": {},
   "outputs": [
    {
     "data": {
      "text/plain": [
       "2.7555564222230893"
      ]
     },
     "execution_count": 44,
     "metadata": {},
     "output_type": "execute_result"
    }
   ],
   "source": [
    "prob_algeria"
   ]
  },
  {
   "cell_type": "code",
   "execution_count": 45,
   "id": "f6ddf629",
   "metadata": {},
   "outputs": [
    {
     "data": {
      "text/plain": [
       "Friendly                                      97\n",
       "FIFA World Cup qualification                  46\n",
       "African Cup of Nations qualification          43\n",
       "African Cup of Nations                         5\n",
       "Arab Cup qualification                         2\n",
       "African Nations Championship                   1\n",
       "African Nations Championship qualification     1\n",
       "Name: tournament, dtype: int64"
      ]
     },
     "execution_count": 45,
     "metadata": {},
     "output_type": "execute_result"
    }
   ],
   "source": [
    "df_noneutralalgeria['tournament'].value_counts()"
   ]
  },
  {
   "cell_type": "markdown",
   "id": "6a3005b3",
   "metadata": {},
   "source": [
    "#### Selecting FIFA World Cup qualification matches in Algeria"
   ]
  },
  {
   "cell_type": "code",
   "execution_count": 46,
   "id": "f1af671a",
   "metadata": {},
   "outputs": [],
   "source": [
    "df_noneutralalgeria_fifa=df_noneutralalgeria[df_noneutralalgeria['tournament']=='FIFA World Cup qualification']"
   ]
  },
  {
   "cell_type": "code",
   "execution_count": 47,
   "id": "4fa1e797",
   "metadata": {},
   "outputs": [
    {
     "data": {
      "text/html": [
       "<div>\n",
       "<style scoped>\n",
       "    .dataframe tbody tr th:only-of-type {\n",
       "        vertical-align: middle;\n",
       "    }\n",
       "\n",
       "    .dataframe tbody tr th {\n",
       "        vertical-align: top;\n",
       "    }\n",
       "\n",
       "    .dataframe thead th {\n",
       "        text-align: right;\n",
       "    }\n",
       "</style>\n",
       "<table border=\"1\" class=\"dataframe\">\n",
       "  <thead>\n",
       "    <tr style=\"text-align: right;\">\n",
       "      <th></th>\n",
       "      <th>date</th>\n",
       "      <th>home_team</th>\n",
       "      <th>away_team</th>\n",
       "      <th>home_score</th>\n",
       "      <th>away_score</th>\n",
       "      <th>tournament</th>\n",
       "      <th>city</th>\n",
       "      <th>country</th>\n",
       "      <th>neutral</th>\n",
       "      <th>result</th>\n",
       "    </tr>\n",
       "  </thead>\n",
       "  <tbody>\n",
       "    <tr>\n",
       "      <th>6997</th>\n",
       "      <td>11/17/1968</td>\n",
       "      <td>Algeria</td>\n",
       "      <td>Tunisia</td>\n",
       "      <td>1</td>\n",
       "      <td>2</td>\n",
       "      <td>FIFA World Cup qualification</td>\n",
       "      <td>Algiers</td>\n",
       "      <td>Algeria</td>\n",
       "      <td>False</td>\n",
       "      <td>lose</td>\n",
       "    </tr>\n",
       "    <tr>\n",
       "      <th>8163</th>\n",
       "      <td>3/2/1972</td>\n",
       "      <td>Algeria</td>\n",
       "      <td>Guinea</td>\n",
       "      <td>1</td>\n",
       "      <td>0</td>\n",
       "      <td>FIFA World Cup qualification</td>\n",
       "      <td>Algiers</td>\n",
       "      <td>Algeria</td>\n",
       "      <td>False</td>\n",
       "      <td>win</td>\n",
       "    </tr>\n",
       "    <tr>\n",
       "      <th>9755</th>\n",
       "      <td>4/1/1976</td>\n",
       "      <td>Algeria</td>\n",
       "      <td>Libya</td>\n",
       "      <td>1</td>\n",
       "      <td>0</td>\n",
       "      <td>FIFA World Cup qualification</td>\n",
       "      <td>Algiers</td>\n",
       "      <td>Algeria</td>\n",
       "      <td>False</td>\n",
       "      <td>win</td>\n",
       "    </tr>\n",
       "    <tr>\n",
       "      <th>10138</th>\n",
       "      <td>2/28/1977</td>\n",
       "      <td>Algeria</td>\n",
       "      <td>Tunisia</td>\n",
       "      <td>1</td>\n",
       "      <td>1</td>\n",
       "      <td>FIFA World Cup qualification</td>\n",
       "      <td>Algiers</td>\n",
       "      <td>Algeria</td>\n",
       "      <td>False</td>\n",
       "      <td>draw</td>\n",
       "    </tr>\n",
       "    <tr>\n",
       "      <th>11400</th>\n",
       "      <td>6/13/1980</td>\n",
       "      <td>Algeria</td>\n",
       "      <td>Sierra Leone</td>\n",
       "      <td>3</td>\n",
       "      <td>1</td>\n",
       "      <td>FIFA World Cup qualification</td>\n",
       "      <td>Oran</td>\n",
       "      <td>Algeria</td>\n",
       "      <td>False</td>\n",
       "      <td>win</td>\n",
       "    </tr>\n",
       "    <tr>\n",
       "      <th>11706</th>\n",
       "      <td>12/12/1980</td>\n",
       "      <td>Algeria</td>\n",
       "      <td>Sudan</td>\n",
       "      <td>2</td>\n",
       "      <td>0</td>\n",
       "      <td>FIFA World Cup qualification</td>\n",
       "      <td>Constantine</td>\n",
       "      <td>Algeria</td>\n",
       "      <td>False</td>\n",
       "      <td>win</td>\n",
       "    </tr>\n",
       "    <tr>\n",
       "      <th>11892</th>\n",
       "      <td>5/1/1981</td>\n",
       "      <td>Algeria</td>\n",
       "      <td>Niger</td>\n",
       "      <td>4</td>\n",
       "      <td>0</td>\n",
       "      <td>FIFA World Cup qualification</td>\n",
       "      <td>Constantine</td>\n",
       "      <td>Algeria</td>\n",
       "      <td>False</td>\n",
       "      <td>win</td>\n",
       "    </tr>\n",
       "    <tr>\n",
       "      <th>12126</th>\n",
       "      <td>10/30/1981</td>\n",
       "      <td>Algeria</td>\n",
       "      <td>Nigeria</td>\n",
       "      <td>2</td>\n",
       "      <td>1</td>\n",
       "      <td>FIFA World Cup qualification</td>\n",
       "      <td>Constantine</td>\n",
       "      <td>Algeria</td>\n",
       "      <td>False</td>\n",
       "      <td>win</td>\n",
       "    </tr>\n",
       "    <tr>\n",
       "      <th>13782</th>\n",
       "      <td>4/19/1985</td>\n",
       "      <td>Algeria</td>\n",
       "      <td>Angola</td>\n",
       "      <td>3</td>\n",
       "      <td>2</td>\n",
       "      <td>FIFA World Cup qualification</td>\n",
       "      <td>Algiers</td>\n",
       "      <td>Algeria</td>\n",
       "      <td>False</td>\n",
       "      <td>win</td>\n",
       "    </tr>\n",
       "    <tr>\n",
       "      <th>13944</th>\n",
       "      <td>7/13/1985</td>\n",
       "      <td>Algeria</td>\n",
       "      <td>Zambia</td>\n",
       "      <td>2</td>\n",
       "      <td>0</td>\n",
       "      <td>FIFA World Cup qualification</td>\n",
       "      <td>Algiers</td>\n",
       "      <td>Algeria</td>\n",
       "      <td>False</td>\n",
       "      <td>win</td>\n",
       "    </tr>\n",
       "    <tr>\n",
       "      <th>14051</th>\n",
       "      <td>10/18/1985</td>\n",
       "      <td>Algeria</td>\n",
       "      <td>Tunisia</td>\n",
       "      <td>3</td>\n",
       "      <td>0</td>\n",
       "      <td>FIFA World Cup qualification</td>\n",
       "      <td>Algiers</td>\n",
       "      <td>Algeria</td>\n",
       "      <td>False</td>\n",
       "      <td>win</td>\n",
       "    </tr>\n",
       "    <tr>\n",
       "      <th>15413</th>\n",
       "      <td>1/6/1989</td>\n",
       "      <td>Algeria</td>\n",
       "      <td>Zimbabwe</td>\n",
       "      <td>3</td>\n",
       "      <td>0</td>\n",
       "      <td>FIFA World Cup qualification</td>\n",
       "      <td>Annaba</td>\n",
       "      <td>Algeria</td>\n",
       "      <td>False</td>\n",
       "      <td>win</td>\n",
       "    </tr>\n",
       "    <tr>\n",
       "      <th>15834</th>\n",
       "      <td>8/25/1989</td>\n",
       "      <td>Algeria</td>\n",
       "      <td>Ivory Coast</td>\n",
       "      <td>1</td>\n",
       "      <td>0</td>\n",
       "      <td>FIFA World Cup qualification</td>\n",
       "      <td>Annaba</td>\n",
       "      <td>Algeria</td>\n",
       "      <td>False</td>\n",
       "      <td>win</td>\n",
       "    </tr>\n",
       "    <tr>\n",
       "      <th>15881</th>\n",
       "      <td>10/8/1989</td>\n",
       "      <td>Algeria</td>\n",
       "      <td>Egypt</td>\n",
       "      <td>0</td>\n",
       "      <td>0</td>\n",
       "      <td>FIFA World Cup qualification</td>\n",
       "      <td>Constantine</td>\n",
       "      <td>Algeria</td>\n",
       "      <td>False</td>\n",
       "      <td>draw</td>\n",
       "    </tr>\n",
       "    <tr>\n",
       "      <th>17329</th>\n",
       "      <td>10/9/1992</td>\n",
       "      <td>Algeria</td>\n",
       "      <td>Burundi</td>\n",
       "      <td>3</td>\n",
       "      <td>1</td>\n",
       "      <td>FIFA World Cup qualification</td>\n",
       "      <td>Tlemcen</td>\n",
       "      <td>Algeria</td>\n",
       "      <td>False</td>\n",
       "      <td>win</td>\n",
       "    </tr>\n",
       "    <tr>\n",
       "      <th>17597</th>\n",
       "      <td>2/26/1993</td>\n",
       "      <td>Algeria</td>\n",
       "      <td>Ghana</td>\n",
       "      <td>2</td>\n",
       "      <td>1</td>\n",
       "      <td>FIFA World Cup qualification</td>\n",
       "      <td>Tlemcen</td>\n",
       "      <td>Algeria</td>\n",
       "      <td>False</td>\n",
       "      <td>win</td>\n",
       "    </tr>\n",
       "    <tr>\n",
       "      <th>17710</th>\n",
       "      <td>4/16/1993</td>\n",
       "      <td>Algeria</td>\n",
       "      <td>Ivory Coast</td>\n",
       "      <td>1</td>\n",
       "      <td>1</td>\n",
       "      <td>FIFA World Cup qualification</td>\n",
       "      <td>Tlemcen</td>\n",
       "      <td>Algeria</td>\n",
       "      <td>False</td>\n",
       "      <td>draw</td>\n",
       "    </tr>\n",
       "    <tr>\n",
       "      <th>18131</th>\n",
       "      <td>10/8/1993</td>\n",
       "      <td>Algeria</td>\n",
       "      <td>Nigeria</td>\n",
       "      <td>1</td>\n",
       "      <td>1</td>\n",
       "      <td>FIFA World Cup qualification</td>\n",
       "      <td>Algiers</td>\n",
       "      <td>Algeria</td>\n",
       "      <td>False</td>\n",
       "      <td>draw</td>\n",
       "    </tr>\n",
       "    <tr>\n",
       "      <th>19789</th>\n",
       "      <td>6/14/1996</td>\n",
       "      <td>Algeria</td>\n",
       "      <td>Kenya</td>\n",
       "      <td>1</td>\n",
       "      <td>0</td>\n",
       "      <td>FIFA World Cup qualification</td>\n",
       "      <td>Algiers</td>\n",
       "      <td>Algeria</td>\n",
       "      <td>False</td>\n",
       "      <td>win</td>\n",
       "    </tr>\n",
       "    <tr>\n",
       "      <th>22928</th>\n",
       "      <td>4/21/2000</td>\n",
       "      <td>Algeria</td>\n",
       "      <td>Cape Verde</td>\n",
       "      <td>2</td>\n",
       "      <td>0</td>\n",
       "      <td>FIFA World Cup qualification</td>\n",
       "      <td>Annaba</td>\n",
       "      <td>Algeria</td>\n",
       "      <td>False</td>\n",
       "      <td>win</td>\n",
       "    </tr>\n",
       "    <tr>\n",
       "      <th>23140</th>\n",
       "      <td>6/16/2000</td>\n",
       "      <td>Algeria</td>\n",
       "      <td>Senegal</td>\n",
       "      <td>1</td>\n",
       "      <td>1</td>\n",
       "      <td>FIFA World Cup qualification</td>\n",
       "      <td>Annaba</td>\n",
       "      <td>Algeria</td>\n",
       "      <td>False</td>\n",
       "      <td>draw</td>\n",
       "    </tr>\n",
       "    <tr>\n",
       "      <th>23650</th>\n",
       "      <td>1/26/2001</td>\n",
       "      <td>Algeria</td>\n",
       "      <td>Namibia</td>\n",
       "      <td>1</td>\n",
       "      <td>0</td>\n",
       "      <td>FIFA World Cup qualification</td>\n",
       "      <td>Algiers</td>\n",
       "      <td>Algeria</td>\n",
       "      <td>False</td>\n",
       "      <td>win</td>\n",
       "    </tr>\n",
       "    <tr>\n",
       "      <th>24013</th>\n",
       "      <td>5/4/2001</td>\n",
       "      <td>Algeria</td>\n",
       "      <td>Morocco</td>\n",
       "      <td>1</td>\n",
       "      <td>2</td>\n",
       "      <td>FIFA World Cup qualification</td>\n",
       "      <td>Algiers</td>\n",
       "      <td>Algeria</td>\n",
       "      <td>False</td>\n",
       "      <td>lose</td>\n",
       "    </tr>\n",
       "    <tr>\n",
       "      <th>24301</th>\n",
       "      <td>7/21/2001</td>\n",
       "      <td>Algeria</td>\n",
       "      <td>Egypt</td>\n",
       "      <td>1</td>\n",
       "      <td>1</td>\n",
       "      <td>FIFA World Cup qualification</td>\n",
       "      <td>Annaba</td>\n",
       "      <td>Algeria</td>\n",
       "      <td>False</td>\n",
       "      <td>draw</td>\n",
       "    </tr>\n",
       "    <tr>\n",
       "      <th>26181</th>\n",
       "      <td>11/14/2003</td>\n",
       "      <td>Algeria</td>\n",
       "      <td>Niger</td>\n",
       "      <td>6</td>\n",
       "      <td>0</td>\n",
       "      <td>FIFA World Cup qualification</td>\n",
       "      <td>Algiers</td>\n",
       "      <td>Algeria</td>\n",
       "      <td>False</td>\n",
       "      <td>win</td>\n",
       "    </tr>\n",
       "    <tr>\n",
       "      <th>26709</th>\n",
       "      <td>6/5/2004</td>\n",
       "      <td>Algeria</td>\n",
       "      <td>Angola</td>\n",
       "      <td>0</td>\n",
       "      <td>0</td>\n",
       "      <td>FIFA World Cup qualification</td>\n",
       "      <td>Annaba</td>\n",
       "      <td>Algeria</td>\n",
       "      <td>False</td>\n",
       "      <td>draw</td>\n",
       "    </tr>\n",
       "    <tr>\n",
       "      <th>27025</th>\n",
       "      <td>9/5/2004</td>\n",
       "      <td>Algeria</td>\n",
       "      <td>Gabon</td>\n",
       "      <td>0</td>\n",
       "      <td>3</td>\n",
       "      <td>FIFA World Cup qualification</td>\n",
       "      <td>Annaba</td>\n",
       "      <td>Algeria</td>\n",
       "      <td>False</td>\n",
       "      <td>lose</td>\n",
       "    </tr>\n",
       "    <tr>\n",
       "      <th>27553</th>\n",
       "      <td>3/27/2005</td>\n",
       "      <td>Algeria</td>\n",
       "      <td>Rwanda</td>\n",
       "      <td>1</td>\n",
       "      <td>0</td>\n",
       "      <td>FIFA World Cup qualification</td>\n",
       "      <td>Oran</td>\n",
       "      <td>Algeria</td>\n",
       "      <td>False</td>\n",
       "      <td>win</td>\n",
       "    </tr>\n",
       "    <tr>\n",
       "      <th>27744</th>\n",
       "      <td>6/19/2005</td>\n",
       "      <td>Algeria</td>\n",
       "      <td>Zimbabwe</td>\n",
       "      <td>2</td>\n",
       "      <td>2</td>\n",
       "      <td>FIFA World Cup qualification</td>\n",
       "      <td>Oran</td>\n",
       "      <td>Algeria</td>\n",
       "      <td>False</td>\n",
       "      <td>draw</td>\n",
       "    </tr>\n",
       "    <tr>\n",
       "      <th>27919</th>\n",
       "      <td>9/4/2005</td>\n",
       "      <td>Algeria</td>\n",
       "      <td>Nigeria</td>\n",
       "      <td>2</td>\n",
       "      <td>5</td>\n",
       "      <td>FIFA World Cup qualification</td>\n",
       "      <td>Oran</td>\n",
       "      <td>Algeria</td>\n",
       "      <td>False</td>\n",
       "      <td>lose</td>\n",
       "    </tr>\n",
       "    <tr>\n",
       "      <th>30376</th>\n",
       "      <td>6/6/2008</td>\n",
       "      <td>Algeria</td>\n",
       "      <td>Liberia</td>\n",
       "      <td>3</td>\n",
       "      <td>0</td>\n",
       "      <td>FIFA World Cup qualification</td>\n",
       "      <td>Blida</td>\n",
       "      <td>Algeria</td>\n",
       "      <td>False</td>\n",
       "      <td>win</td>\n",
       "    </tr>\n",
       "    <tr>\n",
       "      <th>30512</th>\n",
       "      <td>6/20/2008</td>\n",
       "      <td>Algeria</td>\n",
       "      <td>Gambia</td>\n",
       "      <td>1</td>\n",
       "      <td>0</td>\n",
       "      <td>FIFA World Cup qualification</td>\n",
       "      <td>Blida</td>\n",
       "      <td>Algeria</td>\n",
       "      <td>False</td>\n",
       "      <td>win</td>\n",
       "    </tr>\n",
       "    <tr>\n",
       "      <th>30704</th>\n",
       "      <td>9/5/2008</td>\n",
       "      <td>Algeria</td>\n",
       "      <td>Senegal</td>\n",
       "      <td>3</td>\n",
       "      <td>2</td>\n",
       "      <td>FIFA World Cup qualification</td>\n",
       "      <td>Blida</td>\n",
       "      <td>Algeria</td>\n",
       "      <td>False</td>\n",
       "      <td>win</td>\n",
       "    </tr>\n",
       "    <tr>\n",
       "      <th>31693</th>\n",
       "      <td>9/6/2009</td>\n",
       "      <td>Algeria</td>\n",
       "      <td>Zambia</td>\n",
       "      <td>1</td>\n",
       "      <td>0</td>\n",
       "      <td>FIFA World Cup qualification</td>\n",
       "      <td>Blida</td>\n",
       "      <td>Algeria</td>\n",
       "      <td>False</td>\n",
       "      <td>win</td>\n",
       "    </tr>\n",
       "    <tr>\n",
       "      <th>31789</th>\n",
       "      <td>10/11/2009</td>\n",
       "      <td>Algeria</td>\n",
       "      <td>Rwanda</td>\n",
       "      <td>3</td>\n",
       "      <td>1</td>\n",
       "      <td>FIFA World Cup qualification</td>\n",
       "      <td>Blida</td>\n",
       "      <td>Algeria</td>\n",
       "      <td>False</td>\n",
       "      <td>win</td>\n",
       "    </tr>\n",
       "    <tr>\n",
       "      <th>34196</th>\n",
       "      <td>6/2/2012</td>\n",
       "      <td>Algeria</td>\n",
       "      <td>Rwanda</td>\n",
       "      <td>4</td>\n",
       "      <td>0</td>\n",
       "      <td>FIFA World Cup qualification</td>\n",
       "      <td>Blida</td>\n",
       "      <td>Algeria</td>\n",
       "      <td>False</td>\n",
       "      <td>win</td>\n",
       "    </tr>\n",
       "    <tr>\n",
       "      <th>35191</th>\n",
       "      <td>3/26/2013</td>\n",
       "      <td>Algeria</td>\n",
       "      <td>Benin</td>\n",
       "      <td>3</td>\n",
       "      <td>1</td>\n",
       "      <td>FIFA World Cup qualification</td>\n",
       "      <td>Blida</td>\n",
       "      <td>Algeria</td>\n",
       "      <td>False</td>\n",
       "      <td>win</td>\n",
       "    </tr>\n",
       "    <tr>\n",
       "      <th>35630</th>\n",
       "      <td>9/10/2013</td>\n",
       "      <td>Algeria</td>\n",
       "      <td>Mali</td>\n",
       "      <td>1</td>\n",
       "      <td>0</td>\n",
       "      <td>FIFA World Cup qualification</td>\n",
       "      <td>Blida</td>\n",
       "      <td>Algeria</td>\n",
       "      <td>False</td>\n",
       "      <td>win</td>\n",
       "    </tr>\n",
       "    <tr>\n",
       "      <th>35827</th>\n",
       "      <td>11/19/2013</td>\n",
       "      <td>Algeria</td>\n",
       "      <td>Burkina Faso</td>\n",
       "      <td>1</td>\n",
       "      <td>0</td>\n",
       "      <td>FIFA World Cup qualification</td>\n",
       "      <td>Blida</td>\n",
       "      <td>Algeria</td>\n",
       "      <td>False</td>\n",
       "      <td>win</td>\n",
       "    </tr>\n",
       "    <tr>\n",
       "      <th>37682</th>\n",
       "      <td>11/17/2015</td>\n",
       "      <td>Algeria</td>\n",
       "      <td>Tanzania</td>\n",
       "      <td>7</td>\n",
       "      <td>0</td>\n",
       "      <td>FIFA World Cup qualification</td>\n",
       "      <td>Blida</td>\n",
       "      <td>Algeria</td>\n",
       "      <td>False</td>\n",
       "      <td>win</td>\n",
       "    </tr>\n",
       "    <tr>\n",
       "      <th>38488</th>\n",
       "      <td>10/9/2016</td>\n",
       "      <td>Algeria</td>\n",
       "      <td>Cameroon</td>\n",
       "      <td>1</td>\n",
       "      <td>1</td>\n",
       "      <td>FIFA World Cup qualification</td>\n",
       "      <td>Blida</td>\n",
       "      <td>Algeria</td>\n",
       "      <td>False</td>\n",
       "      <td>draw</td>\n",
       "    </tr>\n",
       "    <tr>\n",
       "      <th>39333</th>\n",
       "      <td>9/5/2017</td>\n",
       "      <td>Algeria</td>\n",
       "      <td>Zambia</td>\n",
       "      <td>0</td>\n",
       "      <td>1</td>\n",
       "      <td>FIFA World Cup qualification</td>\n",
       "      <td>Constantine</td>\n",
       "      <td>Algeria</td>\n",
       "      <td>False</td>\n",
       "      <td>lose</td>\n",
       "    </tr>\n",
       "    <tr>\n",
       "      <th>39509</th>\n",
       "      <td>11/10/2017</td>\n",
       "      <td>Algeria</td>\n",
       "      <td>Nigeria</td>\n",
       "      <td>3</td>\n",
       "      <td>0</td>\n",
       "      <td>FIFA World Cup qualification</td>\n",
       "      <td>Constantine</td>\n",
       "      <td>Algeria</td>\n",
       "      <td>False</td>\n",
       "      <td>win</td>\n",
       "    </tr>\n",
       "    <tr>\n",
       "      <th>42610</th>\n",
       "      <td>9/2/2021</td>\n",
       "      <td>Algeria</td>\n",
       "      <td>Djibouti</td>\n",
       "      <td>8</td>\n",
       "      <td>0</td>\n",
       "      <td>FIFA World Cup qualification</td>\n",
       "      <td>Blida</td>\n",
       "      <td>Algeria</td>\n",
       "      <td>False</td>\n",
       "      <td>win</td>\n",
       "    </tr>\n",
       "    <tr>\n",
       "      <th>42807</th>\n",
       "      <td>10/8/2021</td>\n",
       "      <td>Algeria</td>\n",
       "      <td>Niger</td>\n",
       "      <td>6</td>\n",
       "      <td>1</td>\n",
       "      <td>FIFA World Cup qualification</td>\n",
       "      <td>Algiers</td>\n",
       "      <td>Algeria</td>\n",
       "      <td>False</td>\n",
       "      <td>win</td>\n",
       "    </tr>\n",
       "    <tr>\n",
       "      <th>43033</th>\n",
       "      <td>11/16/2021</td>\n",
       "      <td>Algeria</td>\n",
       "      <td>Burkina Faso</td>\n",
       "      <td>2</td>\n",
       "      <td>2</td>\n",
       "      <td>FIFA World Cup qualification</td>\n",
       "      <td>Blida</td>\n",
       "      <td>Algeria</td>\n",
       "      <td>False</td>\n",
       "      <td>draw</td>\n",
       "    </tr>\n",
       "  </tbody>\n",
       "</table>\n",
       "</div>"
      ],
      "text/plain": [
       "             date home_team     away_team  home_score  away_score  \\\n",
       "6997   11/17/1968   Algeria       Tunisia           1           2   \n",
       "8163     3/2/1972   Algeria        Guinea           1           0   \n",
       "9755     4/1/1976   Algeria         Libya           1           0   \n",
       "10138   2/28/1977   Algeria       Tunisia           1           1   \n",
       "11400   6/13/1980   Algeria  Sierra Leone           3           1   \n",
       "11706  12/12/1980   Algeria         Sudan           2           0   \n",
       "11892    5/1/1981   Algeria         Niger           4           0   \n",
       "12126  10/30/1981   Algeria       Nigeria           2           1   \n",
       "13782   4/19/1985   Algeria        Angola           3           2   \n",
       "13944   7/13/1985   Algeria        Zambia           2           0   \n",
       "14051  10/18/1985   Algeria       Tunisia           3           0   \n",
       "15413    1/6/1989   Algeria      Zimbabwe           3           0   \n",
       "15834   8/25/1989   Algeria   Ivory Coast           1           0   \n",
       "15881   10/8/1989   Algeria         Egypt           0           0   \n",
       "17329   10/9/1992   Algeria       Burundi           3           1   \n",
       "17597   2/26/1993   Algeria         Ghana           2           1   \n",
       "17710   4/16/1993   Algeria   Ivory Coast           1           1   \n",
       "18131   10/8/1993   Algeria       Nigeria           1           1   \n",
       "19789   6/14/1996   Algeria         Kenya           1           0   \n",
       "22928   4/21/2000   Algeria    Cape Verde           2           0   \n",
       "23140   6/16/2000   Algeria       Senegal           1           1   \n",
       "23650   1/26/2001   Algeria       Namibia           1           0   \n",
       "24013    5/4/2001   Algeria       Morocco           1           2   \n",
       "24301   7/21/2001   Algeria         Egypt           1           1   \n",
       "26181  11/14/2003   Algeria         Niger           6           0   \n",
       "26709    6/5/2004   Algeria        Angola           0           0   \n",
       "27025    9/5/2004   Algeria         Gabon           0           3   \n",
       "27553   3/27/2005   Algeria        Rwanda           1           0   \n",
       "27744   6/19/2005   Algeria      Zimbabwe           2           2   \n",
       "27919    9/4/2005   Algeria       Nigeria           2           5   \n",
       "30376    6/6/2008   Algeria       Liberia           3           0   \n",
       "30512   6/20/2008   Algeria        Gambia           1           0   \n",
       "30704    9/5/2008   Algeria       Senegal           3           2   \n",
       "31693    9/6/2009   Algeria        Zambia           1           0   \n",
       "31789  10/11/2009   Algeria        Rwanda           3           1   \n",
       "34196    6/2/2012   Algeria        Rwanda           4           0   \n",
       "35191   3/26/2013   Algeria         Benin           3           1   \n",
       "35630   9/10/2013   Algeria          Mali           1           0   \n",
       "35827  11/19/2013   Algeria  Burkina Faso           1           0   \n",
       "37682  11/17/2015   Algeria      Tanzania           7           0   \n",
       "38488   10/9/2016   Algeria      Cameroon           1           1   \n",
       "39333    9/5/2017   Algeria        Zambia           0           1   \n",
       "39509  11/10/2017   Algeria       Nigeria           3           0   \n",
       "42610    9/2/2021   Algeria      Djibouti           8           0   \n",
       "42807   10/8/2021   Algeria         Niger           6           1   \n",
       "43033  11/16/2021   Algeria  Burkina Faso           2           2   \n",
       "\n",
       "                         tournament         city  country  neutral result  \n",
       "6997   FIFA World Cup qualification      Algiers  Algeria    False   lose  \n",
       "8163   FIFA World Cup qualification      Algiers  Algeria    False    win  \n",
       "9755   FIFA World Cup qualification      Algiers  Algeria    False    win  \n",
       "10138  FIFA World Cup qualification      Algiers  Algeria    False   draw  \n",
       "11400  FIFA World Cup qualification         Oran  Algeria    False    win  \n",
       "11706  FIFA World Cup qualification  Constantine  Algeria    False    win  \n",
       "11892  FIFA World Cup qualification  Constantine  Algeria    False    win  \n",
       "12126  FIFA World Cup qualification  Constantine  Algeria    False    win  \n",
       "13782  FIFA World Cup qualification      Algiers  Algeria    False    win  \n",
       "13944  FIFA World Cup qualification      Algiers  Algeria    False    win  \n",
       "14051  FIFA World Cup qualification      Algiers  Algeria    False    win  \n",
       "15413  FIFA World Cup qualification       Annaba  Algeria    False    win  \n",
       "15834  FIFA World Cup qualification       Annaba  Algeria    False    win  \n",
       "15881  FIFA World Cup qualification  Constantine  Algeria    False   draw  \n",
       "17329  FIFA World Cup qualification      Tlemcen  Algeria    False    win  \n",
       "17597  FIFA World Cup qualification      Tlemcen  Algeria    False    win  \n",
       "17710  FIFA World Cup qualification      Tlemcen  Algeria    False   draw  \n",
       "18131  FIFA World Cup qualification      Algiers  Algeria    False   draw  \n",
       "19789  FIFA World Cup qualification      Algiers  Algeria    False    win  \n",
       "22928  FIFA World Cup qualification       Annaba  Algeria    False    win  \n",
       "23140  FIFA World Cup qualification       Annaba  Algeria    False   draw  \n",
       "23650  FIFA World Cup qualification      Algiers  Algeria    False    win  \n",
       "24013  FIFA World Cup qualification      Algiers  Algeria    False   lose  \n",
       "24301  FIFA World Cup qualification       Annaba  Algeria    False   draw  \n",
       "26181  FIFA World Cup qualification      Algiers  Algeria    False    win  \n",
       "26709  FIFA World Cup qualification       Annaba  Algeria    False   draw  \n",
       "27025  FIFA World Cup qualification       Annaba  Algeria    False   lose  \n",
       "27553  FIFA World Cup qualification         Oran  Algeria    False    win  \n",
       "27744  FIFA World Cup qualification         Oran  Algeria    False   draw  \n",
       "27919  FIFA World Cup qualification         Oran  Algeria    False   lose  \n",
       "30376  FIFA World Cup qualification        Blida  Algeria    False    win  \n",
       "30512  FIFA World Cup qualification        Blida  Algeria    False    win  \n",
       "30704  FIFA World Cup qualification        Blida  Algeria    False    win  \n",
       "31693  FIFA World Cup qualification        Blida  Algeria    False    win  \n",
       "31789  FIFA World Cup qualification        Blida  Algeria    False    win  \n",
       "34196  FIFA World Cup qualification        Blida  Algeria    False    win  \n",
       "35191  FIFA World Cup qualification        Blida  Algeria    False    win  \n",
       "35630  FIFA World Cup qualification        Blida  Algeria    False    win  \n",
       "35827  FIFA World Cup qualification        Blida  Algeria    False    win  \n",
       "37682  FIFA World Cup qualification        Blida  Algeria    False    win  \n",
       "38488  FIFA World Cup qualification        Blida  Algeria    False   draw  \n",
       "39333  FIFA World Cup qualification  Constantine  Algeria    False   lose  \n",
       "39509  FIFA World Cup qualification  Constantine  Algeria    False    win  \n",
       "42610  FIFA World Cup qualification        Blida  Algeria    False    win  \n",
       "42807  FIFA World Cup qualification      Algiers  Algeria    False    win  \n",
       "43033  FIFA World Cup qualification        Blida  Algeria    False   draw  "
      ]
     },
     "execution_count": 47,
     "metadata": {},
     "output_type": "execute_result"
    }
   ],
   "source": [
    "df_noneutralalgeria_fifa"
   ]
  },
  {
   "cell_type": "code",
   "execution_count": 48,
   "id": "d33edea6",
   "metadata": {},
   "outputs": [],
   "source": [
    "x=df_noneutralalgeria_fifa['result'].value_counts()"
   ]
  },
  {
   "cell_type": "code",
   "execution_count": 49,
   "id": "c4dd19ae",
   "metadata": {},
   "outputs": [
    {
     "data": {
      "text/plain": [
       "31"
      ]
     },
     "execution_count": 49,
     "metadata": {},
     "output_type": "execute_result"
    }
   ],
   "source": [
    "x[0]"
   ]
  },
  {
   "cell_type": "code",
   "execution_count": 50,
   "id": "f3ae073d",
   "metadata": {},
   "outputs": [],
   "source": [
    "import statsmodels.api as sm"
   ]
  },
  {
   "cell_type": "code",
   "execution_count": 51,
   "id": "f9193d73",
   "metadata": {},
   "outputs": [],
   "source": [
    "from statsmodels.stats.proportion import proportion_confint"
   ]
  },
  {
   "cell_type": "code",
   "execution_count": 52,
   "id": "5834f1ce",
   "metadata": {},
   "outputs": [],
   "source": [
    "#confidence interval"
   ]
  },
  {
   "cell_type": "code",
   "execution_count": 53,
   "id": "418ad6d4",
   "metadata": {},
   "outputs": [],
   "source": [
    "ci_win_algeria=proportion_confint(count=x[0],nobs=x.sum(),alpha=(1-.95))"
   ]
  },
  {
   "cell_type": "code",
   "execution_count": 54,
   "id": "200a5346",
   "metadata": {},
   "outputs": [
    {
     "data": {
      "text/plain": [
       "(0.538444700091684, 0.8093813868648377)"
      ]
     },
     "execution_count": 54,
     "metadata": {},
     "output_type": "execute_result"
    }
   ],
   "source": [
    "ci_win_algeria"
   ]
  },
  {
   "cell_type": "markdown",
   "id": "3bf94f22",
   "metadata": {},
   "source": [
    "#### Country #2 \"Greece\""
   ]
  },
  {
   "cell_type": "code",
   "execution_count": 55,
   "id": "b0177856",
   "metadata": {},
   "outputs": [],
   "source": [
    "df_noneutralgreece=df_noneutral[df_noneutral['country']=='Greece']"
   ]
  },
  {
   "cell_type": "code",
   "execution_count": 56,
   "id": "44bc243b",
   "metadata": {},
   "outputs": [
    {
     "data": {
      "text/html": [
       "<div>\n",
       "<style scoped>\n",
       "    .dataframe tbody tr th:only-of-type {\n",
       "        vertical-align: middle;\n",
       "    }\n",
       "\n",
       "    .dataframe tbody tr th {\n",
       "        vertical-align: top;\n",
       "    }\n",
       "\n",
       "    .dataframe thead th {\n",
       "        text-align: right;\n",
       "    }\n",
       "</style>\n",
       "<table border=\"1\" class=\"dataframe\">\n",
       "  <thead>\n",
       "    <tr style=\"text-align: right;\">\n",
       "      <th></th>\n",
       "      <th>date</th>\n",
       "      <th>home_team</th>\n",
       "      <th>away_team</th>\n",
       "      <th>home_score</th>\n",
       "      <th>away_score</th>\n",
       "      <th>tournament</th>\n",
       "      <th>city</th>\n",
       "      <th>country</th>\n",
       "      <th>neutral</th>\n",
       "      <th>result</th>\n",
       "    </tr>\n",
       "  </thead>\n",
       "  <tbody>\n",
       "    <tr>\n",
       "      <th>1268</th>\n",
       "      <td>1/26/1930</td>\n",
       "      <td>Greece</td>\n",
       "      <td>Yugoslavia</td>\n",
       "      <td>2</td>\n",
       "      <td>1</td>\n",
       "      <td>Balkan Cup</td>\n",
       "      <td>Athens</td>\n",
       "      <td>Greece</td>\n",
       "      <td>False</td>\n",
       "      <td>win</td>\n",
       "    </tr>\n",
       "    <tr>\n",
       "      <th>1364</th>\n",
       "      <td>12/7/1930</td>\n",
       "      <td>Greece</td>\n",
       "      <td>Bulgaria</td>\n",
       "      <td>6</td>\n",
       "      <td>1</td>\n",
       "      <td>Balkan Cup</td>\n",
       "      <td>Athens</td>\n",
       "      <td>Greece</td>\n",
       "      <td>False</td>\n",
       "      <td>win</td>\n",
       "    </tr>\n",
       "    <tr>\n",
       "      <th>1455</th>\n",
       "      <td>11/29/1931</td>\n",
       "      <td>Greece</td>\n",
       "      <td>Romania</td>\n",
       "      <td>2</td>\n",
       "      <td>4</td>\n",
       "      <td>Balkan Cup</td>\n",
       "      <td>Athens</td>\n",
       "      <td>Greece</td>\n",
       "      <td>False</td>\n",
       "      <td>lose</td>\n",
       "    </tr>\n",
       "    <tr>\n",
       "      <th>1472</th>\n",
       "      <td>3/27/1932</td>\n",
       "      <td>Greece</td>\n",
       "      <td>Bulgaria</td>\n",
       "      <td>1</td>\n",
       "      <td>2</td>\n",
       "      <td>Friendly</td>\n",
       "      <td>Athens</td>\n",
       "      <td>Greece</td>\n",
       "      <td>False</td>\n",
       "      <td>lose</td>\n",
       "    </tr>\n",
       "    <tr>\n",
       "      <th>1473</th>\n",
       "      <td>3/30/1932</td>\n",
       "      <td>Greece</td>\n",
       "      <td>Bulgaria</td>\n",
       "      <td>2</td>\n",
       "      <td>2</td>\n",
       "      <td>Friendly</td>\n",
       "      <td>Athens</td>\n",
       "      <td>Greece</td>\n",
       "      <td>False</td>\n",
       "      <td>draw</td>\n",
       "    </tr>\n",
       "    <tr>\n",
       "      <th>...</th>\n",
       "      <td>...</td>\n",
       "      <td>...</td>\n",
       "      <td>...</td>\n",
       "      <td>...</td>\n",
       "      <td>...</td>\n",
       "      <td>...</td>\n",
       "      <td>...</td>\n",
       "      <td>...</td>\n",
       "      <td>...</td>\n",
       "      <td>...</td>\n",
       "    </tr>\n",
       "    <tr>\n",
       "      <th>42128</th>\n",
       "      <td>3/28/2021</td>\n",
       "      <td>Greece</td>\n",
       "      <td>Honduras</td>\n",
       "      <td>2</td>\n",
       "      <td>1</td>\n",
       "      <td>Friendly</td>\n",
       "      <td>Thessaloniki</td>\n",
       "      <td>Greece</td>\n",
       "      <td>False</td>\n",
       "      <td>win</td>\n",
       "    </tr>\n",
       "    <tr>\n",
       "      <th>42203</th>\n",
       "      <td>3/31/2021</td>\n",
       "      <td>Greece</td>\n",
       "      <td>Georgia</td>\n",
       "      <td>1</td>\n",
       "      <td>1</td>\n",
       "      <td>FIFA World Cup qualification</td>\n",
       "      <td>Thessaloniki</td>\n",
       "      <td>Greece</td>\n",
       "      <td>False</td>\n",
       "      <td>draw</td>\n",
       "    </tr>\n",
       "    <tr>\n",
       "      <th>42737</th>\n",
       "      <td>9/8/2021</td>\n",
       "      <td>Greece</td>\n",
       "      <td>Sweden</td>\n",
       "      <td>2</td>\n",
       "      <td>1</td>\n",
       "      <td>FIFA World Cup qualification</td>\n",
       "      <td>Athens</td>\n",
       "      <td>Greece</td>\n",
       "      <td>False</td>\n",
       "      <td>win</td>\n",
       "    </tr>\n",
       "    <tr>\n",
       "      <th>42946</th>\n",
       "      <td>11/11/2021</td>\n",
       "      <td>Greece</td>\n",
       "      <td>Spain</td>\n",
       "      <td>0</td>\n",
       "      <td>1</td>\n",
       "      <td>FIFA World Cup qualification</td>\n",
       "      <td>Athens</td>\n",
       "      <td>Greece</td>\n",
       "      <td>False</td>\n",
       "      <td>lose</td>\n",
       "    </tr>\n",
       "    <tr>\n",
       "      <th>43005</th>\n",
       "      <td>11/14/2021</td>\n",
       "      <td>Greece</td>\n",
       "      <td>Kosovo</td>\n",
       "      <td>1</td>\n",
       "      <td>1</td>\n",
       "      <td>FIFA World Cup qualification</td>\n",
       "      <td>Athens</td>\n",
       "      <td>Greece</td>\n",
       "      <td>False</td>\n",
       "      <td>draw</td>\n",
       "    </tr>\n",
       "  </tbody>\n",
       "</table>\n",
       "<p>270 rows × 10 columns</p>\n",
       "</div>"
      ],
      "text/plain": [
       "             date home_team   away_team  home_score  away_score  \\\n",
       "1268    1/26/1930    Greece  Yugoslavia           2           1   \n",
       "1364    12/7/1930    Greece    Bulgaria           6           1   \n",
       "1455   11/29/1931    Greece     Romania           2           4   \n",
       "1472    3/27/1932    Greece    Bulgaria           1           2   \n",
       "1473    3/30/1932    Greece    Bulgaria           2           2   \n",
       "...           ...       ...         ...         ...         ...   \n",
       "42128   3/28/2021    Greece    Honduras           2           1   \n",
       "42203   3/31/2021    Greece     Georgia           1           1   \n",
       "42737    9/8/2021    Greece      Sweden           2           1   \n",
       "42946  11/11/2021    Greece       Spain           0           1   \n",
       "43005  11/14/2021    Greece      Kosovo           1           1   \n",
       "\n",
       "                         tournament          city country  neutral result  \n",
       "1268                     Balkan Cup        Athens  Greece    False    win  \n",
       "1364                     Balkan Cup        Athens  Greece    False    win  \n",
       "1455                     Balkan Cup        Athens  Greece    False   lose  \n",
       "1472                       Friendly        Athens  Greece    False   lose  \n",
       "1473                       Friendly        Athens  Greece    False   draw  \n",
       "...                             ...           ...     ...      ...    ...  \n",
       "42128                      Friendly  Thessaloniki  Greece    False    win  \n",
       "42203  FIFA World Cup qualification  Thessaloniki  Greece    False   draw  \n",
       "42737  FIFA World Cup qualification        Athens  Greece    False    win  \n",
       "42946  FIFA World Cup qualification        Athens  Greece    False   lose  \n",
       "43005  FIFA World Cup qualification        Athens  Greece    False   draw  \n",
       "\n",
       "[270 rows x 10 columns]"
      ]
     },
     "execution_count": 56,
     "metadata": {},
     "output_type": "execute_result"
    }
   ],
   "source": [
    "df_noneutralgreece"
   ]
  },
  {
   "cell_type": "code",
   "execution_count": 57,
   "id": "5481feef",
   "metadata": {},
   "outputs": [
    {
     "data": {
      "text/plain": [
       "Greece    267\n",
       "Rhodes      3\n",
       "Name: home_team, dtype: int64"
      ]
     },
     "execution_count": 57,
     "metadata": {},
     "output_type": "execute_result"
    }
   ],
   "source": [
    "df_noneutralgreece['home_team'].value_counts()"
   ]
  },
  {
   "cell_type": "code",
   "execution_count": 58,
   "id": "6836f649",
   "metadata": {},
   "outputs": [],
   "source": [
    "#When home team was Rhodes"
   ]
  },
  {
   "cell_type": "code",
   "execution_count": 59,
   "id": "19ef74e4",
   "metadata": {},
   "outputs": [
    {
     "data": {
      "text/html": [
       "<div>\n",
       "<style scoped>\n",
       "    .dataframe tbody tr th:only-of-type {\n",
       "        vertical-align: middle;\n",
       "    }\n",
       "\n",
       "    .dataframe tbody tr th {\n",
       "        vertical-align: top;\n",
       "    }\n",
       "\n",
       "    .dataframe thead th {\n",
       "        text-align: right;\n",
       "    }\n",
       "</style>\n",
       "<table border=\"1\" class=\"dataframe\">\n",
       "  <thead>\n",
       "    <tr style=\"text-align: right;\">\n",
       "      <th></th>\n",
       "      <th>date</th>\n",
       "      <th>home_team</th>\n",
       "      <th>away_team</th>\n",
       "      <th>home_score</th>\n",
       "      <th>away_score</th>\n",
       "      <th>tournament</th>\n",
       "      <th>city</th>\n",
       "      <th>country</th>\n",
       "      <th>neutral</th>\n",
       "      <th>result</th>\n",
       "    </tr>\n",
       "  </thead>\n",
       "  <tbody>\n",
       "    <tr>\n",
       "      <th>29469</th>\n",
       "      <td>7/1/2007</td>\n",
       "      <td>Rhodes</td>\n",
       "      <td>Frøya</td>\n",
       "      <td>3</td>\n",
       "      <td>1</td>\n",
       "      <td>Island Games</td>\n",
       "      <td>Rhodes</td>\n",
       "      <td>Greece</td>\n",
       "      <td>False</td>\n",
       "      <td>win</td>\n",
       "    </tr>\n",
       "    <tr>\n",
       "      <th>29489</th>\n",
       "      <td>7/4/2007</td>\n",
       "      <td>Rhodes</td>\n",
       "      <td>Western Isles</td>\n",
       "      <td>1</td>\n",
       "      <td>0</td>\n",
       "      <td>Island Games</td>\n",
       "      <td>Rhodes</td>\n",
       "      <td>Greece</td>\n",
       "      <td>False</td>\n",
       "      <td>win</td>\n",
       "    </tr>\n",
       "    <tr>\n",
       "      <th>29497</th>\n",
       "      <td>7/5/2007</td>\n",
       "      <td>Rhodes</td>\n",
       "      <td>Gibraltar</td>\n",
       "      <td>0</td>\n",
       "      <td>4</td>\n",
       "      <td>Island Games</td>\n",
       "      <td>Rhodes</td>\n",
       "      <td>Greece</td>\n",
       "      <td>False</td>\n",
       "      <td>lose</td>\n",
       "    </tr>\n",
       "  </tbody>\n",
       "</table>\n",
       "</div>"
      ],
      "text/plain": [
       "           date home_team      away_team  home_score  away_score  \\\n",
       "29469  7/1/2007    Rhodes          Frøya           3           1   \n",
       "29489  7/4/2007    Rhodes  Western Isles           1           0   \n",
       "29497  7/5/2007    Rhodes      Gibraltar           0           4   \n",
       "\n",
       "         tournament    city country  neutral result  \n",
       "29469  Island Games  Rhodes  Greece    False    win  \n",
       "29489  Island Games  Rhodes  Greece    False    win  \n",
       "29497  Island Games  Rhodes  Greece    False   lose  "
      ]
     },
     "execution_count": 59,
     "metadata": {},
     "output_type": "execute_result"
    }
   ],
   "source": [
    "df_noneutralgreece[df_noneutralgreece['home_team']=='Rhodes']"
   ]
  },
  {
   "cell_type": "code",
   "execution_count": 60,
   "id": "b195a077",
   "metadata": {},
   "outputs": [
    {
     "data": {
      "text/plain": [
       "Romania         16\n",
       "Cyprus          14\n",
       "Bulgaria        13\n",
       "Russia          11\n",
       "Hungary         10\n",
       "                ..\n",
       "Saudi Arabia     1\n",
       "Cameroon         1\n",
       "Bolivia          1\n",
       "San Marino       1\n",
       "Honduras         1\n",
       "Name: away_team, Length: 72, dtype: int64"
      ]
     },
     "execution_count": 60,
     "metadata": {},
     "output_type": "execute_result"
    }
   ],
   "source": [
    "df_noneutralgreece['away_team'].value_counts()"
   ]
  },
  {
   "cell_type": "code",
   "execution_count": 61,
   "id": "546e7036",
   "metadata": {},
   "outputs": [
    {
     "data": {
      "text/plain": [
       "win     0.474074\n",
       "lose    0.300000\n",
       "draw    0.225926\n",
       "Name: result, dtype: float64"
      ]
     },
     "execution_count": 61,
     "metadata": {},
     "output_type": "execute_result"
    }
   ],
   "source": [
    "df_noneutralgreece['result'].value_counts(normalize=True)"
   ]
  },
  {
   "cell_type": "code",
   "execution_count": 62,
   "id": "c1ea0469",
   "metadata": {},
   "outputs": [],
   "source": [
    "#win/lose"
   ]
  },
  {
   "cell_type": "code",
   "execution_count": 63,
   "id": "c2d2ba3a",
   "metadata": {},
   "outputs": [],
   "source": [
    "prob_greece=0.474074/0.300000"
   ]
  },
  {
   "cell_type": "code",
   "execution_count": 64,
   "id": "ef86a685",
   "metadata": {},
   "outputs": [
    {
     "data": {
      "text/plain": [
       "1.5802466666666668"
      ]
     },
     "execution_count": 64,
     "metadata": {},
     "output_type": "execute_result"
    }
   ],
   "source": [
    "prob_greece"
   ]
  },
  {
   "cell_type": "markdown",
   "id": "1ccaafbc",
   "metadata": {},
   "source": [
    "#### Selecting FIFA World Cup qualification matches in Greece"
   ]
  },
  {
   "cell_type": "code",
   "execution_count": 65,
   "id": "d522c173",
   "metadata": {},
   "outputs": [],
   "source": [
    "df_noneutralgreece_fifa=df_noneutralgreece[df_noneutralgreece['tournament']=='FIFA World Cup qualification']"
   ]
  },
  {
   "cell_type": "code",
   "execution_count": 66,
   "id": "5bba416d",
   "metadata": {},
   "outputs": [
    {
     "data": {
      "text/html": [
       "<div>\n",
       "<style scoped>\n",
       "    .dataframe tbody tr th:only-of-type {\n",
       "        vertical-align: middle;\n",
       "    }\n",
       "\n",
       "    .dataframe tbody tr th {\n",
       "        vertical-align: top;\n",
       "    }\n",
       "\n",
       "    .dataframe thead th {\n",
       "        text-align: right;\n",
       "    }\n",
       "</style>\n",
       "<table border=\"1\" class=\"dataframe\">\n",
       "  <thead>\n",
       "    <tr style=\"text-align: right;\">\n",
       "      <th></th>\n",
       "      <th>date</th>\n",
       "      <th>home_team</th>\n",
       "      <th>away_team</th>\n",
       "      <th>home_score</th>\n",
       "      <th>away_score</th>\n",
       "      <th>tournament</th>\n",
       "      <th>city</th>\n",
       "      <th>country</th>\n",
       "      <th>neutral</th>\n",
       "      <th>result</th>\n",
       "    </tr>\n",
       "  </thead>\n",
       "  <tbody>\n",
       "    <tr>\n",
       "      <th>2067</th>\n",
       "      <td>2/20/1938</td>\n",
       "      <td>Greece</td>\n",
       "      <td>Israel</td>\n",
       "      <td>1</td>\n",
       "      <td>0</td>\n",
       "      <td>FIFA World Cup qualification</td>\n",
       "      <td>Athens</td>\n",
       "      <td>Greece</td>\n",
       "      <td>False</td>\n",
       "      <td>win</td>\n",
       "    </tr>\n",
       "    <tr>\n",
       "      <th>3579</th>\n",
       "      <td>11/1/1953</td>\n",
       "      <td>Greece</td>\n",
       "      <td>Israel</td>\n",
       "      <td>1</td>\n",
       "      <td>0</td>\n",
       "      <td>FIFA World Cup qualification</td>\n",
       "      <td>Athens</td>\n",
       "      <td>Greece</td>\n",
       "      <td>False</td>\n",
       "      <td>win</td>\n",
       "    </tr>\n",
       "    <tr>\n",
       "      <th>3621</th>\n",
       "      <td>3/28/1954</td>\n",
       "      <td>Greece</td>\n",
       "      <td>Yugoslavia</td>\n",
       "      <td>0</td>\n",
       "      <td>1</td>\n",
       "      <td>FIFA World Cup qualification</td>\n",
       "      <td>Athens</td>\n",
       "      <td>Greece</td>\n",
       "      <td>False</td>\n",
       "      <td>lose</td>\n",
       "    </tr>\n",
       "    <tr>\n",
       "      <th>4152</th>\n",
       "      <td>5/5/1957</td>\n",
       "      <td>Greece</td>\n",
       "      <td>Yugoslavia</td>\n",
       "      <td>0</td>\n",
       "      <td>0</td>\n",
       "      <td>FIFA World Cup qualification</td>\n",
       "      <td>Athens</td>\n",
       "      <td>Greece</td>\n",
       "      <td>False</td>\n",
       "      <td>draw</td>\n",
       "    </tr>\n",
       "    <tr>\n",
       "      <th>4187</th>\n",
       "      <td>6/16/1957</td>\n",
       "      <td>Greece</td>\n",
       "      <td>Romania</td>\n",
       "      <td>1</td>\n",
       "      <td>2</td>\n",
       "      <td>FIFA World Cup qualification</td>\n",
       "      <td>Athens</td>\n",
       "      <td>Greece</td>\n",
       "      <td>False</td>\n",
       "      <td>lose</td>\n",
       "    </tr>\n",
       "    <tr>\n",
       "      <th>...</th>\n",
       "      <td>...</td>\n",
       "      <td>...</td>\n",
       "      <td>...</td>\n",
       "      <td>...</td>\n",
       "      <td>...</td>\n",
       "      <td>...</td>\n",
       "      <td>...</td>\n",
       "      <td>...</td>\n",
       "      <td>...</td>\n",
       "      <td>...</td>\n",
       "    </tr>\n",
       "    <tr>\n",
       "      <th>39543</th>\n",
       "      <td>11/12/2017</td>\n",
       "      <td>Greece</td>\n",
       "      <td>Croatia</td>\n",
       "      <td>0</td>\n",
       "      <td>0</td>\n",
       "      <td>FIFA World Cup qualification</td>\n",
       "      <td>Piraeus</td>\n",
       "      <td>Greece</td>\n",
       "      <td>False</td>\n",
       "      <td>draw</td>\n",
       "    </tr>\n",
       "    <tr>\n",
       "      <th>42203</th>\n",
       "      <td>3/31/2021</td>\n",
       "      <td>Greece</td>\n",
       "      <td>Georgia</td>\n",
       "      <td>1</td>\n",
       "      <td>1</td>\n",
       "      <td>FIFA World Cup qualification</td>\n",
       "      <td>Thessaloniki</td>\n",
       "      <td>Greece</td>\n",
       "      <td>False</td>\n",
       "      <td>draw</td>\n",
       "    </tr>\n",
       "    <tr>\n",
       "      <th>42737</th>\n",
       "      <td>9/8/2021</td>\n",
       "      <td>Greece</td>\n",
       "      <td>Sweden</td>\n",
       "      <td>2</td>\n",
       "      <td>1</td>\n",
       "      <td>FIFA World Cup qualification</td>\n",
       "      <td>Athens</td>\n",
       "      <td>Greece</td>\n",
       "      <td>False</td>\n",
       "      <td>win</td>\n",
       "    </tr>\n",
       "    <tr>\n",
       "      <th>42946</th>\n",
       "      <td>11/11/2021</td>\n",
       "      <td>Greece</td>\n",
       "      <td>Spain</td>\n",
       "      <td>0</td>\n",
       "      <td>1</td>\n",
       "      <td>FIFA World Cup qualification</td>\n",
       "      <td>Athens</td>\n",
       "      <td>Greece</td>\n",
       "      <td>False</td>\n",
       "      <td>lose</td>\n",
       "    </tr>\n",
       "    <tr>\n",
       "      <th>43005</th>\n",
       "      <td>11/14/2021</td>\n",
       "      <td>Greece</td>\n",
       "      <td>Kosovo</td>\n",
       "      <td>1</td>\n",
       "      <td>1</td>\n",
       "      <td>FIFA World Cup qualification</td>\n",
       "      <td>Athens</td>\n",
       "      <td>Greece</td>\n",
       "      <td>False</td>\n",
       "      <td>draw</td>\n",
       "    </tr>\n",
       "  </tbody>\n",
       "</table>\n",
       "<p>67 rows × 10 columns</p>\n",
       "</div>"
      ],
      "text/plain": [
       "             date home_team   away_team  home_score  away_score  \\\n",
       "2067    2/20/1938    Greece      Israel           1           0   \n",
       "3579    11/1/1953    Greece      Israel           1           0   \n",
       "3621    3/28/1954    Greece  Yugoslavia           0           1   \n",
       "4152     5/5/1957    Greece  Yugoslavia           0           0   \n",
       "4187    6/16/1957    Greece     Romania           1           2   \n",
       "...           ...       ...         ...         ...         ...   \n",
       "39543  11/12/2017    Greece     Croatia           0           0   \n",
       "42203   3/31/2021    Greece     Georgia           1           1   \n",
       "42737    9/8/2021    Greece      Sweden           2           1   \n",
       "42946  11/11/2021    Greece       Spain           0           1   \n",
       "43005  11/14/2021    Greece      Kosovo           1           1   \n",
       "\n",
       "                         tournament          city country  neutral result  \n",
       "2067   FIFA World Cup qualification        Athens  Greece    False    win  \n",
       "3579   FIFA World Cup qualification        Athens  Greece    False    win  \n",
       "3621   FIFA World Cup qualification        Athens  Greece    False   lose  \n",
       "4152   FIFA World Cup qualification        Athens  Greece    False   draw  \n",
       "4187   FIFA World Cup qualification        Athens  Greece    False   lose  \n",
       "...                             ...           ...     ...      ...    ...  \n",
       "39543  FIFA World Cup qualification       Piraeus  Greece    False   draw  \n",
       "42203  FIFA World Cup qualification  Thessaloniki  Greece    False   draw  \n",
       "42737  FIFA World Cup qualification        Athens  Greece    False    win  \n",
       "42946  FIFA World Cup qualification        Athens  Greece    False   lose  \n",
       "43005  FIFA World Cup qualification        Athens  Greece    False   draw  \n",
       "\n",
       "[67 rows x 10 columns]"
      ]
     },
     "execution_count": 66,
     "metadata": {},
     "output_type": "execute_result"
    }
   ],
   "source": [
    "df_noneutralgreece_fifa"
   ]
  },
  {
   "cell_type": "code",
   "execution_count": 67,
   "id": "eb95191f",
   "metadata": {},
   "outputs": [],
   "source": [
    "x=df_noneutralgreece_fifa['result'].value_counts()"
   ]
  },
  {
   "cell_type": "code",
   "execution_count": 68,
   "id": "76fa1fd4",
   "metadata": {},
   "outputs": [
    {
     "data": {
      "text/plain": [
       "34"
      ]
     },
     "execution_count": 68,
     "metadata": {},
     "output_type": "execute_result"
    }
   ],
   "source": [
    "x[0]"
   ]
  },
  {
   "cell_type": "code",
   "execution_count": 69,
   "id": "0d49e70e",
   "metadata": {},
   "outputs": [],
   "source": [
    "#confidence interval"
   ]
  },
  {
   "cell_type": "code",
   "execution_count": 70,
   "id": "d48c2d69",
   "metadata": {},
   "outputs": [],
   "source": [
    "ci_win_greece=proportion_confint(count=x[0],nobs=x.sum(),alpha=(1-.95))"
   ]
  },
  {
   "cell_type": "code",
   "execution_count": 71,
   "id": "802c8e84",
   "metadata": {},
   "outputs": [
    {
     "data": {
      "text/plain": [
       "(0.38775216708297616, 0.6271732060513523)"
      ]
     },
     "execution_count": 71,
     "metadata": {},
     "output_type": "execute_result"
    }
   ],
   "source": [
    "ci_win_greece"
   ]
  },
  {
   "cell_type": "markdown",
   "id": "3876f751",
   "metadata": {},
   "source": [
    "#### Country #3 \"Australia\""
   ]
  },
  {
   "cell_type": "code",
   "execution_count": 72,
   "id": "9c8e4e75",
   "metadata": {},
   "outputs": [],
   "source": [
    "df_noneutralaustralia=df_noneutral[df_noneutral['country']=='Australia']"
   ]
  },
  {
   "cell_type": "code",
   "execution_count": 73,
   "id": "6dc16185",
   "metadata": {},
   "outputs": [
    {
     "data": {
      "text/html": [
       "<div>\n",
       "<style scoped>\n",
       "    .dataframe tbody tr th:only-of-type {\n",
       "        vertical-align: middle;\n",
       "    }\n",
       "\n",
       "    .dataframe tbody tr th {\n",
       "        vertical-align: top;\n",
       "    }\n",
       "\n",
       "    .dataframe thead th {\n",
       "        text-align: right;\n",
       "    }\n",
       "</style>\n",
       "<table border=\"1\" class=\"dataframe\">\n",
       "  <thead>\n",
       "    <tr style=\"text-align: right;\">\n",
       "      <th></th>\n",
       "      <th>date</th>\n",
       "      <th>home_team</th>\n",
       "      <th>away_team</th>\n",
       "      <th>home_score</th>\n",
       "      <th>away_score</th>\n",
       "      <th>tournament</th>\n",
       "      <th>city</th>\n",
       "      <th>country</th>\n",
       "      <th>neutral</th>\n",
       "      <th>result</th>\n",
       "    </tr>\n",
       "  </thead>\n",
       "  <tbody>\n",
       "    <tr>\n",
       "      <th>726</th>\n",
       "      <td>6/9/1923</td>\n",
       "      <td>Australia</td>\n",
       "      <td>New Zealand</td>\n",
       "      <td>2</td>\n",
       "      <td>1</td>\n",
       "      <td>Friendly</td>\n",
       "      <td>Brisbane</td>\n",
       "      <td>Australia</td>\n",
       "      <td>False</td>\n",
       "      <td>win</td>\n",
       "    </tr>\n",
       "    <tr>\n",
       "      <th>729</th>\n",
       "      <td>6/16/1923</td>\n",
       "      <td>Australia</td>\n",
       "      <td>New Zealand</td>\n",
       "      <td>2</td>\n",
       "      <td>3</td>\n",
       "      <td>Friendly</td>\n",
       "      <td>Sydney</td>\n",
       "      <td>Australia</td>\n",
       "      <td>False</td>\n",
       "      <td>lose</td>\n",
       "    </tr>\n",
       "    <tr>\n",
       "      <th>737</th>\n",
       "      <td>6/30/1923</td>\n",
       "      <td>Australia</td>\n",
       "      <td>New Zealand</td>\n",
       "      <td>1</td>\n",
       "      <td>4</td>\n",
       "      <td>Friendly</td>\n",
       "      <td>Newcastle</td>\n",
       "      <td>Australia</td>\n",
       "      <td>False</td>\n",
       "      <td>lose</td>\n",
       "    </tr>\n",
       "    <tr>\n",
       "      <th>811</th>\n",
       "      <td>6/7/1924</td>\n",
       "      <td>Australia</td>\n",
       "      <td>Canada</td>\n",
       "      <td>3</td>\n",
       "      <td>2</td>\n",
       "      <td>Friendly</td>\n",
       "      <td>Brisbane</td>\n",
       "      <td>Australia</td>\n",
       "      <td>False</td>\n",
       "      <td>win</td>\n",
       "    </tr>\n",
       "    <tr>\n",
       "      <th>813</th>\n",
       "      <td>6/14/1924</td>\n",
       "      <td>Australia</td>\n",
       "      <td>Canada</td>\n",
       "      <td>0</td>\n",
       "      <td>1</td>\n",
       "      <td>Friendly</td>\n",
       "      <td>Sydney</td>\n",
       "      <td>Australia</td>\n",
       "      <td>False</td>\n",
       "      <td>lose</td>\n",
       "    </tr>\n",
       "    <tr>\n",
       "      <th>...</th>\n",
       "      <td>...</td>\n",
       "      <td>...</td>\n",
       "      <td>...</td>\n",
       "      <td>...</td>\n",
       "      <td>...</td>\n",
       "      <td>...</td>\n",
       "      <td>...</td>\n",
       "      <td>...</td>\n",
       "      <td>...</td>\n",
       "      <td>...</td>\n",
       "    </tr>\n",
       "    <tr>\n",
       "      <th>39589</th>\n",
       "      <td>11/15/2017</td>\n",
       "      <td>Australia</td>\n",
       "      <td>Honduras</td>\n",
       "      <td>3</td>\n",
       "      <td>1</td>\n",
       "      <td>FIFA World Cup qualification</td>\n",
       "      <td>Sydney</td>\n",
       "      <td>Australia</td>\n",
       "      <td>False</td>\n",
       "      <td>win</td>\n",
       "    </tr>\n",
       "    <tr>\n",
       "      <th>40453</th>\n",
       "      <td>11/17/2018</td>\n",
       "      <td>Australia</td>\n",
       "      <td>South Korea</td>\n",
       "      <td>1</td>\n",
       "      <td>1</td>\n",
       "      <td>Friendly</td>\n",
       "      <td>Brisbane</td>\n",
       "      <td>Australia</td>\n",
       "      <td>False</td>\n",
       "      <td>draw</td>\n",
       "    </tr>\n",
       "    <tr>\n",
       "      <th>40506</th>\n",
       "      <td>11/20/2018</td>\n",
       "      <td>Australia</td>\n",
       "      <td>Lebanon</td>\n",
       "      <td>3</td>\n",
       "      <td>0</td>\n",
       "      <td>Friendly</td>\n",
       "      <td>Sydney</td>\n",
       "      <td>Australia</td>\n",
       "      <td>False</td>\n",
       "      <td>win</td>\n",
       "    </tr>\n",
       "    <tr>\n",
       "      <th>41369</th>\n",
       "      <td>10/10/2019</td>\n",
       "      <td>Australia</td>\n",
       "      <td>Nepal</td>\n",
       "      <td>5</td>\n",
       "      <td>0</td>\n",
       "      <td>FIFA World Cup qualification</td>\n",
       "      <td>Canberra</td>\n",
       "      <td>Australia</td>\n",
       "      <td>False</td>\n",
       "      <td>win</td>\n",
       "    </tr>\n",
       "    <tr>\n",
       "      <th>42942</th>\n",
       "      <td>11/11/2021</td>\n",
       "      <td>Australia</td>\n",
       "      <td>Saudi Arabia</td>\n",
       "      <td>0</td>\n",
       "      <td>0</td>\n",
       "      <td>FIFA World Cup qualification</td>\n",
       "      <td>Sydney</td>\n",
       "      <td>Australia</td>\n",
       "      <td>False</td>\n",
       "      <td>draw</td>\n",
       "    </tr>\n",
       "  </tbody>\n",
       "</table>\n",
       "<p>218 rows × 10 columns</p>\n",
       "</div>"
      ],
      "text/plain": [
       "             date  home_team     away_team  home_score  away_score  \\\n",
       "726      6/9/1923  Australia   New Zealand           2           1   \n",
       "729     6/16/1923  Australia   New Zealand           2           3   \n",
       "737     6/30/1923  Australia   New Zealand           1           4   \n",
       "811      6/7/1924  Australia        Canada           3           2   \n",
       "813     6/14/1924  Australia        Canada           0           1   \n",
       "...           ...        ...           ...         ...         ...   \n",
       "39589  11/15/2017  Australia      Honduras           3           1   \n",
       "40453  11/17/2018  Australia   South Korea           1           1   \n",
       "40506  11/20/2018  Australia       Lebanon           3           0   \n",
       "41369  10/10/2019  Australia         Nepal           5           0   \n",
       "42942  11/11/2021  Australia  Saudi Arabia           0           0   \n",
       "\n",
       "                         tournament       city    country  neutral result  \n",
       "726                        Friendly   Brisbane  Australia    False    win  \n",
       "729                        Friendly     Sydney  Australia    False   lose  \n",
       "737                        Friendly  Newcastle  Australia    False   lose  \n",
       "811                        Friendly   Brisbane  Australia    False    win  \n",
       "813                        Friendly     Sydney  Australia    False   lose  \n",
       "...                             ...        ...        ...      ...    ...  \n",
       "39589  FIFA World Cup qualification     Sydney  Australia    False    win  \n",
       "40453                      Friendly   Brisbane  Australia    False   draw  \n",
       "40506                      Friendly     Sydney  Australia    False    win  \n",
       "41369  FIFA World Cup qualification   Canberra  Australia    False    win  \n",
       "42942  FIFA World Cup qualification     Sydney  Australia    False   draw  \n",
       "\n",
       "[218 rows x 10 columns]"
      ]
     },
     "execution_count": 73,
     "metadata": {},
     "output_type": "execute_result"
    }
   ],
   "source": [
    "df_noneutralaustralia"
   ]
  },
  {
   "cell_type": "code",
   "execution_count": 74,
   "id": "9e1779aa",
   "metadata": {},
   "outputs": [
    {
     "data": {
      "text/plain": [
       "Australia    218\n",
       "Name: home_team, dtype: int64"
      ]
     },
     "execution_count": 74,
     "metadata": {},
     "output_type": "execute_result"
    }
   ],
   "source": [
    "df_noneutralaustralia['home_team'].value_counts()"
   ]
  },
  {
   "cell_type": "code",
   "execution_count": 75,
   "id": "e0aa1106",
   "metadata": {},
   "outputs": [
    {
     "data": {
      "text/plain": [
       "New Zealand             29\n",
       "South Africa            13\n",
       "Japan                   10\n",
       "Israel                   8\n",
       "Czechoslovakia           8\n",
       "South Korea              7\n",
       "Canada                   7\n",
       "Tahiti                   6\n",
       "India                    6\n",
       "Greece                   6\n",
       "Iraq                     6\n",
       "Solomon Islands          6\n",
       "Sweden                   5\n",
       "England                  5\n",
       "Indonesia                5\n",
       "Paraguay                 5\n",
       "Fiji                     5\n",
       "Oman                     4\n",
       "Saudi Arabia             4\n",
       "Ghana                    4\n",
       "Kuwait                   4\n",
       "China PR                 4\n",
       "Uruguay                  3\n",
       "Brazil                   3\n",
       "Argentina                3\n",
       "Croatia                  3\n",
       "Hong Kong                3\n",
       "Bulgaria                 3\n",
       "Iran                     3\n",
       "Taiwan                   2\n",
       "United Arab Emirates     2\n",
       "Jordan                   2\n",
       "Thailand                 2\n",
       "Qatar                    2\n",
       "Bahrain                  2\n",
       "Turkey                   2\n",
       "Mexico                   2\n",
       "Northern Ireland         2\n",
       "American Samoa           1\n",
       "Samoa                    1\n",
       "Lebanon                  1\n",
       "Honduras                 1\n",
       "Syria                    1\n",
       "Tajikistan               1\n",
       "Kyrgyzstan               1\n",
       "Bangladesh               1\n",
       "Costa Rica               1\n",
       "Malaysia                 1\n",
       "Colombia                 1\n",
       "Serbia                   1\n",
       "Norway                   1\n",
       "Netherlands              1\n",
       "Uzbekistan               1\n",
       "Chile                    1\n",
       "Cook Islands             1\n",
       "Vanuatu                  1\n",
       "Scotland                 1\n",
       "Tonga                    1\n",
       "France                   1\n",
       "Nepal                    1\n",
       "Name: away_team, dtype: int64"
      ]
     },
     "execution_count": 75,
     "metadata": {},
     "output_type": "execute_result"
    }
   ],
   "source": [
    "df_noneutralaustralia['away_team'].value_counts()"
   ]
  },
  {
   "cell_type": "code",
   "execution_count": 76,
   "id": "51af9929",
   "metadata": {},
   "outputs": [
    {
     "data": {
      "text/plain": [
       "win     0.559633\n",
       "lose    0.247706\n",
       "draw    0.192661\n",
       "Name: result, dtype: float64"
      ]
     },
     "execution_count": 76,
     "metadata": {},
     "output_type": "execute_result"
    }
   ],
   "source": [
    "df_noneutralaustralia['result'].value_counts(normalize=True)"
   ]
  },
  {
   "cell_type": "code",
   "execution_count": 77,
   "id": "d53a2a1f",
   "metadata": {},
   "outputs": [],
   "source": [
    "#win/lose"
   ]
  },
  {
   "cell_type": "code",
   "execution_count": 78,
   "id": "e9242176",
   "metadata": {},
   "outputs": [],
   "source": [
    "prob_australia=0.559633/0.247706"
   ]
  },
  {
   "cell_type": "code",
   "execution_count": 79,
   "id": "0c6380a6",
   "metadata": {},
   "outputs": [
    {
     "data": {
      "text/plain": [
       "2.2592629972628844"
      ]
     },
     "execution_count": 79,
     "metadata": {},
     "output_type": "execute_result"
    }
   ],
   "source": [
    "prob_australia"
   ]
  },
  {
   "cell_type": "markdown",
   "id": "2cc0fb5d",
   "metadata": {},
   "source": [
    "#### Selecting FIFA World Cup qualification matches in Australia"
   ]
  },
  {
   "cell_type": "code",
   "execution_count": 80,
   "id": "07269955",
   "metadata": {},
   "outputs": [],
   "source": [
    "df_noneutralaustralia_fifa=df_noneutralaustralia[df_noneutralaustralia['tournament']=='FIFA World Cup qualification']"
   ]
  },
  {
   "cell_type": "code",
   "execution_count": 81,
   "id": "0b52b7ff",
   "metadata": {},
   "outputs": [
    {
     "data": {
      "text/html": [
       "<div>\n",
       "<style scoped>\n",
       "    .dataframe tbody tr th:only-of-type {\n",
       "        vertical-align: middle;\n",
       "    }\n",
       "\n",
       "    .dataframe tbody tr th {\n",
       "        vertical-align: top;\n",
       "    }\n",
       "\n",
       "    .dataframe thead th {\n",
       "        text-align: right;\n",
       "    }\n",
       "</style>\n",
       "<table border=\"1\" class=\"dataframe\">\n",
       "  <thead>\n",
       "    <tr style=\"text-align: right;\">\n",
       "      <th></th>\n",
       "      <th>date</th>\n",
       "      <th>home_team</th>\n",
       "      <th>away_team</th>\n",
       "      <th>home_score</th>\n",
       "      <th>away_score</th>\n",
       "      <th>tournament</th>\n",
       "      <th>city</th>\n",
       "      <th>country</th>\n",
       "      <th>neutral</th>\n",
       "      <th>result</th>\n",
       "    </tr>\n",
       "  </thead>\n",
       "  <tbody>\n",
       "    <tr>\n",
       "      <th>7408</th>\n",
       "      <td>12/14/1969</td>\n",
       "      <td>Australia</td>\n",
       "      <td>Israel</td>\n",
       "      <td>1</td>\n",
       "      <td>1</td>\n",
       "      <td>FIFA World Cup qualification</td>\n",
       "      <td>Sydney</td>\n",
       "      <td>Australia</td>\n",
       "      <td>False</td>\n",
       "      <td>draw</td>\n",
       "    </tr>\n",
       "    <tr>\n",
       "      <th>8581</th>\n",
       "      <td>3/11/1973</td>\n",
       "      <td>Australia</td>\n",
       "      <td>Iraq</td>\n",
       "      <td>3</td>\n",
       "      <td>1</td>\n",
       "      <td>FIFA World Cup qualification</td>\n",
       "      <td>Sydney</td>\n",
       "      <td>Australia</td>\n",
       "      <td>False</td>\n",
       "      <td>win</td>\n",
       "    </tr>\n",
       "    <tr>\n",
       "      <th>8583</th>\n",
       "      <td>3/13/1973</td>\n",
       "      <td>Australia</td>\n",
       "      <td>Indonesia</td>\n",
       "      <td>2</td>\n",
       "      <td>1</td>\n",
       "      <td>FIFA World Cup qualification</td>\n",
       "      <td>Sydney</td>\n",
       "      <td>Australia</td>\n",
       "      <td>False</td>\n",
       "      <td>win</td>\n",
       "    </tr>\n",
       "    <tr>\n",
       "      <th>8585</th>\n",
       "      <td>3/16/1973</td>\n",
       "      <td>Australia</td>\n",
       "      <td>New Zealand</td>\n",
       "      <td>3</td>\n",
       "      <td>3</td>\n",
       "      <td>FIFA World Cup qualification</td>\n",
       "      <td>Sydney</td>\n",
       "      <td>Australia</td>\n",
       "      <td>False</td>\n",
       "      <td>draw</td>\n",
       "    </tr>\n",
       "    <tr>\n",
       "      <th>8588</th>\n",
       "      <td>3/18/1973</td>\n",
       "      <td>Australia</td>\n",
       "      <td>Iraq</td>\n",
       "      <td>0</td>\n",
       "      <td>0</td>\n",
       "      <td>FIFA World Cup qualification</td>\n",
       "      <td>Melbourne</td>\n",
       "      <td>Australia</td>\n",
       "      <td>False</td>\n",
       "      <td>draw</td>\n",
       "    </tr>\n",
       "    <tr>\n",
       "      <th>...</th>\n",
       "      <td>...</td>\n",
       "      <td>...</td>\n",
       "      <td>...</td>\n",
       "      <td>...</td>\n",
       "      <td>...</td>\n",
       "      <td>...</td>\n",
       "      <td>...</td>\n",
       "      <td>...</td>\n",
       "      <td>...</td>\n",
       "      <td>...</td>\n",
       "    </tr>\n",
       "    <tr>\n",
       "      <th>39335</th>\n",
       "      <td>9/5/2017</td>\n",
       "      <td>Australia</td>\n",
       "      <td>Thailand</td>\n",
       "      <td>2</td>\n",
       "      <td>1</td>\n",
       "      <td>FIFA World Cup qualification</td>\n",
       "      <td>Melbourne</td>\n",
       "      <td>Australia</td>\n",
       "      <td>False</td>\n",
       "      <td>win</td>\n",
       "    </tr>\n",
       "    <tr>\n",
       "      <th>39458</th>\n",
       "      <td>10/10/2017</td>\n",
       "      <td>Australia</td>\n",
       "      <td>Syria</td>\n",
       "      <td>2</td>\n",
       "      <td>1</td>\n",
       "      <td>FIFA World Cup qualification</td>\n",
       "      <td>Sydney</td>\n",
       "      <td>Australia</td>\n",
       "      <td>False</td>\n",
       "      <td>win</td>\n",
       "    </tr>\n",
       "    <tr>\n",
       "      <th>39589</th>\n",
       "      <td>11/15/2017</td>\n",
       "      <td>Australia</td>\n",
       "      <td>Honduras</td>\n",
       "      <td>3</td>\n",
       "      <td>1</td>\n",
       "      <td>FIFA World Cup qualification</td>\n",
       "      <td>Sydney</td>\n",
       "      <td>Australia</td>\n",
       "      <td>False</td>\n",
       "      <td>win</td>\n",
       "    </tr>\n",
       "    <tr>\n",
       "      <th>41369</th>\n",
       "      <td>10/10/2019</td>\n",
       "      <td>Australia</td>\n",
       "      <td>Nepal</td>\n",
       "      <td>5</td>\n",
       "      <td>0</td>\n",
       "      <td>FIFA World Cup qualification</td>\n",
       "      <td>Canberra</td>\n",
       "      <td>Australia</td>\n",
       "      <td>False</td>\n",
       "      <td>win</td>\n",
       "    </tr>\n",
       "    <tr>\n",
       "      <th>42942</th>\n",
       "      <td>11/11/2021</td>\n",
       "      <td>Australia</td>\n",
       "      <td>Saudi Arabia</td>\n",
       "      <td>0</td>\n",
       "      <td>0</td>\n",
       "      <td>FIFA World Cup qualification</td>\n",
       "      <td>Sydney</td>\n",
       "      <td>Australia</td>\n",
       "      <td>False</td>\n",
       "      <td>draw</td>\n",
       "    </tr>\n",
       "  </tbody>\n",
       "</table>\n",
       "<p>75 rows × 10 columns</p>\n",
       "</div>"
      ],
      "text/plain": [
       "             date  home_team     away_team  home_score  away_score  \\\n",
       "7408   12/14/1969  Australia        Israel           1           1   \n",
       "8581    3/11/1973  Australia          Iraq           3           1   \n",
       "8583    3/13/1973  Australia     Indonesia           2           1   \n",
       "8585    3/16/1973  Australia   New Zealand           3           3   \n",
       "8588    3/18/1973  Australia          Iraq           0           0   \n",
       "...           ...        ...           ...         ...         ...   \n",
       "39335    9/5/2017  Australia      Thailand           2           1   \n",
       "39458  10/10/2017  Australia         Syria           2           1   \n",
       "39589  11/15/2017  Australia      Honduras           3           1   \n",
       "41369  10/10/2019  Australia         Nepal           5           0   \n",
       "42942  11/11/2021  Australia  Saudi Arabia           0           0   \n",
       "\n",
       "                         tournament       city    country  neutral result  \n",
       "7408   FIFA World Cup qualification     Sydney  Australia    False   draw  \n",
       "8581   FIFA World Cup qualification     Sydney  Australia    False    win  \n",
       "8583   FIFA World Cup qualification     Sydney  Australia    False    win  \n",
       "8585   FIFA World Cup qualification     Sydney  Australia    False   draw  \n",
       "8588   FIFA World Cup qualification  Melbourne  Australia    False   draw  \n",
       "...                             ...        ...        ...      ...    ...  \n",
       "39335  FIFA World Cup qualification  Melbourne  Australia    False    win  \n",
       "39458  FIFA World Cup qualification     Sydney  Australia    False    win  \n",
       "39589  FIFA World Cup qualification     Sydney  Australia    False    win  \n",
       "41369  FIFA World Cup qualification   Canberra  Australia    False    win  \n",
       "42942  FIFA World Cup qualification     Sydney  Australia    False   draw  \n",
       "\n",
       "[75 rows x 10 columns]"
      ]
     },
     "execution_count": 81,
     "metadata": {},
     "output_type": "execute_result"
    }
   ],
   "source": [
    "df_noneutralaustralia_fifa"
   ]
  },
  {
   "cell_type": "code",
   "execution_count": 82,
   "id": "a3681b68",
   "metadata": {},
   "outputs": [],
   "source": [
    "x=df_noneutralaustralia_fifa['result'].value_counts()"
   ]
  },
  {
   "cell_type": "code",
   "execution_count": 83,
   "id": "4f744190",
   "metadata": {},
   "outputs": [
    {
     "data": {
      "text/plain": [
       "57"
      ]
     },
     "execution_count": 83,
     "metadata": {},
     "output_type": "execute_result"
    }
   ],
   "source": [
    "x[0]"
   ]
  },
  {
   "cell_type": "code",
   "execution_count": 84,
   "id": "059cfd6d",
   "metadata": {},
   "outputs": [],
   "source": [
    "#confidence interval"
   ]
  },
  {
   "cell_type": "code",
   "execution_count": 85,
   "id": "a10eae84",
   "metadata": {},
   "outputs": [],
   "source": [
    "ci_win_australia=proportion_confint(count=x[0],nobs=x.sum(),alpha=(1-.95))"
   ]
  },
  {
   "cell_type": "code",
   "execution_count": 86,
   "id": "2d9641f7",
   "metadata": {},
   "outputs": [
    {
     "data": {
      "text/plain": [
       "(0.6633437645470914, 0.8566562354529086)"
      ]
     },
     "execution_count": 86,
     "metadata": {},
     "output_type": "execute_result"
    }
   ],
   "source": [
    "ci_win_australia"
   ]
  },
  {
   "cell_type": "markdown",
   "id": "f97791cb",
   "metadata": {},
   "source": [
    "#### Country #4 \"Jamaica\""
   ]
  },
  {
   "cell_type": "code",
   "execution_count": 87,
   "id": "33888767",
   "metadata": {},
   "outputs": [],
   "source": [
    "df_noneutraljamaica=df_noneutral[df_noneutral['country']=='Jamaica']"
   ]
  },
  {
   "cell_type": "code",
   "execution_count": 88,
   "id": "35d189e3",
   "metadata": {},
   "outputs": [
    {
     "data": {
      "text/html": [
       "<div>\n",
       "<style scoped>\n",
       "    .dataframe tbody tr th:only-of-type {\n",
       "        vertical-align: middle;\n",
       "    }\n",
       "\n",
       "    .dataframe tbody tr th {\n",
       "        vertical-align: top;\n",
       "    }\n",
       "\n",
       "    .dataframe thead th {\n",
       "        text-align: right;\n",
       "    }\n",
       "</style>\n",
       "<table border=\"1\" class=\"dataframe\">\n",
       "  <thead>\n",
       "    <tr style=\"text-align: right;\">\n",
       "      <th></th>\n",
       "      <th>date</th>\n",
       "      <th>home_team</th>\n",
       "      <th>away_team</th>\n",
       "      <th>home_score</th>\n",
       "      <th>away_score</th>\n",
       "      <th>tournament</th>\n",
       "      <th>city</th>\n",
       "      <th>country</th>\n",
       "      <th>neutral</th>\n",
       "      <th>result</th>\n",
       "    </tr>\n",
       "  </thead>\n",
       "  <tbody>\n",
       "    <tr>\n",
       "      <th>953</th>\n",
       "      <td>3/3/1926</td>\n",
       "      <td>Jamaica</td>\n",
       "      <td>Curaçao</td>\n",
       "      <td>2</td>\n",
       "      <td>0</td>\n",
       "      <td>Friendly</td>\n",
       "      <td>Kingston</td>\n",
       "      <td>Jamaica</td>\n",
       "      <td>False</td>\n",
       "      <td>win</td>\n",
       "    </tr>\n",
       "    <tr>\n",
       "      <th>1025</th>\n",
       "      <td>11/20/1926</td>\n",
       "      <td>Jamaica</td>\n",
       "      <td>Haiti</td>\n",
       "      <td>6</td>\n",
       "      <td>0</td>\n",
       "      <td>Friendly</td>\n",
       "      <td>Kingston</td>\n",
       "      <td>Jamaica</td>\n",
       "      <td>False</td>\n",
       "      <td>win</td>\n",
       "    </tr>\n",
       "    <tr>\n",
       "      <th>1855</th>\n",
       "      <td>12/28/1935</td>\n",
       "      <td>Jamaica</td>\n",
       "      <td>Trinidad and Tobago</td>\n",
       "      <td>2</td>\n",
       "      <td>3</td>\n",
       "      <td>Friendly</td>\n",
       "      <td>Kingston</td>\n",
       "      <td>Jamaica</td>\n",
       "      <td>False</td>\n",
       "      <td>lose</td>\n",
       "    </tr>\n",
       "    <tr>\n",
       "      <th>1857</th>\n",
       "      <td>1/4/1936</td>\n",
       "      <td>Jamaica</td>\n",
       "      <td>Trinidad and Tobago</td>\n",
       "      <td>0</td>\n",
       "      <td>1</td>\n",
       "      <td>Friendly</td>\n",
       "      <td>Kingston</td>\n",
       "      <td>Jamaica</td>\n",
       "      <td>False</td>\n",
       "      <td>lose</td>\n",
       "    </tr>\n",
       "    <tr>\n",
       "      <th>1858</th>\n",
       "      <td>1/11/1936</td>\n",
       "      <td>Jamaica</td>\n",
       "      <td>Trinidad and Tobago</td>\n",
       "      <td>1</td>\n",
       "      <td>2</td>\n",
       "      <td>Friendly</td>\n",
       "      <td>Kingston</td>\n",
       "      <td>Jamaica</td>\n",
       "      <td>False</td>\n",
       "      <td>lose</td>\n",
       "    </tr>\n",
       "    <tr>\n",
       "      <th>...</th>\n",
       "      <td>...</td>\n",
       "      <td>...</td>\n",
       "      <td>...</td>\n",
       "      <td>...</td>\n",
       "      <td>...</td>\n",
       "      <td>...</td>\n",
       "      <td>...</td>\n",
       "      <td>...</td>\n",
       "      <td>...</td>\n",
       "      <td>...</td>\n",
       "    </tr>\n",
       "    <tr>\n",
       "      <th>41410</th>\n",
       "      <td>10/12/2019</td>\n",
       "      <td>Jamaica</td>\n",
       "      <td>Aruba</td>\n",
       "      <td>2</td>\n",
       "      <td>0</td>\n",
       "      <td>CONCACAF Nations League</td>\n",
       "      <td>Kingston</td>\n",
       "      <td>Jamaica</td>\n",
       "      <td>False</td>\n",
       "      <td>win</td>\n",
       "    </tr>\n",
       "    <tr>\n",
       "      <th>41651</th>\n",
       "      <td>11/18/2019</td>\n",
       "      <td>Jamaica</td>\n",
       "      <td>Guyana</td>\n",
       "      <td>1</td>\n",
       "      <td>1</td>\n",
       "      <td>CONCACAF Nations League</td>\n",
       "      <td>Montego Bay</td>\n",
       "      <td>Jamaica</td>\n",
       "      <td>False</td>\n",
       "      <td>draw</td>\n",
       "    </tr>\n",
       "    <tr>\n",
       "      <th>42692</th>\n",
       "      <td>9/5/2021</td>\n",
       "      <td>Jamaica</td>\n",
       "      <td>Panama</td>\n",
       "      <td>0</td>\n",
       "      <td>3</td>\n",
       "      <td>FIFA World Cup qualification</td>\n",
       "      <td>Kingston</td>\n",
       "      <td>Jamaica</td>\n",
       "      <td>False</td>\n",
       "      <td>lose</td>\n",
       "    </tr>\n",
       "    <tr>\n",
       "      <th>42839</th>\n",
       "      <td>10/10/2021</td>\n",
       "      <td>Jamaica</td>\n",
       "      <td>Canada</td>\n",
       "      <td>0</td>\n",
       "      <td>0</td>\n",
       "      <td>FIFA World Cup qualification</td>\n",
       "      <td>Kingston</td>\n",
       "      <td>Jamaica</td>\n",
       "      <td>False</td>\n",
       "      <td>draw</td>\n",
       "    </tr>\n",
       "    <tr>\n",
       "      <th>43049</th>\n",
       "      <td>11/16/2021</td>\n",
       "      <td>Jamaica</td>\n",
       "      <td>United States</td>\n",
       "      <td>1</td>\n",
       "      <td>1</td>\n",
       "      <td>FIFA World Cup qualification</td>\n",
       "      <td>Kingston</td>\n",
       "      <td>Jamaica</td>\n",
       "      <td>False</td>\n",
       "      <td>draw</td>\n",
       "    </tr>\n",
       "  </tbody>\n",
       "</table>\n",
       "<p>221 rows × 10 columns</p>\n",
       "</div>"
      ],
      "text/plain": [
       "             date home_team            away_team  home_score  away_score  \\\n",
       "953      3/3/1926   Jamaica              Curaçao           2           0   \n",
       "1025   11/20/1926   Jamaica                Haiti           6           0   \n",
       "1855   12/28/1935   Jamaica  Trinidad and Tobago           2           3   \n",
       "1857     1/4/1936   Jamaica  Trinidad and Tobago           0           1   \n",
       "1858    1/11/1936   Jamaica  Trinidad and Tobago           1           2   \n",
       "...           ...       ...                  ...         ...         ...   \n",
       "41410  10/12/2019   Jamaica                Aruba           2           0   \n",
       "41651  11/18/2019   Jamaica               Guyana           1           1   \n",
       "42692    9/5/2021   Jamaica               Panama           0           3   \n",
       "42839  10/10/2021   Jamaica               Canada           0           0   \n",
       "43049  11/16/2021   Jamaica        United States           1           1   \n",
       "\n",
       "                         tournament         city  country  neutral result  \n",
       "953                        Friendly     Kingston  Jamaica    False    win  \n",
       "1025                       Friendly     Kingston  Jamaica    False    win  \n",
       "1855                       Friendly     Kingston  Jamaica    False   lose  \n",
       "1857                       Friendly     Kingston  Jamaica    False   lose  \n",
       "1858                       Friendly     Kingston  Jamaica    False   lose  \n",
       "...                             ...          ...      ...      ...    ...  \n",
       "41410       CONCACAF Nations League     Kingston  Jamaica    False    win  \n",
       "41651       CONCACAF Nations League  Montego Bay  Jamaica    False   draw  \n",
       "42692  FIFA World Cup qualification     Kingston  Jamaica    False   lose  \n",
       "42839  FIFA World Cup qualification     Kingston  Jamaica    False   draw  \n",
       "43049  FIFA World Cup qualification     Kingston  Jamaica    False   draw  \n",
       "\n",
       "[221 rows x 10 columns]"
      ]
     },
     "execution_count": 88,
     "metadata": {},
     "output_type": "execute_result"
    }
   ],
   "source": [
    "df_noneutraljamaica"
   ]
  },
  {
   "cell_type": "code",
   "execution_count": 89,
   "id": "b21bd1f6",
   "metadata": {},
   "outputs": [
    {
     "data": {
      "text/plain": [
       "Jamaica    221\n",
       "Name: home_team, dtype: int64"
      ]
     },
     "execution_count": 89,
     "metadata": {},
     "output_type": "execute_result"
    }
   ],
   "source": [
    "df_noneutraljamaica['home_team'].value_counts()"
   ]
  },
  {
   "cell_type": "code",
   "execution_count": 90,
   "id": "3ec28005",
   "metadata": {},
   "outputs": [
    {
     "data": {
      "text/plain": [
       "Trinidad and Tobago                 28\n",
       "Haiti                               26\n",
       "Cuba                                18\n",
       "Costa Rica                          12\n",
       "Canada                              10\n",
       "United States                       10\n",
       "Curaçao                              9\n",
       "El Salvador                          9\n",
       "Panama                               9\n",
       "Honduras                             8\n",
       "Mexico                               7\n",
       "Barbados                             7\n",
       "Saint Lucia                          6\n",
       "Bermuda                              4\n",
       "Guadeloupe                           3\n",
       "Cayman Islands                       3\n",
       "Guatemala                            3\n",
       "Suriname                             3\n",
       "Antigua and Barbuda                  3\n",
       "Venezuela                            3\n",
       "Guyana                               3\n",
       "Saint Kitts and Nevis                3\n",
       "Paraguay                             3\n",
       "Puerto Rico                          3\n",
       "Nigeria                              2\n",
       "Grenada                              2\n",
       "Bahamas                              2\n",
       "Saint Martin                         2\n",
       "Zambia                               2\n",
       "Martinique                           2\n",
       "China PR                             2\n",
       "Uruguay                              2\n",
       "United States Virgin Islands         1\n",
       "Chile                                1\n",
       "Peru                                 1\n",
       "French Guiana                        1\n",
       "Saint Vincent and the Grenadines     1\n",
       "Bulgaria                             1\n",
       "South Africa                         1\n",
       "Sweden                               1\n",
       "Colombia                             1\n",
       "Norway                               1\n",
       "Sint Maarten                         1\n",
       "Aruba                                1\n",
       "Name: away_team, dtype: int64"
      ]
     },
     "execution_count": 90,
     "metadata": {},
     "output_type": "execute_result"
    }
   ],
   "source": [
    "df_noneutraljamaica['away_team'].value_counts()"
   ]
  },
  {
   "cell_type": "code",
   "execution_count": 91,
   "id": "58b282e9",
   "metadata": {},
   "outputs": [
    {
     "data": {
      "text/plain": [
       "win     0.529412\n",
       "draw    0.248869\n",
       "lose    0.221719\n",
       "Name: result, dtype: float64"
      ]
     },
     "execution_count": 91,
     "metadata": {},
     "output_type": "execute_result"
    }
   ],
   "source": [
    "df_noneutraljamaica['result'].value_counts(normalize=True)"
   ]
  },
  {
   "cell_type": "code",
   "execution_count": 92,
   "id": "34d58a76",
   "metadata": {},
   "outputs": [],
   "source": [
    "#win/lose"
   ]
  },
  {
   "cell_type": "code",
   "execution_count": 93,
   "id": "cd6e08e2",
   "metadata": {},
   "outputs": [],
   "source": [
    "prob_jamaica=0.529412/0.248869"
   ]
  },
  {
   "cell_type": "code",
   "execution_count": 94,
   "id": "52a0ab77",
   "metadata": {},
   "outputs": [
    {
     "data": {
      "text/plain": [
       "2.127271777521507"
      ]
     },
     "execution_count": 94,
     "metadata": {},
     "output_type": "execute_result"
    }
   ],
   "source": [
    "prob_jamaica"
   ]
  },
  {
   "cell_type": "markdown",
   "id": "5726bc93",
   "metadata": {},
   "source": [
    "#### Selecting FIFA World Cup qualification matches in Jamaica"
   ]
  },
  {
   "cell_type": "code",
   "execution_count": 95,
   "id": "f52c129b",
   "metadata": {},
   "outputs": [],
   "source": [
    "df_noneutraljamaica_fifa=df_noneutraljamaica[df_noneutraljamaica['tournament']=='FIFA World Cup qualification']"
   ]
  },
  {
   "cell_type": "code",
   "execution_count": 96,
   "id": "ffc49537",
   "metadata": {},
   "outputs": [
    {
     "data": {
      "text/html": [
       "<div>\n",
       "<style scoped>\n",
       "    .dataframe tbody tr th:only-of-type {\n",
       "        vertical-align: middle;\n",
       "    }\n",
       "\n",
       "    .dataframe tbody tr th {\n",
       "        vertical-align: top;\n",
       "    }\n",
       "\n",
       "    .dataframe thead th {\n",
       "        text-align: right;\n",
       "    }\n",
       "</style>\n",
       "<table border=\"1\" class=\"dataframe\">\n",
       "  <thead>\n",
       "    <tr style=\"text-align: right;\">\n",
       "      <th></th>\n",
       "      <th>date</th>\n",
       "      <th>home_team</th>\n",
       "      <th>away_team</th>\n",
       "      <th>home_score</th>\n",
       "      <th>away_score</th>\n",
       "      <th>tournament</th>\n",
       "      <th>city</th>\n",
       "      <th>country</th>\n",
       "      <th>neutral</th>\n",
       "      <th>result</th>\n",
       "    </tr>\n",
       "  </thead>\n",
       "  <tbody>\n",
       "    <tr>\n",
       "      <th>5770</th>\n",
       "      <td>1/16/1965</td>\n",
       "      <td>Jamaica</td>\n",
       "      <td>Cuba</td>\n",
       "      <td>2</td>\n",
       "      <td>0</td>\n",
       "      <td>FIFA World Cup qualification</td>\n",
       "      <td>Kingston</td>\n",
       "      <td>Jamaica</td>\n",
       "      <td>False</td>\n",
       "      <td>win</td>\n",
       "    </tr>\n",
       "    <tr>\n",
       "      <th>5773</th>\n",
       "      <td>1/23/1965</td>\n",
       "      <td>Jamaica</td>\n",
       "      <td>Curaçao</td>\n",
       "      <td>2</td>\n",
       "      <td>0</td>\n",
       "      <td>FIFA World Cup qualification</td>\n",
       "      <td>Kingston</td>\n",
       "      <td>Jamaica</td>\n",
       "      <td>False</td>\n",
       "      <td>win</td>\n",
       "    </tr>\n",
       "    <tr>\n",
       "      <th>5860</th>\n",
       "      <td>5/3/1965</td>\n",
       "      <td>Jamaica</td>\n",
       "      <td>Mexico</td>\n",
       "      <td>2</td>\n",
       "      <td>3</td>\n",
       "      <td>FIFA World Cup qualification</td>\n",
       "      <td>Kingston</td>\n",
       "      <td>Jamaica</td>\n",
       "      <td>False</td>\n",
       "      <td>lose</td>\n",
       "    </tr>\n",
       "    <tr>\n",
       "      <th>5883</th>\n",
       "      <td>5/22/1965</td>\n",
       "      <td>Jamaica</td>\n",
       "      <td>Costa Rica</td>\n",
       "      <td>1</td>\n",
       "      <td>1</td>\n",
       "      <td>FIFA World Cup qualification</td>\n",
       "      <td>Kingston</td>\n",
       "      <td>Jamaica</td>\n",
       "      <td>False</td>\n",
       "      <td>draw</td>\n",
       "    </tr>\n",
       "    <tr>\n",
       "      <th>9897</th>\n",
       "      <td>8/15/1976</td>\n",
       "      <td>Jamaica</td>\n",
       "      <td>Cuba</td>\n",
       "      <td>1</td>\n",
       "      <td>3</td>\n",
       "      <td>FIFA World Cup qualification</td>\n",
       "      <td>Kingston</td>\n",
       "      <td>Jamaica</td>\n",
       "      <td>False</td>\n",
       "      <td>lose</td>\n",
       "    </tr>\n",
       "    <tr>\n",
       "      <th>15056</th>\n",
       "      <td>5/12/1988</td>\n",
       "      <td>Jamaica</td>\n",
       "      <td>Puerto Rico</td>\n",
       "      <td>1</td>\n",
       "      <td>0</td>\n",
       "      <td>FIFA World Cup qualification</td>\n",
       "      <td>Kingston</td>\n",
       "      <td>Jamaica</td>\n",
       "      <td>False</td>\n",
       "      <td>win</td>\n",
       "    </tr>\n",
       "    <tr>\n",
       "      <th>15176</th>\n",
       "      <td>7/24/1988</td>\n",
       "      <td>Jamaica</td>\n",
       "      <td>United States</td>\n",
       "      <td>0</td>\n",
       "      <td>0</td>\n",
       "      <td>FIFA World Cup qualification</td>\n",
       "      <td>Kingston</td>\n",
       "      <td>Jamaica</td>\n",
       "      <td>False</td>\n",
       "      <td>draw</td>\n",
       "    </tr>\n",
       "    <tr>\n",
       "      <th>17053</th>\n",
       "      <td>5/23/1992</td>\n",
       "      <td>Jamaica</td>\n",
       "      <td>Puerto Rico</td>\n",
       "      <td>2</td>\n",
       "      <td>1</td>\n",
       "      <td>FIFA World Cup qualification</td>\n",
       "      <td>Kingston</td>\n",
       "      <td>Jamaica</td>\n",
       "      <td>False</td>\n",
       "      <td>win</td>\n",
       "    </tr>\n",
       "    <tr>\n",
       "      <th>17363</th>\n",
       "      <td>10/18/1992</td>\n",
       "      <td>Jamaica</td>\n",
       "      <td>Canada</td>\n",
       "      <td>1</td>\n",
       "      <td>1</td>\n",
       "      <td>FIFA World Cup qualification</td>\n",
       "      <td>Kingston</td>\n",
       "      <td>Jamaica</td>\n",
       "      <td>False</td>\n",
       "      <td>draw</td>\n",
       "    </tr>\n",
       "    <tr>\n",
       "      <th>17413</th>\n",
       "      <td>11/8/1992</td>\n",
       "      <td>Jamaica</td>\n",
       "      <td>Bermuda</td>\n",
       "      <td>3</td>\n",
       "      <td>2</td>\n",
       "      <td>FIFA World Cup qualification</td>\n",
       "      <td>Kingston</td>\n",
       "      <td>Jamaica</td>\n",
       "      <td>False</td>\n",
       "      <td>win</td>\n",
       "    </tr>\n",
       "    <tr>\n",
       "      <th>17450</th>\n",
       "      <td>11/22/1992</td>\n",
       "      <td>Jamaica</td>\n",
       "      <td>El Salvador</td>\n",
       "      <td>0</td>\n",
       "      <td>2</td>\n",
       "      <td>FIFA World Cup qualification</td>\n",
       "      <td>Kingston</td>\n",
       "      <td>Jamaica</td>\n",
       "      <td>False</td>\n",
       "      <td>lose</td>\n",
       "    </tr>\n",
       "    <tr>\n",
       "      <th>19608</th>\n",
       "      <td>4/21/1996</td>\n",
       "      <td>Jamaica</td>\n",
       "      <td>Suriname</td>\n",
       "      <td>1</td>\n",
       "      <td>0</td>\n",
       "      <td>FIFA World Cup qualification</td>\n",
       "      <td>Kingston</td>\n",
       "      <td>Jamaica</td>\n",
       "      <td>False</td>\n",
       "      <td>win</td>\n",
       "    </tr>\n",
       "    <tr>\n",
       "      <th>19855</th>\n",
       "      <td>6/30/1996</td>\n",
       "      <td>Jamaica</td>\n",
       "      <td>Barbados</td>\n",
       "      <td>2</td>\n",
       "      <td>0</td>\n",
       "      <td>FIFA World Cup qualification</td>\n",
       "      <td>Kingston</td>\n",
       "      <td>Jamaica</td>\n",
       "      <td>False</td>\n",
       "      <td>win</td>\n",
       "    </tr>\n",
       "    <tr>\n",
       "      <th>19998</th>\n",
       "      <td>9/15/1996</td>\n",
       "      <td>Jamaica</td>\n",
       "      <td>Honduras</td>\n",
       "      <td>3</td>\n",
       "      <td>0</td>\n",
       "      <td>FIFA World Cup qualification</td>\n",
       "      <td>Kingston</td>\n",
       "      <td>Jamaica</td>\n",
       "      <td>False</td>\n",
       "      <td>win</td>\n",
       "    </tr>\n",
       "    <tr>\n",
       "      <th>20178</th>\n",
       "      <td>11/17/1996</td>\n",
       "      <td>Jamaica</td>\n",
       "      <td>Mexico</td>\n",
       "      <td>1</td>\n",
       "      <td>0</td>\n",
       "      <td>FIFA World Cup qualification</td>\n",
       "      <td>Kingston</td>\n",
       "      <td>Jamaica</td>\n",
       "      <td>False</td>\n",
       "      <td>win</td>\n",
       "    </tr>\n",
       "    <tr>\n",
       "      <th>20392</th>\n",
       "      <td>3/2/1997</td>\n",
       "      <td>Jamaica</td>\n",
       "      <td>United States</td>\n",
       "      <td>0</td>\n",
       "      <td>0</td>\n",
       "      <td>FIFA World Cup qualification</td>\n",
       "      <td>Kingston</td>\n",
       "      <td>Jamaica</td>\n",
       "      <td>False</td>\n",
       "      <td>draw</td>\n",
       "    </tr>\n",
       "    <tr>\n",
       "      <th>20604</th>\n",
       "      <td>5/18/1997</td>\n",
       "      <td>Jamaica</td>\n",
       "      <td>El Salvador</td>\n",
       "      <td>1</td>\n",
       "      <td>0</td>\n",
       "      <td>FIFA World Cup qualification</td>\n",
       "      <td>Kingston</td>\n",
       "      <td>Jamaica</td>\n",
       "      <td>False</td>\n",
       "      <td>win</td>\n",
       "    </tr>\n",
       "    <tr>\n",
       "      <th>20920</th>\n",
       "      <td>9/7/1997</td>\n",
       "      <td>Jamaica</td>\n",
       "      <td>Canada</td>\n",
       "      <td>1</td>\n",
       "      <td>0</td>\n",
       "      <td>FIFA World Cup qualification</td>\n",
       "      <td>Kingston</td>\n",
       "      <td>Jamaica</td>\n",
       "      <td>False</td>\n",
       "      <td>win</td>\n",
       "    </tr>\n",
       "    <tr>\n",
       "      <th>20956</th>\n",
       "      <td>9/14/1997</td>\n",
       "      <td>Jamaica</td>\n",
       "      <td>Costa Rica</td>\n",
       "      <td>1</td>\n",
       "      <td>0</td>\n",
       "      <td>FIFA World Cup qualification</td>\n",
       "      <td>Kingston</td>\n",
       "      <td>Jamaica</td>\n",
       "      <td>False</td>\n",
       "      <td>win</td>\n",
       "    </tr>\n",
       "    <tr>\n",
       "      <th>21074</th>\n",
       "      <td>11/16/1997</td>\n",
       "      <td>Jamaica</td>\n",
       "      <td>Mexico</td>\n",
       "      <td>0</td>\n",
       "      <td>0</td>\n",
       "      <td>FIFA World Cup qualification</td>\n",
       "      <td>Kingston</td>\n",
       "      <td>Jamaica</td>\n",
       "      <td>False</td>\n",
       "      <td>draw</td>\n",
       "    </tr>\n",
       "    <tr>\n",
       "      <th>23264</th>\n",
       "      <td>7/23/2000</td>\n",
       "      <td>Jamaica</td>\n",
       "      <td>Honduras</td>\n",
       "      <td>3</td>\n",
       "      <td>1</td>\n",
       "      <td>FIFA World Cup qualification</td>\n",
       "      <td>Kingston</td>\n",
       "      <td>Jamaica</td>\n",
       "      <td>False</td>\n",
       "      <td>win</td>\n",
       "    </tr>\n",
       "    <tr>\n",
       "      <th>23310</th>\n",
       "      <td>8/16/2000</td>\n",
       "      <td>Jamaica</td>\n",
       "      <td>El Salvador</td>\n",
       "      <td>1</td>\n",
       "      <td>0</td>\n",
       "      <td>FIFA World Cup qualification</td>\n",
       "      <td>Kingston</td>\n",
       "      <td>Jamaica</td>\n",
       "      <td>False</td>\n",
       "      <td>win</td>\n",
       "    </tr>\n",
       "    <tr>\n",
       "      <th>23760</th>\n",
       "      <td>2/28/2001</td>\n",
       "      <td>Jamaica</td>\n",
       "      <td>Trinidad and Tobago</td>\n",
       "      <td>1</td>\n",
       "      <td>0</td>\n",
       "      <td>FIFA World Cup qualification</td>\n",
       "      <td>Kingston</td>\n",
       "      <td>Jamaica</td>\n",
       "      <td>False</td>\n",
       "      <td>win</td>\n",
       "    </tr>\n",
       "    <tr>\n",
       "      <th>23980</th>\n",
       "      <td>4/25/2001</td>\n",
       "      <td>Jamaica</td>\n",
       "      <td>Honduras</td>\n",
       "      <td>1</td>\n",
       "      <td>1</td>\n",
       "      <td>FIFA World Cup qualification</td>\n",
       "      <td>Kingston</td>\n",
       "      <td>Jamaica</td>\n",
       "      <td>False</td>\n",
       "      <td>draw</td>\n",
       "    </tr>\n",
       "    <tr>\n",
       "      <th>24193</th>\n",
       "      <td>6/16/2001</td>\n",
       "      <td>Jamaica</td>\n",
       "      <td>United States</td>\n",
       "      <td>0</td>\n",
       "      <td>0</td>\n",
       "      <td>FIFA World Cup qualification</td>\n",
       "      <td>Kingston</td>\n",
       "      <td>Jamaica</td>\n",
       "      <td>False</td>\n",
       "      <td>draw</td>\n",
       "    </tr>\n",
       "    <tr>\n",
       "      <th>24410</th>\n",
       "      <td>9/2/2001</td>\n",
       "      <td>Jamaica</td>\n",
       "      <td>Mexico</td>\n",
       "      <td>1</td>\n",
       "      <td>2</td>\n",
       "      <td>FIFA World Cup qualification</td>\n",
       "      <td>Kingston</td>\n",
       "      <td>Jamaica</td>\n",
       "      <td>False</td>\n",
       "      <td>lose</td>\n",
       "    </tr>\n",
       "    <tr>\n",
       "      <th>24550</th>\n",
       "      <td>11/11/2001</td>\n",
       "      <td>Jamaica</td>\n",
       "      <td>Costa Rica</td>\n",
       "      <td>0</td>\n",
       "      <td>1</td>\n",
       "      <td>FIFA World Cup qualification</td>\n",
       "      <td>Kingston</td>\n",
       "      <td>Jamaica</td>\n",
       "      <td>False</td>\n",
       "      <td>lose</td>\n",
       "    </tr>\n",
       "    <tr>\n",
       "      <th>26816</th>\n",
       "      <td>6/20/2004</td>\n",
       "      <td>Jamaica</td>\n",
       "      <td>Haiti</td>\n",
       "      <td>3</td>\n",
       "      <td>0</td>\n",
       "      <td>FIFA World Cup qualification</td>\n",
       "      <td>Kingston</td>\n",
       "      <td>Jamaica</td>\n",
       "      <td>False</td>\n",
       "      <td>win</td>\n",
       "    </tr>\n",
       "    <tr>\n",
       "      <th>26956</th>\n",
       "      <td>8/18/2004</td>\n",
       "      <td>Jamaica</td>\n",
       "      <td>United States</td>\n",
       "      <td>1</td>\n",
       "      <td>1</td>\n",
       "      <td>FIFA World Cup qualification</td>\n",
       "      <td>Kingston</td>\n",
       "      <td>Jamaica</td>\n",
       "      <td>False</td>\n",
       "      <td>draw</td>\n",
       "    </tr>\n",
       "    <tr>\n",
       "      <th>27008</th>\n",
       "      <td>9/4/2004</td>\n",
       "      <td>Jamaica</td>\n",
       "      <td>Panama</td>\n",
       "      <td>1</td>\n",
       "      <td>2</td>\n",
       "      <td>FIFA World Cup qualification</td>\n",
       "      <td>Kingston</td>\n",
       "      <td>Jamaica</td>\n",
       "      <td>False</td>\n",
       "      <td>lose</td>\n",
       "    </tr>\n",
       "    <tr>\n",
       "      <th>27166</th>\n",
       "      <td>10/13/2004</td>\n",
       "      <td>Jamaica</td>\n",
       "      <td>El Salvador</td>\n",
       "      <td>0</td>\n",
       "      <td>0</td>\n",
       "      <td>FIFA World Cup qualification</td>\n",
       "      <td>Kingston</td>\n",
       "      <td>Jamaica</td>\n",
       "      <td>False</td>\n",
       "      <td>draw</td>\n",
       "    </tr>\n",
       "    <tr>\n",
       "      <th>30485</th>\n",
       "      <td>6/15/2008</td>\n",
       "      <td>Jamaica</td>\n",
       "      <td>Bahamas</td>\n",
       "      <td>7</td>\n",
       "      <td>0</td>\n",
       "      <td>FIFA World Cup qualification</td>\n",
       "      <td>Kingston</td>\n",
       "      <td>Jamaica</td>\n",
       "      <td>False</td>\n",
       "      <td>win</td>\n",
       "    </tr>\n",
       "    <tr>\n",
       "      <th>30507</th>\n",
       "      <td>6/18/2008</td>\n",
       "      <td>Jamaica</td>\n",
       "      <td>Bahamas</td>\n",
       "      <td>6</td>\n",
       "      <td>0</td>\n",
       "      <td>FIFA World Cup qualification</td>\n",
       "      <td>Falmouth</td>\n",
       "      <td>Jamaica</td>\n",
       "      <td>False</td>\n",
       "      <td>win</td>\n",
       "    </tr>\n",
       "    <tr>\n",
       "      <th>30860</th>\n",
       "      <td>10/11/2008</td>\n",
       "      <td>Jamaica</td>\n",
       "      <td>Mexico</td>\n",
       "      <td>1</td>\n",
       "      <td>0</td>\n",
       "      <td>FIFA World Cup qualification</td>\n",
       "      <td>Kingston</td>\n",
       "      <td>Jamaica</td>\n",
       "      <td>False</td>\n",
       "      <td>win</td>\n",
       "    </tr>\n",
       "    <tr>\n",
       "      <th>30925</th>\n",
       "      <td>10/15/2008</td>\n",
       "      <td>Jamaica</td>\n",
       "      <td>Honduras</td>\n",
       "      <td>1</td>\n",
       "      <td>0</td>\n",
       "      <td>FIFA World Cup qualification</td>\n",
       "      <td>Kingston</td>\n",
       "      <td>Jamaica</td>\n",
       "      <td>False</td>\n",
       "      <td>win</td>\n",
       "    </tr>\n",
       "    <tr>\n",
       "      <th>31005</th>\n",
       "      <td>11/19/2008</td>\n",
       "      <td>Jamaica</td>\n",
       "      <td>Canada</td>\n",
       "      <td>3</td>\n",
       "      <td>0</td>\n",
       "      <td>FIFA World Cup qualification</td>\n",
       "      <td>Kingston</td>\n",
       "      <td>Jamaica</td>\n",
       "      <td>False</td>\n",
       "      <td>win</td>\n",
       "    </tr>\n",
       "    <tr>\n",
       "      <th>34270</th>\n",
       "      <td>6/8/2012</td>\n",
       "      <td>Jamaica</td>\n",
       "      <td>Guatemala</td>\n",
       "      <td>2</td>\n",
       "      <td>1</td>\n",
       "      <td>FIFA World Cup qualification</td>\n",
       "      <td>Kingston</td>\n",
       "      <td>Jamaica</td>\n",
       "      <td>False</td>\n",
       "      <td>win</td>\n",
       "    </tr>\n",
       "    <tr>\n",
       "      <th>34499</th>\n",
       "      <td>9/7/2012</td>\n",
       "      <td>Jamaica</td>\n",
       "      <td>United States</td>\n",
       "      <td>2</td>\n",
       "      <td>1</td>\n",
       "      <td>FIFA World Cup qualification</td>\n",
       "      <td>Kingston</td>\n",
       "      <td>Jamaica</td>\n",
       "      <td>False</td>\n",
       "      <td>win</td>\n",
       "    </tr>\n",
       "    <tr>\n",
       "      <th>34714</th>\n",
       "      <td>10/16/2012</td>\n",
       "      <td>Jamaica</td>\n",
       "      <td>Antigua and Barbuda</td>\n",
       "      <td>4</td>\n",
       "      <td>1</td>\n",
       "      <td>FIFA World Cup qualification</td>\n",
       "      <td>Kingston</td>\n",
       "      <td>Jamaica</td>\n",
       "      <td>False</td>\n",
       "      <td>win</td>\n",
       "    </tr>\n",
       "    <tr>\n",
       "      <th>35140</th>\n",
       "      <td>3/22/2013</td>\n",
       "      <td>Jamaica</td>\n",
       "      <td>Panama</td>\n",
       "      <td>1</td>\n",
       "      <td>1</td>\n",
       "      <td>FIFA World Cup qualification</td>\n",
       "      <td>Kingston</td>\n",
       "      <td>Jamaica</td>\n",
       "      <td>False</td>\n",
       "      <td>draw</td>\n",
       "    </tr>\n",
       "    <tr>\n",
       "      <th>35273</th>\n",
       "      <td>6/4/2013</td>\n",
       "      <td>Jamaica</td>\n",
       "      <td>Mexico</td>\n",
       "      <td>0</td>\n",
       "      <td>1</td>\n",
       "      <td>FIFA World Cup qualification</td>\n",
       "      <td>Kingston</td>\n",
       "      <td>Jamaica</td>\n",
       "      <td>False</td>\n",
       "      <td>lose</td>\n",
       "    </tr>\n",
       "    <tr>\n",
       "      <th>35303</th>\n",
       "      <td>6/7/2013</td>\n",
       "      <td>Jamaica</td>\n",
       "      <td>United States</td>\n",
       "      <td>1</td>\n",
       "      <td>2</td>\n",
       "      <td>FIFA World Cup qualification</td>\n",
       "      <td>Kingston</td>\n",
       "      <td>Jamaica</td>\n",
       "      <td>False</td>\n",
       "      <td>lose</td>\n",
       "    </tr>\n",
       "    <tr>\n",
       "      <th>35649</th>\n",
       "      <td>9/10/2013</td>\n",
       "      <td>Jamaica</td>\n",
       "      <td>Costa Rica</td>\n",
       "      <td>1</td>\n",
       "      <td>1</td>\n",
       "      <td>FIFA World Cup qualification</td>\n",
       "      <td>Kingston</td>\n",
       "      <td>Jamaica</td>\n",
       "      <td>False</td>\n",
       "      <td>draw</td>\n",
       "    </tr>\n",
       "    <tr>\n",
       "      <th>35745</th>\n",
       "      <td>10/15/2013</td>\n",
       "      <td>Jamaica</td>\n",
       "      <td>Honduras</td>\n",
       "      <td>2</td>\n",
       "      <td>2</td>\n",
       "      <td>FIFA World Cup qualification</td>\n",
       "      <td>Kingston</td>\n",
       "      <td>Jamaica</td>\n",
       "      <td>False</td>\n",
       "      <td>draw</td>\n",
       "    </tr>\n",
       "    <tr>\n",
       "      <th>37891</th>\n",
       "      <td>3/25/2016</td>\n",
       "      <td>Jamaica</td>\n",
       "      <td>Costa Rica</td>\n",
       "      <td>1</td>\n",
       "      <td>1</td>\n",
       "      <td>FIFA World Cup qualification</td>\n",
       "      <td>Kingston</td>\n",
       "      <td>Jamaica</td>\n",
       "      <td>False</td>\n",
       "      <td>draw</td>\n",
       "    </tr>\n",
       "    <tr>\n",
       "      <th>38403</th>\n",
       "      <td>9/6/2016</td>\n",
       "      <td>Jamaica</td>\n",
       "      <td>Haiti</td>\n",
       "      <td>0</td>\n",
       "      <td>2</td>\n",
       "      <td>FIFA World Cup qualification</td>\n",
       "      <td>Kingston</td>\n",
       "      <td>Jamaica</td>\n",
       "      <td>False</td>\n",
       "      <td>lose</td>\n",
       "    </tr>\n",
       "    <tr>\n",
       "      <th>42692</th>\n",
       "      <td>9/5/2021</td>\n",
       "      <td>Jamaica</td>\n",
       "      <td>Panama</td>\n",
       "      <td>0</td>\n",
       "      <td>3</td>\n",
       "      <td>FIFA World Cup qualification</td>\n",
       "      <td>Kingston</td>\n",
       "      <td>Jamaica</td>\n",
       "      <td>False</td>\n",
       "      <td>lose</td>\n",
       "    </tr>\n",
       "    <tr>\n",
       "      <th>42839</th>\n",
       "      <td>10/10/2021</td>\n",
       "      <td>Jamaica</td>\n",
       "      <td>Canada</td>\n",
       "      <td>0</td>\n",
       "      <td>0</td>\n",
       "      <td>FIFA World Cup qualification</td>\n",
       "      <td>Kingston</td>\n",
       "      <td>Jamaica</td>\n",
       "      <td>False</td>\n",
       "      <td>draw</td>\n",
       "    </tr>\n",
       "    <tr>\n",
       "      <th>43049</th>\n",
       "      <td>11/16/2021</td>\n",
       "      <td>Jamaica</td>\n",
       "      <td>United States</td>\n",
       "      <td>1</td>\n",
       "      <td>1</td>\n",
       "      <td>FIFA World Cup qualification</td>\n",
       "      <td>Kingston</td>\n",
       "      <td>Jamaica</td>\n",
       "      <td>False</td>\n",
       "      <td>draw</td>\n",
       "    </tr>\n",
       "  </tbody>\n",
       "</table>\n",
       "</div>"
      ],
      "text/plain": [
       "             date home_team            away_team  home_score  away_score  \\\n",
       "5770    1/16/1965   Jamaica                 Cuba           2           0   \n",
       "5773    1/23/1965   Jamaica              Curaçao           2           0   \n",
       "5860     5/3/1965   Jamaica               Mexico           2           3   \n",
       "5883    5/22/1965   Jamaica           Costa Rica           1           1   \n",
       "9897    8/15/1976   Jamaica                 Cuba           1           3   \n",
       "15056   5/12/1988   Jamaica          Puerto Rico           1           0   \n",
       "15176   7/24/1988   Jamaica        United States           0           0   \n",
       "17053   5/23/1992   Jamaica          Puerto Rico           2           1   \n",
       "17363  10/18/1992   Jamaica               Canada           1           1   \n",
       "17413   11/8/1992   Jamaica              Bermuda           3           2   \n",
       "17450  11/22/1992   Jamaica          El Salvador           0           2   \n",
       "19608   4/21/1996   Jamaica             Suriname           1           0   \n",
       "19855   6/30/1996   Jamaica             Barbados           2           0   \n",
       "19998   9/15/1996   Jamaica             Honduras           3           0   \n",
       "20178  11/17/1996   Jamaica               Mexico           1           0   \n",
       "20392    3/2/1997   Jamaica        United States           0           0   \n",
       "20604   5/18/1997   Jamaica          El Salvador           1           0   \n",
       "20920    9/7/1997   Jamaica               Canada           1           0   \n",
       "20956   9/14/1997   Jamaica           Costa Rica           1           0   \n",
       "21074  11/16/1997   Jamaica               Mexico           0           0   \n",
       "23264   7/23/2000   Jamaica             Honduras           3           1   \n",
       "23310   8/16/2000   Jamaica          El Salvador           1           0   \n",
       "23760   2/28/2001   Jamaica  Trinidad and Tobago           1           0   \n",
       "23980   4/25/2001   Jamaica             Honduras           1           1   \n",
       "24193   6/16/2001   Jamaica        United States           0           0   \n",
       "24410    9/2/2001   Jamaica               Mexico           1           2   \n",
       "24550  11/11/2001   Jamaica           Costa Rica           0           1   \n",
       "26816   6/20/2004   Jamaica                Haiti           3           0   \n",
       "26956   8/18/2004   Jamaica        United States           1           1   \n",
       "27008    9/4/2004   Jamaica               Panama           1           2   \n",
       "27166  10/13/2004   Jamaica          El Salvador           0           0   \n",
       "30485   6/15/2008   Jamaica              Bahamas           7           0   \n",
       "30507   6/18/2008   Jamaica              Bahamas           6           0   \n",
       "30860  10/11/2008   Jamaica               Mexico           1           0   \n",
       "30925  10/15/2008   Jamaica             Honduras           1           0   \n",
       "31005  11/19/2008   Jamaica               Canada           3           0   \n",
       "34270    6/8/2012   Jamaica            Guatemala           2           1   \n",
       "34499    9/7/2012   Jamaica        United States           2           1   \n",
       "34714  10/16/2012   Jamaica  Antigua and Barbuda           4           1   \n",
       "35140   3/22/2013   Jamaica               Panama           1           1   \n",
       "35273    6/4/2013   Jamaica               Mexico           0           1   \n",
       "35303    6/7/2013   Jamaica        United States           1           2   \n",
       "35649   9/10/2013   Jamaica           Costa Rica           1           1   \n",
       "35745  10/15/2013   Jamaica             Honduras           2           2   \n",
       "37891   3/25/2016   Jamaica           Costa Rica           1           1   \n",
       "38403    9/6/2016   Jamaica                Haiti           0           2   \n",
       "42692    9/5/2021   Jamaica               Panama           0           3   \n",
       "42839  10/10/2021   Jamaica               Canada           0           0   \n",
       "43049  11/16/2021   Jamaica        United States           1           1   \n",
       "\n",
       "                         tournament      city  country  neutral result  \n",
       "5770   FIFA World Cup qualification  Kingston  Jamaica    False    win  \n",
       "5773   FIFA World Cup qualification  Kingston  Jamaica    False    win  \n",
       "5860   FIFA World Cup qualification  Kingston  Jamaica    False   lose  \n",
       "5883   FIFA World Cup qualification  Kingston  Jamaica    False   draw  \n",
       "9897   FIFA World Cup qualification  Kingston  Jamaica    False   lose  \n",
       "15056  FIFA World Cup qualification  Kingston  Jamaica    False    win  \n",
       "15176  FIFA World Cup qualification  Kingston  Jamaica    False   draw  \n",
       "17053  FIFA World Cup qualification  Kingston  Jamaica    False    win  \n",
       "17363  FIFA World Cup qualification  Kingston  Jamaica    False   draw  \n",
       "17413  FIFA World Cup qualification  Kingston  Jamaica    False    win  \n",
       "17450  FIFA World Cup qualification  Kingston  Jamaica    False   lose  \n",
       "19608  FIFA World Cup qualification  Kingston  Jamaica    False    win  \n",
       "19855  FIFA World Cup qualification  Kingston  Jamaica    False    win  \n",
       "19998  FIFA World Cup qualification  Kingston  Jamaica    False    win  \n",
       "20178  FIFA World Cup qualification  Kingston  Jamaica    False    win  \n",
       "20392  FIFA World Cup qualification  Kingston  Jamaica    False   draw  \n",
       "20604  FIFA World Cup qualification  Kingston  Jamaica    False    win  \n",
       "20920  FIFA World Cup qualification  Kingston  Jamaica    False    win  \n",
       "20956  FIFA World Cup qualification  Kingston  Jamaica    False    win  \n",
       "21074  FIFA World Cup qualification  Kingston  Jamaica    False   draw  \n",
       "23264  FIFA World Cup qualification  Kingston  Jamaica    False    win  \n",
       "23310  FIFA World Cup qualification  Kingston  Jamaica    False    win  \n",
       "23760  FIFA World Cup qualification  Kingston  Jamaica    False    win  \n",
       "23980  FIFA World Cup qualification  Kingston  Jamaica    False   draw  \n",
       "24193  FIFA World Cup qualification  Kingston  Jamaica    False   draw  \n",
       "24410  FIFA World Cup qualification  Kingston  Jamaica    False   lose  \n",
       "24550  FIFA World Cup qualification  Kingston  Jamaica    False   lose  \n",
       "26816  FIFA World Cup qualification  Kingston  Jamaica    False    win  \n",
       "26956  FIFA World Cup qualification  Kingston  Jamaica    False   draw  \n",
       "27008  FIFA World Cup qualification  Kingston  Jamaica    False   lose  \n",
       "27166  FIFA World Cup qualification  Kingston  Jamaica    False   draw  \n",
       "30485  FIFA World Cup qualification  Kingston  Jamaica    False    win  \n",
       "30507  FIFA World Cup qualification  Falmouth  Jamaica    False    win  \n",
       "30860  FIFA World Cup qualification  Kingston  Jamaica    False    win  \n",
       "30925  FIFA World Cup qualification  Kingston  Jamaica    False    win  \n",
       "31005  FIFA World Cup qualification  Kingston  Jamaica    False    win  \n",
       "34270  FIFA World Cup qualification  Kingston  Jamaica    False    win  \n",
       "34499  FIFA World Cup qualification  Kingston  Jamaica    False    win  \n",
       "34714  FIFA World Cup qualification  Kingston  Jamaica    False    win  \n",
       "35140  FIFA World Cup qualification  Kingston  Jamaica    False   draw  \n",
       "35273  FIFA World Cup qualification  Kingston  Jamaica    False   lose  \n",
       "35303  FIFA World Cup qualification  Kingston  Jamaica    False   lose  \n",
       "35649  FIFA World Cup qualification  Kingston  Jamaica    False   draw  \n",
       "35745  FIFA World Cup qualification  Kingston  Jamaica    False   draw  \n",
       "37891  FIFA World Cup qualification  Kingston  Jamaica    False   draw  \n",
       "38403  FIFA World Cup qualification  Kingston  Jamaica    False   lose  \n",
       "42692  FIFA World Cup qualification  Kingston  Jamaica    False   lose  \n",
       "42839  FIFA World Cup qualification  Kingston  Jamaica    False   draw  \n",
       "43049  FIFA World Cup qualification  Kingston  Jamaica    False   draw  "
      ]
     },
     "execution_count": 96,
     "metadata": {},
     "output_type": "execute_result"
    }
   ],
   "source": [
    "df_noneutraljamaica_fifa"
   ]
  },
  {
   "cell_type": "code",
   "execution_count": 97,
   "id": "62eb18e0",
   "metadata": {},
   "outputs": [],
   "source": [
    "x=df_noneutraljamaica_fifa['result'].value_counts()"
   ]
  },
  {
   "cell_type": "code",
   "execution_count": 98,
   "id": "6a622bd5",
   "metadata": {},
   "outputs": [
    {
     "data": {
      "text/plain": [
       "24"
      ]
     },
     "execution_count": 98,
     "metadata": {},
     "output_type": "execute_result"
    }
   ],
   "source": [
    "x[0]"
   ]
  },
  {
   "cell_type": "code",
   "execution_count": 99,
   "id": "d6a830bf",
   "metadata": {},
   "outputs": [],
   "source": [
    "#confidence interval"
   ]
  },
  {
   "cell_type": "code",
   "execution_count": 100,
   "id": "396e2012",
   "metadata": {},
   "outputs": [],
   "source": [
    "ci_win_jamaica=proportion_confint(count=x[0],nobs=x.sum(),alpha=(1-.95))"
   ]
  },
  {
   "cell_type": "code",
   "execution_count": 101,
   "id": "c4a9f03d",
   "metadata": {},
   "outputs": [
    {
     "data": {
      "text/plain": [
       "(0.34982764791967025, 0.6297641888150236)"
      ]
     },
     "execution_count": 101,
     "metadata": {},
     "output_type": "execute_result"
    }
   ],
   "source": [
    "ci_win_jamaica"
   ]
  },
  {
   "cell_type": "markdown",
   "id": "a903cd1d",
   "metadata": {},
   "source": [
    "#### Country #5 \"Peru\""
   ]
  },
  {
   "cell_type": "code",
   "execution_count": 102,
   "id": "878eeba9",
   "metadata": {},
   "outputs": [],
   "source": [
    "df_noneutralperu=df_noneutral[df_noneutral['country']=='Peru']"
   ]
  },
  {
   "cell_type": "code",
   "execution_count": 103,
   "id": "1463f5fc",
   "metadata": {},
   "outputs": [
    {
     "data": {
      "text/html": [
       "<div>\n",
       "<style scoped>\n",
       "    .dataframe tbody tr th:only-of-type {\n",
       "        vertical-align: middle;\n",
       "    }\n",
       "\n",
       "    .dataframe tbody tr th {\n",
       "        vertical-align: top;\n",
       "    }\n",
       "\n",
       "    .dataframe thead th {\n",
       "        text-align: right;\n",
       "    }\n",
       "</style>\n",
       "<table border=\"1\" class=\"dataframe\">\n",
       "  <thead>\n",
       "    <tr style=\"text-align: right;\">\n",
       "      <th></th>\n",
       "      <th>date</th>\n",
       "      <th>home_team</th>\n",
       "      <th>away_team</th>\n",
       "      <th>home_score</th>\n",
       "      <th>away_score</th>\n",
       "      <th>tournament</th>\n",
       "      <th>city</th>\n",
       "      <th>country</th>\n",
       "      <th>neutral</th>\n",
       "      <th>result</th>\n",
       "    </tr>\n",
       "  </thead>\n",
       "  <tbody>\n",
       "    <tr>\n",
       "      <th>1096</th>\n",
       "      <td>11/1/1927</td>\n",
       "      <td>Peru</td>\n",
       "      <td>Uruguay</td>\n",
       "      <td>0</td>\n",
       "      <td>4</td>\n",
       "      <td>Copa América</td>\n",
       "      <td>Lima</td>\n",
       "      <td>Peru</td>\n",
       "      <td>False</td>\n",
       "      <td>lose</td>\n",
       "    </tr>\n",
       "    <tr>\n",
       "      <th>1103</th>\n",
       "      <td>11/13/1927</td>\n",
       "      <td>Peru</td>\n",
       "      <td>Bolivia</td>\n",
       "      <td>3</td>\n",
       "      <td>2</td>\n",
       "      <td>Copa América</td>\n",
       "      <td>Lima</td>\n",
       "      <td>Peru</td>\n",
       "      <td>False</td>\n",
       "      <td>win</td>\n",
       "    </tr>\n",
       "    <tr>\n",
       "      <th>1106</th>\n",
       "      <td>11/27/1927</td>\n",
       "      <td>Peru</td>\n",
       "      <td>Argentina</td>\n",
       "      <td>1</td>\n",
       "      <td>5</td>\n",
       "      <td>Copa América</td>\n",
       "      <td>Lima</td>\n",
       "      <td>Peru</td>\n",
       "      <td>False</td>\n",
       "      <td>lose</td>\n",
       "    </tr>\n",
       "    <tr>\n",
       "      <th>1757</th>\n",
       "      <td>1/13/1935</td>\n",
       "      <td>Peru</td>\n",
       "      <td>Uruguay</td>\n",
       "      <td>0</td>\n",
       "      <td>1</td>\n",
       "      <td>Copa América</td>\n",
       "      <td>Lima</td>\n",
       "      <td>Peru</td>\n",
       "      <td>False</td>\n",
       "      <td>lose</td>\n",
       "    </tr>\n",
       "    <tr>\n",
       "      <th>1759</th>\n",
       "      <td>1/20/1935</td>\n",
       "      <td>Peru</td>\n",
       "      <td>Argentina</td>\n",
       "      <td>1</td>\n",
       "      <td>4</td>\n",
       "      <td>Copa América</td>\n",
       "      <td>Lima</td>\n",
       "      <td>Peru</td>\n",
       "      <td>False</td>\n",
       "      <td>lose</td>\n",
       "    </tr>\n",
       "    <tr>\n",
       "      <th>...</th>\n",
       "      <td>...</td>\n",
       "      <td>...</td>\n",
       "      <td>...</td>\n",
       "      <td>...</td>\n",
       "      <td>...</td>\n",
       "      <td>...</td>\n",
       "      <td>...</td>\n",
       "      <td>...</td>\n",
       "      <td>...</td>\n",
       "      <td>...</td>\n",
       "    </tr>\n",
       "    <tr>\n",
       "      <th>42689</th>\n",
       "      <td>9/5/2021</td>\n",
       "      <td>Peru</td>\n",
       "      <td>Venezuela</td>\n",
       "      <td>1</td>\n",
       "      <td>0</td>\n",
       "      <td>FIFA World Cup qualification</td>\n",
       "      <td>Lima</td>\n",
       "      <td>Peru</td>\n",
       "      <td>False</td>\n",
       "      <td>win</td>\n",
       "    </tr>\n",
       "    <tr>\n",
       "      <th>42790</th>\n",
       "      <td>10/7/2021</td>\n",
       "      <td>Peru</td>\n",
       "      <td>Chile</td>\n",
       "      <td>2</td>\n",
       "      <td>0</td>\n",
       "      <td>FIFA World Cup qualification</td>\n",
       "      <td>Lima</td>\n",
       "      <td>Peru</td>\n",
       "      <td>False</td>\n",
       "      <td>win</td>\n",
       "    </tr>\n",
       "    <tr>\n",
       "      <th>42955</th>\n",
       "      <td>11/11/2021</td>\n",
       "      <td>Peru</td>\n",
       "      <td>Bolivia</td>\n",
       "      <td>3</td>\n",
       "      <td>0</td>\n",
       "      <td>FIFA World Cup qualification</td>\n",
       "      <td>Lima</td>\n",
       "      <td>Peru</td>\n",
       "      <td>False</td>\n",
       "      <td>win</td>\n",
       "    </tr>\n",
       "    <tr>\n",
       "      <th>43136</th>\n",
       "      <td>1/16/2022</td>\n",
       "      <td>Peru</td>\n",
       "      <td>Panama</td>\n",
       "      <td>1</td>\n",
       "      <td>1</td>\n",
       "      <td>Friendly</td>\n",
       "      <td>Lima</td>\n",
       "      <td>Peru</td>\n",
       "      <td>False</td>\n",
       "      <td>draw</td>\n",
       "    </tr>\n",
       "    <tr>\n",
       "      <th>43151</th>\n",
       "      <td>1/20/2022</td>\n",
       "      <td>Peru</td>\n",
       "      <td>Jamaica</td>\n",
       "      <td>3</td>\n",
       "      <td>0</td>\n",
       "      <td>Friendly</td>\n",
       "      <td>Lima</td>\n",
       "      <td>Peru</td>\n",
       "      <td>False</td>\n",
       "      <td>win</td>\n",
       "    </tr>\n",
       "  </tbody>\n",
       "</table>\n",
       "<p>243 rows × 10 columns</p>\n",
       "</div>"
      ],
      "text/plain": [
       "             date home_team  away_team  home_score  away_score  \\\n",
       "1096    11/1/1927      Peru    Uruguay           0           4   \n",
       "1103   11/13/1927      Peru    Bolivia           3           2   \n",
       "1106   11/27/1927      Peru  Argentina           1           5   \n",
       "1757    1/13/1935      Peru    Uruguay           0           1   \n",
       "1759    1/20/1935      Peru  Argentina           1           4   \n",
       "...           ...       ...        ...         ...         ...   \n",
       "42689    9/5/2021      Peru  Venezuela           1           0   \n",
       "42790   10/7/2021      Peru      Chile           2           0   \n",
       "42955  11/11/2021      Peru    Bolivia           3           0   \n",
       "43136   1/16/2022      Peru     Panama           1           1   \n",
       "43151   1/20/2022      Peru    Jamaica           3           0   \n",
       "\n",
       "                         tournament  city country  neutral result  \n",
       "1096                   Copa América  Lima    Peru    False   lose  \n",
       "1103                   Copa América  Lima    Peru    False    win  \n",
       "1106                   Copa América  Lima    Peru    False   lose  \n",
       "1757                   Copa América  Lima    Peru    False   lose  \n",
       "1759                   Copa América  Lima    Peru    False   lose  \n",
       "...                             ...   ...     ...      ...    ...  \n",
       "42689  FIFA World Cup qualification  Lima    Peru    False    win  \n",
       "42790  FIFA World Cup qualification  Lima    Peru    False    win  \n",
       "42955  FIFA World Cup qualification  Lima    Peru    False    win  \n",
       "43136                      Friendly  Lima    Peru    False   draw  \n",
       "43151                      Friendly  Lima    Peru    False    win  \n",
       "\n",
       "[243 rows x 10 columns]"
      ]
     },
     "execution_count": 103,
     "metadata": {},
     "output_type": "execute_result"
    }
   ],
   "source": [
    "df_noneutralperu"
   ]
  },
  {
   "cell_type": "code",
   "execution_count": 104,
   "id": "a81611d7",
   "metadata": {},
   "outputs": [
    {
     "data": {
      "text/plain": [
       "Peru    243\n",
       "Name: home_team, dtype: int64"
      ]
     },
     "execution_count": 104,
     "metadata": {},
     "output_type": "execute_result"
    }
   ],
   "source": [
    "df_noneutralperu['home_team'].value_counts()"
   ]
  },
  {
   "cell_type": "code",
   "execution_count": 105,
   "id": "ee306d53",
   "metadata": {},
   "outputs": [
    {
     "data": {
      "text/plain": [
       "Chile                  35\n",
       "Uruguay                30\n",
       "Argentina              23\n",
       "Paraguay               23\n",
       "Colombia               22\n",
       "Bolivia                21\n",
       "Ecuador                17\n",
       "Venezuela              13\n",
       "Brazil                 12\n",
       "Costa Rica              5\n",
       "Bulgaria                4\n",
       "Panama                  4\n",
       "Mexico                  4\n",
       "Honduras                3\n",
       "Czechoslovakia          2\n",
       "Russia                  2\n",
       "Guatemala               2\n",
       "Romania                 2\n",
       "England                 2\n",
       "United States           1\n",
       "Scotland                1\n",
       "New Zealand             1\n",
       "Trinidad and Tobago     1\n",
       "Nigeria                 1\n",
       "Senegal                 1\n",
       "Haiti                   1\n",
       "Slovakia                1\n",
       "Belarus                 1\n",
       "Armenia                 1\n",
       "Canada                  1\n",
       "China PR                1\n",
       "Poland                  1\n",
       "Hungary                 1\n",
       "Spain                   1\n",
       "El Salvador             1\n",
       "Jamaica                 1\n",
       "Name: away_team, dtype: int64"
      ]
     },
     "execution_count": 105,
     "metadata": {},
     "output_type": "execute_result"
    }
   ],
   "source": [
    "df_noneutralperu['away_team'].value_counts()"
   ]
  },
  {
   "cell_type": "code",
   "execution_count": 106,
   "id": "c8c589d6",
   "metadata": {},
   "outputs": [
    {
     "data": {
      "text/plain": [
       "win     0.444444\n",
       "lose    0.337449\n",
       "draw    0.218107\n",
       "Name: result, dtype: float64"
      ]
     },
     "execution_count": 106,
     "metadata": {},
     "output_type": "execute_result"
    }
   ],
   "source": [
    "df_noneutralperu['result'].value_counts(normalize=True)"
   ]
  },
  {
   "cell_type": "code",
   "execution_count": 107,
   "id": "7f8bec46",
   "metadata": {},
   "outputs": [],
   "source": [
    "#win/lose"
   ]
  },
  {
   "cell_type": "code",
   "execution_count": 108,
   "id": "f4538c37",
   "metadata": {},
   "outputs": [],
   "source": [
    "prob_peru=0.444444/0.337449"
   ]
  },
  {
   "cell_type": "code",
   "execution_count": 109,
   "id": "e96f3cf4",
   "metadata": {},
   "outputs": [
    {
     "data": {
      "text/plain": [
       "1.3170701350426286"
      ]
     },
     "execution_count": 109,
     "metadata": {},
     "output_type": "execute_result"
    }
   ],
   "source": [
    "prob_peru"
   ]
  },
  {
   "cell_type": "markdown",
   "id": "d5d05041",
   "metadata": {},
   "source": [
    "#### Selecting FIFA World Cup qualification matches in Peru"
   ]
  },
  {
   "cell_type": "code",
   "execution_count": 110,
   "id": "8badafcc",
   "metadata": {},
   "outputs": [],
   "source": [
    "df_noneutralperu_fifa=df_noneutralperu[df_noneutralperu['tournament']=='FIFA World Cup qualification']"
   ]
  },
  {
   "cell_type": "code",
   "execution_count": 111,
   "id": "1717e6dc",
   "metadata": {},
   "outputs": [
    {
     "data": {
      "text/html": [
       "<div>\n",
       "<style scoped>\n",
       "    .dataframe tbody tr th:only-of-type {\n",
       "        vertical-align: middle;\n",
       "    }\n",
       "\n",
       "    .dataframe tbody tr th {\n",
       "        vertical-align: top;\n",
       "    }\n",
       "\n",
       "    .dataframe thead th {\n",
       "        text-align: right;\n",
       "    }\n",
       "</style>\n",
       "<table border=\"1\" class=\"dataframe\">\n",
       "  <thead>\n",
       "    <tr style=\"text-align: right;\">\n",
       "      <th></th>\n",
       "      <th>date</th>\n",
       "      <th>home_team</th>\n",
       "      <th>away_team</th>\n",
       "      <th>home_score</th>\n",
       "      <th>away_score</th>\n",
       "      <th>tournament</th>\n",
       "      <th>city</th>\n",
       "      <th>country</th>\n",
       "      <th>neutral</th>\n",
       "      <th>result</th>\n",
       "    </tr>\n",
       "  </thead>\n",
       "  <tbody>\n",
       "    <tr>\n",
       "      <th>2067</th>\n",
       "      <td>2/20/1938</td>\n",
       "      <td>Greece</td>\n",
       "      <td>Israel</td>\n",
       "      <td>1</td>\n",
       "      <td>0</td>\n",
       "      <td>FIFA World Cup qualification</td>\n",
       "      <td>Athens</td>\n",
       "      <td>Greece</td>\n",
       "      <td>False</td>\n",
       "      <td>win</td>\n",
       "    </tr>\n",
       "    <tr>\n",
       "      <th>3579</th>\n",
       "      <td>11/1/1953</td>\n",
       "      <td>Greece</td>\n",
       "      <td>Israel</td>\n",
       "      <td>1</td>\n",
       "      <td>0</td>\n",
       "      <td>FIFA World Cup qualification</td>\n",
       "      <td>Athens</td>\n",
       "      <td>Greece</td>\n",
       "      <td>False</td>\n",
       "      <td>win</td>\n",
       "    </tr>\n",
       "    <tr>\n",
       "      <th>3621</th>\n",
       "      <td>3/28/1954</td>\n",
       "      <td>Greece</td>\n",
       "      <td>Yugoslavia</td>\n",
       "      <td>0</td>\n",
       "      <td>1</td>\n",
       "      <td>FIFA World Cup qualification</td>\n",
       "      <td>Athens</td>\n",
       "      <td>Greece</td>\n",
       "      <td>False</td>\n",
       "      <td>lose</td>\n",
       "    </tr>\n",
       "    <tr>\n",
       "      <th>4152</th>\n",
       "      <td>5/5/1957</td>\n",
       "      <td>Greece</td>\n",
       "      <td>Yugoslavia</td>\n",
       "      <td>0</td>\n",
       "      <td>0</td>\n",
       "      <td>FIFA World Cup qualification</td>\n",
       "      <td>Athens</td>\n",
       "      <td>Greece</td>\n",
       "      <td>False</td>\n",
       "      <td>draw</td>\n",
       "    </tr>\n",
       "    <tr>\n",
       "      <th>4187</th>\n",
       "      <td>6/16/1957</td>\n",
       "      <td>Greece</td>\n",
       "      <td>Romania</td>\n",
       "      <td>1</td>\n",
       "      <td>2</td>\n",
       "      <td>FIFA World Cup qualification</td>\n",
       "      <td>Athens</td>\n",
       "      <td>Greece</td>\n",
       "      <td>False</td>\n",
       "      <td>lose</td>\n",
       "    </tr>\n",
       "    <tr>\n",
       "      <th>...</th>\n",
       "      <td>...</td>\n",
       "      <td>...</td>\n",
       "      <td>...</td>\n",
       "      <td>...</td>\n",
       "      <td>...</td>\n",
       "      <td>...</td>\n",
       "      <td>...</td>\n",
       "      <td>...</td>\n",
       "      <td>...</td>\n",
       "      <td>...</td>\n",
       "    </tr>\n",
       "    <tr>\n",
       "      <th>39543</th>\n",
       "      <td>11/12/2017</td>\n",
       "      <td>Greece</td>\n",
       "      <td>Croatia</td>\n",
       "      <td>0</td>\n",
       "      <td>0</td>\n",
       "      <td>FIFA World Cup qualification</td>\n",
       "      <td>Piraeus</td>\n",
       "      <td>Greece</td>\n",
       "      <td>False</td>\n",
       "      <td>draw</td>\n",
       "    </tr>\n",
       "    <tr>\n",
       "      <th>42203</th>\n",
       "      <td>3/31/2021</td>\n",
       "      <td>Greece</td>\n",
       "      <td>Georgia</td>\n",
       "      <td>1</td>\n",
       "      <td>1</td>\n",
       "      <td>FIFA World Cup qualification</td>\n",
       "      <td>Thessaloniki</td>\n",
       "      <td>Greece</td>\n",
       "      <td>False</td>\n",
       "      <td>draw</td>\n",
       "    </tr>\n",
       "    <tr>\n",
       "      <th>42737</th>\n",
       "      <td>9/8/2021</td>\n",
       "      <td>Greece</td>\n",
       "      <td>Sweden</td>\n",
       "      <td>2</td>\n",
       "      <td>1</td>\n",
       "      <td>FIFA World Cup qualification</td>\n",
       "      <td>Athens</td>\n",
       "      <td>Greece</td>\n",
       "      <td>False</td>\n",
       "      <td>win</td>\n",
       "    </tr>\n",
       "    <tr>\n",
       "      <th>42946</th>\n",
       "      <td>11/11/2021</td>\n",
       "      <td>Greece</td>\n",
       "      <td>Spain</td>\n",
       "      <td>0</td>\n",
       "      <td>1</td>\n",
       "      <td>FIFA World Cup qualification</td>\n",
       "      <td>Athens</td>\n",
       "      <td>Greece</td>\n",
       "      <td>False</td>\n",
       "      <td>lose</td>\n",
       "    </tr>\n",
       "    <tr>\n",
       "      <th>43005</th>\n",
       "      <td>11/14/2021</td>\n",
       "      <td>Greece</td>\n",
       "      <td>Kosovo</td>\n",
       "      <td>1</td>\n",
       "      <td>1</td>\n",
       "      <td>FIFA World Cup qualification</td>\n",
       "      <td>Athens</td>\n",
       "      <td>Greece</td>\n",
       "      <td>False</td>\n",
       "      <td>draw</td>\n",
       "    </tr>\n",
       "  </tbody>\n",
       "</table>\n",
       "<p>67 rows × 10 columns</p>\n",
       "</div>"
      ],
      "text/plain": [
       "             date home_team   away_team  home_score  away_score  \\\n",
       "2067    2/20/1938    Greece      Israel           1           0   \n",
       "3579    11/1/1953    Greece      Israel           1           0   \n",
       "3621    3/28/1954    Greece  Yugoslavia           0           1   \n",
       "4152     5/5/1957    Greece  Yugoslavia           0           0   \n",
       "4187    6/16/1957    Greece     Romania           1           2   \n",
       "...           ...       ...         ...         ...         ...   \n",
       "39543  11/12/2017    Greece     Croatia           0           0   \n",
       "42203   3/31/2021    Greece     Georgia           1           1   \n",
       "42737    9/8/2021    Greece      Sweden           2           1   \n",
       "42946  11/11/2021    Greece       Spain           0           1   \n",
       "43005  11/14/2021    Greece      Kosovo           1           1   \n",
       "\n",
       "                         tournament          city country  neutral result  \n",
       "2067   FIFA World Cup qualification        Athens  Greece    False    win  \n",
       "3579   FIFA World Cup qualification        Athens  Greece    False    win  \n",
       "3621   FIFA World Cup qualification        Athens  Greece    False   lose  \n",
       "4152   FIFA World Cup qualification        Athens  Greece    False   draw  \n",
       "4187   FIFA World Cup qualification        Athens  Greece    False   lose  \n",
       "...                             ...           ...     ...      ...    ...  \n",
       "39543  FIFA World Cup qualification       Piraeus  Greece    False   draw  \n",
       "42203  FIFA World Cup qualification  Thessaloniki  Greece    False   draw  \n",
       "42737  FIFA World Cup qualification        Athens  Greece    False    win  \n",
       "42946  FIFA World Cup qualification        Athens  Greece    False   lose  \n",
       "43005  FIFA World Cup qualification        Athens  Greece    False   draw  \n",
       "\n",
       "[67 rows x 10 columns]"
      ]
     },
     "execution_count": 111,
     "metadata": {},
     "output_type": "execute_result"
    }
   ],
   "source": [
    "df_noneutralgreece_fifa"
   ]
  },
  {
   "cell_type": "code",
   "execution_count": 112,
   "id": "8a405835",
   "metadata": {},
   "outputs": [],
   "source": [
    "x=df_noneutralperu_fifa['result'].value_counts()"
   ]
  },
  {
   "cell_type": "code",
   "execution_count": 113,
   "id": "8f927b1b",
   "metadata": {},
   "outputs": [
    {
     "data": {
      "text/plain": [
       "35"
      ]
     },
     "execution_count": 113,
     "metadata": {},
     "output_type": "execute_result"
    }
   ],
   "source": [
    "x[0]"
   ]
  },
  {
   "cell_type": "code",
   "execution_count": 114,
   "id": "e8b050fd",
   "metadata": {},
   "outputs": [],
   "source": [
    "#confidence interval"
   ]
  },
  {
   "cell_type": "code",
   "execution_count": 115,
   "id": "5c2102dd",
   "metadata": {},
   "outputs": [],
   "source": [
    "ci_win_peru=proportion_confint(count=x[0],nobs=x.sum(),alpha=(1-.95))"
   ]
  },
  {
   "cell_type": "code",
   "execution_count": 116,
   "id": "3de0ad84",
   "metadata": {},
   "outputs": [
    {
     "data": {
      "text/plain": [
       "(0.32422061280408987, 0.5399769180601076)"
      ]
     },
     "execution_count": 116,
     "metadata": {},
     "output_type": "execute_result"
    }
   ],
   "source": [
    "ci_win_peru"
   ]
  },
  {
   "cell_type": "markdown",
   "id": "8399d1e8",
   "metadata": {},
   "source": [
    "### Plot graph using confidence intervals of each country"
   ]
  },
  {
   "cell_type": "code",
   "execution_count": 117,
   "id": "f937cebe",
   "metadata": {},
   "outputs": [
    {
     "data": {
      "text/html": [
       "<div>\n",
       "<style scoped>\n",
       "    .dataframe tbody tr th:only-of-type {\n",
       "        vertical-align: middle;\n",
       "    }\n",
       "\n",
       "    .dataframe tbody tr th {\n",
       "        vertical-align: top;\n",
       "    }\n",
       "\n",
       "    .dataframe thead th {\n",
       "        text-align: right;\n",
       "    }\n",
       "</style>\n",
       "<table border=\"1\" class=\"dataframe\">\n",
       "  <thead>\n",
       "    <tr style=\"text-align: right;\">\n",
       "      <th></th>\n",
       "      <th>Country</th>\n",
       "      <th>lb</th>\n",
       "      <th>ub</th>\n",
       "    </tr>\n",
       "  </thead>\n",
       "  <tbody>\n",
       "    <tr>\n",
       "      <th>0</th>\n",
       "      <td>Algeria</td>\n",
       "      <td>0.538445</td>\n",
       "      <td>0.809381</td>\n",
       "    </tr>\n",
       "    <tr>\n",
       "      <th>1</th>\n",
       "      <td>Greece</td>\n",
       "      <td>0.387752</td>\n",
       "      <td>0.627173</td>\n",
       "    </tr>\n",
       "    <tr>\n",
       "      <th>2</th>\n",
       "      <td>Australia</td>\n",
       "      <td>0.663344</td>\n",
       "      <td>0.856656</td>\n",
       "    </tr>\n",
       "    <tr>\n",
       "      <th>3</th>\n",
       "      <td>Jamaica</td>\n",
       "      <td>0.349828</td>\n",
       "      <td>0.629764</td>\n",
       "    </tr>\n",
       "    <tr>\n",
       "      <th>4</th>\n",
       "      <td>Peru</td>\n",
       "      <td>0.324221</td>\n",
       "      <td>0.539977</td>\n",
       "    </tr>\n",
       "  </tbody>\n",
       "</table>\n",
       "</div>"
      ],
      "text/plain": [
       "     Country        lb        ub\n",
       "0    Algeria  0.538445  0.809381\n",
       "1     Greece  0.387752  0.627173\n",
       "2  Australia  0.663344  0.856656\n",
       "3    Jamaica  0.349828  0.629764\n",
       "4       Peru  0.324221  0.539977"
      ]
     },
     "execution_count": 117,
     "metadata": {},
     "output_type": "execute_result"
    }
   ],
   "source": [
    "ci_win = {}\n",
    "ci_win['Country'] = ['Algeria','Greece','Australia','Jamaica','Peru']\n",
    "ci_win['lb'] = [ci_win_algeria[0],ci_win_greece[0],ci_win_australia[0],ci_win_jamaica[0],ci_win_peru[0]]\n",
    "ci_win['ub'] = [ci_win_algeria[1],ci_win_greece[1],ci_win_australia[1],ci_win_jamaica[1],ci_win_peru[1]]\n",
    "df_ci= pd.DataFrame(ci_win)\n",
    "df_ci"
   ]
  },
  {
   "cell_type": "code",
   "execution_count": 118,
   "id": "fd862b18",
   "metadata": {},
   "outputs": [
    {
     "data": {
      "text/plain": [
       "([<matplotlib.axis.YTick at 0x7f98d82bbca0>,\n",
       "  <matplotlib.axis.YTick at 0x7f98d82bb520>,\n",
       "  <matplotlib.axis.YTick at 0x7f98d82a6220>,\n",
       "  <matplotlib.axis.YTick at 0x7f98f91ac6a0>,\n",
       "  <matplotlib.axis.YTick at 0x7f98f91acdf0>],\n",
       " [Text(0, 0, 'Algeria'),\n",
       "  Text(0, 1, 'Greece'),\n",
       "  Text(0, 2, 'Australia'),\n",
       "  Text(0, 3, 'Jamaica'),\n",
       "  Text(0, 4, 'Peru')])"
      ]
     },
     "execution_count": 118,
     "metadata": {},
     "output_type": "execute_result"
    },
    {
     "data": {
      "image/png": "[encoded data removed]",
      "text/plain": [
       "<Figure size 432x288 with 1 Axes>"
      ]
     },
     "metadata": {
      "needs_background": "light"
     },
     "output_type": "display_data"
    }
   ],
   "source": [
    "for lb,ub,y in zip(df_ci['lb'],df_ci['ub'],range(len(df_ci))):\n",
    "    plt.plot((lb,ub),(y,y),'ro-')\n",
    "plt.yticks(range(len(df_ci)),list(df_ci['Country']))"
   ]
  },
  {
   "cell_type": "markdown",
   "id": "df2afeb6",
   "metadata": {},
   "source": [
    "### The impact of fans on match results:"
   ]
  },
  {
   "cell_type": "markdown",
   "id": "e02bad6d",
   "metadata": {},
   "source": [
    "#### In Algeria"
   ]
  },
  {
   "cell_type": "code",
   "execution_count": 119,
   "id": "76323c3c",
   "metadata": {},
   "outputs": [
    {
     "name": "stderr",
     "output_type": "stream",
     "text": [
      "/var/folders/3m/bxpcj6d907q836kvw4zwr1340000gn/T/ipykernel_94023/526412987.py:1: SettingWithCopyWarning: \n",
      "A value is trying to be set on a copy of a slice from a DataFrame.\n",
      "Try using .loc[row_indexer,col_indexer] = value instead\n",
      "\n",
      "See the caveats in the documentation: https://pandas.pydata.org/pandas-docs/stable/user_guide/indexing.html#returning-a-view-versus-a-copy\n",
      "  df_noneutralalgeria['home']=(df_noneutralalgeria['home_team']=='Algeria')\n"
     ]
    }
   ],
   "source": [
    "df_noneutralalgeria['home']=(df_noneutralalgeria['home_team']=='Algeria')"
   ]
  },
  {
   "cell_type": "code",
   "execution_count": 120,
   "id": "72e93120",
   "metadata": {},
   "outputs": [
    {
     "data": {
      "text/plain": [
       "True    195\n",
       "Name: home, dtype: int64"
      ]
     },
     "execution_count": 120,
     "metadata": {},
     "output_type": "execute_result"
    }
   ],
   "source": [
    "df_noneutralalgeria['home'].value_counts()"
   ]
  },
  {
   "cell_type": "code",
   "execution_count": 121,
   "id": "ff1d2edc",
   "metadata": {},
   "outputs": [],
   "source": [
    "x=pd.crosstab(df_noneutralalgeria['home'],df_noneutralalgeria['result'],margins=True)"
   ]
  },
  {
   "cell_type": "code",
   "execution_count": 122,
   "id": "4367b604",
   "metadata": {},
   "outputs": [
    {
     "data": {
      "text/html": [
       "<div>\n",
       "<style scoped>\n",
       "    .dataframe tbody tr th:only-of-type {\n",
       "        vertical-align: middle;\n",
       "    }\n",
       "\n",
       "    .dataframe tbody tr th {\n",
       "        vertical-align: top;\n",
       "    }\n",
       "\n",
       "    .dataframe thead th {\n",
       "        text-align: right;\n",
       "    }\n",
       "</style>\n",
       "<table border=\"1\" class=\"dataframe\">\n",
       "  <thead>\n",
       "    <tr style=\"text-align: right;\">\n",
       "      <th>result</th>\n",
       "      <th>draw</th>\n",
       "      <th>lose</th>\n",
       "      <th>win</th>\n",
       "      <th>All</th>\n",
       "    </tr>\n",
       "    <tr>\n",
       "      <th>home</th>\n",
       "      <th></th>\n",
       "      <th></th>\n",
       "      <th></th>\n",
       "      <th></th>\n",
       "    </tr>\n",
       "  </thead>\n",
       "  <tbody>\n",
       "    <tr>\n",
       "      <th>True</th>\n",
       "      <td>45</td>\n",
       "      <td>26</td>\n",
       "      <td>124</td>\n",
       "      <td>195</td>\n",
       "    </tr>\n",
       "    <tr>\n",
       "      <th>All</th>\n",
       "      <td>45</td>\n",
       "      <td>26</td>\n",
       "      <td>124</td>\n",
       "      <td>195</td>\n",
       "    </tr>\n",
       "  </tbody>\n",
       "</table>\n",
       "</div>"
      ],
      "text/plain": [
       "result  draw  lose  win  All\n",
       "home                        \n",
       "True      45    26  124  195\n",
       "All       45    26  124  195"
      ]
     },
     "execution_count": 122,
     "metadata": {},
     "output_type": "execute_result"
    }
   ],
   "source": [
    "x"
   ]
  },
  {
   "cell_type": "code",
   "execution_count": 123,
   "id": "3ca584c6",
   "metadata": {},
   "outputs": [
    {
     "data": {
      "text/html": [
       "<div>\n",
       "<style scoped>\n",
       "    .dataframe tbody tr th:only-of-type {\n",
       "        vertical-align: middle;\n",
       "    }\n",
       "\n",
       "    .dataframe tbody tr th {\n",
       "        vertical-align: top;\n",
       "    }\n",
       "\n",
       "    .dataframe thead th {\n",
       "        text-align: right;\n",
       "    }\n",
       "</style>\n",
       "<table border=\"1\" class=\"dataframe\">\n",
       "  <thead>\n",
       "    <tr style=\"text-align: right;\">\n",
       "      <th></th>\n",
       "      <th>date</th>\n",
       "      <th>home_team</th>\n",
       "      <th>away_team</th>\n",
       "      <th>home_score</th>\n",
       "      <th>away_score</th>\n",
       "      <th>tournament</th>\n",
       "      <th>city</th>\n",
       "      <th>country</th>\n",
       "      <th>neutral</th>\n",
       "      <th>result</th>\n",
       "      <th>home</th>\n",
       "    </tr>\n",
       "  </thead>\n",
       "  <tbody>\n",
       "    <tr>\n",
       "      <th>5306</th>\n",
       "      <td>1/6/1963</td>\n",
       "      <td>Algeria</td>\n",
       "      <td>Bulgaria</td>\n",
       "      <td>2</td>\n",
       "      <td>1</td>\n",
       "      <td>Friendly</td>\n",
       "      <td>Algiers</td>\n",
       "      <td>Algeria</td>\n",
       "      <td>False</td>\n",
       "      <td>win</td>\n",
       "      <td>True</td>\n",
       "    </tr>\n",
       "    <tr>\n",
       "      <th>5448</th>\n",
       "      <td>7/7/1963</td>\n",
       "      <td>Algeria</td>\n",
       "      <td>Egypt</td>\n",
       "      <td>2</td>\n",
       "      <td>2</td>\n",
       "      <td>Friendly</td>\n",
       "      <td>Oran</td>\n",
       "      <td>Algeria</td>\n",
       "      <td>False</td>\n",
       "      <td>draw</td>\n",
       "      <td>True</td>\n",
       "    </tr>\n",
       "    <tr>\n",
       "      <th>5578</th>\n",
       "      <td>1/1/1964</td>\n",
       "      <td>Algeria</td>\n",
       "      <td>Germany</td>\n",
       "      <td>2</td>\n",
       "      <td>0</td>\n",
       "      <td>Friendly</td>\n",
       "      <td>Algiers</td>\n",
       "      <td>Algeria</td>\n",
       "      <td>False</td>\n",
       "      <td>win</td>\n",
       "      <td>True</td>\n",
       "    </tr>\n",
       "    <tr>\n",
       "      <th>5737</th>\n",
       "      <td>11/4/1964</td>\n",
       "      <td>Algeria</td>\n",
       "      <td>Russia</td>\n",
       "      <td>2</td>\n",
       "      <td>2</td>\n",
       "      <td>Friendly</td>\n",
       "      <td>Algiers</td>\n",
       "      <td>Algeria</td>\n",
       "      <td>False</td>\n",
       "      <td>draw</td>\n",
       "      <td>True</td>\n",
       "    </tr>\n",
       "  </tbody>\n",
       "</table>\n",
       "</div>"
      ],
      "text/plain": [
       "           date home_team away_team  home_score  away_score tournament  \\\n",
       "5306   1/6/1963   Algeria  Bulgaria           2           1   Friendly   \n",
       "5448   7/7/1963   Algeria     Egypt           2           2   Friendly   \n",
       "5578   1/1/1964   Algeria   Germany           2           0   Friendly   \n",
       "5737  11/4/1964   Algeria    Russia           2           2   Friendly   \n",
       "\n",
       "         city  country  neutral result  home  \n",
       "5306  Algiers  Algeria    False    win  True  \n",
       "5448     Oran  Algeria    False   draw  True  \n",
       "5578  Algiers  Algeria    False    win  True  \n",
       "5737  Algiers  Algeria    False   draw  True  "
      ]
     },
     "execution_count": 123,
     "metadata": {},
     "output_type": "execute_result"
    }
   ],
   "source": [
    "df_noneutralalgeria.head(4)"
   ]
  },
  {
   "cell_type": "code",
   "execution_count": 124,
   "id": "cbc968d8",
   "metadata": {},
   "outputs": [],
   "source": [
    "x=np.array(x)"
   ]
  },
  {
   "cell_type": "code",
   "execution_count": 125,
   "id": "394d4738",
   "metadata": {},
   "outputs": [
    {
     "data": {
      "text/plain": [
       "array([[ 45,  26, 124, 195],\n",
       "       [ 45,  26, 124, 195]])"
      ]
     },
     "execution_count": 125,
     "metadata": {},
     "output_type": "execute_result"
    }
   ],
   "source": [
    "x"
   ]
  },
  {
   "cell_type": "code",
   "execution_count": 126,
   "id": "432faed9",
   "metadata": {},
   "outputs": [],
   "source": [
    "CI_algeriawin_home=proportion_confint(count=x[1,2],nobs=x[1,3],alpha=(1-.95))"
   ]
  },
  {
   "cell_type": "code",
   "execution_count": 127,
   "id": "a97d4cac",
   "metadata": {},
   "outputs": [
    {
     "data": {
      "text/plain": [
       "(0.5683613027663917, 0.70343356902848)"
      ]
     },
     "execution_count": 127,
     "metadata": {},
     "output_type": "execute_result"
    }
   ],
   "source": [
    "CI_algeriawin_home"
   ]
  },
  {
   "cell_type": "code",
   "execution_count": 128,
   "id": "0bbad0fb",
   "metadata": {},
   "outputs": [],
   "source": [
    "CI_algeriawin_away=proportion_confint(count=x[0,2],nobs=x[0,3],alpha=(1-.95))"
   ]
  },
  {
   "cell_type": "code",
   "execution_count": 129,
   "id": "6c9fc2f3",
   "metadata": {},
   "outputs": [
    {
     "data": {
      "text/plain": [
       "(0.5683613027663917, 0.70343356902848)"
      ]
     },
     "execution_count": 129,
     "metadata": {},
     "output_type": "execute_result"
    }
   ],
   "source": [
    "CI_algeriawin_away"
   ]
  },
  {
   "cell_type": "code",
   "execution_count": 130,
   "id": "9b6e192b",
   "metadata": {},
   "outputs": [
    {
     "data": {
      "text/html": [
       "<div>\n",
       "<style scoped>\n",
       "    .dataframe tbody tr th:only-of-type {\n",
       "        vertical-align: middle;\n",
       "    }\n",
       "\n",
       "    .dataframe tbody tr th {\n",
       "        vertical-align: top;\n",
       "    }\n",
       "\n",
       "    .dataframe thead th {\n",
       "        text-align: right;\n",
       "    }\n",
       "</style>\n",
       "<table border=\"1\" class=\"dataframe\">\n",
       "  <thead>\n",
       "    <tr style=\"text-align: right;\">\n",
       "      <th></th>\n",
       "      <th>home</th>\n",
       "      <th>lb</th>\n",
       "      <th>ub</th>\n",
       "    </tr>\n",
       "  </thead>\n",
       "  <tbody>\n",
       "    <tr>\n",
       "      <th>0</th>\n",
       "      <td>Yes</td>\n",
       "      <td>0.568361</td>\n",
       "      <td>0.703434</td>\n",
       "    </tr>\n",
       "    <tr>\n",
       "      <th>1</th>\n",
       "      <td>No</td>\n",
       "      <td>0.568361</td>\n",
       "      <td>0.703434</td>\n",
       "    </tr>\n",
       "  </tbody>\n",
       "</table>\n",
       "</div>"
      ],
      "text/plain": [
       "  home        lb        ub\n",
       "0  Yes  0.568361  0.703434\n",
       "1   No  0.568361  0.703434"
      ]
     },
     "execution_count": 130,
     "metadata": {},
     "output_type": "execute_result"
    }
   ],
   "source": [
    "CI_algeriawin = {}\n",
    "CI_algeriawin['home'] = ['Yes','No']\n",
    "CI_algeriawin['lb'] = [CI_algeriawin_home[0],CI_algeriawin_away[0]]\n",
    "CI_algeriawin['ub'] = [CI_algeriawin_home[1],CI_algeriawin_away[1]]\n",
    "df_ci= pd.DataFrame(CI_algeriawin)\n",
    "df_ci"
   ]
  },
  {
   "cell_type": "code",
   "execution_count": 131,
   "id": "1b11e390",
   "metadata": {},
   "outputs": [
    {
     "data": {
      "text/plain": [
       "([<matplotlib.axis.YTick at 0x7f98cb3aa580>,\n",
       "  <matplotlib.axis.YTick at 0x7f98cb3a5f40>],\n",
       " [Text(0, 0, 'Yes'), Text(0, 1, 'No')])"
      ]
     },
     "execution_count": 131,
     "metadata": {},
     "output_type": "execute_result"
    },
    {
     "data": {
      "image/png": "[encoded data removed]",
      "text/plain": [
       "<Figure size 432x288 with 1 Axes>"
      ]
     },
     "metadata": {
      "needs_background": "light"
     },
     "output_type": "display_data"
    }
   ],
   "source": [
    "for lb,ub,y in zip(df_ci['lb'],df_ci['ub'],range(len(df_ci))):\n",
    "    plt.plot((lb,ub),(y,y),'ro-')\n",
    "plt.yticks(range(len(df_ci)),list(df_ci['home']))"
   ]
  },
  {
   "cell_type": "markdown",
   "id": "a85eac2c",
   "metadata": {},
   "source": [
    "#### In Greece"
   ]
  },
  {
   "cell_type": "code",
   "execution_count": 132,
   "id": "546c095d",
   "metadata": {},
   "outputs": [
    {
     "name": "stderr",
     "output_type": "stream",
     "text": [
      "/var/folders/3m/bxpcj6d907q836kvw4zwr1340000gn/T/ipykernel_94023/1409324880.py:1: SettingWithCopyWarning: \n",
      "A value is trying to be set on a copy of a slice from a DataFrame.\n",
      "Try using .loc[row_indexer,col_indexer] = value instead\n",
      "\n",
      "See the caveats in the documentation: https://pandas.pydata.org/pandas-docs/stable/user_guide/indexing.html#returning-a-view-versus-a-copy\n",
      "  df_noneutralgreece['home']=(df_noneutralgreece['home_team']=='Greece')\n"
     ]
    }
   ],
   "source": [
    "df_noneutralgreece['home']=(df_noneutralgreece['home_team']=='Greece')"
   ]
  },
  {
   "cell_type": "code",
   "execution_count": 133,
   "id": "89ae3ef3",
   "metadata": {},
   "outputs": [
    {
     "data": {
      "text/plain": [
       "True     267\n",
       "False      3\n",
       "Name: home, dtype: int64"
      ]
     },
     "execution_count": 133,
     "metadata": {},
     "output_type": "execute_result"
    }
   ],
   "source": [
    "df_noneutralgreece['home'].value_counts()"
   ]
  },
  {
   "cell_type": "code",
   "execution_count": 134,
   "id": "e6dca14a",
   "metadata": {},
   "outputs": [],
   "source": [
    "x=pd.crosstab(df_noneutralgreece['home'],df_noneutralgreece['result'],margins=True)"
   ]
  },
  {
   "cell_type": "code",
   "execution_count": 135,
   "id": "7d06d3af",
   "metadata": {},
   "outputs": [
    {
     "data": {
      "text/html": [
       "<div>\n",
       "<style scoped>\n",
       "    .dataframe tbody tr th:only-of-type {\n",
       "        vertical-align: middle;\n",
       "    }\n",
       "\n",
       "    .dataframe tbody tr th {\n",
       "        vertical-align: top;\n",
       "    }\n",
       "\n",
       "    .dataframe thead th {\n",
       "        text-align: right;\n",
       "    }\n",
       "</style>\n",
       "<table border=\"1\" class=\"dataframe\">\n",
       "  <thead>\n",
       "    <tr style=\"text-align: right;\">\n",
       "      <th>result</th>\n",
       "      <th>draw</th>\n",
       "      <th>lose</th>\n",
       "      <th>win</th>\n",
       "      <th>All</th>\n",
       "    </tr>\n",
       "    <tr>\n",
       "      <th>home</th>\n",
       "      <th></th>\n",
       "      <th></th>\n",
       "      <th></th>\n",
       "      <th></th>\n",
       "    </tr>\n",
       "  </thead>\n",
       "  <tbody>\n",
       "    <tr>\n",
       "      <th>False</th>\n",
       "      <td>0</td>\n",
       "      <td>1</td>\n",
       "      <td>2</td>\n",
       "      <td>3</td>\n",
       "    </tr>\n",
       "    <tr>\n",
       "      <th>True</th>\n",
       "      <td>61</td>\n",
       "      <td>80</td>\n",
       "      <td>126</td>\n",
       "      <td>267</td>\n",
       "    </tr>\n",
       "    <tr>\n",
       "      <th>All</th>\n",
       "      <td>61</td>\n",
       "      <td>81</td>\n",
       "      <td>128</td>\n",
       "      <td>270</td>\n",
       "    </tr>\n",
       "  </tbody>\n",
       "</table>\n",
       "</div>"
      ],
      "text/plain": [
       "result  draw  lose  win  All\n",
       "home                        \n",
       "False      0     1    2    3\n",
       "True      61    80  126  267\n",
       "All       61    81  128  270"
      ]
     },
     "execution_count": 135,
     "metadata": {},
     "output_type": "execute_result"
    }
   ],
   "source": [
    "x"
   ]
  },
  {
   "cell_type": "code",
   "execution_count": 136,
   "id": "b1a71a91",
   "metadata": {},
   "outputs": [
    {
     "data": {
      "text/html": [
       "<div>\n",
       "<style scoped>\n",
       "    .dataframe tbody tr th:only-of-type {\n",
       "        vertical-align: middle;\n",
       "    }\n",
       "\n",
       "    .dataframe tbody tr th {\n",
       "        vertical-align: top;\n",
       "    }\n",
       "\n",
       "    .dataframe thead th {\n",
       "        text-align: right;\n",
       "    }\n",
       "</style>\n",
       "<table border=\"1\" class=\"dataframe\">\n",
       "  <thead>\n",
       "    <tr style=\"text-align: right;\">\n",
       "      <th></th>\n",
       "      <th>date</th>\n",
       "      <th>home_team</th>\n",
       "      <th>away_team</th>\n",
       "      <th>home_score</th>\n",
       "      <th>away_score</th>\n",
       "      <th>tournament</th>\n",
       "      <th>city</th>\n",
       "      <th>country</th>\n",
       "      <th>neutral</th>\n",
       "      <th>result</th>\n",
       "      <th>home</th>\n",
       "    </tr>\n",
       "  </thead>\n",
       "  <tbody>\n",
       "    <tr>\n",
       "      <th>1268</th>\n",
       "      <td>1/26/1930</td>\n",
       "      <td>Greece</td>\n",
       "      <td>Yugoslavia</td>\n",
       "      <td>2</td>\n",
       "      <td>1</td>\n",
       "      <td>Balkan Cup</td>\n",
       "      <td>Athens</td>\n",
       "      <td>Greece</td>\n",
       "      <td>False</td>\n",
       "      <td>win</td>\n",
       "      <td>True</td>\n",
       "    </tr>\n",
       "    <tr>\n",
       "      <th>1364</th>\n",
       "      <td>12/7/1930</td>\n",
       "      <td>Greece</td>\n",
       "      <td>Bulgaria</td>\n",
       "      <td>6</td>\n",
       "      <td>1</td>\n",
       "      <td>Balkan Cup</td>\n",
       "      <td>Athens</td>\n",
       "      <td>Greece</td>\n",
       "      <td>False</td>\n",
       "      <td>win</td>\n",
       "      <td>True</td>\n",
       "    </tr>\n",
       "    <tr>\n",
       "      <th>1455</th>\n",
       "      <td>11/29/1931</td>\n",
       "      <td>Greece</td>\n",
       "      <td>Romania</td>\n",
       "      <td>2</td>\n",
       "      <td>4</td>\n",
       "      <td>Balkan Cup</td>\n",
       "      <td>Athens</td>\n",
       "      <td>Greece</td>\n",
       "      <td>False</td>\n",
       "      <td>lose</td>\n",
       "      <td>True</td>\n",
       "    </tr>\n",
       "    <tr>\n",
       "      <th>1472</th>\n",
       "      <td>3/27/1932</td>\n",
       "      <td>Greece</td>\n",
       "      <td>Bulgaria</td>\n",
       "      <td>1</td>\n",
       "      <td>2</td>\n",
       "      <td>Friendly</td>\n",
       "      <td>Athens</td>\n",
       "      <td>Greece</td>\n",
       "      <td>False</td>\n",
       "      <td>lose</td>\n",
       "      <td>True</td>\n",
       "    </tr>\n",
       "  </tbody>\n",
       "</table>\n",
       "</div>"
      ],
      "text/plain": [
       "            date home_team   away_team  home_score  away_score  tournament  \\\n",
       "1268   1/26/1930    Greece  Yugoslavia           2           1  Balkan Cup   \n",
       "1364   12/7/1930    Greece    Bulgaria           6           1  Balkan Cup   \n",
       "1455  11/29/1931    Greece     Romania           2           4  Balkan Cup   \n",
       "1472   3/27/1932    Greece    Bulgaria           1           2    Friendly   \n",
       "\n",
       "        city country  neutral result  home  \n",
       "1268  Athens  Greece    False    win  True  \n",
       "1364  Athens  Greece    False    win  True  \n",
       "1455  Athens  Greece    False   lose  True  \n",
       "1472  Athens  Greece    False   lose  True  "
      ]
     },
     "execution_count": 136,
     "metadata": {},
     "output_type": "execute_result"
    }
   ],
   "source": [
    "df_noneutralgreece.head(4)"
   ]
  },
  {
   "cell_type": "code",
   "execution_count": 137,
   "id": "00018525",
   "metadata": {},
   "outputs": [],
   "source": [
    "x=np.array(x)"
   ]
  },
  {
   "cell_type": "code",
   "execution_count": 138,
   "id": "558d9113",
   "metadata": {},
   "outputs": [
    {
     "data": {
      "text/plain": [
       "array([[  0,   1,   2,   3],\n",
       "       [ 61,  80, 126, 267],\n",
       "       [ 61,  81, 128, 270]])"
      ]
     },
     "execution_count": 138,
     "metadata": {},
     "output_type": "execute_result"
    }
   ],
   "source": [
    "x"
   ]
  },
  {
   "cell_type": "code",
   "execution_count": 139,
   "id": "fed6c008",
   "metadata": {},
   "outputs": [],
   "source": [
    "CI_greecewin_home=proportion_confint(count=x[1,2],nobs=x[1,3],alpha=(1-.95))"
   ]
  },
  {
   "cell_type": "code",
   "execution_count": 140,
   "id": "013a8fad",
   "metadata": {},
   "outputs": [
    {
     "data": {
      "text/plain": [
       "(0.41203090706163165, 0.5317893176574695)"
      ]
     },
     "execution_count": 140,
     "metadata": {},
     "output_type": "execute_result"
    }
   ],
   "source": [
    "CI_greecewin_home"
   ]
  },
  {
   "cell_type": "code",
   "execution_count": 141,
   "id": "31edfbf9",
   "metadata": {},
   "outputs": [],
   "source": [
    "CI_greecewin_away=proportion_confint(count=x[0,2],nobs=x[0,3],alpha=(1-.95))"
   ]
  },
  {
   "cell_type": "code",
   "execution_count": 142,
   "id": "f54e6b14",
   "metadata": {},
   "outputs": [
    {
     "data": {
      "text/plain": [
       "(0.13323203596052113, 1.0)"
      ]
     },
     "execution_count": 142,
     "metadata": {},
     "output_type": "execute_result"
    }
   ],
   "source": [
    "CI_greecewin_away"
   ]
  },
  {
   "cell_type": "code",
   "execution_count": 143,
   "id": "ec7ff90a",
   "metadata": {},
   "outputs": [
    {
     "data": {
      "text/html": [
       "<div>\n",
       "<style scoped>\n",
       "    .dataframe tbody tr th:only-of-type {\n",
       "        vertical-align: middle;\n",
       "    }\n",
       "\n",
       "    .dataframe tbody tr th {\n",
       "        vertical-align: top;\n",
       "    }\n",
       "\n",
       "    .dataframe thead th {\n",
       "        text-align: right;\n",
       "    }\n",
       "</style>\n",
       "<table border=\"1\" class=\"dataframe\">\n",
       "  <thead>\n",
       "    <tr style=\"text-align: right;\">\n",
       "      <th></th>\n",
       "      <th>home</th>\n",
       "      <th>lb</th>\n",
       "      <th>ub</th>\n",
       "    </tr>\n",
       "  </thead>\n",
       "  <tbody>\n",
       "    <tr>\n",
       "      <th>0</th>\n",
       "      <td>Yes</td>\n",
       "      <td>0.412031</td>\n",
       "      <td>0.531789</td>\n",
       "    </tr>\n",
       "    <tr>\n",
       "      <th>1</th>\n",
       "      <td>No</td>\n",
       "      <td>0.133232</td>\n",
       "      <td>1.000000</td>\n",
       "    </tr>\n",
       "  </tbody>\n",
       "</table>\n",
       "</div>"
      ],
      "text/plain": [
       "  home        lb        ub\n",
       "0  Yes  0.412031  0.531789\n",
       "1   No  0.133232  1.000000"
      ]
     },
     "execution_count": 143,
     "metadata": {},
     "output_type": "execute_result"
    }
   ],
   "source": [
    "CI_greecewin = {}\n",
    "CI_greecewin['home'] = ['Yes','No']\n",
    "CI_greecewin['lb'] = [CI_greecewin_home[0],CI_greecewin_away[0]]\n",
    "CI_greecewin['ub'] = [CI_greecewin_home[1],CI_greecewin_away[1]]\n",
    "df_ci= pd.DataFrame(CI_greecewin)\n",
    "df_ci"
   ]
  },
  {
   "cell_type": "code",
   "execution_count": 144,
   "id": "35297596",
   "metadata": {},
   "outputs": [
    {
     "data": {
      "text/plain": [
       "([<matplotlib.axis.YTick at 0x7f98d83511c0>,\n",
       "  <matplotlib.axis.YTick at 0x7f98d834ab20>],\n",
       " [Text(0, 0, 'Yes'), Text(0, 1, 'No')])"
      ]
     },
     "execution_count": 144,
     "metadata": {},
     "output_type": "execute_result"
    },
    {
     "data": {
      "image/png": "[encoded data removed]",
      "text/plain": [
       "<Figure size 432x288 with 1 Axes>"
      ]
     },
     "metadata": {
      "needs_background": "light"
     },
     "output_type": "display_data"
    }
   ],
   "source": [
    "for lb,ub,y in zip(df_ci['lb'],df_ci['ub'],range(len(df_ci))):\n",
    "    plt.plot((lb,ub),(y,y),'ro-')\n",
    "plt.yticks(range(len(df_ci)),list(df_ci['home']))"
   ]
  },
  {
   "cell_type": "markdown",
   "id": "a81f875f",
   "metadata": {},
   "source": [
    "#### In Australia"
   ]
  },
  {
   "cell_type": "code",
   "execution_count": 145,
   "id": "172336cd",
   "metadata": {},
   "outputs": [
    {
     "name": "stderr",
     "output_type": "stream",
     "text": [
      "/var/folders/3m/bxpcj6d907q836kvw4zwr1340000gn/T/ipykernel_94023/943178846.py:1: SettingWithCopyWarning: \n",
      "A value is trying to be set on a copy of a slice from a DataFrame.\n",
      "Try using .loc[row_indexer,col_indexer] = value instead\n",
      "\n",
      "See the caveats in the documentation: https://pandas.pydata.org/pandas-docs/stable/user_guide/indexing.html#returning-a-view-versus-a-copy\n",
      "  df_noneutralaustralia['home']=(df_noneutralaustralia['home_team']=='Australia')\n"
     ]
    }
   ],
   "source": [
    "df_noneutralaustralia['home']=(df_noneutralaustralia['home_team']=='Australia')"
   ]
  },
  {
   "cell_type": "code",
   "execution_count": 146,
   "id": "d0b4a0fb",
   "metadata": {},
   "outputs": [
    {
     "data": {
      "text/plain": [
       "True    218\n",
       "Name: home, dtype: int64"
      ]
     },
     "execution_count": 146,
     "metadata": {},
     "output_type": "execute_result"
    }
   ],
   "source": [
    "df_noneutralaustralia['home'].value_counts()"
   ]
  },
  {
   "cell_type": "code",
   "execution_count": 147,
   "id": "4d9c3510",
   "metadata": {},
   "outputs": [],
   "source": [
    "x=pd.crosstab(df_noneutralaustralia['home'],df_noneutralaustralia['result'],margins=True)"
   ]
  },
  {
   "cell_type": "code",
   "execution_count": 148,
   "id": "8a90e8b7",
   "metadata": {},
   "outputs": [
    {
     "data": {
      "text/html": [
       "<div>\n",
       "<style scoped>\n",
       "    .dataframe tbody tr th:only-of-type {\n",
       "        vertical-align: middle;\n",
       "    }\n",
       "\n",
       "    .dataframe tbody tr th {\n",
       "        vertical-align: top;\n",
       "    }\n",
       "\n",
       "    .dataframe thead th {\n",
       "        text-align: right;\n",
       "    }\n",
       "</style>\n",
       "<table border=\"1\" class=\"dataframe\">\n",
       "  <thead>\n",
       "    <tr style=\"text-align: right;\">\n",
       "      <th>result</th>\n",
       "      <th>draw</th>\n",
       "      <th>lose</th>\n",
       "      <th>win</th>\n",
       "      <th>All</th>\n",
       "    </tr>\n",
       "    <tr>\n",
       "      <th>home</th>\n",
       "      <th></th>\n",
       "      <th></th>\n",
       "      <th></th>\n",
       "      <th></th>\n",
       "    </tr>\n",
       "  </thead>\n",
       "  <tbody>\n",
       "    <tr>\n",
       "      <th>True</th>\n",
       "      <td>42</td>\n",
       "      <td>54</td>\n",
       "      <td>122</td>\n",
       "      <td>218</td>\n",
       "    </tr>\n",
       "    <tr>\n",
       "      <th>All</th>\n",
       "      <td>42</td>\n",
       "      <td>54</td>\n",
       "      <td>122</td>\n",
       "      <td>218</td>\n",
       "    </tr>\n",
       "  </tbody>\n",
       "</table>\n",
       "</div>"
      ],
      "text/plain": [
       "result  draw  lose  win  All\n",
       "home                        \n",
       "True      42    54  122  218\n",
       "All       42    54  122  218"
      ]
     },
     "execution_count": 148,
     "metadata": {},
     "output_type": "execute_result"
    }
   ],
   "source": [
    "x"
   ]
  },
  {
   "cell_type": "code",
   "execution_count": 149,
   "id": "d682f54c",
   "metadata": {},
   "outputs": [
    {
     "data": {
      "text/html": [
       "<div>\n",
       "<style scoped>\n",
       "    .dataframe tbody tr th:only-of-type {\n",
       "        vertical-align: middle;\n",
       "    }\n",
       "\n",
       "    .dataframe tbody tr th {\n",
       "        vertical-align: top;\n",
       "    }\n",
       "\n",
       "    .dataframe thead th {\n",
       "        text-align: right;\n",
       "    }\n",
       "</style>\n",
       "<table border=\"1\" class=\"dataframe\">\n",
       "  <thead>\n",
       "    <tr style=\"text-align: right;\">\n",
       "      <th></th>\n",
       "      <th>date</th>\n",
       "      <th>home_team</th>\n",
       "      <th>away_team</th>\n",
       "      <th>home_score</th>\n",
       "      <th>away_score</th>\n",
       "      <th>tournament</th>\n",
       "      <th>city</th>\n",
       "      <th>country</th>\n",
       "      <th>neutral</th>\n",
       "      <th>result</th>\n",
       "      <th>home</th>\n",
       "    </tr>\n",
       "  </thead>\n",
       "  <tbody>\n",
       "    <tr>\n",
       "      <th>726</th>\n",
       "      <td>6/9/1923</td>\n",
       "      <td>Australia</td>\n",
       "      <td>New Zealand</td>\n",
       "      <td>2</td>\n",
       "      <td>1</td>\n",
       "      <td>Friendly</td>\n",
       "      <td>Brisbane</td>\n",
       "      <td>Australia</td>\n",
       "      <td>False</td>\n",
       "      <td>win</td>\n",
       "      <td>True</td>\n",
       "    </tr>\n",
       "    <tr>\n",
       "      <th>729</th>\n",
       "      <td>6/16/1923</td>\n",
       "      <td>Australia</td>\n",
       "      <td>New Zealand</td>\n",
       "      <td>2</td>\n",
       "      <td>3</td>\n",
       "      <td>Friendly</td>\n",
       "      <td>Sydney</td>\n",
       "      <td>Australia</td>\n",
       "      <td>False</td>\n",
       "      <td>lose</td>\n",
       "      <td>True</td>\n",
       "    </tr>\n",
       "    <tr>\n",
       "      <th>737</th>\n",
       "      <td>6/30/1923</td>\n",
       "      <td>Australia</td>\n",
       "      <td>New Zealand</td>\n",
       "      <td>1</td>\n",
       "      <td>4</td>\n",
       "      <td>Friendly</td>\n",
       "      <td>Newcastle</td>\n",
       "      <td>Australia</td>\n",
       "      <td>False</td>\n",
       "      <td>lose</td>\n",
       "      <td>True</td>\n",
       "    </tr>\n",
       "    <tr>\n",
       "      <th>811</th>\n",
       "      <td>6/7/1924</td>\n",
       "      <td>Australia</td>\n",
       "      <td>Canada</td>\n",
       "      <td>3</td>\n",
       "      <td>2</td>\n",
       "      <td>Friendly</td>\n",
       "      <td>Brisbane</td>\n",
       "      <td>Australia</td>\n",
       "      <td>False</td>\n",
       "      <td>win</td>\n",
       "      <td>True</td>\n",
       "    </tr>\n",
       "  </tbody>\n",
       "</table>\n",
       "</div>"
      ],
      "text/plain": [
       "          date  home_team    away_team  home_score  away_score tournament  \\\n",
       "726   6/9/1923  Australia  New Zealand           2           1   Friendly   \n",
       "729  6/16/1923  Australia  New Zealand           2           3   Friendly   \n",
       "737  6/30/1923  Australia  New Zealand           1           4   Friendly   \n",
       "811   6/7/1924  Australia       Canada           3           2   Friendly   \n",
       "\n",
       "          city    country  neutral result  home  \n",
       "726   Brisbane  Australia    False    win  True  \n",
       "729     Sydney  Australia    False   lose  True  \n",
       "737  Newcastle  Australia    False   lose  True  \n",
       "811   Brisbane  Australia    False    win  True  "
      ]
     },
     "execution_count": 149,
     "metadata": {},
     "output_type": "execute_result"
    }
   ],
   "source": [
    "df_noneutralaustralia.head(4)"
   ]
  },
  {
   "cell_type": "code",
   "execution_count": 150,
   "id": "90db58b3",
   "metadata": {},
   "outputs": [],
   "source": [
    "x=np.array(x)"
   ]
  },
  {
   "cell_type": "code",
   "execution_count": 151,
   "id": "ed55c140",
   "metadata": {},
   "outputs": [
    {
     "data": {
      "text/plain": [
       "array([[ 42,  54, 122, 218],\n",
       "       [ 42,  54, 122, 218]])"
      ]
     },
     "execution_count": 151,
     "metadata": {},
     "output_type": "execute_result"
    }
   ],
   "source": [
    "x"
   ]
  },
  {
   "cell_type": "code",
   "execution_count": 152,
   "id": "64e97471",
   "metadata": {},
   "outputs": [],
   "source": [
    "CI_australiawin_home=proportion_confint(count=x[1,2],nobs=x[1,3],alpha=(1-.95))"
   ]
  },
  {
   "cell_type": "code",
   "execution_count": 153,
   "id": "aba27b4c",
   "metadata": {},
   "outputs": [
    {
     "data": {
      "text/plain": [
       "(0.49373401870225625, 0.6255320363436153)"
      ]
     },
     "execution_count": 153,
     "metadata": {},
     "output_type": "execute_result"
    }
   ],
   "source": [
    "CI_australiawin_home"
   ]
  },
  {
   "cell_type": "code",
   "execution_count": 154,
   "id": "598522c5",
   "metadata": {},
   "outputs": [],
   "source": [
    "CI_australiawin_away=proportion_confint(count=x[0,2],nobs=x[0,3],alpha=(1-.95))"
   ]
  },
  {
   "cell_type": "code",
   "execution_count": 155,
   "id": "8d082551",
   "metadata": {},
   "outputs": [
    {
     "data": {
      "text/plain": [
       "(0.49373401870225625, 0.6255320363436153)"
      ]
     },
     "execution_count": 155,
     "metadata": {},
     "output_type": "execute_result"
    }
   ],
   "source": [
    "CI_australiawin_away"
   ]
  },
  {
   "cell_type": "code",
   "execution_count": 156,
   "id": "12964774",
   "metadata": {},
   "outputs": [
    {
     "data": {
      "text/html": [
       "<div>\n",
       "<style scoped>\n",
       "    .dataframe tbody tr th:only-of-type {\n",
       "        vertical-align: middle;\n",
       "    }\n",
       "\n",
       "    .dataframe tbody tr th {\n",
       "        vertical-align: top;\n",
       "    }\n",
       "\n",
       "    .dataframe thead th {\n",
       "        text-align: right;\n",
       "    }\n",
       "</style>\n",
       "<table border=\"1\" class=\"dataframe\">\n",
       "  <thead>\n",
       "    <tr style=\"text-align: right;\">\n",
       "      <th></th>\n",
       "      <th>home</th>\n",
       "      <th>lb</th>\n",
       "      <th>ub</th>\n",
       "    </tr>\n",
       "  </thead>\n",
       "  <tbody>\n",
       "    <tr>\n",
       "      <th>0</th>\n",
       "      <td>Yes</td>\n",
       "      <td>0.493734</td>\n",
       "      <td>0.625532</td>\n",
       "    </tr>\n",
       "    <tr>\n",
       "      <th>1</th>\n",
       "      <td>No</td>\n",
       "      <td>0.493734</td>\n",
       "      <td>0.625532</td>\n",
       "    </tr>\n",
       "  </tbody>\n",
       "</table>\n",
       "</div>"
      ],
      "text/plain": [
       "  home        lb        ub\n",
       "0  Yes  0.493734  0.625532\n",
       "1   No  0.493734  0.625532"
      ]
     },
     "execution_count": 156,
     "metadata": {},
     "output_type": "execute_result"
    }
   ],
   "source": [
    "CI_australiawin = {}\n",
    "CI_australiawin['home'] = ['Yes','No']\n",
    "CI_australiawin['lb'] = [CI_australiawin_home[0],CI_australiawin_away[0]]\n",
    "CI_australiawin['ub'] = [CI_australiawin_home[1],CI_australiawin_away[1]]\n",
    "df_ci= pd.DataFrame(CI_australiawin)\n",
    "df_ci"
   ]
  },
  {
   "cell_type": "code",
   "execution_count": 157,
   "id": "31108ef7",
   "metadata": {},
   "outputs": [
    {
     "data": {
      "text/plain": [
       "([<matplotlib.axis.YTick at 0x7f98cb2f8460>,\n",
       "  <matplotlib.axis.YTick at 0x7f98cb2f1dc0>],\n",
       " [Text(0, 0, 'Yes'), Text(0, 1, 'No')])"
      ]
     },
     "execution_count": 157,
     "metadata": {},
     "output_type": "execute_result"
    },
    {
     "data": {
      "image/png": "[encoded data removed]",
      "text/plain": [
       "<Figure size 432x288 with 1 Axes>"
      ]
     },
     "metadata": {
      "needs_background": "light"
     },
     "output_type": "display_data"
    }
   ],
   "source": [
    "for lb,ub,y in zip(df_ci['lb'],df_ci['ub'],range(len(df_ci))):\n",
    "    plt.plot((lb,ub),(y,y),'ro-')\n",
    "plt.yticks(range(len(df_ci)),list(df_ci['home']))"
   ]
  },
  {
   "cell_type": "markdown",
   "id": "38f80643",
   "metadata": {},
   "source": [
    "#### In Jamaica"
   ]
  },
  {
   "cell_type": "code",
   "execution_count": 158,
   "id": "53298188",
   "metadata": {},
   "outputs": [
    {
     "name": "stderr",
     "output_type": "stream",
     "text": [
      "/var/folders/3m/bxpcj6d907q836kvw4zwr1340000gn/T/ipykernel_94023/3390571164.py:1: SettingWithCopyWarning: \n",
      "A value is trying to be set on a copy of a slice from a DataFrame.\n",
      "Try using .loc[row_indexer,col_indexer] = value instead\n",
      "\n",
      "See the caveats in the documentation: https://pandas.pydata.org/pandas-docs/stable/user_guide/indexing.html#returning-a-view-versus-a-copy\n",
      "  df_noneutraljamaica['home']=(df_noneutraljamaica['home_team']=='Jamaica')\n"
     ]
    }
   ],
   "source": [
    "df_noneutraljamaica['home']=(df_noneutraljamaica['home_team']=='Jamaica')"
   ]
  },
  {
   "cell_type": "code",
   "execution_count": 159,
   "id": "7cb121ce",
   "metadata": {},
   "outputs": [
    {
     "data": {
      "text/plain": [
       "True    221\n",
       "Name: home, dtype: int64"
      ]
     },
     "execution_count": 159,
     "metadata": {},
     "output_type": "execute_result"
    }
   ],
   "source": [
    "df_noneutraljamaica['home'].value_counts()"
   ]
  },
  {
   "cell_type": "code",
   "execution_count": 160,
   "id": "6dfcb4fa",
   "metadata": {},
   "outputs": [],
   "source": [
    "x=pd.crosstab(df_noneutraljamaica['home'],df_noneutraljamaica['result'],margins=True)"
   ]
  },
  {
   "cell_type": "code",
   "execution_count": 161,
   "id": "df1387ae",
   "metadata": {},
   "outputs": [
    {
     "data": {
      "text/html": [
       "<div>\n",
       "<style scoped>\n",
       "    .dataframe tbody tr th:only-of-type {\n",
       "        vertical-align: middle;\n",
       "    }\n",
       "\n",
       "    .dataframe tbody tr th {\n",
       "        vertical-align: top;\n",
       "    }\n",
       "\n",
       "    .dataframe thead th {\n",
       "        text-align: right;\n",
       "    }\n",
       "</style>\n",
       "<table border=\"1\" class=\"dataframe\">\n",
       "  <thead>\n",
       "    <tr style=\"text-align: right;\">\n",
       "      <th>result</th>\n",
       "      <th>draw</th>\n",
       "      <th>lose</th>\n",
       "      <th>win</th>\n",
       "      <th>All</th>\n",
       "    </tr>\n",
       "    <tr>\n",
       "      <th>home</th>\n",
       "      <th></th>\n",
       "      <th></th>\n",
       "      <th></th>\n",
       "      <th></th>\n",
       "    </tr>\n",
       "  </thead>\n",
       "  <tbody>\n",
       "    <tr>\n",
       "      <th>True</th>\n",
       "      <td>55</td>\n",
       "      <td>49</td>\n",
       "      <td>117</td>\n",
       "      <td>221</td>\n",
       "    </tr>\n",
       "    <tr>\n",
       "      <th>All</th>\n",
       "      <td>55</td>\n",
       "      <td>49</td>\n",
       "      <td>117</td>\n",
       "      <td>221</td>\n",
       "    </tr>\n",
       "  </tbody>\n",
       "</table>\n",
       "</div>"
      ],
      "text/plain": [
       "result  draw  lose  win  All\n",
       "home                        \n",
       "True      55    49  117  221\n",
       "All       55    49  117  221"
      ]
     },
     "execution_count": 161,
     "metadata": {},
     "output_type": "execute_result"
    }
   ],
   "source": [
    "x"
   ]
  },
  {
   "cell_type": "code",
   "execution_count": 162,
   "id": "d584b9bc",
   "metadata": {},
   "outputs": [
    {
     "data": {
      "text/html": [
       "<div>\n",
       "<style scoped>\n",
       "    .dataframe tbody tr th:only-of-type {\n",
       "        vertical-align: middle;\n",
       "    }\n",
       "\n",
       "    .dataframe tbody tr th {\n",
       "        vertical-align: top;\n",
       "    }\n",
       "\n",
       "    .dataframe thead th {\n",
       "        text-align: right;\n",
       "    }\n",
       "</style>\n",
       "<table border=\"1\" class=\"dataframe\">\n",
       "  <thead>\n",
       "    <tr style=\"text-align: right;\">\n",
       "      <th></th>\n",
       "      <th>date</th>\n",
       "      <th>home_team</th>\n",
       "      <th>away_team</th>\n",
       "      <th>home_score</th>\n",
       "      <th>away_score</th>\n",
       "      <th>tournament</th>\n",
       "      <th>city</th>\n",
       "      <th>country</th>\n",
       "      <th>neutral</th>\n",
       "      <th>result</th>\n",
       "      <th>home</th>\n",
       "    </tr>\n",
       "  </thead>\n",
       "  <tbody>\n",
       "    <tr>\n",
       "      <th>953</th>\n",
       "      <td>3/3/1926</td>\n",
       "      <td>Jamaica</td>\n",
       "      <td>Curaçao</td>\n",
       "      <td>2</td>\n",
       "      <td>0</td>\n",
       "      <td>Friendly</td>\n",
       "      <td>Kingston</td>\n",
       "      <td>Jamaica</td>\n",
       "      <td>False</td>\n",
       "      <td>win</td>\n",
       "      <td>True</td>\n",
       "    </tr>\n",
       "    <tr>\n",
       "      <th>1025</th>\n",
       "      <td>11/20/1926</td>\n",
       "      <td>Jamaica</td>\n",
       "      <td>Haiti</td>\n",
       "      <td>6</td>\n",
       "      <td>0</td>\n",
       "      <td>Friendly</td>\n",
       "      <td>Kingston</td>\n",
       "      <td>Jamaica</td>\n",
       "      <td>False</td>\n",
       "      <td>win</td>\n",
       "      <td>True</td>\n",
       "    </tr>\n",
       "    <tr>\n",
       "      <th>1855</th>\n",
       "      <td>12/28/1935</td>\n",
       "      <td>Jamaica</td>\n",
       "      <td>Trinidad and Tobago</td>\n",
       "      <td>2</td>\n",
       "      <td>3</td>\n",
       "      <td>Friendly</td>\n",
       "      <td>Kingston</td>\n",
       "      <td>Jamaica</td>\n",
       "      <td>False</td>\n",
       "      <td>lose</td>\n",
       "      <td>True</td>\n",
       "    </tr>\n",
       "    <tr>\n",
       "      <th>1857</th>\n",
       "      <td>1/4/1936</td>\n",
       "      <td>Jamaica</td>\n",
       "      <td>Trinidad and Tobago</td>\n",
       "      <td>0</td>\n",
       "      <td>1</td>\n",
       "      <td>Friendly</td>\n",
       "      <td>Kingston</td>\n",
       "      <td>Jamaica</td>\n",
       "      <td>False</td>\n",
       "      <td>lose</td>\n",
       "      <td>True</td>\n",
       "    </tr>\n",
       "  </tbody>\n",
       "</table>\n",
       "</div>"
      ],
      "text/plain": [
       "            date home_team            away_team  home_score  away_score  \\\n",
       "953     3/3/1926   Jamaica              Curaçao           2           0   \n",
       "1025  11/20/1926   Jamaica                Haiti           6           0   \n",
       "1855  12/28/1935   Jamaica  Trinidad and Tobago           2           3   \n",
       "1857    1/4/1936   Jamaica  Trinidad and Tobago           0           1   \n",
       "\n",
       "     tournament      city  country  neutral result  home  \n",
       "953    Friendly  Kingston  Jamaica    False    win  True  \n",
       "1025   Friendly  Kingston  Jamaica    False    win  True  \n",
       "1855   Friendly  Kingston  Jamaica    False   lose  True  \n",
       "1857   Friendly  Kingston  Jamaica    False   lose  True  "
      ]
     },
     "execution_count": 162,
     "metadata": {},
     "output_type": "execute_result"
    }
   ],
   "source": [
    "df_noneutraljamaica.head(4)"
   ]
  },
  {
   "cell_type": "code",
   "execution_count": 163,
   "id": "2a155927",
   "metadata": {},
   "outputs": [],
   "source": [
    "x=np.array(x)"
   ]
  },
  {
   "cell_type": "code",
   "execution_count": 164,
   "id": "511be189",
   "metadata": {},
   "outputs": [
    {
     "data": {
      "text/plain": [
       "array([[ 55,  49, 117, 221],\n",
       "       [ 55,  49, 117, 221]])"
      ]
     },
     "execution_count": 164,
     "metadata": {},
     "output_type": "execute_result"
    }
   ],
   "source": [
    "x"
   ]
  },
  {
   "cell_type": "code",
   "execution_count": 165,
   "id": "e0be3782",
   "metadata": {},
   "outputs": [],
   "source": [
    "CI_jamaicawin_home=proportion_confint(count=x[1,2],nobs=x[1,3],alpha=(1-.95))"
   ]
  },
  {
   "cell_type": "code",
   "execution_count": 166,
   "id": "6c65afb8",
   "metadata": {},
   "outputs": [
    {
     "data": {
      "text/plain": [
       "(0.4636051907480843, 0.5952183386636805)"
      ]
     },
     "execution_count": 166,
     "metadata": {},
     "output_type": "execute_result"
    }
   ],
   "source": [
    "CI_jamaicawin_home"
   ]
  },
  {
   "cell_type": "code",
   "execution_count": 167,
   "id": "07e4388a",
   "metadata": {},
   "outputs": [],
   "source": [
    "CI_jamaicawin_away=proportion_confint(count=x[0,2],nobs=x[0,3],alpha=(1-.95))"
   ]
  },
  {
   "cell_type": "code",
   "execution_count": 168,
   "id": "ca082cc1",
   "metadata": {},
   "outputs": [
    {
     "data": {
      "text/plain": [
       "(0.4636051907480843, 0.5952183386636805)"
      ]
     },
     "execution_count": 168,
     "metadata": {},
     "output_type": "execute_result"
    }
   ],
   "source": [
    "CI_jamaicawin_away"
   ]
  },
  {
   "cell_type": "code",
   "execution_count": 169,
   "id": "ccdab756",
   "metadata": {},
   "outputs": [
    {
     "data": {
      "text/html": [
       "<div>\n",
       "<style scoped>\n",
       "    .dataframe tbody tr th:only-of-type {\n",
       "        vertical-align: middle;\n",
       "    }\n",
       "\n",
       "    .dataframe tbody tr th {\n",
       "        vertical-align: top;\n",
       "    }\n",
       "\n",
       "    .dataframe thead th {\n",
       "        text-align: right;\n",
       "    }\n",
       "</style>\n",
       "<table border=\"1\" class=\"dataframe\">\n",
       "  <thead>\n",
       "    <tr style=\"text-align: right;\">\n",
       "      <th></th>\n",
       "      <th>home</th>\n",
       "      <th>lb</th>\n",
       "      <th>ub</th>\n",
       "    </tr>\n",
       "  </thead>\n",
       "  <tbody>\n",
       "    <tr>\n",
       "      <th>0</th>\n",
       "      <td>Yes</td>\n",
       "      <td>0.463605</td>\n",
       "      <td>0.595218</td>\n",
       "    </tr>\n",
       "    <tr>\n",
       "      <th>1</th>\n",
       "      <td>No</td>\n",
       "      <td>0.463605</td>\n",
       "      <td>0.595218</td>\n",
       "    </tr>\n",
       "  </tbody>\n",
       "</table>\n",
       "</div>"
      ],
      "text/plain": [
       "  home        lb        ub\n",
       "0  Yes  0.463605  0.595218\n",
       "1   No  0.463605  0.595218"
      ]
     },
     "execution_count": 169,
     "metadata": {},
     "output_type": "execute_result"
    }
   ],
   "source": [
    "CI_jamaicawin = {}\n",
    "CI_jamaicawin['home'] = ['Yes','No']\n",
    "CI_jamaicawin['lb'] = [CI_jamaicawin_home[0],CI_jamaicawin_away[0]]\n",
    "CI_jamaicawin['ub'] = [CI_jamaicawin_home[1],CI_jamaicawin_away[1]]\n",
    "df_ci= pd.DataFrame(CI_jamaicawin)\n",
    "df_ci"
   ]
  },
  {
   "cell_type": "code",
   "execution_count": 170,
   "id": "8c5787de",
   "metadata": {},
   "outputs": [
    {
     "data": {
      "text/plain": [
       "([<matplotlib.axis.YTick at 0x7f98e96dec40>,\n",
       "  <matplotlib.axis.YTick at 0x7f98e96de6d0>],\n",
       " [Text(0, 0, 'Yes'), Text(0, 1, 'No')])"
      ]
     },
     "execution_count": 170,
     "metadata": {},
     "output_type": "execute_result"
    },
    {
     "data": {
      "image/png": "[encoded data removed]",
      "text/plain": [
       "<Figure size 432x288 with 1 Axes>"
      ]
     },
     "metadata": {
      "needs_background": "light"
     },
     "output_type": "display_data"
    }
   ],
   "source": [
    "for lb,ub,y in zip(df_ci['lb'],df_ci['ub'],range(len(df_ci))):\n",
    "    plt.plot((lb,ub),(y,y),'ro-')\n",
    "plt.yticks(range(len(df_ci)),list(df_ci['home']))"
   ]
  },
  {
   "cell_type": "markdown",
   "id": "099d3058",
   "metadata": {},
   "source": [
    "#### In Peru"
   ]
  },
  {
   "cell_type": "code",
   "execution_count": 171,
   "id": "e878a35a",
   "metadata": {},
   "outputs": [
    {
     "name": "stderr",
     "output_type": "stream",
     "text": [
      "/var/folders/3m/bxpcj6d907q836kvw4zwr1340000gn/T/ipykernel_94023/4177427899.py:1: SettingWithCopyWarning: \n",
      "A value is trying to be set on a copy of a slice from a DataFrame.\n",
      "Try using .loc[row_indexer,col_indexer] = value instead\n",
      "\n",
      "See the caveats in the documentation: https://pandas.pydata.org/pandas-docs/stable/user_guide/indexing.html#returning-a-view-versus-a-copy\n",
      "  df_noneutralperu['home']=(df_noneutralperu['home_team']=='Peru')\n"
     ]
    }
   ],
   "source": [
    "df_noneutralperu['home']=(df_noneutralperu['home_team']=='Peru')"
   ]
  },
  {
   "cell_type": "code",
   "execution_count": 172,
   "id": "6f2a79d7",
   "metadata": {},
   "outputs": [
    {
     "data": {
      "text/plain": [
       "True    243\n",
       "Name: home, dtype: int64"
      ]
     },
     "execution_count": 172,
     "metadata": {},
     "output_type": "execute_result"
    }
   ],
   "source": [
    "df_noneutralperu['home'].value_counts()"
   ]
  },
  {
   "cell_type": "code",
   "execution_count": 173,
   "id": "81cc4d84",
   "metadata": {},
   "outputs": [],
   "source": [
    "x=pd.crosstab(df_noneutralperu['home'],df_noneutralperu['result'],margins=True)"
   ]
  },
  {
   "cell_type": "code",
   "execution_count": 174,
   "id": "1b5efc9d",
   "metadata": {},
   "outputs": [
    {
     "data": {
      "text/html": [
       "<div>\n",
       "<style scoped>\n",
       "    .dataframe tbody tr th:only-of-type {\n",
       "        vertical-align: middle;\n",
       "    }\n",
       "\n",
       "    .dataframe tbody tr th {\n",
       "        vertical-align: top;\n",
       "    }\n",
       "\n",
       "    .dataframe thead th {\n",
       "        text-align: right;\n",
       "    }\n",
       "</style>\n",
       "<table border=\"1\" class=\"dataframe\">\n",
       "  <thead>\n",
       "    <tr style=\"text-align: right;\">\n",
       "      <th>result</th>\n",
       "      <th>draw</th>\n",
       "      <th>lose</th>\n",
       "      <th>win</th>\n",
       "      <th>All</th>\n",
       "    </tr>\n",
       "    <tr>\n",
       "      <th>home</th>\n",
       "      <th></th>\n",
       "      <th></th>\n",
       "      <th></th>\n",
       "      <th></th>\n",
       "    </tr>\n",
       "  </thead>\n",
       "  <tbody>\n",
       "    <tr>\n",
       "      <th>True</th>\n",
       "      <td>53</td>\n",
       "      <td>82</td>\n",
       "      <td>108</td>\n",
       "      <td>243</td>\n",
       "    </tr>\n",
       "    <tr>\n",
       "      <th>All</th>\n",
       "      <td>53</td>\n",
       "      <td>82</td>\n",
       "      <td>108</td>\n",
       "      <td>243</td>\n",
       "    </tr>\n",
       "  </tbody>\n",
       "</table>\n",
       "</div>"
      ],
      "text/plain": [
       "result  draw  lose  win  All\n",
       "home                        \n",
       "True      53    82  108  243\n",
       "All       53    82  108  243"
      ]
     },
     "execution_count": 174,
     "metadata": {},
     "output_type": "execute_result"
    }
   ],
   "source": [
    "x"
   ]
  },
  {
   "cell_type": "code",
   "execution_count": 175,
   "id": "5319e35c",
   "metadata": {},
   "outputs": [
    {
     "data": {
      "text/html": [
       "<div>\n",
       "<style scoped>\n",
       "    .dataframe tbody tr th:only-of-type {\n",
       "        vertical-align: middle;\n",
       "    }\n",
       "\n",
       "    .dataframe tbody tr th {\n",
       "        vertical-align: top;\n",
       "    }\n",
       "\n",
       "    .dataframe thead th {\n",
       "        text-align: right;\n",
       "    }\n",
       "</style>\n",
       "<table border=\"1\" class=\"dataframe\">\n",
       "  <thead>\n",
       "    <tr style=\"text-align: right;\">\n",
       "      <th></th>\n",
       "      <th>date</th>\n",
       "      <th>home_team</th>\n",
       "      <th>away_team</th>\n",
       "      <th>home_score</th>\n",
       "      <th>away_score</th>\n",
       "      <th>tournament</th>\n",
       "      <th>city</th>\n",
       "      <th>country</th>\n",
       "      <th>neutral</th>\n",
       "      <th>result</th>\n",
       "      <th>home</th>\n",
       "    </tr>\n",
       "  </thead>\n",
       "  <tbody>\n",
       "    <tr>\n",
       "      <th>1096</th>\n",
       "      <td>11/1/1927</td>\n",
       "      <td>Peru</td>\n",
       "      <td>Uruguay</td>\n",
       "      <td>0</td>\n",
       "      <td>4</td>\n",
       "      <td>Copa América</td>\n",
       "      <td>Lima</td>\n",
       "      <td>Peru</td>\n",
       "      <td>False</td>\n",
       "      <td>lose</td>\n",
       "      <td>True</td>\n",
       "    </tr>\n",
       "    <tr>\n",
       "      <th>1103</th>\n",
       "      <td>11/13/1927</td>\n",
       "      <td>Peru</td>\n",
       "      <td>Bolivia</td>\n",
       "      <td>3</td>\n",
       "      <td>2</td>\n",
       "      <td>Copa América</td>\n",
       "      <td>Lima</td>\n",
       "      <td>Peru</td>\n",
       "      <td>False</td>\n",
       "      <td>win</td>\n",
       "      <td>True</td>\n",
       "    </tr>\n",
       "    <tr>\n",
       "      <th>1106</th>\n",
       "      <td>11/27/1927</td>\n",
       "      <td>Peru</td>\n",
       "      <td>Argentina</td>\n",
       "      <td>1</td>\n",
       "      <td>5</td>\n",
       "      <td>Copa América</td>\n",
       "      <td>Lima</td>\n",
       "      <td>Peru</td>\n",
       "      <td>False</td>\n",
       "      <td>lose</td>\n",
       "      <td>True</td>\n",
       "    </tr>\n",
       "    <tr>\n",
       "      <th>1757</th>\n",
       "      <td>1/13/1935</td>\n",
       "      <td>Peru</td>\n",
       "      <td>Uruguay</td>\n",
       "      <td>0</td>\n",
       "      <td>1</td>\n",
       "      <td>Copa América</td>\n",
       "      <td>Lima</td>\n",
       "      <td>Peru</td>\n",
       "      <td>False</td>\n",
       "      <td>lose</td>\n",
       "      <td>True</td>\n",
       "    </tr>\n",
       "  </tbody>\n",
       "</table>\n",
       "</div>"
      ],
      "text/plain": [
       "            date home_team  away_team  home_score  away_score    tournament  \\\n",
       "1096   11/1/1927      Peru    Uruguay           0           4  Copa América   \n",
       "1103  11/13/1927      Peru    Bolivia           3           2  Copa América   \n",
       "1106  11/27/1927      Peru  Argentina           1           5  Copa América   \n",
       "1757   1/13/1935      Peru    Uruguay           0           1  Copa América   \n",
       "\n",
       "      city country  neutral result  home  \n",
       "1096  Lima    Peru    False   lose  True  \n",
       "1103  Lima    Peru    False    win  True  \n",
       "1106  Lima    Peru    False   lose  True  \n",
       "1757  Lima    Peru    False   lose  True  "
      ]
     },
     "execution_count": 175,
     "metadata": {},
     "output_type": "execute_result"
    }
   ],
   "source": [
    "df_noneutralperu.head(4)"
   ]
  },
  {
   "cell_type": "code",
   "execution_count": 176,
   "id": "45dd8c91",
   "metadata": {},
   "outputs": [],
   "source": [
    "x=np.array(x)"
   ]
  },
  {
   "cell_type": "code",
   "execution_count": 177,
   "id": "030a709a",
   "metadata": {},
   "outputs": [
    {
     "data": {
      "text/plain": [
       "array([[ 53,  82, 108, 243],\n",
       "       [ 53,  82, 108, 243]])"
      ]
     },
     "execution_count": 177,
     "metadata": {},
     "output_type": "execute_result"
    }
   ],
   "source": [
    "x"
   ]
  },
  {
   "cell_type": "code",
   "execution_count": 178,
   "id": "6da5908b",
   "metadata": {},
   "outputs": [],
   "source": [
    "CI_peruwin_home=proportion_confint(count=x[1,2],nobs=x[1,3],alpha=(1-.95))"
   ]
  },
  {
   "cell_type": "code",
   "execution_count": 179,
   "id": "9fe2a918",
   "metadata": {},
   "outputs": [
    {
     "data": {
      "text/plain": [
       "(0.38196783645028837, 0.5069210524386005)"
      ]
     },
     "execution_count": 179,
     "metadata": {},
     "output_type": "execute_result"
    }
   ],
   "source": [
    "CI_peruwin_home"
   ]
  },
  {
   "cell_type": "code",
   "execution_count": 180,
   "id": "efeff2b0",
   "metadata": {},
   "outputs": [],
   "source": [
    "CI_peruwin_away=proportion_confint(count=x[0,2],nobs=x[0,3],alpha=(1-.95))"
   ]
  },
  {
   "cell_type": "code",
   "execution_count": 181,
   "id": "b8f4c1ed",
   "metadata": {},
   "outputs": [
    {
     "data": {
      "text/plain": [
       "(0.38196783645028837, 0.5069210524386005)"
      ]
     },
     "execution_count": 181,
     "metadata": {},
     "output_type": "execute_result"
    }
   ],
   "source": [
    "CI_peruwin_away"
   ]
  },
  {
   "cell_type": "code",
   "execution_count": 182,
   "id": "f55ed54c",
   "metadata": {},
   "outputs": [
    {
     "data": {
      "text/html": [
       "<div>\n",
       "<style scoped>\n",
       "    .dataframe tbody tr th:only-of-type {\n",
       "        vertical-align: middle;\n",
       "    }\n",
       "\n",
       "    .dataframe tbody tr th {\n",
       "        vertical-align: top;\n",
       "    }\n",
       "\n",
       "    .dataframe thead th {\n",
       "        text-align: right;\n",
       "    }\n",
       "</style>\n",
       "<table border=\"1\" class=\"dataframe\">\n",
       "  <thead>\n",
       "    <tr style=\"text-align: right;\">\n",
       "      <th></th>\n",
       "      <th>home</th>\n",
       "      <th>lb</th>\n",
       "      <th>ub</th>\n",
       "    </tr>\n",
       "  </thead>\n",
       "  <tbody>\n",
       "    <tr>\n",
       "      <th>0</th>\n",
       "      <td>Yes</td>\n",
       "      <td>0.381968</td>\n",
       "      <td>0.506921</td>\n",
       "    </tr>\n",
       "    <tr>\n",
       "      <th>1</th>\n",
       "      <td>No</td>\n",
       "      <td>0.381968</td>\n",
       "      <td>0.506921</td>\n",
       "    </tr>\n",
       "  </tbody>\n",
       "</table>\n",
       "</div>"
      ],
      "text/plain": [
       "  home        lb        ub\n",
       "0  Yes  0.381968  0.506921\n",
       "1   No  0.381968  0.506921"
      ]
     },
     "execution_count": 182,
     "metadata": {},
     "output_type": "execute_result"
    }
   ],
   "source": [
    "CI_peruwin = {}\n",
    "CI_peruwin['home'] = ['Yes','No']\n",
    "CI_peruwin['lb'] = [CI_peruwin_home[0],CI_peruwin_away[0]]\n",
    "CI_peruwin['ub'] = [CI_peruwin_home[1],CI_peruwin_away[1]]\n",
    "df_ci= pd.DataFrame(CI_peruwin)\n",
    "df_ci"
   ]
  },
  {
   "cell_type": "code",
   "execution_count": 183,
   "id": "f8c769d8",
   "metadata": {},
   "outputs": [
    {
     "data": {
      "text/plain": [
       "([<matplotlib.axis.YTick at 0x7f98cb4bdd00>,\n",
       "  <matplotlib.axis.YTick at 0x7f98cb4a0e20>],\n",
       " [Text(0, 0, 'Yes'), Text(0, 1, 'No')])"
      ]
     },
     "execution_count": 183,
     "metadata": {},
     "output_type": "execute_result"
    },
    {
     "data": {
      "image/png": "[encoded data removed]",
      "text/plain": [
       "<Figure size 432x288 with 1 Axes>"
      ]
     },
     "metadata": {
      "needs_background": "light"
     },
     "output_type": "display_data"
    }
   ],
   "source": [
    "for lb,ub,y in zip(df_ci['lb'],df_ci['ub'],range(len(df_ci))):\n",
    "    plt.plot((lb,ub),(y,y),'ro-')\n",
    "plt.yticks(range(len(df_ci)),list(df_ci['home']))"
   ]
  },
  {
   "cell_type": "markdown",
   "id": "39bbfd0d",
   "metadata": {},
   "source": [
    "### Discussion"
   ]
  },
  {
   "cell_type": "markdown",
   "id": "1ade1009",
   "metadata": {},
   "source": [
    "The first analysis done was to figure out the likelihood of a team winning in the FIFA World Cup tournament when it was being held in their hometown. This was done by comparing the confidence interval of the results of each country mentioned previously. The results were that Greece and Jamaica were more or less alike, with an insignificant difference. Meanwhile Peru had the lowest confidence interval, which meant that they won the least number of times in this tournament. In addition, Australia had the greatest confidence interval with Algeria being in second place, which meant that the national teams of these countries were most likely to win when the world cup was being played in their home country. The second analysis was aiming to check whether the location a team plays in any sort of tournament would affect their performance or not. Results showed that only Greece was affected by this because the confidence interval when they are the home team was much narrower than when they are the away team. The meaning behind this is that they would be more confident in winning when they are at home because a narrow confidence interval is a sign of a greater level of accuracy. This could be due to the team feeling more confident in a familiar location than anywhere else, or their nerves being comforted by their people being in the stadium with them."
   ]
  },
  {
   "cell_type": "markdown",
   "id": "db1f9d77",
   "metadata": {},
   "source": [
    "### Conclusion"
   ]
  },
  {
   "cell_type": "markdown",
   "id": "2f7227f0",
   "metadata": {},
   "source": [
    "In conclusion, it is clear through the careful analysis of the constructed graphs that the  national team of Australia is the most likely to win the FIFA World Cup tournament when it is held there, while the national team of Peru is the least likely to win amongst the five countries that were being analyzed. Furthermore, four of the five countries that were chosen showed no response to the change of location and fans when they participated in a match except for Greece. Their national team seems to be more sure of themselves that they have a better chance of winning when they play in their home country."
   ]
  },
  {
   "cell_type": "markdown",
   "id": "79c51b49",
   "metadata": {},
   "source": [
    "## Part 2: COVID-19 Cases "
   ]
  },
  {
   "cell_type": "markdown",
   "id": "27c99e8b",
   "metadata": {},
   "source": [
    "### Abstract"
   ]
  },
  {
   "cell_type": "markdown",
   "id": "a1c46740",
   "metadata": {},
   "source": [
    "This dataset is about COVID-19 cases and deaths recorded between the years 2020 and 2021. There are various other variables included in the dataset including, the countries and regions where these numbers were recorded,the populations in each of these countries, income as well as the date, weekday and month when the data was recorded. A code was designed to get the daily reported number of confirmed cases and deaths in South Asia and calculate their ratio. Moreover, there was a code generated to compare the daily confirmed cases and deaths between 2020 and 2021 according to different levels of income as well as continents."
   ]
  },
  {
   "cell_type": "markdown",
   "id": "cf628bb0",
   "metadata": {},
   "source": [
    "#### Import the CSV file "
   ]
  },
  {
   "cell_type": "code",
   "execution_count": 184,
   "id": "a88a4622",
   "metadata": {},
   "outputs": [],
   "source": [
    "df=pd.read_csv('covid_data.csv',encoding='latin-1')"
   ]
  },
  {
   "cell_type": "markdown",
   "id": "329aabb1",
   "metadata": {},
   "source": [
    "#### Show the first 5 records in the dataset"
   ]
  },
  {
   "cell_type": "code",
   "execution_count": 185,
   "id": "89f2cd81",
   "metadata": {},
   "outputs": [
    {
     "data": {
      "text/html": [
       "<div>\n",
       "<style scoped>\n",
       "    .dataframe tbody tr th:only-of-type {\n",
       "        vertical-align: middle;\n",
       "    }\n",
       "\n",
       "    .dataframe tbody tr th {\n",
       "        vertical-align: top;\n",
       "    }\n",
       "\n",
       "    .dataframe thead th {\n",
       "        text-align: right;\n",
       "    }\n",
       "</style>\n",
       "<table border=\"1\" class=\"dataframe\">\n",
       "  <thead>\n",
       "    <tr style=\"text-align: right;\">\n",
       "      <th></th>\n",
       "      <th>date</th>\n",
       "      <th>iso3c</th>\n",
       "      <th>country</th>\n",
       "      <th>income</th>\n",
       "      <th>region</th>\n",
       "      <th>continent</th>\n",
       "      <th>dcases</th>\n",
       "      <th>ddeaths</th>\n",
       "      <th>population</th>\n",
       "      <th>weekdays</th>\n",
       "      <th>month</th>\n",
       "    </tr>\n",
       "  </thead>\n",
       "  <tbody>\n",
       "    <tr>\n",
       "      <th>0</th>\n",
       "      <td>2020-02-24</td>\n",
       "      <td>AFG</td>\n",
       "      <td>Afghanistan</td>\n",
       "      <td>Low income</td>\n",
       "      <td>South Asia</td>\n",
       "      <td>Asia</td>\n",
       "      <td>5</td>\n",
       "      <td>0</td>\n",
       "      <td>38041754</td>\n",
       "      <td>Mon</td>\n",
       "      <td>Feb</td>\n",
       "    </tr>\n",
       "    <tr>\n",
       "      <th>1</th>\n",
       "      <td>2020-02-25</td>\n",
       "      <td>AFG</td>\n",
       "      <td>Afghanistan</td>\n",
       "      <td>Low income</td>\n",
       "      <td>South Asia</td>\n",
       "      <td>Asia</td>\n",
       "      <td>0</td>\n",
       "      <td>0</td>\n",
       "      <td>38041754</td>\n",
       "      <td>Tue</td>\n",
       "      <td>Feb</td>\n",
       "    </tr>\n",
       "    <tr>\n",
       "      <th>2</th>\n",
       "      <td>2020-02-26</td>\n",
       "      <td>AFG</td>\n",
       "      <td>Afghanistan</td>\n",
       "      <td>Low income</td>\n",
       "      <td>South Asia</td>\n",
       "      <td>Asia</td>\n",
       "      <td>0</td>\n",
       "      <td>0</td>\n",
       "      <td>38041754</td>\n",
       "      <td>Wed</td>\n",
       "      <td>Feb</td>\n",
       "    </tr>\n",
       "    <tr>\n",
       "      <th>3</th>\n",
       "      <td>2020-02-27</td>\n",
       "      <td>AFG</td>\n",
       "      <td>Afghanistan</td>\n",
       "      <td>Low income</td>\n",
       "      <td>South Asia</td>\n",
       "      <td>Asia</td>\n",
       "      <td>0</td>\n",
       "      <td>0</td>\n",
       "      <td>38041754</td>\n",
       "      <td>Thu</td>\n",
       "      <td>Feb</td>\n",
       "    </tr>\n",
       "    <tr>\n",
       "      <th>4</th>\n",
       "      <td>2020-02-28</td>\n",
       "      <td>AFG</td>\n",
       "      <td>Afghanistan</td>\n",
       "      <td>Low income</td>\n",
       "      <td>South Asia</td>\n",
       "      <td>Asia</td>\n",
       "      <td>0</td>\n",
       "      <td>0</td>\n",
       "      <td>38041754</td>\n",
       "      <td>Fri</td>\n",
       "      <td>Feb</td>\n",
       "    </tr>\n",
       "  </tbody>\n",
       "</table>\n",
       "</div>"
      ],
      "text/plain": [
       "         date iso3c      country      income      region continent  dcases  \\\n",
       "0  2020-02-24   AFG  Afghanistan  Low income  South Asia      Asia       5   \n",
       "1  2020-02-25   AFG  Afghanistan  Low income  South Asia      Asia       0   \n",
       "2  2020-02-26   AFG  Afghanistan  Low income  South Asia      Asia       0   \n",
       "3  2020-02-27   AFG  Afghanistan  Low income  South Asia      Asia       0   \n",
       "4  2020-02-28   AFG  Afghanistan  Low income  South Asia      Asia       0   \n",
       "\n",
       "   ddeaths  population weekdays month  \n",
       "0        0    38041754      Mon   Feb  \n",
       "1        0    38041754      Tue   Feb  \n",
       "2        0    38041754      Wed   Feb  \n",
       "3        0    38041754      Thu   Feb  \n",
       "4        0    38041754      Fri   Feb  "
      ]
     },
     "execution_count": 185,
     "metadata": {},
     "output_type": "execute_result"
    }
   ],
   "source": [
    "df.head()"
   ]
  },
  {
   "cell_type": "markdown",
   "id": "6934c01c",
   "metadata": {},
   "source": [
    "#### Show a description of the data"
   ]
  },
  {
   "cell_type": "code",
   "execution_count": 186,
   "id": "d57e975e",
   "metadata": {},
   "outputs": [
    {
     "data": {
      "text/plain": [
       "(122843, 11)"
      ]
     },
     "execution_count": 186,
     "metadata": {},
     "output_type": "execute_result"
    }
   ],
   "source": [
    "df.shape"
   ]
  },
  {
   "cell_type": "code",
   "execution_count": 187,
   "id": "f284c419",
   "metadata": {},
   "outputs": [
    {
     "data": {
      "text/html": [
       "<div>\n",
       "<style scoped>\n",
       "    .dataframe tbody tr th:only-of-type {\n",
       "        vertical-align: middle;\n",
       "    }\n",
       "\n",
       "    .dataframe tbody tr th {\n",
       "        vertical-align: top;\n",
       "    }\n",
       "\n",
       "    .dataframe thead th {\n",
       "        text-align: right;\n",
       "    }\n",
       "</style>\n",
       "<table border=\"1\" class=\"dataframe\">\n",
       "  <thead>\n",
       "    <tr style=\"text-align: right;\">\n",
       "      <th></th>\n",
       "      <th>dcases</th>\n",
       "      <th>ddeaths</th>\n",
       "      <th>population</th>\n",
       "    </tr>\n",
       "  </thead>\n",
       "  <tbody>\n",
       "    <tr>\n",
       "      <th>count</th>\n",
       "      <td>122843.000000</td>\n",
       "      <td>122843.000000</td>\n",
       "      <td>1.228430e+05</td>\n",
       "    </tr>\n",
       "    <tr>\n",
       "      <th>mean</th>\n",
       "      <td>2353.722996</td>\n",
       "      <td>44.293024</td>\n",
       "      <td>4.258179e+07</td>\n",
       "    </tr>\n",
       "    <tr>\n",
       "      <th>std</th>\n",
       "      <td>12256.414469</td>\n",
       "      <td>197.945108</td>\n",
       "      <td>1.521859e+08</td>\n",
       "    </tr>\n",
       "    <tr>\n",
       "      <th>min</th>\n",
       "      <td>0.000000</td>\n",
       "      <td>0.000000</td>\n",
       "      <td>1.800800e+04</td>\n",
       "    </tr>\n",
       "    <tr>\n",
       "      <th>25%</th>\n",
       "      <td>3.000000</td>\n",
       "      <td>0.000000</td>\n",
       "      <td>2.347706e+06</td>\n",
       "    </tr>\n",
       "    <tr>\n",
       "      <th>50%</th>\n",
       "      <td>98.000000</td>\n",
       "      <td>1.000000</td>\n",
       "      <td>9.746117e+06</td>\n",
       "    </tr>\n",
       "    <tr>\n",
       "      <th>75%</th>\n",
       "      <td>860.000000</td>\n",
       "      <td>13.000000</td>\n",
       "      <td>3.041786e+07</td>\n",
       "    </tr>\n",
       "    <tr>\n",
       "      <th>max</th>\n",
       "      <td>823225.000000</td>\n",
       "      <td>8786.000000</td>\n",
       "      <td>1.397715e+09</td>\n",
       "    </tr>\n",
       "  </tbody>\n",
       "</table>\n",
       "</div>"
      ],
      "text/plain": [
       "              dcases        ddeaths    population\n",
       "count  122843.000000  122843.000000  1.228430e+05\n",
       "mean     2353.722996      44.293024  4.258179e+07\n",
       "std     12256.414469     197.945108  1.521859e+08\n",
       "min         0.000000       0.000000  1.800800e+04\n",
       "25%         3.000000       0.000000  2.347706e+06\n",
       "50%        98.000000       1.000000  9.746117e+06\n",
       "75%       860.000000      13.000000  3.041786e+07\n",
       "max    823225.000000    8786.000000  1.397715e+09"
      ]
     },
     "execution_count": 187,
     "metadata": {},
     "output_type": "execute_result"
    }
   ],
   "source": [
    "df.describe()"
   ]
  },
  {
   "cell_type": "markdown",
   "id": "eedace9d",
   "metadata": {},
   "source": [
    "## Case Fatality Rate"
   ]
  },
  {
   "cell_type": "code",
   "execution_count": 188,
   "id": "80e7f3b3",
   "metadata": {},
   "outputs": [
    {
     "data": {
      "text/plain": [
       "Index(['date', 'iso3c', 'country', 'income', 'region', 'continent', 'dcases',\n",
       "       'ddeaths', 'population', 'weekdays', 'month'],\n",
       "      dtype='object')"
      ]
     },
     "execution_count": 188,
     "metadata": {},
     "output_type": "execute_result"
    }
   ],
   "source": [
    "df.columns"
   ]
  },
  {
   "cell_type": "code",
   "execution_count": 189,
   "id": "5f1c4faf",
   "metadata": {},
   "outputs": [],
   "source": [
    "df['totcases'] = df.groupby(['iso3c'])['dcases'].cumsum()"
   ]
  },
  {
   "cell_type": "code",
   "execution_count": 190,
   "id": "e671ab37",
   "metadata": {},
   "outputs": [
    {
     "data": {
      "text/plain": [
       "KOR    710\n",
       "THA    710\n",
       "USA    710\n",
       "JPN    710\n",
       "CHN    710\n",
       "      ... \n",
       "MHL    430\n",
       "VUT    417\n",
       "WSM    409\n",
       "KIR    228\n",
       "PLW    132\n",
       "Name: iso3c, Length: 187, dtype: int64"
      ]
     },
     "execution_count": 190,
     "metadata": {},
     "output_type": "execute_result"
    }
   ],
   "source": [
    "df['iso3c'].value_counts()"
   ]
  },
  {
   "cell_type": "code",
   "execution_count": 191,
   "id": "23a606b2",
   "metadata": {},
   "outputs": [],
   "source": [
    "df['totdeaths'] = df.groupby(['iso3c'])['ddeaths'].cumsum()"
   ]
  },
  {
   "cell_type": "code",
   "execution_count": 192,
   "id": "9e0845a9",
   "metadata": {},
   "outputs": [],
   "source": [
    "df['cfr']=df['totdeaths']/df['totcases']"
   ]
  },
  {
   "cell_type": "code",
   "execution_count": 193,
   "id": "d60d0733",
   "metadata": {},
   "outputs": [],
   "source": [
    "df['date'] = pd.to_datetime(df['date'],format='%Y-%m-%d')"
   ]
  },
  {
   "cell_type": "code",
   "execution_count": 194,
   "id": "e7c39322",
   "metadata": {},
   "outputs": [
    {
     "data": {
      "image/png": "[encoded data removed]",
      "text/plain": [
       "<Figure size 432x288 with 1 Axes>"
      ]
     },
     "metadata": {
      "needs_background": "light"
     },
     "output_type": "display_data"
    }
   ],
   "source": [
    "plt.plot( 'date', 'cfr', data=df,  color='purple', markersize=4,     linewidth=1)\n",
    "plt.xlabel('Date')\n",
    "plt.ylabel('Rate')\n",
    "plt.title('Case Fatality Rate')\n",
    "plt.show()"
   ]
  },
  {
   "cell_type": "markdown",
   "id": "98198bc5",
   "metadata": {},
   "source": [
    "### Case Fatality Rate in USA"
   ]
  },
  {
   "cell_type": "code",
   "execution_count": 195,
   "id": "bec903f8",
   "metadata": {},
   "outputs": [],
   "source": [
    "df_usa=df[df['iso3c']=='USA']"
   ]
  },
  {
   "cell_type": "code",
   "execution_count": 196,
   "id": "4a6a92ef",
   "metadata": {},
   "outputs": [
    {
     "data": {
      "image/png": "[encoded data removed]",
      "text/plain": [
       "<Figure size 432x288 with 1 Axes>"
      ]
     },
     "metadata": {
      "needs_background": "light"
     },
     "output_type": "display_data"
    }
   ],
   "source": [
    "plt.plot( 'date', 'cfr', data=df_usa,  color='purple', markersize=4,     linewidth=1)\n",
    "plt.xlabel('Date')\n",
    "plt.ylabel('Rate')\n",
    "plt.title('Case Fatality Rate in USA')\n",
    "plt.show()"
   ]
  },
  {
   "cell_type": "markdown",
   "id": "ae5ad2c9",
   "metadata": {},
   "source": [
    "## Comparing Daily Confirmed Cases VS. Daily Deaths According to Weekdays"
   ]
  },
  {
   "cell_type": "code",
   "execution_count": 197,
   "id": "8f9b46c1",
   "metadata": {},
   "outputs": [],
   "source": [
    "stats=df.groupby(\"weekdays\").agg({\"dcases\": [np.mean, np.std, np.size]})"
   ]
  },
  {
   "cell_type": "code",
   "execution_count": 198,
   "id": "13602b74",
   "metadata": {},
   "outputs": [
    {
     "data": {
      "text/html": [
       "<div>\n",
       "<style scoped>\n",
       "    .dataframe tbody tr th:only-of-type {\n",
       "        vertical-align: middle;\n",
       "    }\n",
       "\n",
       "    .dataframe tbody tr th {\n",
       "        vertical-align: top;\n",
       "    }\n",
       "\n",
       "    .dataframe thead tr th {\n",
       "        text-align: left;\n",
       "    }\n",
       "\n",
       "    .dataframe thead tr:last-of-type th {\n",
       "        text-align: right;\n",
       "    }\n",
       "</style>\n",
       "<table border=\"1\" class=\"dataframe\">\n",
       "  <thead>\n",
       "    <tr>\n",
       "      <th></th>\n",
       "      <th colspan=\"3\" halign=\"left\">dcases</th>\n",
       "    </tr>\n",
       "    <tr>\n",
       "      <th></th>\n",
       "      <th>mean</th>\n",
       "      <th>std</th>\n",
       "      <th>size</th>\n",
       "    </tr>\n",
       "    <tr>\n",
       "      <th>weekdays</th>\n",
       "      <th></th>\n",
       "      <th></th>\n",
       "      <th></th>\n",
       "    </tr>\n",
       "  </thead>\n",
       "  <tbody>\n",
       "    <tr>\n",
       "      <th>Fri</th>\n",
       "      <td>2643.215039</td>\n",
       "      <td>13626.207863</td>\n",
       "      <td>17634</td>\n",
       "    </tr>\n",
       "    <tr>\n",
       "      <th>Mon</th>\n",
       "      <td>2116.600879</td>\n",
       "      <td>11700.105447</td>\n",
       "      <td>17521</td>\n",
       "    </tr>\n",
       "    <tr>\n",
       "      <th>Sat</th>\n",
       "      <td>2174.297447</td>\n",
       "      <td>10922.667935</td>\n",
       "      <td>17472</td>\n",
       "    </tr>\n",
       "    <tr>\n",
       "      <th>Sun</th>\n",
       "      <td>1852.340706</td>\n",
       "      <td>9559.968071</td>\n",
       "      <td>17496</td>\n",
       "    </tr>\n",
       "    <tr>\n",
       "      <th>Thu</th>\n",
       "      <td>2693.674338</td>\n",
       "      <td>14618.890740</td>\n",
       "      <td>17598</td>\n",
       "    </tr>\n",
       "    <tr>\n",
       "      <th>Tue</th>\n",
       "      <td>2388.510716</td>\n",
       "      <td>11756.420050</td>\n",
       "      <td>17544</td>\n",
       "    </tr>\n",
       "    <tr>\n",
       "      <th>Wed</th>\n",
       "      <td>2601.990272</td>\n",
       "      <td>12848.605924</td>\n",
       "      <td>17578</td>\n",
       "    </tr>\n",
       "  </tbody>\n",
       "</table>\n",
       "</div>"
      ],
      "text/plain": [
       "               dcases                     \n",
       "                 mean           std   size\n",
       "weekdays                                  \n",
       "Fri       2643.215039  13626.207863  17634\n",
       "Mon       2116.600879  11700.105447  17521\n",
       "Sat       2174.297447  10922.667935  17472\n",
       "Sun       1852.340706   9559.968071  17496\n",
       "Thu       2693.674338  14618.890740  17598\n",
       "Tue       2388.510716  11756.420050  17544\n",
       "Wed       2601.990272  12848.605924  17578"
      ]
     },
     "execution_count": 198,
     "metadata": {},
     "output_type": "execute_result"
    }
   ],
   "source": [
    "stats"
   ]
  },
  {
   "cell_type": "code",
   "execution_count": 199,
   "id": "91a824cc",
   "metadata": {},
   "outputs": [
    {
     "data": {
      "text/plain": [
       "Index(['Fri', 'Mon', 'Sat', 'Sun', 'Thu', 'Tue', 'Wed'], dtype='object', name='weekdays')"
      ]
     },
     "execution_count": 199,
     "metadata": {},
     "output_type": "execute_result"
    }
   ],
   "source": [
    "stats.index"
   ]
  },
  {
   "cell_type": "code",
   "execution_count": 200,
   "id": "641019b4",
   "metadata": {},
   "outputs": [],
   "source": [
    "ci95_hi = []\n",
    "ci95_lo = []"
   ]
  },
  {
   "cell_type": "code",
   "execution_count": 201,
   "id": "a0a81e41",
   "metadata": {},
   "outputs": [],
   "source": [
    "for i in stats.index:\n",
    "    m, s, n = stats.loc[i]\n",
    "    x=scipy.stats.t.interval(.95, n-1, m,s/np.sqrt(n-1))\n",
    "    ci95_hi.append(x[1])\n",
    "    ci95_lo.append(x[0])"
   ]
  },
  {
   "cell_type": "code",
   "execution_count": 202,
   "id": "793261a1",
   "metadata": {},
   "outputs": [
    {
     "data": {
      "text/plain": [
       "[2844.351039005679,\n",
       " 2289.861880299358,\n",
       " 2336.2724620778636,\n",
       " 1994.010612665055,\n",
       " 2909.6839451501755,\n",
       " 2562.4914740100803,\n",
       " 2791.950040008988]"
      ]
     },
     "execution_count": 202,
     "metadata": {},
     "output_type": "execute_result"
    }
   ],
   "source": [
    "ci95_hi"
   ]
  },
  {
   "cell_type": "code",
   "execution_count": 203,
   "id": "78aa0bab",
   "metadata": {},
   "outputs": [
    {
     "data": {
      "text/plain": [
       "[2442.079039252232,\n",
       " 1943.3398775911735,\n",
       " 2012.3224326107813,\n",
       " 1710.670800229321,\n",
       " 2477.6647308357324,\n",
       " 2214.529957818465,\n",
       " 2412.030503852657]"
      ]
     },
     "execution_count": 203,
     "metadata": {},
     "output_type": "execute_result"
    }
   ],
   "source": [
    "ci95_lo"
   ]
  },
  {
   "cell_type": "code",
   "execution_count": 204,
   "id": "6cd89ea6",
   "metadata": {},
   "outputs": [
    {
     "name": "stdout",
     "output_type": "stream",
     "text": [
      "               dcases                           ci95_hi      ci95_lo\n",
      "                 mean           std   size                          \n",
      "weekdays                                                            \n",
      "Fri       2643.215039  13626.207863  17634  2844.351039  2442.079039\n",
      "Mon       2116.600879  11700.105447  17521  2289.861880  1943.339878\n",
      "Sat       2174.297447  10922.667935  17472  2336.272462  2012.322433\n",
      "Sun       1852.340706   9559.968071  17496  1994.010613  1710.670800\n",
      "Thu       2693.674338  14618.890740  17598  2909.683945  2477.664731\n",
      "Tue       2388.510716  11756.420050  17544  2562.491474  2214.529958\n",
      "Wed       2601.990272  12848.605924  17578  2791.950040  2412.030504\n"
     ]
    }
   ],
   "source": [
    "stats['ci95_hi'] = ci95_hi\n",
    "stats['ci95_lo'] = ci95_lo\n",
    "print(stats)"
   ]
  },
  {
   "cell_type": "code",
   "execution_count": 205,
   "id": "34111781",
   "metadata": {},
   "outputs": [],
   "source": [
    "df_ci= pd.DataFrame(stats)"
   ]
  },
  {
   "cell_type": "code",
   "execution_count": 206,
   "id": "61bc91de",
   "metadata": {},
   "outputs": [
    {
     "data": {
      "text/html": [
       "<div>\n",
       "<style scoped>\n",
       "    .dataframe tbody tr th:only-of-type {\n",
       "        vertical-align: middle;\n",
       "    }\n",
       "\n",
       "    .dataframe tbody tr th {\n",
       "        vertical-align: top;\n",
       "    }\n",
       "\n",
       "    .dataframe thead tr th {\n",
       "        text-align: left;\n",
       "    }\n",
       "\n",
       "    .dataframe thead tr:last-of-type th {\n",
       "        text-align: right;\n",
       "    }\n",
       "</style>\n",
       "<table border=\"1\" class=\"dataframe\">\n",
       "  <thead>\n",
       "    <tr>\n",
       "      <th></th>\n",
       "      <th colspan=\"3\" halign=\"left\">dcases</th>\n",
       "      <th>ci95_hi</th>\n",
       "      <th>ci95_lo</th>\n",
       "    </tr>\n",
       "    <tr>\n",
       "      <th></th>\n",
       "      <th>mean</th>\n",
       "      <th>std</th>\n",
       "      <th>size</th>\n",
       "      <th></th>\n",
       "      <th></th>\n",
       "    </tr>\n",
       "    <tr>\n",
       "      <th>weekdays</th>\n",
       "      <th></th>\n",
       "      <th></th>\n",
       "      <th></th>\n",
       "      <th></th>\n",
       "      <th></th>\n",
       "    </tr>\n",
       "  </thead>\n",
       "  <tbody>\n",
       "    <tr>\n",
       "      <th>Fri</th>\n",
       "      <td>2643.215039</td>\n",
       "      <td>13626.207863</td>\n",
       "      <td>17634</td>\n",
       "      <td>2844.351039</td>\n",
       "      <td>2442.079039</td>\n",
       "    </tr>\n",
       "    <tr>\n",
       "      <th>Mon</th>\n",
       "      <td>2116.600879</td>\n",
       "      <td>11700.105447</td>\n",
       "      <td>17521</td>\n",
       "      <td>2289.861880</td>\n",
       "      <td>1943.339878</td>\n",
       "    </tr>\n",
       "    <tr>\n",
       "      <th>Sat</th>\n",
       "      <td>2174.297447</td>\n",
       "      <td>10922.667935</td>\n",
       "      <td>17472</td>\n",
       "      <td>2336.272462</td>\n",
       "      <td>2012.322433</td>\n",
       "    </tr>\n",
       "    <tr>\n",
       "      <th>Sun</th>\n",
       "      <td>1852.340706</td>\n",
       "      <td>9559.968071</td>\n",
       "      <td>17496</td>\n",
       "      <td>1994.010613</td>\n",
       "      <td>1710.670800</td>\n",
       "    </tr>\n",
       "    <tr>\n",
       "      <th>Thu</th>\n",
       "      <td>2693.674338</td>\n",
       "      <td>14618.890740</td>\n",
       "      <td>17598</td>\n",
       "      <td>2909.683945</td>\n",
       "      <td>2477.664731</td>\n",
       "    </tr>\n",
       "    <tr>\n",
       "      <th>Tue</th>\n",
       "      <td>2388.510716</td>\n",
       "      <td>11756.420050</td>\n",
       "      <td>17544</td>\n",
       "      <td>2562.491474</td>\n",
       "      <td>2214.529958</td>\n",
       "    </tr>\n",
       "    <tr>\n",
       "      <th>Wed</th>\n",
       "      <td>2601.990272</td>\n",
       "      <td>12848.605924</td>\n",
       "      <td>17578</td>\n",
       "      <td>2791.950040</td>\n",
       "      <td>2412.030504</td>\n",
       "    </tr>\n",
       "  </tbody>\n",
       "</table>\n",
       "</div>"
      ],
      "text/plain": [
       "               dcases                           ci95_hi      ci95_lo\n",
       "                 mean           std   size                          \n",
       "weekdays                                                            \n",
       "Fri       2643.215039  13626.207863  17634  2844.351039  2442.079039\n",
       "Mon       2116.600879  11700.105447  17521  2289.861880  1943.339878\n",
       "Sat       2174.297447  10922.667935  17472  2336.272462  2012.322433\n",
       "Sun       1852.340706   9559.968071  17496  1994.010613  1710.670800\n",
       "Thu       2693.674338  14618.890740  17598  2909.683945  2477.664731\n",
       "Tue       2388.510716  11756.420050  17544  2562.491474  2214.529958\n",
       "Wed       2601.990272  12848.605924  17578  2791.950040  2412.030504"
      ]
     },
     "execution_count": 206,
     "metadata": {},
     "output_type": "execute_result"
    }
   ],
   "source": [
    "df_ci"
   ]
  },
  {
   "cell_type": "code",
   "execution_count": 207,
   "id": "489643f4",
   "metadata": {},
   "outputs": [
    {
     "data": {
      "text/plain": [
       "Index(['Fri', 'Mon', 'Sat', 'Sun', 'Thu', 'Tue', 'Wed'], dtype='object', name='weekdays')"
      ]
     },
     "execution_count": 207,
     "metadata": {},
     "output_type": "execute_result"
    }
   ],
   "source": [
    "df_ci.index"
   ]
  },
  {
   "cell_type": "code",
   "execution_count": 208,
   "id": "b7a243bf",
   "metadata": {},
   "outputs": [],
   "source": [
    "df_ci['weekdays']=df_ci.index"
   ]
  },
  {
   "cell_type": "code",
   "execution_count": 209,
   "id": "b35ccd2a",
   "metadata": {},
   "outputs": [
    {
     "data": {
      "text/html": [
       "<div>\n",
       "<style scoped>\n",
       "    .dataframe tbody tr th:only-of-type {\n",
       "        vertical-align: middle;\n",
       "    }\n",
       "\n",
       "    .dataframe tbody tr th {\n",
       "        vertical-align: top;\n",
       "    }\n",
       "\n",
       "    .dataframe thead tr th {\n",
       "        text-align: left;\n",
       "    }\n",
       "\n",
       "    .dataframe thead tr:last-of-type th {\n",
       "        text-align: right;\n",
       "    }\n",
       "</style>\n",
       "<table border=\"1\" class=\"dataframe\">\n",
       "  <thead>\n",
       "    <tr>\n",
       "      <th></th>\n",
       "      <th colspan=\"3\" halign=\"left\">dcases</th>\n",
       "      <th>ci95_hi</th>\n",
       "      <th>ci95_lo</th>\n",
       "      <th>weekdays</th>\n",
       "    </tr>\n",
       "    <tr>\n",
       "      <th></th>\n",
       "      <th>mean</th>\n",
       "      <th>std</th>\n",
       "      <th>size</th>\n",
       "      <th></th>\n",
       "      <th></th>\n",
       "      <th></th>\n",
       "    </tr>\n",
       "    <tr>\n",
       "      <th>weekdays</th>\n",
       "      <th></th>\n",
       "      <th></th>\n",
       "      <th></th>\n",
       "      <th></th>\n",
       "      <th></th>\n",
       "      <th></th>\n",
       "    </tr>\n",
       "  </thead>\n",
       "  <tbody>\n",
       "    <tr>\n",
       "      <th>Fri</th>\n",
       "      <td>2643.215039</td>\n",
       "      <td>13626.207863</td>\n",
       "      <td>17634</td>\n",
       "      <td>2844.351039</td>\n",
       "      <td>2442.079039</td>\n",
       "      <td>Fri</td>\n",
       "    </tr>\n",
       "    <tr>\n",
       "      <th>Mon</th>\n",
       "      <td>2116.600879</td>\n",
       "      <td>11700.105447</td>\n",
       "      <td>17521</td>\n",
       "      <td>2289.861880</td>\n",
       "      <td>1943.339878</td>\n",
       "      <td>Mon</td>\n",
       "    </tr>\n",
       "    <tr>\n",
       "      <th>Sat</th>\n",
       "      <td>2174.297447</td>\n",
       "      <td>10922.667935</td>\n",
       "      <td>17472</td>\n",
       "      <td>2336.272462</td>\n",
       "      <td>2012.322433</td>\n",
       "      <td>Sat</td>\n",
       "    </tr>\n",
       "    <tr>\n",
       "      <th>Sun</th>\n",
       "      <td>1852.340706</td>\n",
       "      <td>9559.968071</td>\n",
       "      <td>17496</td>\n",
       "      <td>1994.010613</td>\n",
       "      <td>1710.670800</td>\n",
       "      <td>Sun</td>\n",
       "    </tr>\n",
       "    <tr>\n",
       "      <th>Thu</th>\n",
       "      <td>2693.674338</td>\n",
       "      <td>14618.890740</td>\n",
       "      <td>17598</td>\n",
       "      <td>2909.683945</td>\n",
       "      <td>2477.664731</td>\n",
       "      <td>Thu</td>\n",
       "    </tr>\n",
       "    <tr>\n",
       "      <th>Tue</th>\n",
       "      <td>2388.510716</td>\n",
       "      <td>11756.420050</td>\n",
       "      <td>17544</td>\n",
       "      <td>2562.491474</td>\n",
       "      <td>2214.529958</td>\n",
       "      <td>Tue</td>\n",
       "    </tr>\n",
       "    <tr>\n",
       "      <th>Wed</th>\n",
       "      <td>2601.990272</td>\n",
       "      <td>12848.605924</td>\n",
       "      <td>17578</td>\n",
       "      <td>2791.950040</td>\n",
       "      <td>2412.030504</td>\n",
       "      <td>Wed</td>\n",
       "    </tr>\n",
       "  </tbody>\n",
       "</table>\n",
       "</div>"
      ],
      "text/plain": [
       "               dcases                           ci95_hi      ci95_lo weekdays\n",
       "                 mean           std   size                                   \n",
       "weekdays                                                                     \n",
       "Fri       2643.215039  13626.207863  17634  2844.351039  2442.079039      Fri\n",
       "Mon       2116.600879  11700.105447  17521  2289.861880  1943.339878      Mon\n",
       "Sat       2174.297447  10922.667935  17472  2336.272462  2012.322433      Sat\n",
       "Sun       1852.340706   9559.968071  17496  1994.010613  1710.670800      Sun\n",
       "Thu       2693.674338  14618.890740  17598  2909.683945  2477.664731      Thu\n",
       "Tue       2388.510716  11756.420050  17544  2562.491474  2214.529958      Tue\n",
       "Wed       2601.990272  12848.605924  17578  2791.950040  2412.030504      Wed"
      ]
     },
     "execution_count": 209,
     "metadata": {},
     "output_type": "execute_result"
    }
   ],
   "source": [
    "df_ci"
   ]
  },
  {
   "cell_type": "code",
   "execution_count": 210,
   "id": "65388f06",
   "metadata": {},
   "outputs": [
    {
     "data": {
      "text/plain": [
       "MultiIndex([(  'dcases', 'mean'),\n",
       "            (  'dcases',  'std'),\n",
       "            (  'dcases', 'size'),\n",
       "            ( 'ci95_hi',     ''),\n",
       "            ( 'ci95_lo',     ''),\n",
       "            ('weekdays',     '')],\n",
       "           )"
      ]
     },
     "execution_count": 210,
     "metadata": {},
     "output_type": "execute_result"
    }
   ],
   "source": [
    "df_ci.columns"
   ]
  },
  {
   "cell_type": "code",
   "execution_count": 211,
   "id": "b8dd712d",
   "metadata": {},
   "outputs": [
    {
     "data": {
      "text/plain": [
       "(1650.0, 3000.0)"
      ]
     },
     "execution_count": 211,
     "metadata": {},
     "output_type": "execute_result"
    },
    {
     "data": {
      "image/png": "[encoded data removed]",
      "text/plain": [
       "<Figure size 432x288 with 1 Axes>"
      ]
     },
     "metadata": {
      "needs_background": "light"
     },
     "output_type": "display_data"
    }
   ],
   "source": [
    "for lb,ub,y in zip(df_ci['ci95_lo'],df_ci['ci95_hi'],range(len(df_ci))):\n",
    "    plt.plot((lb,ub),(y,y),'ro-')\n",
    "plt.yticks(range(len(df_ci)),list(df_ci['weekdays']))\n",
    "plt.xlim([1650, 3000])"
   ]
  },
  {
   "cell_type": "markdown",
   "id": "a8be6bb0",
   "metadata": {},
   "source": [
    "## Daily Confirmed Cases VS. Daily Deaths"
   ]
  },
  {
   "cell_type": "markdown",
   "id": "52b3eac7",
   "metadata": {},
   "source": [
    "### In All Regions"
   ]
  },
  {
   "cell_type": "code",
   "execution_count": 212,
   "id": "29e9f7e0",
   "metadata": {},
   "outputs": [],
   "source": [
    "stats=df.groupby('region').agg({\"dcases\": [np.mean, np.std, np.size]})"
   ]
  },
  {
   "cell_type": "code",
   "execution_count": 213,
   "id": "1085cb30",
   "metadata": {},
   "outputs": [
    {
     "data": {
      "text/html": [
       "<div>\n",
       "<style scoped>\n",
       "    .dataframe tbody tr th:only-of-type {\n",
       "        vertical-align: middle;\n",
       "    }\n",
       "\n",
       "    .dataframe tbody tr th {\n",
       "        vertical-align: top;\n",
       "    }\n",
       "\n",
       "    .dataframe thead tr th {\n",
       "        text-align: left;\n",
       "    }\n",
       "\n",
       "    .dataframe thead tr:last-of-type th {\n",
       "        text-align: right;\n",
       "    }\n",
       "</style>\n",
       "<table border=\"1\" class=\"dataframe\">\n",
       "  <thead>\n",
       "    <tr>\n",
       "      <th></th>\n",
       "      <th colspan=\"3\" halign=\"left\">dcases</th>\n",
       "    </tr>\n",
       "    <tr>\n",
       "      <th></th>\n",
       "      <th>mean</th>\n",
       "      <th>std</th>\n",
       "      <th>size</th>\n",
       "    </tr>\n",
       "    <tr>\n",
       "      <th>region</th>\n",
       "      <th></th>\n",
       "      <th></th>\n",
       "      <th></th>\n",
       "    </tr>\n",
       "  </thead>\n",
       "  <tbody>\n",
       "    <tr>\n",
       "      <th>East Asia &amp; Pacific</th>\n",
       "      <td>1235.455300</td>\n",
       "      <td>3660.116639</td>\n",
       "      <td>15056</td>\n",
       "    </tr>\n",
       "    <tr>\n",
       "      <th>Europe &amp; Central Asia</th>\n",
       "      <td>2968.733221</td>\n",
       "      <td>9229.431160</td>\n",
       "      <td>34358</td>\n",
       "    </tr>\n",
       "    <tr>\n",
       "      <th>Latin America &amp; Caribbean</th>\n",
       "      <td>2189.464464</td>\n",
       "      <td>7735.846338</td>\n",
       "      <td>21795</td>\n",
       "    </tr>\n",
       "    <tr>\n",
       "      <th>Middle East &amp; North Africa</th>\n",
       "      <td>1229.900426</td>\n",
       "      <td>3018.473480</td>\n",
       "      <td>14080</td>\n",
       "    </tr>\n",
       "    <tr>\n",
       "      <th>North America(region)</th>\n",
       "      <td>40192.648344</td>\n",
       "      <td>64990.088304</td>\n",
       "      <td>1419</td>\n",
       "    </tr>\n",
       "    <tr>\n",
       "      <th>South Asia</th>\n",
       "      <td>7217.574437</td>\n",
       "      <td>31764.326106</td>\n",
       "      <td>5461</td>\n",
       "    </tr>\n",
       "    <tr>\n",
       "      <th>Sub-Saharan Africa</th>\n",
       "      <td>229.925181</td>\n",
       "      <td>1209.021898</td>\n",
       "      <td>30674</td>\n",
       "    </tr>\n",
       "  </tbody>\n",
       "</table>\n",
       "</div>"
      ],
      "text/plain": [
       "                                  dcases                     \n",
       "                                    mean           std   size\n",
       "region                                                       \n",
       "East Asia & Pacific          1235.455300   3660.116639  15056\n",
       "Europe & Central Asia        2968.733221   9229.431160  34358\n",
       "Latin America & Caribbean    2189.464464   7735.846338  21795\n",
       "Middle East & North Africa   1229.900426   3018.473480  14080\n",
       "North America(region)       40192.648344  64990.088304   1419\n",
       "South Asia                   7217.574437  31764.326106   5461\n",
       "Sub-Saharan Africa            229.925181   1209.021898  30674"
      ]
     },
     "execution_count": 213,
     "metadata": {},
     "output_type": "execute_result"
    }
   ],
   "source": [
    "stats"
   ]
  },
  {
   "cell_type": "code",
   "execution_count": 214,
   "id": "663986e8",
   "metadata": {},
   "outputs": [
    {
     "data": {
      "text/plain": [
       "Index(['East Asia & Pacific', 'Europe & Central Asia',\n",
       "       'Latin America & Caribbean', 'Middle East & North Africa',\n",
       "       'North America(region)', 'South Asia', 'Sub-Saharan Africa'],\n",
       "      dtype='object', name='region')"
      ]
     },
     "execution_count": 214,
     "metadata": {},
     "output_type": "execute_result"
    }
   ],
   "source": [
    "stats.index"
   ]
  },
  {
   "cell_type": "code",
   "execution_count": 215,
   "id": "b216f740",
   "metadata": {},
   "outputs": [],
   "source": [
    "ci95_hi = []\n",
    "ci95_lo = []"
   ]
  },
  {
   "cell_type": "code",
   "execution_count": 216,
   "id": "50433149",
   "metadata": {},
   "outputs": [],
   "source": [
    "for i in stats.index:\n",
    "    m, s, n = stats.loc[i]\n",
    "    x=scipy.stats.t.interval(.95, n-1, m,s/np.sqrt(n-1))\n",
    "    ci95_hi.append(x[1])\n",
    "    ci95_lo.append(x[0])"
   ]
  },
  {
   "cell_type": "code",
   "execution_count": 217,
   "id": "f9ce8d3f",
   "metadata": {},
   "outputs": [
    {
     "data": {
      "text/plain": [
       "[1293.9259006467444,\n",
       " 3066.32892643428,\n",
       " 2292.1741906713464,\n",
       " 1279.7644002893717,\n",
       " 43578.188403653396,\n",
       " 8060.302972430353,\n",
       " 243.45591219335927]"
      ]
     },
     "execution_count": 217,
     "metadata": {},
     "output_type": "execute_result"
    }
   ],
   "source": [
    "ci95_hi"
   ]
  },
  {
   "cell_type": "code",
   "execution_count": 218,
   "id": "e4bacc4d",
   "metadata": {},
   "outputs": [
    {
     "data": {
      "text/plain": [
       "[1176.9846997783354,\n",
       " 2871.1375151513766,\n",
       " 2086.754737982015,\n",
       " 1180.0364519833556,\n",
       " 36807.108284154914,\n",
       " 6374.845901402278,\n",
       " 216.39444967662837]"
      ]
     },
     "execution_count": 218,
     "metadata": {},
     "output_type": "execute_result"
    }
   ],
   "source": [
    "ci95_lo"
   ]
  },
  {
   "cell_type": "code",
   "execution_count": 219,
   "id": "b61dad0c",
   "metadata": {},
   "outputs": [
    {
     "name": "stdout",
     "output_type": "stream",
     "text": [
      "                                  dcases                            ci95_hi  \\\n",
      "                                    mean           std   size                 \n",
      "region                                                                        \n",
      "East Asia & Pacific          1235.455300   3660.116639  15056   1293.925901   \n",
      "Europe & Central Asia        2968.733221   9229.431160  34358   3066.328926   \n",
      "Latin America & Caribbean    2189.464464   7735.846338  21795   2292.174191   \n",
      "Middle East & North Africa   1229.900426   3018.473480  14080   1279.764400   \n",
      "North America(region)       40192.648344  64990.088304   1419  43578.188404   \n",
      "South Asia                   7217.574437  31764.326106   5461   8060.302972   \n",
      "Sub-Saharan Africa            229.925181   1209.021898  30674    243.455912   \n",
      "\n",
      "                                 ci95_lo  \n",
      "                                          \n",
      "region                                    \n",
      "East Asia & Pacific          1176.984700  \n",
      "Europe & Central Asia        2871.137515  \n",
      "Latin America & Caribbean    2086.754738  \n",
      "Middle East & North Africa   1180.036452  \n",
      "North America(region)       36807.108284  \n",
      "South Asia                   6374.845901  \n",
      "Sub-Saharan Africa            216.394450  \n"
     ]
    }
   ],
   "source": [
    "stats['ci95_hi'] = ci95_hi\n",
    "stats['ci95_lo'] = ci95_lo\n",
    "print(stats)"
   ]
  },
  {
   "cell_type": "code",
   "execution_count": 220,
   "id": "d0093f87",
   "metadata": {},
   "outputs": [],
   "source": [
    "df_ci= pd.DataFrame(stats)"
   ]
  },
  {
   "cell_type": "code",
   "execution_count": 221,
   "id": "7189da24",
   "metadata": {},
   "outputs": [
    {
     "data": {
      "text/html": [
       "<div>\n",
       "<style scoped>\n",
       "    .dataframe tbody tr th:only-of-type {\n",
       "        vertical-align: middle;\n",
       "    }\n",
       "\n",
       "    .dataframe tbody tr th {\n",
       "        vertical-align: top;\n",
       "    }\n",
       "\n",
       "    .dataframe thead tr th {\n",
       "        text-align: left;\n",
       "    }\n",
       "\n",
       "    .dataframe thead tr:last-of-type th {\n",
       "        text-align: right;\n",
       "    }\n",
       "</style>\n",
       "<table border=\"1\" class=\"dataframe\">\n",
       "  <thead>\n",
       "    <tr>\n",
       "      <th></th>\n",
       "      <th colspan=\"3\" halign=\"left\">dcases</th>\n",
       "      <th>ci95_hi</th>\n",
       "      <th>ci95_lo</th>\n",
       "    </tr>\n",
       "    <tr>\n",
       "      <th></th>\n",
       "      <th>mean</th>\n",
       "      <th>std</th>\n",
       "      <th>size</th>\n",
       "      <th></th>\n",
       "      <th></th>\n",
       "    </tr>\n",
       "    <tr>\n",
       "      <th>region</th>\n",
       "      <th></th>\n",
       "      <th></th>\n",
       "      <th></th>\n",
       "      <th></th>\n",
       "      <th></th>\n",
       "    </tr>\n",
       "  </thead>\n",
       "  <tbody>\n",
       "    <tr>\n",
       "      <th>East Asia &amp; Pacific</th>\n",
       "      <td>1235.455300</td>\n",
       "      <td>3660.116639</td>\n",
       "      <td>15056</td>\n",
       "      <td>1293.925901</td>\n",
       "      <td>1176.984700</td>\n",
       "    </tr>\n",
       "    <tr>\n",
       "      <th>Europe &amp; Central Asia</th>\n",
       "      <td>2968.733221</td>\n",
       "      <td>9229.431160</td>\n",
       "      <td>34358</td>\n",
       "      <td>3066.328926</td>\n",
       "      <td>2871.137515</td>\n",
       "    </tr>\n",
       "    <tr>\n",
       "      <th>Latin America &amp; Caribbean</th>\n",
       "      <td>2189.464464</td>\n",
       "      <td>7735.846338</td>\n",
       "      <td>21795</td>\n",
       "      <td>2292.174191</td>\n",
       "      <td>2086.754738</td>\n",
       "    </tr>\n",
       "    <tr>\n",
       "      <th>Middle East &amp; North Africa</th>\n",
       "      <td>1229.900426</td>\n",
       "      <td>3018.473480</td>\n",
       "      <td>14080</td>\n",
       "      <td>1279.764400</td>\n",
       "      <td>1180.036452</td>\n",
       "    </tr>\n",
       "    <tr>\n",
       "      <th>North America(region)</th>\n",
       "      <td>40192.648344</td>\n",
       "      <td>64990.088304</td>\n",
       "      <td>1419</td>\n",
       "      <td>43578.188404</td>\n",
       "      <td>36807.108284</td>\n",
       "    </tr>\n",
       "    <tr>\n",
       "      <th>South Asia</th>\n",
       "      <td>7217.574437</td>\n",
       "      <td>31764.326106</td>\n",
       "      <td>5461</td>\n",
       "      <td>8060.302972</td>\n",
       "      <td>6374.845901</td>\n",
       "    </tr>\n",
       "    <tr>\n",
       "      <th>Sub-Saharan Africa</th>\n",
       "      <td>229.925181</td>\n",
       "      <td>1209.021898</td>\n",
       "      <td>30674</td>\n",
       "      <td>243.455912</td>\n",
       "      <td>216.394450</td>\n",
       "    </tr>\n",
       "  </tbody>\n",
       "</table>\n",
       "</div>"
      ],
      "text/plain": [
       "                                  dcases                            ci95_hi  \\\n",
       "                                    mean           std   size                 \n",
       "region                                                                        \n",
       "East Asia & Pacific          1235.455300   3660.116639  15056   1293.925901   \n",
       "Europe & Central Asia        2968.733221   9229.431160  34358   3066.328926   \n",
       "Latin America & Caribbean    2189.464464   7735.846338  21795   2292.174191   \n",
       "Middle East & North Africa   1229.900426   3018.473480  14080   1279.764400   \n",
       "North America(region)       40192.648344  64990.088304   1419  43578.188404   \n",
       "South Asia                   7217.574437  31764.326106   5461   8060.302972   \n",
       "Sub-Saharan Africa            229.925181   1209.021898  30674    243.455912   \n",
       "\n",
       "                                 ci95_lo  \n",
       "                                          \n",
       "region                                    \n",
       "East Asia & Pacific          1176.984700  \n",
       "Europe & Central Asia        2871.137515  \n",
       "Latin America & Caribbean    2086.754738  \n",
       "Middle East & North Africa   1180.036452  \n",
       "North America(region)       36807.108284  \n",
       "South Asia                   6374.845901  \n",
       "Sub-Saharan Africa            216.394450  "
      ]
     },
     "execution_count": 221,
     "metadata": {},
     "output_type": "execute_result"
    }
   ],
   "source": [
    "df_ci"
   ]
  },
  {
   "cell_type": "code",
   "execution_count": 222,
   "id": "2a0d847f",
   "metadata": {},
   "outputs": [
    {
     "data": {
      "text/plain": [
       "Index(['East Asia & Pacific', 'Europe & Central Asia',\n",
       "       'Latin America & Caribbean', 'Middle East & North Africa',\n",
       "       'North America(region)', 'South Asia', 'Sub-Saharan Africa'],\n",
       "      dtype='object', name='region')"
      ]
     },
     "execution_count": 222,
     "metadata": {},
     "output_type": "execute_result"
    }
   ],
   "source": [
    "df_ci.index"
   ]
  },
  {
   "cell_type": "code",
   "execution_count": 223,
   "id": "4c13cc8b",
   "metadata": {},
   "outputs": [],
   "source": [
    "df_ci['region']=df_ci.index"
   ]
  },
  {
   "cell_type": "code",
   "execution_count": 224,
   "id": "f2b55975",
   "metadata": {},
   "outputs": [
    {
     "data": {
      "text/html": [
       "<div>\n",
       "<style scoped>\n",
       "    .dataframe tbody tr th:only-of-type {\n",
       "        vertical-align: middle;\n",
       "    }\n",
       "\n",
       "    .dataframe tbody tr th {\n",
       "        vertical-align: top;\n",
       "    }\n",
       "\n",
       "    .dataframe thead tr th {\n",
       "        text-align: left;\n",
       "    }\n",
       "\n",
       "    .dataframe thead tr:last-of-type th {\n",
       "        text-align: right;\n",
       "    }\n",
       "</style>\n",
       "<table border=\"1\" class=\"dataframe\">\n",
       "  <thead>\n",
       "    <tr>\n",
       "      <th></th>\n",
       "      <th colspan=\"3\" halign=\"left\">dcases</th>\n",
       "      <th>ci95_hi</th>\n",
       "      <th>ci95_lo</th>\n",
       "      <th>region</th>\n",
       "    </tr>\n",
       "    <tr>\n",
       "      <th></th>\n",
       "      <th>mean</th>\n",
       "      <th>std</th>\n",
       "      <th>size</th>\n",
       "      <th></th>\n",
       "      <th></th>\n",
       "      <th></th>\n",
       "    </tr>\n",
       "    <tr>\n",
       "      <th>region</th>\n",
       "      <th></th>\n",
       "      <th></th>\n",
       "      <th></th>\n",
       "      <th></th>\n",
       "      <th></th>\n",
       "      <th></th>\n",
       "    </tr>\n",
       "  </thead>\n",
       "  <tbody>\n",
       "    <tr>\n",
       "      <th>East Asia &amp; Pacific</th>\n",
       "      <td>1235.455300</td>\n",
       "      <td>3660.116639</td>\n",
       "      <td>15056</td>\n",
       "      <td>1293.925901</td>\n",
       "      <td>1176.984700</td>\n",
       "      <td>East Asia &amp; Pacific</td>\n",
       "    </tr>\n",
       "    <tr>\n",
       "      <th>Europe &amp; Central Asia</th>\n",
       "      <td>2968.733221</td>\n",
       "      <td>9229.431160</td>\n",
       "      <td>34358</td>\n",
       "      <td>3066.328926</td>\n",
       "      <td>2871.137515</td>\n",
       "      <td>Europe &amp; Central Asia</td>\n",
       "    </tr>\n",
       "    <tr>\n",
       "      <th>Latin America &amp; Caribbean</th>\n",
       "      <td>2189.464464</td>\n",
       "      <td>7735.846338</td>\n",
       "      <td>21795</td>\n",
       "      <td>2292.174191</td>\n",
       "      <td>2086.754738</td>\n",
       "      <td>Latin America &amp; Caribbean</td>\n",
       "    </tr>\n",
       "    <tr>\n",
       "      <th>Middle East &amp; North Africa</th>\n",
       "      <td>1229.900426</td>\n",
       "      <td>3018.473480</td>\n",
       "      <td>14080</td>\n",
       "      <td>1279.764400</td>\n",
       "      <td>1180.036452</td>\n",
       "      <td>Middle East &amp; North Africa</td>\n",
       "    </tr>\n",
       "    <tr>\n",
       "      <th>North America(region)</th>\n",
       "      <td>40192.648344</td>\n",
       "      <td>64990.088304</td>\n",
       "      <td>1419</td>\n",
       "      <td>43578.188404</td>\n",
       "      <td>36807.108284</td>\n",
       "      <td>North America(region)</td>\n",
       "    </tr>\n",
       "    <tr>\n",
       "      <th>South Asia</th>\n",
       "      <td>7217.574437</td>\n",
       "      <td>31764.326106</td>\n",
       "      <td>5461</td>\n",
       "      <td>8060.302972</td>\n",
       "      <td>6374.845901</td>\n",
       "      <td>South Asia</td>\n",
       "    </tr>\n",
       "    <tr>\n",
       "      <th>Sub-Saharan Africa</th>\n",
       "      <td>229.925181</td>\n",
       "      <td>1209.021898</td>\n",
       "      <td>30674</td>\n",
       "      <td>243.455912</td>\n",
       "      <td>216.394450</td>\n",
       "      <td>Sub-Saharan Africa</td>\n",
       "    </tr>\n",
       "  </tbody>\n",
       "</table>\n",
       "</div>"
      ],
      "text/plain": [
       "                                  dcases                            ci95_hi  \\\n",
       "                                    mean           std   size                 \n",
       "region                                                                        \n",
       "East Asia & Pacific          1235.455300   3660.116639  15056   1293.925901   \n",
       "Europe & Central Asia        2968.733221   9229.431160  34358   3066.328926   \n",
       "Latin America & Caribbean    2189.464464   7735.846338  21795   2292.174191   \n",
       "Middle East & North Africa   1229.900426   3018.473480  14080   1279.764400   \n",
       "North America(region)       40192.648344  64990.088304   1419  43578.188404   \n",
       "South Asia                   7217.574437  31764.326106   5461   8060.302972   \n",
       "Sub-Saharan Africa            229.925181   1209.021898  30674    243.455912   \n",
       "\n",
       "                                 ci95_lo                      region  \n",
       "                                                                      \n",
       "region                                                                \n",
       "East Asia & Pacific          1176.984700         East Asia & Pacific  \n",
       "Europe & Central Asia        2871.137515       Europe & Central Asia  \n",
       "Latin America & Caribbean    2086.754738   Latin America & Caribbean  \n",
       "Middle East & North Africa   1180.036452  Middle East & North Africa  \n",
       "North America(region)       36807.108284       North America(region)  \n",
       "South Asia                   6374.845901                  South Asia  \n",
       "Sub-Saharan Africa            216.394450          Sub-Saharan Africa  "
      ]
     },
     "execution_count": 224,
     "metadata": {},
     "output_type": "execute_result"
    }
   ],
   "source": [
    "df_ci"
   ]
  },
  {
   "cell_type": "code",
   "execution_count": 225,
   "id": "3233d79f",
   "metadata": {},
   "outputs": [
    {
     "data": {
      "text/plain": [
       "MultiIndex([( 'dcases', 'mean'),\n",
       "            ( 'dcases',  'std'),\n",
       "            ( 'dcases', 'size'),\n",
       "            ('ci95_hi',     ''),\n",
       "            ('ci95_lo',     ''),\n",
       "            ( 'region',     '')],\n",
       "           )"
      ]
     },
     "execution_count": 225,
     "metadata": {},
     "output_type": "execute_result"
    }
   ],
   "source": [
    "df_ci.columns"
   ]
  },
  {
   "cell_type": "code",
   "execution_count": 226,
   "id": "b480c3cf",
   "metadata": {},
   "outputs": [
    {
     "data": {
      "text/plain": [
       "(0.0, 45000.0)"
      ]
     },
     "execution_count": 226,
     "metadata": {},
     "output_type": "execute_result"
    },
    {
     "data": {
      "image/png": "[encoded data removed]",
      "text/plain": [
       "<Figure size 432x288 with 1 Axes>"
      ]
     },
     "metadata": {
      "needs_background": "light"
     },
     "output_type": "display_data"
    }
   ],
   "source": [
    "for lb,ub,y in zip(df_ci['ci95_lo'],df_ci['ci95_hi'],range(len(df_ci))):\n",
    "    plt.plot((lb,ub),(y,y),'ro-')\n",
    "plt.yticks(range(len(df_ci)),list(df_ci['region']))\n",
    "plt.xlim([0, 45000])"
   ]
  },
  {
   "cell_type": "markdown",
   "id": "cc94ed86",
   "metadata": {},
   "source": [
    "### In USA"
   ]
  },
  {
   "cell_type": "code",
   "execution_count": 227,
   "id": "e4b59829",
   "metadata": {},
   "outputs": [],
   "source": [
    "conditions=[(df_usa['date']<='2020-12-31'),(df_usa['date']>='2021-1-1')]"
   ]
  },
  {
   "cell_type": "code",
   "execution_count": 228,
   "id": "af9c957f",
   "metadata": {},
   "outputs": [
    {
     "name": "stderr",
     "output_type": "stream",
     "text": [
      "/var/folders/3m/bxpcj6d907q836kvw4zwr1340000gn/T/ipykernel_94023/1439807404.py:1: SettingWithCopyWarning: \n",
      "A value is trying to be set on a copy of a slice from a DataFrame.\n",
      "Try using .loc[row_indexer,col_indexer] = value instead\n",
      "\n",
      "See the caveats in the documentation: https://pandas.pydata.org/pandas-docs/stable/user_guide/indexing.html#returning-a-view-versus-a-copy\n",
      "  df_usa['year']=np.select(conditions,['2020','2021'])\n"
     ]
    }
   ],
   "source": [
    "df_usa['year']=np.select(conditions,['2020','2021'])"
   ]
  },
  {
   "cell_type": "code",
   "execution_count": 229,
   "id": "96290d49",
   "metadata": {},
   "outputs": [],
   "source": [
    "df_usa_2020=df_usa[df_usa['year']=='2020']"
   ]
  },
  {
   "cell_type": "code",
   "execution_count": 230,
   "id": "5213e7df",
   "metadata": {},
   "outputs": [],
   "source": [
    "df_usa_2021=df_usa[df_usa['year']=='2021']"
   ]
  },
  {
   "cell_type": "markdown",
   "id": "de3fd56b",
   "metadata": {},
   "source": [
    "### in 2020"
   ]
  },
  {
   "cell_type": "code",
   "execution_count": 231,
   "id": "ddb76e52",
   "metadata": {},
   "outputs": [
    {
     "data": {
      "text/plain": [
       "Text(0.5, 1.0, 'Daily Confirmed COVID-19 Cases VS. Daily Deaths in the USA in 2020')"
      ]
     },
     "execution_count": 231,
     "metadata": {},
     "output_type": "execute_result"
    },
    {
     "data": {
      "image/png": "[encoded data removed]",
      "text/plain": [
       "<Figure size 432x288 with 1 Axes>"
      ]
     },
     "metadata": {
      "needs_background": "light"
     },
     "output_type": "display_data"
    }
   ],
   "source": [
    "plt.plot(df_usa_2020['month'],df_usa_2020['dcases'], label='Confirmed Cases', color='orange')\n",
    "plt.plot(df_usa_2020['month'],df_usa_2020['ddeaths'], label='Deaths', color='red')\n",
    "plt.xlabel('Month')\n",
    "plt.ylabel('Total')\n",
    "plt.title('Daily Confirmed COVID-19 Cases VS. Daily Deaths in the USA in 2020')"
   ]
  },
  {
   "cell_type": "code",
   "execution_count": 232,
   "id": "1eda6aba",
   "metadata": {},
   "outputs": [
    {
     "data": {
      "text/plain": [
       "Text(0.5, 1.0, 'Daily Confirmed COVID-19 Deaths in the USA in 2020')"
      ]
     },
     "execution_count": 232,
     "metadata": {},
     "output_type": "execute_result"
    },
    {
     "data": {
      "image/png": "[encoded data removed]",
      "text/plain": [
       "<Figure size 432x288 with 1 Axes>"
      ]
     },
     "metadata": {
      "needs_background": "light"
     },
     "output_type": "display_data"
    }
   ],
   "source": [
    "plt.plot(df_usa_2020['month'],df_usa_2020['ddeaths'], label='Deaths', color='red')\n",
    "plt.xlabel('Months')\n",
    "plt.ylabel('Total')\n",
    "plt.title('Daily Confirmed COVID-19 Deaths in the USA in 2020')"
   ]
  },
  {
   "cell_type": "markdown",
   "id": "8f0759cb",
   "metadata": {},
   "source": [
    "### in 2021"
   ]
  },
  {
   "cell_type": "code",
   "execution_count": 233,
   "id": "f6dd983e",
   "metadata": {},
   "outputs": [
    {
     "data": {
      "text/plain": [
       "Text(0.5, 1.0, 'Daily Confirmed COVID-19 Cases VS. Daily Deaths in the USA in 2021')"
      ]
     },
     "execution_count": 233,
     "metadata": {},
     "output_type": "execute_result"
    },
    {
     "data": {
      "image/png": "[encoded data removed]",
      "text/plain": [
       "<Figure size 432x288 with 1 Axes>"
      ]
     },
     "metadata": {
      "needs_background": "light"
     },
     "output_type": "display_data"
    }
   ],
   "source": [
    "plt.plot(df_usa_2021['month'],df_usa_2021['dcases'], label='Confirmed Cases', color='orange')\n",
    "plt.plot(df_usa_2021['month'],df_usa_2021['ddeaths'], label='Deaths',color='red')\n",
    "plt.xlabel('Months')\n",
    "plt.ylabel('Total')\n",
    "plt.title('Daily Confirmed COVID-19 Cases VS. Daily Deaths in the USA in 2021')"
   ]
  },
  {
   "cell_type": "code",
   "execution_count": 234,
   "id": "97916590",
   "metadata": {},
   "outputs": [
    {
     "data": {
      "text/plain": [
       "Text(0.5, 1.0, 'Daily Confirmed COVID-19 Deaths in the USA in 2021')"
      ]
     },
     "execution_count": 234,
     "metadata": {},
     "output_type": "execute_result"
    },
    {
     "data": {
      "image/png": "[encoded data removed]",
      "text/plain": [
       "<Figure size 432x288 with 1 Axes>"
      ]
     },
     "metadata": {
      "needs_background": "light"
     },
     "output_type": "display_data"
    }
   ],
   "source": [
    "plt.plot(df_usa_2021['month'],df_usa_2021['ddeaths'], label='Deaths', color='red')\n",
    "plt.xlabel('Months')\n",
    "plt.ylabel('Total')\n",
    "plt.title('Daily Confirmed COVID-19 Deaths in the USA in 2021')"
   ]
  },
  {
   "cell_type": "markdown",
   "id": "13c6dbcb",
   "metadata": {},
   "source": [
    "### Comparing the Confidence Intervals of 2020 and 2021 in USA"
   ]
  },
  {
   "cell_type": "markdown",
   "id": "3b2fa259",
   "metadata": {},
   "source": [
    "#### Daily Confirmed Cases"
   ]
  },
  {
   "cell_type": "code",
   "execution_count": 235,
   "id": "377e89cd",
   "metadata": {},
   "outputs": [],
   "source": [
    "stats=df_usa.groupby('year').agg({\"dcases\": [np.mean, np.std, np.size]})"
   ]
  },
  {
   "cell_type": "code",
   "execution_count": 236,
   "id": "3311ce5b",
   "metadata": {},
   "outputs": [
    {
     "data": {
      "text/html": [
       "<div>\n",
       "<style scoped>\n",
       "    .dataframe tbody tr th:only-of-type {\n",
       "        vertical-align: middle;\n",
       "    }\n",
       "\n",
       "    .dataframe tbody tr th {\n",
       "        vertical-align: top;\n",
       "    }\n",
       "\n",
       "    .dataframe thead tr th {\n",
       "        text-align: left;\n",
       "    }\n",
       "\n",
       "    .dataframe thead tr:last-of-type th {\n",
       "        text-align: right;\n",
       "    }\n",
       "</style>\n",
       "<table border=\"1\" class=\"dataframe\">\n",
       "  <thead>\n",
       "    <tr>\n",
       "      <th></th>\n",
       "      <th colspan=\"3\" halign=\"left\">dcases</th>\n",
       "    </tr>\n",
       "    <tr>\n",
       "      <th></th>\n",
       "      <th>mean</th>\n",
       "      <th>std</th>\n",
       "      <th>size</th>\n",
       "    </tr>\n",
       "    <tr>\n",
       "      <th>year</th>\n",
       "      <th></th>\n",
       "      <th></th>\n",
       "      <th></th>\n",
       "    </tr>\n",
       "  </thead>\n",
       "  <tbody>\n",
       "    <tr>\n",
       "      <th>2020</th>\n",
       "      <td>58530.805797</td>\n",
       "      <td>63411.462428</td>\n",
       "      <td>345</td>\n",
       "    </tr>\n",
       "    <tr>\n",
       "      <th>2021</th>\n",
       "      <td>94840.920548</td>\n",
       "      <td>81417.503625</td>\n",
       "      <td>365</td>\n",
       "    </tr>\n",
       "  </tbody>\n",
       "</table>\n",
       "</div>"
      ],
      "text/plain": [
       "            dcases                   \n",
       "              mean           std size\n",
       "year                                 \n",
       "2020  58530.805797  63411.462428  345\n",
       "2021  94840.920548  81417.503625  365"
      ]
     },
     "execution_count": 236,
     "metadata": {},
     "output_type": "execute_result"
    }
   ],
   "source": [
    "stats"
   ]
  },
  {
   "cell_type": "code",
   "execution_count": 237,
   "id": "8893cc83",
   "metadata": {},
   "outputs": [
    {
     "data": {
      "text/plain": [
       "Index(['2020', '2021'], dtype='object', name='year')"
      ]
     },
     "execution_count": 237,
     "metadata": {},
     "output_type": "execute_result"
    }
   ],
   "source": [
    "stats.index"
   ]
  },
  {
   "cell_type": "code",
   "execution_count": 238,
   "id": "dcac3682",
   "metadata": {},
   "outputs": [],
   "source": [
    "ci95_hi = []\n",
    "ci95_lo = []"
   ]
  },
  {
   "cell_type": "code",
   "execution_count": 239,
   "id": "7d5adf25",
   "metadata": {},
   "outputs": [],
   "source": [
    "for i in stats.index:\n",
    "    m, s, n = stats.loc[i]\n",
    "    x=scipy.stats.t.interval(.95, n-1, m,s/np.sqrt(n-1))\n",
    "    ci95_hi.append(x[1])\n",
    "    ci95_lo.append(x[0])"
   ]
  },
  {
   "cell_type": "code",
   "execution_count": 240,
   "id": "a0e84f6c",
   "metadata": {},
   "outputs": [
    {
     "data": {
      "text/plain": [
       "[65255.41891486833, 103232.84582928699]"
      ]
     },
     "execution_count": 240,
     "metadata": {},
     "output_type": "execute_result"
    }
   ],
   "source": [
    "ci95_hi"
   ]
  },
  {
   "cell_type": "code",
   "execution_count": 241,
   "id": "b154824c",
   "metadata": {},
   "outputs": [
    {
     "data": {
      "text/plain": [
       "[51806.19267933457, 86448.99526660342]"
      ]
     },
     "execution_count": 241,
     "metadata": {},
     "output_type": "execute_result"
    }
   ],
   "source": [
    "ci95_lo"
   ]
  },
  {
   "cell_type": "code",
   "execution_count": 242,
   "id": "957fcc39",
   "metadata": {},
   "outputs": [
    {
     "name": "stdout",
     "output_type": "stream",
     "text": [
      "            dcases                           ci95_hi       ci95_lo\n",
      "              mean           std size                             \n",
      "year                                                              \n",
      "2020  58530.805797  63411.462428  345   65255.418915  51806.192679\n",
      "2021  94840.920548  81417.503625  365  103232.845829  86448.995267\n"
     ]
    }
   ],
   "source": [
    "stats['ci95_hi'] = ci95_hi\n",
    "stats['ci95_lo'] = ci95_lo\n",
    "print(stats)"
   ]
  },
  {
   "cell_type": "code",
   "execution_count": 243,
   "id": "bb3add47",
   "metadata": {},
   "outputs": [],
   "source": [
    "df_ci= pd.DataFrame(stats)"
   ]
  },
  {
   "cell_type": "code",
   "execution_count": 244,
   "id": "da14e359",
   "metadata": {},
   "outputs": [
    {
     "data": {
      "text/html": [
       "<div>\n",
       "<style scoped>\n",
       "    .dataframe tbody tr th:only-of-type {\n",
       "        vertical-align: middle;\n",
       "    }\n",
       "\n",
       "    .dataframe tbody tr th {\n",
       "        vertical-align: top;\n",
       "    }\n",
       "\n",
       "    .dataframe thead tr th {\n",
       "        text-align: left;\n",
       "    }\n",
       "\n",
       "    .dataframe thead tr:last-of-type th {\n",
       "        text-align: right;\n",
       "    }\n",
       "</style>\n",
       "<table border=\"1\" class=\"dataframe\">\n",
       "  <thead>\n",
       "    <tr>\n",
       "      <th></th>\n",
       "      <th colspan=\"3\" halign=\"left\">dcases</th>\n",
       "      <th>ci95_hi</th>\n",
       "      <th>ci95_lo</th>\n",
       "    </tr>\n",
       "    <tr>\n",
       "      <th></th>\n",
       "      <th>mean</th>\n",
       "      <th>std</th>\n",
       "      <th>size</th>\n",
       "      <th></th>\n",
       "      <th></th>\n",
       "    </tr>\n",
       "    <tr>\n",
       "      <th>year</th>\n",
       "      <th></th>\n",
       "      <th></th>\n",
       "      <th></th>\n",
       "      <th></th>\n",
       "      <th></th>\n",
       "    </tr>\n",
       "  </thead>\n",
       "  <tbody>\n",
       "    <tr>\n",
       "      <th>2020</th>\n",
       "      <td>58530.805797</td>\n",
       "      <td>63411.462428</td>\n",
       "      <td>345</td>\n",
       "      <td>65255.418915</td>\n",
       "      <td>51806.192679</td>\n",
       "    </tr>\n",
       "    <tr>\n",
       "      <th>2021</th>\n",
       "      <td>94840.920548</td>\n",
       "      <td>81417.503625</td>\n",
       "      <td>365</td>\n",
       "      <td>103232.845829</td>\n",
       "      <td>86448.995267</td>\n",
       "    </tr>\n",
       "  </tbody>\n",
       "</table>\n",
       "</div>"
      ],
      "text/plain": [
       "            dcases                           ci95_hi       ci95_lo\n",
       "              mean           std size                             \n",
       "year                                                              \n",
       "2020  58530.805797  63411.462428  345   65255.418915  51806.192679\n",
       "2021  94840.920548  81417.503625  365  103232.845829  86448.995267"
      ]
     },
     "execution_count": 244,
     "metadata": {},
     "output_type": "execute_result"
    }
   ],
   "source": [
    "df_ci"
   ]
  },
  {
   "cell_type": "code",
   "execution_count": 245,
   "id": "28bc971e",
   "metadata": {},
   "outputs": [
    {
     "data": {
      "text/plain": [
       "Index(['2020', '2021'], dtype='object', name='year')"
      ]
     },
     "execution_count": 245,
     "metadata": {},
     "output_type": "execute_result"
    }
   ],
   "source": [
    "df_ci.index"
   ]
  },
  {
   "cell_type": "code",
   "execution_count": 246,
   "id": "8d2fcde3",
   "metadata": {},
   "outputs": [],
   "source": [
    "df_ci['region']=df_ci.index"
   ]
  },
  {
   "cell_type": "code",
   "execution_count": 247,
   "id": "effca0a8",
   "metadata": {},
   "outputs": [
    {
     "data": {
      "text/html": [
       "<div>\n",
       "<style scoped>\n",
       "    .dataframe tbody tr th:only-of-type {\n",
       "        vertical-align: middle;\n",
       "    }\n",
       "\n",
       "    .dataframe tbody tr th {\n",
       "        vertical-align: top;\n",
       "    }\n",
       "\n",
       "    .dataframe thead tr th {\n",
       "        text-align: left;\n",
       "    }\n",
       "\n",
       "    .dataframe thead tr:last-of-type th {\n",
       "        text-align: right;\n",
       "    }\n",
       "</style>\n",
       "<table border=\"1\" class=\"dataframe\">\n",
       "  <thead>\n",
       "    <tr>\n",
       "      <th></th>\n",
       "      <th colspan=\"3\" halign=\"left\">dcases</th>\n",
       "      <th>ci95_hi</th>\n",
       "      <th>ci95_lo</th>\n",
       "      <th>region</th>\n",
       "    </tr>\n",
       "    <tr>\n",
       "      <th></th>\n",
       "      <th>mean</th>\n",
       "      <th>std</th>\n",
       "      <th>size</th>\n",
       "      <th></th>\n",
       "      <th></th>\n",
       "      <th></th>\n",
       "    </tr>\n",
       "    <tr>\n",
       "      <th>year</th>\n",
       "      <th></th>\n",
       "      <th></th>\n",
       "      <th></th>\n",
       "      <th></th>\n",
       "      <th></th>\n",
       "      <th></th>\n",
       "    </tr>\n",
       "  </thead>\n",
       "  <tbody>\n",
       "    <tr>\n",
       "      <th>2020</th>\n",
       "      <td>58530.805797</td>\n",
       "      <td>63411.462428</td>\n",
       "      <td>345</td>\n",
       "      <td>65255.418915</td>\n",
       "      <td>51806.192679</td>\n",
       "      <td>2020</td>\n",
       "    </tr>\n",
       "    <tr>\n",
       "      <th>2021</th>\n",
       "      <td>94840.920548</td>\n",
       "      <td>81417.503625</td>\n",
       "      <td>365</td>\n",
       "      <td>103232.845829</td>\n",
       "      <td>86448.995267</td>\n",
       "      <td>2021</td>\n",
       "    </tr>\n",
       "  </tbody>\n",
       "</table>\n",
       "</div>"
      ],
      "text/plain": [
       "            dcases                           ci95_hi       ci95_lo region\n",
       "              mean           std size                                    \n",
       "year                                                                     \n",
       "2020  58530.805797  63411.462428  345   65255.418915  51806.192679   2020\n",
       "2021  94840.920548  81417.503625  365  103232.845829  86448.995267   2021"
      ]
     },
     "execution_count": 247,
     "metadata": {},
     "output_type": "execute_result"
    }
   ],
   "source": [
    "df_ci"
   ]
  },
  {
   "cell_type": "code",
   "execution_count": 248,
   "id": "84874a96",
   "metadata": {},
   "outputs": [
    {
     "data": {
      "text/plain": [
       "MultiIndex([( 'dcases', 'mean'),\n",
       "            ( 'dcases',  'std'),\n",
       "            ( 'dcases', 'size'),\n",
       "            ('ci95_hi',     ''),\n",
       "            ('ci95_lo',     ''),\n",
       "            ( 'region',     '')],\n",
       "           )"
      ]
     },
     "execution_count": 248,
     "metadata": {},
     "output_type": "execute_result"
    }
   ],
   "source": [
    "df_ci.columns"
   ]
  },
  {
   "cell_type": "code",
   "execution_count": 249,
   "id": "715cd480",
   "metadata": {},
   "outputs": [
    {
     "data": {
      "text/plain": [
       "(0.0, 45000.0)"
      ]
     },
     "execution_count": 249,
     "metadata": {},
     "output_type": "execute_result"
    },
    {
     "data": {
      "image/png": "[encoded data removed]",
      "text/plain": [
       "<Figure size 432x288 with 1 Axes>"
      ]
     },
     "metadata": {
      "needs_background": "light"
     },
     "output_type": "display_data"
    }
   ],
   "source": [
    "for lb,ub,y in zip(df_ci['ci95_lo'],df_ci['ci95_hi'],range(len(df_ci))):\n",
    "    plt.plot((lb,ub),(y,y),'ro-')\n",
    "plt.yticks(range(len(df_ci)),list(df_ci['region']))\n",
    "plt.xlim([0, 45000])"
   ]
  },
  {
   "cell_type": "markdown",
   "id": "98cf3e8e",
   "metadata": {},
   "source": [
    "#### Daily Deaths"
   ]
  },
  {
   "cell_type": "code",
   "execution_count": 586,
   "id": "f37c18c4",
   "metadata": {},
   "outputs": [],
   "source": [
    "stats=df_usa.groupby('year').agg({\"ddeaths\": [np.mean, np.std, np.size]})"
   ]
  },
  {
   "cell_type": "code",
   "execution_count": 587,
   "id": "1db6663b",
   "metadata": {},
   "outputs": [
    {
     "data": {
      "text/html": [
       "<div>\n",
       "<style scoped>\n",
       "    .dataframe tbody tr th:only-of-type {\n",
       "        vertical-align: middle;\n",
       "    }\n",
       "\n",
       "    .dataframe tbody tr th {\n",
       "        vertical-align: top;\n",
       "    }\n",
       "\n",
       "    .dataframe thead tr th {\n",
       "        text-align: left;\n",
       "    }\n",
       "\n",
       "    .dataframe thead tr:last-of-type th {\n",
       "        text-align: right;\n",
       "    }\n",
       "</style>\n",
       "<table border=\"1\" class=\"dataframe\">\n",
       "  <thead>\n",
       "    <tr>\n",
       "      <th></th>\n",
       "      <th colspan=\"3\" halign=\"left\">ddeaths</th>\n",
       "    </tr>\n",
       "    <tr>\n",
       "      <th></th>\n",
       "      <th>mean</th>\n",
       "      <th>std</th>\n",
       "      <th>size</th>\n",
       "    </tr>\n",
       "    <tr>\n",
       "      <th>year</th>\n",
       "      <th></th>\n",
       "      <th></th>\n",
       "      <th></th>\n",
       "    </tr>\n",
       "  </thead>\n",
       "  <tbody>\n",
       "    <tr>\n",
       "      <th>2020</th>\n",
       "      <td>1019.576812</td>\n",
       "      <td>823.955735</td>\n",
       "      <td>345</td>\n",
       "    </tr>\n",
       "    <tr>\n",
       "      <th>2021</th>\n",
       "      <td>1304.534247</td>\n",
       "      <td>1053.243581</td>\n",
       "      <td>365</td>\n",
       "    </tr>\n",
       "  </tbody>\n",
       "</table>\n",
       "</div>"
      ],
      "text/plain": [
       "          ddeaths                  \n",
       "             mean          std size\n",
       "year                               \n",
       "2020  1019.576812   823.955735  345\n",
       "2021  1304.534247  1053.243581  365"
      ]
     },
     "execution_count": 587,
     "metadata": {},
     "output_type": "execute_result"
    }
   ],
   "source": [
    "stats"
   ]
  },
  {
   "cell_type": "code",
   "execution_count": 588,
   "id": "bcddaf9b",
   "metadata": {},
   "outputs": [
    {
     "data": {
      "text/plain": [
       "Index(['2020', '2021'], dtype='object', name='year')"
      ]
     },
     "execution_count": 588,
     "metadata": {},
     "output_type": "execute_result"
    }
   ],
   "source": [
    "stats.index"
   ]
  },
  {
   "cell_type": "code",
   "execution_count": 589,
   "id": "76fd1bb5",
   "metadata": {},
   "outputs": [],
   "source": [
    "ci95_hi = []\n",
    "ci95_lo = []"
   ]
  },
  {
   "cell_type": "code",
   "execution_count": 590,
   "id": "b7e9afa5",
   "metadata": {},
   "outputs": [],
   "source": [
    "for i in stats.index:\n",
    "    m, s, n = stats.loc[i]\n",
    "    x=scipy.stats.t.interval(.95, n-1, m,s/np.sqrt(n-1))\n",
    "    ci95_hi.append(x[1])\n",
    "    ci95_lo.append(x[0])"
   ]
  },
  {
   "cell_type": "code",
   "execution_count": 591,
   "id": "eeacf10d",
   "metadata": {},
   "outputs": [
    {
     "data": {
      "text/plain": [
       "[1106.9550761966354, 1413.0949496236262]"
      ]
     },
     "execution_count": 591,
     "metadata": {},
     "output_type": "execute_result"
    }
   ],
   "source": [
    "ci95_hi"
   ]
  },
  {
   "cell_type": "code",
   "execution_count": 592,
   "id": "2ee2197f",
   "metadata": {},
   "outputs": [
    {
     "data": {
      "text/plain": [
       "[932.1985469917704, 1195.9735435270586]"
      ]
     },
     "execution_count": 592,
     "metadata": {},
     "output_type": "execute_result"
    }
   ],
   "source": [
    "ci95_lo"
   ]
  },
  {
   "cell_type": "code",
   "execution_count": 593,
   "id": "c5a01e5f",
   "metadata": {},
   "outputs": [
    {
     "name": "stdout",
     "output_type": "stream",
     "text": [
      "          ddeaths                        ci95_hi      ci95_lo\n",
      "             mean          std size                          \n",
      "year                                                         \n",
      "2020  1019.576812   823.955735  345  1106.955076   932.198547\n",
      "2021  1304.534247  1053.243581  365  1413.094950  1195.973544\n"
     ]
    }
   ],
   "source": [
    "stats['ci95_hi'] = ci95_hi\n",
    "stats['ci95_lo'] = ci95_lo\n",
    "print(stats)"
   ]
  },
  {
   "cell_type": "code",
   "execution_count": 594,
   "id": "a5fda3d5",
   "metadata": {},
   "outputs": [],
   "source": [
    "df_ci= pd.DataFrame(stats)"
   ]
  },
  {
   "cell_type": "code",
   "execution_count": 595,
   "id": "49b7591c",
   "metadata": {},
   "outputs": [
    {
     "data": {
      "text/html": [
       "<div>\n",
       "<style scoped>\n",
       "    .dataframe tbody tr th:only-of-type {\n",
       "        vertical-align: middle;\n",
       "    }\n",
       "\n",
       "    .dataframe tbody tr th {\n",
       "        vertical-align: top;\n",
       "    }\n",
       "\n",
       "    .dataframe thead tr th {\n",
       "        text-align: left;\n",
       "    }\n",
       "\n",
       "    .dataframe thead tr:last-of-type th {\n",
       "        text-align: right;\n",
       "    }\n",
       "</style>\n",
       "<table border=\"1\" class=\"dataframe\">\n",
       "  <thead>\n",
       "    <tr>\n",
       "      <th></th>\n",
       "      <th colspan=\"3\" halign=\"left\">ddeaths</th>\n",
       "      <th>ci95_hi</th>\n",
       "      <th>ci95_lo</th>\n",
       "    </tr>\n",
       "    <tr>\n",
       "      <th></th>\n",
       "      <th>mean</th>\n",
       "      <th>std</th>\n",
       "      <th>size</th>\n",
       "      <th></th>\n",
       "      <th></th>\n",
       "    </tr>\n",
       "    <tr>\n",
       "      <th>year</th>\n",
       "      <th></th>\n",
       "      <th></th>\n",
       "      <th></th>\n",
       "      <th></th>\n",
       "      <th></th>\n",
       "    </tr>\n",
       "  </thead>\n",
       "  <tbody>\n",
       "    <tr>\n",
       "      <th>2020</th>\n",
       "      <td>1019.576812</td>\n",
       "      <td>823.955735</td>\n",
       "      <td>345</td>\n",
       "      <td>1106.955076</td>\n",
       "      <td>932.198547</td>\n",
       "    </tr>\n",
       "    <tr>\n",
       "      <th>2021</th>\n",
       "      <td>1304.534247</td>\n",
       "      <td>1053.243581</td>\n",
       "      <td>365</td>\n",
       "      <td>1413.094950</td>\n",
       "      <td>1195.973544</td>\n",
       "    </tr>\n",
       "  </tbody>\n",
       "</table>\n",
       "</div>"
      ],
      "text/plain": [
       "          ddeaths                        ci95_hi      ci95_lo\n",
       "             mean          std size                          \n",
       "year                                                         \n",
       "2020  1019.576812   823.955735  345  1106.955076   932.198547\n",
       "2021  1304.534247  1053.243581  365  1413.094950  1195.973544"
      ]
     },
     "execution_count": 595,
     "metadata": {},
     "output_type": "execute_result"
    }
   ],
   "source": [
    "df_ci"
   ]
  },
  {
   "cell_type": "code",
   "execution_count": 596,
   "id": "d1f2661e",
   "metadata": {},
   "outputs": [
    {
     "data": {
      "text/plain": [
       "Index(['2020', '2021'], dtype='object', name='year')"
      ]
     },
     "execution_count": 596,
     "metadata": {},
     "output_type": "execute_result"
    }
   ],
   "source": [
    "df_ci.index"
   ]
  },
  {
   "cell_type": "code",
   "execution_count": 597,
   "id": "70368618",
   "metadata": {},
   "outputs": [],
   "source": [
    "df_ci['region']=df_ci.index"
   ]
  },
  {
   "cell_type": "code",
   "execution_count": 598,
   "id": "22ab893c",
   "metadata": {},
   "outputs": [
    {
     "data": {
      "text/html": [
       "<div>\n",
       "<style scoped>\n",
       "    .dataframe tbody tr th:only-of-type {\n",
       "        vertical-align: middle;\n",
       "    }\n",
       "\n",
       "    .dataframe tbody tr th {\n",
       "        vertical-align: top;\n",
       "    }\n",
       "\n",
       "    .dataframe thead tr th {\n",
       "        text-align: left;\n",
       "    }\n",
       "\n",
       "    .dataframe thead tr:last-of-type th {\n",
       "        text-align: right;\n",
       "    }\n",
       "</style>\n",
       "<table border=\"1\" class=\"dataframe\">\n",
       "  <thead>\n",
       "    <tr>\n",
       "      <th></th>\n",
       "      <th colspan=\"3\" halign=\"left\">ddeaths</th>\n",
       "      <th>ci95_hi</th>\n",
       "      <th>ci95_lo</th>\n",
       "      <th>region</th>\n",
       "    </tr>\n",
       "    <tr>\n",
       "      <th></th>\n",
       "      <th>mean</th>\n",
       "      <th>std</th>\n",
       "      <th>size</th>\n",
       "      <th></th>\n",
       "      <th></th>\n",
       "      <th></th>\n",
       "    </tr>\n",
       "    <tr>\n",
       "      <th>year</th>\n",
       "      <th></th>\n",
       "      <th></th>\n",
       "      <th></th>\n",
       "      <th></th>\n",
       "      <th></th>\n",
       "      <th></th>\n",
       "    </tr>\n",
       "  </thead>\n",
       "  <tbody>\n",
       "    <tr>\n",
       "      <th>2020</th>\n",
       "      <td>1019.576812</td>\n",
       "      <td>823.955735</td>\n",
       "      <td>345</td>\n",
       "      <td>1106.955076</td>\n",
       "      <td>932.198547</td>\n",
       "      <td>2020</td>\n",
       "    </tr>\n",
       "    <tr>\n",
       "      <th>2021</th>\n",
       "      <td>1304.534247</td>\n",
       "      <td>1053.243581</td>\n",
       "      <td>365</td>\n",
       "      <td>1413.094950</td>\n",
       "      <td>1195.973544</td>\n",
       "      <td>2021</td>\n",
       "    </tr>\n",
       "  </tbody>\n",
       "</table>\n",
       "</div>"
      ],
      "text/plain": [
       "          ddeaths                        ci95_hi      ci95_lo region\n",
       "             mean          std size                                 \n",
       "year                                                                \n",
       "2020  1019.576812   823.955735  345  1106.955076   932.198547   2020\n",
       "2021  1304.534247  1053.243581  365  1413.094950  1195.973544   2021"
      ]
     },
     "execution_count": 598,
     "metadata": {},
     "output_type": "execute_result"
    }
   ],
   "source": [
    "df_ci"
   ]
  },
  {
   "cell_type": "code",
   "execution_count": 599,
   "id": "468540c3",
   "metadata": {},
   "outputs": [
    {
     "data": {
      "text/plain": [
       "MultiIndex([('ddeaths', 'mean'),\n",
       "            ('ddeaths',  'std'),\n",
       "            ('ddeaths', 'size'),\n",
       "            ('ci95_hi',     ''),\n",
       "            ('ci95_lo',     ''),\n",
       "            ( 'region',     '')],\n",
       "           )"
      ]
     },
     "execution_count": 599,
     "metadata": {},
     "output_type": "execute_result"
    }
   ],
   "source": [
    "df_ci.columns"
   ]
  },
  {
   "cell_type": "code",
   "execution_count": 601,
   "id": "6152ddac",
   "metadata": {},
   "outputs": [
    {
     "data": {
      "text/plain": [
       "(900.0, 1500.0)"
      ]
     },
     "execution_count": 601,
     "metadata": {},
     "output_type": "execute_result"
    },
    {
     "data": {
      "image/png": "[encoded data removed]",
      "text/plain": [
       "<Figure size 432x288 with 1 Axes>"
      ]
     },
     "metadata": {
      "needs_background": "light"
     },
     "output_type": "display_data"
    }
   ],
   "source": [
    "for lb,ub,y in zip(df_ci['ci95_lo'],df_ci['ci95_hi'],range(len(df_ci))):\n",
    "    plt.plot((lb,ub),(y,y),'ro-')\n",
    "plt.yticks(range(len(df_ci)),list(df_ci['region']))\n",
    "plt.xlim([900, 1500])"
   ]
  },
  {
   "cell_type": "markdown",
   "id": "8c8112f6",
   "metadata": {},
   "source": [
    "## Total Confirmed Cases VS. Total Deaths in USA"
   ]
  },
  {
   "cell_type": "markdown",
   "id": "c3baaed0",
   "metadata": {},
   "source": [
    "### in 2020"
   ]
  },
  {
   "cell_type": "code",
   "execution_count": 265,
   "id": "dc2a27c3",
   "metadata": {},
   "outputs": [
    {
     "data": {
      "image/png": "[encoded data removed]",
      "text/plain": [
       "<Figure size 432x288 with 1 Axes>"
      ]
     },
     "metadata": {
      "needs_background": "light"
     },
     "output_type": "display_data"
    }
   ],
   "source": [
    "plt.plot( 'date', 'totcases', data=df_usa_2020,  color='orange', markersize=4, linewidth=1)\n",
    "plt.xlabel('Date')\n",
    "plt.ylabel('Total')\n",
    "plt.title('Total Confirmed Cases in USA in 2020')\n",
    "plt.show()"
   ]
  },
  {
   "cell_type": "code",
   "execution_count": 266,
   "id": "9b6d634b",
   "metadata": {},
   "outputs": [
    {
     "data": {
      "image/png": "[encoded data removed]",
      "text/plain": [
       "<Figure size 432x288 with 1 Axes>"
      ]
     },
     "metadata": {
      "needs_background": "light"
     },
     "output_type": "display_data"
    }
   ],
   "source": [
    "plt.plot( 'date', 'totdeaths', data=df_usa_2020,  color='red', markersize=4,     linewidth=1)\n",
    "plt.xlabel('Date')\n",
    "plt.ylabel('Total')\n",
    "plt.title('Total Confirmed Deaths in USA in 2020')\n",
    "plt.show()"
   ]
  },
  {
   "cell_type": "markdown",
   "id": "18e2eac7",
   "metadata": {},
   "source": [
    "### in 2021"
   ]
  },
  {
   "cell_type": "code",
   "execution_count": 267,
   "id": "43b9f77d",
   "metadata": {},
   "outputs": [
    {
     "data": {
      "image/png": "[encoded data removed]",
      "text/plain": [
       "<Figure size 432x288 with 1 Axes>"
      ]
     },
     "metadata": {
      "needs_background": "light"
     },
     "output_type": "display_data"
    }
   ],
   "source": [
    "plt.plot( 'date', 'totcases', data=df_usa_2021,  color='orange', markersize=4, linewidth=1)\n",
    "plt.xlabel('Date')\n",
    "plt.ylabel('Total')\n",
    "plt.title('Total Confirmed Cases in USA in 2021')\n",
    "plt.show()"
   ]
  },
  {
   "cell_type": "code",
   "execution_count": 268,
   "id": "4e28a40e",
   "metadata": {},
   "outputs": [
    {
     "data": {
      "image/png": "[encoded data removed]",
      "text/plain": [
       "<Figure size 432x288 with 1 Axes>"
      ]
     },
     "metadata": {
      "needs_background": "light"
     },
     "output_type": "display_data"
    }
   ],
   "source": [
    "plt.plot( 'date', 'totdeaths', data=df_usa_2021,  color='red', markersize=4,     linewidth=1)\n",
    "plt.xlabel('Date')\n",
    "plt.ylabel('Total')\n",
    "plt.title('Total Confirmed Deaths in USA in 2021')\n",
    "plt.show()"
   ]
  },
  {
   "cell_type": "markdown",
   "id": "5c9e30f6",
   "metadata": {},
   "source": [
    "## Compare between 2020 and 2021 "
   ]
  },
  {
   "cell_type": "markdown",
   "id": "501252c4",
   "metadata": {},
   "source": [
    "### According to Regions"
   ]
  },
  {
   "cell_type": "markdown",
   "id": "e7f98817",
   "metadata": {},
   "source": [
    "#### Region 1: \"South Asia\""
   ]
  },
  {
   "cell_type": "code",
   "execution_count": 269,
   "id": "f6d21b8c",
   "metadata": {},
   "outputs": [],
   "source": [
    "df_southasia=df.loc[df['region']=='South Asia']"
   ]
  },
  {
   "cell_type": "code",
   "execution_count": 270,
   "id": "091bffb6",
   "metadata": {},
   "outputs": [],
   "source": [
    "conditions=[(df_southasia['date']<='2020-12-31'),(df_southasia['date']>='2021-1-1')]"
   ]
  },
  {
   "cell_type": "code",
   "execution_count": 271,
   "id": "6fb161bd",
   "metadata": {},
   "outputs": [
    {
     "name": "stderr",
     "output_type": "stream",
     "text": [
      "/var/folders/3m/bxpcj6d907q836kvw4zwr1340000gn/T/ipykernel_94023/603754688.py:1: SettingWithCopyWarning: \n",
      "A value is trying to be set on a copy of a slice from a DataFrame.\n",
      "Try using .loc[row_indexer,col_indexer] = value instead\n",
      "\n",
      "See the caveats in the documentation: https://pandas.pydata.org/pandas-docs/stable/user_guide/indexing.html#returning-a-view-versus-a-copy\n",
      "  df_southasia['year']=np.select(conditions,['2020','2021'])\n"
     ]
    }
   ],
   "source": [
    "df_southasia['year']=np.select(conditions,['2020','2021'])"
   ]
  },
  {
   "cell_type": "code",
   "execution_count": 272,
   "id": "cafdb945",
   "metadata": {},
   "outputs": [],
   "source": [
    "df_southasia_2020=df_usa[df_usa['year']=='2020']"
   ]
  },
  {
   "cell_type": "code",
   "execution_count": 273,
   "id": "69962355",
   "metadata": {},
   "outputs": [],
   "source": [
    "df_southasia_2021=df_usa[df_usa['year']=='2021']"
   ]
  },
  {
   "cell_type": "code",
   "execution_count": 274,
   "id": "30a51b1b",
   "metadata": {},
   "outputs": [],
   "source": [
    "stats=df_southasia.groupby('year').agg({\"dcases\": [np.mean, np.std, np.size]})"
   ]
  },
  {
   "cell_type": "code",
   "execution_count": 275,
   "id": "9273187b",
   "metadata": {
    "scrolled": true
   },
   "outputs": [
    {
     "data": {
      "text/html": [
       "<div>\n",
       "<style scoped>\n",
       "    .dataframe tbody tr th:only-of-type {\n",
       "        vertical-align: middle;\n",
       "    }\n",
       "\n",
       "    .dataframe tbody tr th {\n",
       "        vertical-align: top;\n",
       "    }\n",
       "\n",
       "    .dataframe thead tr th {\n",
       "        text-align: left;\n",
       "    }\n",
       "\n",
       "    .dataframe thead tr:last-of-type th {\n",
       "        text-align: right;\n",
       "    }\n",
       "</style>\n",
       "<table border=\"1\" class=\"dataframe\">\n",
       "  <thead>\n",
       "    <tr>\n",
       "      <th></th>\n",
       "      <th colspan=\"3\" halign=\"left\">dcases</th>\n",
       "    </tr>\n",
       "    <tr>\n",
       "      <th></th>\n",
       "      <th>mean</th>\n",
       "      <th>std</th>\n",
       "      <th>size</th>\n",
       "    </tr>\n",
       "    <tr>\n",
       "      <th>year</th>\n",
       "      <th></th>\n",
       "      <th></th>\n",
       "      <th></th>\n",
       "    </tr>\n",
       "  </thead>\n",
       "  <tbody>\n",
       "    <tr>\n",
       "      <th>2020</th>\n",
       "      <td>4586.009052</td>\n",
       "      <td>14809.626669</td>\n",
       "      <td>2541</td>\n",
       "    </tr>\n",
       "    <tr>\n",
       "      <th>2021</th>\n",
       "      <td>9507.577055</td>\n",
       "      <td>41050.751055</td>\n",
       "      <td>2920</td>\n",
       "    </tr>\n",
       "  </tbody>\n",
       "</table>\n",
       "</div>"
      ],
      "text/plain": [
       "           dcases                    \n",
       "             mean           std  size\n",
       "year                                 \n",
       "2020  4586.009052  14809.626669  2541\n",
       "2021  9507.577055  41050.751055  2920"
      ]
     },
     "execution_count": 275,
     "metadata": {},
     "output_type": "execute_result"
    }
   ],
   "source": [
    "stats"
   ]
  },
  {
   "cell_type": "code",
   "execution_count": 276,
   "id": "2ae337da",
   "metadata": {},
   "outputs": [
    {
     "data": {
      "text/plain": [
       "Index(['2020', '2021'], dtype='object', name='year')"
      ]
     },
     "execution_count": 276,
     "metadata": {},
     "output_type": "execute_result"
    }
   ],
   "source": [
    "stats.index"
   ]
  },
  {
   "cell_type": "code",
   "execution_count": 277,
   "id": "0e605e88",
   "metadata": {},
   "outputs": [],
   "source": [
    "ci95_hi = []\n",
    "ci95_lo = []"
   ]
  },
  {
   "cell_type": "code",
   "execution_count": 278,
   "id": "1f13a7f4",
   "metadata": {},
   "outputs": [],
   "source": [
    "for i in stats.index:\n",
    "    m, s, n = stats.loc[i]\n",
    "    x=scipy.stats.t.interval(.95, n-1, m,s/np.sqrt(n-1))\n",
    "    ci95_hi.append(x[1])\n",
    "    ci95_lo.append(x[0])"
   ]
  },
  {
   "cell_type": "code",
   "execution_count": 279,
   "id": "a01a2f68",
   "metadata": {},
   "outputs": [
    {
     "data": {
      "text/plain": [
       "[5162.221108860965, 10997.39179643133]"
      ]
     },
     "execution_count": 279,
     "metadata": {},
     "output_type": "execute_result"
    }
   ],
   "source": [
    "ci95_hi"
   ]
  },
  {
   "cell_type": "code",
   "execution_count": 280,
   "id": "49c9ea93",
   "metadata": {},
   "outputs": [
    {
     "data": {
      "text/plain": [
       "[4009.7969942480477, 8017.762313157713]"
      ]
     },
     "execution_count": 280,
     "metadata": {},
     "output_type": "execute_result"
    }
   ],
   "source": [
    "ci95_lo "
   ]
  },
  {
   "cell_type": "code",
   "execution_count": 281,
   "id": "56ccadc0",
   "metadata": {},
   "outputs": [
    {
     "name": "stdout",
     "output_type": "stream",
     "text": [
      "           dcases                           ci95_hi      ci95_lo\n",
      "             mean           std  size                           \n",
      "year                                                            \n",
      "2020  4586.009052  14809.626669  2541   5162.221109  4009.796994\n",
      "2021  9507.577055  41050.751055  2920  10997.391796  8017.762313\n"
     ]
    }
   ],
   "source": [
    "stats['ci95_hi'] = ci95_hi\n",
    "stats['ci95_lo'] = ci95_lo\n",
    "print(stats)"
   ]
  },
  {
   "cell_type": "code",
   "execution_count": 282,
   "id": "c5f74a57",
   "metadata": {},
   "outputs": [],
   "source": [
    "df_ci= pd.DataFrame(stats)"
   ]
  },
  {
   "cell_type": "code",
   "execution_count": 283,
   "id": "a03820f8",
   "metadata": {},
   "outputs": [
    {
     "data": {
      "text/html": [
       "<div>\n",
       "<style scoped>\n",
       "    .dataframe tbody tr th:only-of-type {\n",
       "        vertical-align: middle;\n",
       "    }\n",
       "\n",
       "    .dataframe tbody tr th {\n",
       "        vertical-align: top;\n",
       "    }\n",
       "\n",
       "    .dataframe thead tr th {\n",
       "        text-align: left;\n",
       "    }\n",
       "\n",
       "    .dataframe thead tr:last-of-type th {\n",
       "        text-align: right;\n",
       "    }\n",
       "</style>\n",
       "<table border=\"1\" class=\"dataframe\">\n",
       "  <thead>\n",
       "    <tr>\n",
       "      <th></th>\n",
       "      <th colspan=\"3\" halign=\"left\">dcases</th>\n",
       "      <th>ci95_hi</th>\n",
       "      <th>ci95_lo</th>\n",
       "    </tr>\n",
       "    <tr>\n",
       "      <th></th>\n",
       "      <th>mean</th>\n",
       "      <th>std</th>\n",
       "      <th>size</th>\n",
       "      <th></th>\n",
       "      <th></th>\n",
       "    </tr>\n",
       "    <tr>\n",
       "      <th>year</th>\n",
       "      <th></th>\n",
       "      <th></th>\n",
       "      <th></th>\n",
       "      <th></th>\n",
       "      <th></th>\n",
       "    </tr>\n",
       "  </thead>\n",
       "  <tbody>\n",
       "    <tr>\n",
       "      <th>2020</th>\n",
       "      <td>4586.009052</td>\n",
       "      <td>14809.626669</td>\n",
       "      <td>2541</td>\n",
       "      <td>5162.221109</td>\n",
       "      <td>4009.796994</td>\n",
       "    </tr>\n",
       "    <tr>\n",
       "      <th>2021</th>\n",
       "      <td>9507.577055</td>\n",
       "      <td>41050.751055</td>\n",
       "      <td>2920</td>\n",
       "      <td>10997.391796</td>\n",
       "      <td>8017.762313</td>\n",
       "    </tr>\n",
       "  </tbody>\n",
       "</table>\n",
       "</div>"
      ],
      "text/plain": [
       "           dcases                           ci95_hi      ci95_lo\n",
       "             mean           std  size                           \n",
       "year                                                            \n",
       "2020  4586.009052  14809.626669  2541   5162.221109  4009.796994\n",
       "2021  9507.577055  41050.751055  2920  10997.391796  8017.762313"
      ]
     },
     "execution_count": 283,
     "metadata": {},
     "output_type": "execute_result"
    }
   ],
   "source": [
    "df_ci"
   ]
  },
  {
   "cell_type": "code",
   "execution_count": 284,
   "id": "36d2ff05",
   "metadata": {},
   "outputs": [
    {
     "data": {
      "text/plain": [
       "Index(['2020', '2021'], dtype='object', name='year')"
      ]
     },
     "execution_count": 284,
     "metadata": {},
     "output_type": "execute_result"
    }
   ],
   "source": [
    "df_ci.index"
   ]
  },
  {
   "cell_type": "code",
   "execution_count": 285,
   "id": "1cff29f9",
   "metadata": {},
   "outputs": [],
   "source": [
    "df_ci['year']=df_ci.index"
   ]
  },
  {
   "cell_type": "code",
   "execution_count": 286,
   "id": "0bb0a434",
   "metadata": {},
   "outputs": [
    {
     "data": {
      "text/html": [
       "<div>\n",
       "<style scoped>\n",
       "    .dataframe tbody tr th:only-of-type {\n",
       "        vertical-align: middle;\n",
       "    }\n",
       "\n",
       "    .dataframe tbody tr th {\n",
       "        vertical-align: top;\n",
       "    }\n",
       "\n",
       "    .dataframe thead tr th {\n",
       "        text-align: left;\n",
       "    }\n",
       "\n",
       "    .dataframe thead tr:last-of-type th {\n",
       "        text-align: right;\n",
       "    }\n",
       "</style>\n",
       "<table border=\"1\" class=\"dataframe\">\n",
       "  <thead>\n",
       "    <tr>\n",
       "      <th></th>\n",
       "      <th colspan=\"3\" halign=\"left\">dcases</th>\n",
       "      <th>ci95_hi</th>\n",
       "      <th>ci95_lo</th>\n",
       "      <th>year</th>\n",
       "    </tr>\n",
       "    <tr>\n",
       "      <th></th>\n",
       "      <th>mean</th>\n",
       "      <th>std</th>\n",
       "      <th>size</th>\n",
       "      <th></th>\n",
       "      <th></th>\n",
       "      <th></th>\n",
       "    </tr>\n",
       "    <tr>\n",
       "      <th>year</th>\n",
       "      <th></th>\n",
       "      <th></th>\n",
       "      <th></th>\n",
       "      <th></th>\n",
       "      <th></th>\n",
       "      <th></th>\n",
       "    </tr>\n",
       "  </thead>\n",
       "  <tbody>\n",
       "    <tr>\n",
       "      <th>2020</th>\n",
       "      <td>4586.009052</td>\n",
       "      <td>14809.626669</td>\n",
       "      <td>2541</td>\n",
       "      <td>5162.221109</td>\n",
       "      <td>4009.796994</td>\n",
       "      <td>2020</td>\n",
       "    </tr>\n",
       "    <tr>\n",
       "      <th>2021</th>\n",
       "      <td>9507.577055</td>\n",
       "      <td>41050.751055</td>\n",
       "      <td>2920</td>\n",
       "      <td>10997.391796</td>\n",
       "      <td>8017.762313</td>\n",
       "      <td>2021</td>\n",
       "    </tr>\n",
       "  </tbody>\n",
       "</table>\n",
       "</div>"
      ],
      "text/plain": [
       "           dcases                           ci95_hi      ci95_lo  year\n",
       "             mean           std  size                                 \n",
       "year                                                                  \n",
       "2020  4586.009052  14809.626669  2541   5162.221109  4009.796994  2020\n",
       "2021  9507.577055  41050.751055  2920  10997.391796  8017.762313  2021"
      ]
     },
     "execution_count": 286,
     "metadata": {},
     "output_type": "execute_result"
    }
   ],
   "source": [
    "df_ci"
   ]
  },
  {
   "cell_type": "code",
   "execution_count": 287,
   "id": "67fb0587",
   "metadata": {},
   "outputs": [
    {
     "data": {
      "text/plain": [
       "MultiIndex([( 'dcases', 'mean'),\n",
       "            ( 'dcases',  'std'),\n",
       "            ( 'dcases', 'size'),\n",
       "            ('ci95_hi',     ''),\n",
       "            ('ci95_lo',     ''),\n",
       "            (   'year',     '')],\n",
       "           )"
      ]
     },
     "execution_count": 287,
     "metadata": {},
     "output_type": "execute_result"
    }
   ],
   "source": [
    "df_ci.columns"
   ]
  },
  {
   "cell_type": "code",
   "execution_count": 288,
   "id": "26d888b5",
   "metadata": {},
   "outputs": [
    {
     "data": {
      "text/plain": [
       "(3500.0, 11500.0)"
      ]
     },
     "execution_count": 288,
     "metadata": {},
     "output_type": "execute_result"
    },
    {
     "data": {
      "image/png": "[encoded data removed]",
      "text/plain": [
       "<Figure size 432x288 with 1 Axes>"
      ]
     },
     "metadata": {
      "needs_background": "light"
     },
     "output_type": "display_data"
    }
   ],
   "source": [
    "for lb,ub,y in zip(df_ci['ci95_lo'],df_ci['ci95_hi'],range(len(df_ci))):\n",
    "    plt.plot((lb,ub),(y,y),'ro-')\n",
    "plt.yticks(range(len(df_ci)),list(df_ci['year']))\n",
    "plt.xlim([3500, 11500])"
   ]
  },
  {
   "cell_type": "markdown",
   "id": "2352ae19",
   "metadata": {},
   "source": [
    "#### Region 2: \"North America\""
   ]
  },
  {
   "cell_type": "code",
   "execution_count": 289,
   "id": "477c4c39",
   "metadata": {},
   "outputs": [],
   "source": [
    "df_northamerica=df.loc[df['region']=='North America(region)']"
   ]
  },
  {
   "cell_type": "code",
   "execution_count": 290,
   "id": "f7fccee1",
   "metadata": {},
   "outputs": [],
   "source": [
    "conditions=[(df_northamerica['date']<='2020-12-31'),(df_northamerica['date']>='2021-1-1')]"
   ]
  },
  {
   "cell_type": "code",
   "execution_count": 291,
   "id": "bce816b3",
   "metadata": {},
   "outputs": [
    {
     "name": "stderr",
     "output_type": "stream",
     "text": [
      "/var/folders/3m/bxpcj6d907q836kvw4zwr1340000gn/T/ipykernel_94023/2967890782.py:1: SettingWithCopyWarning: \n",
      "A value is trying to be set on a copy of a slice from a DataFrame.\n",
      "Try using .loc[row_indexer,col_indexer] = value instead\n",
      "\n",
      "See the caveats in the documentation: https://pandas.pydata.org/pandas-docs/stable/user_guide/indexing.html#returning-a-view-versus-a-copy\n",
      "  df_northamerica['year']=np.select(conditions,['2020','2021'])\n"
     ]
    }
   ],
   "source": [
    "df_northamerica['year']=np.select(conditions,['2020','2021'])"
   ]
  },
  {
   "cell_type": "code",
   "execution_count": 292,
   "id": "a6668d0c",
   "metadata": {},
   "outputs": [],
   "source": [
    "df_northamerica_2020=df_northamerica[df_northamerica['year']=='2020']"
   ]
  },
  {
   "cell_type": "code",
   "execution_count": 293,
   "id": "661ea84e",
   "metadata": {},
   "outputs": [],
   "source": [
    "df_northamerica_2021=df_northamerica[df_northamerica['year']=='2021']"
   ]
  },
  {
   "cell_type": "code",
   "execution_count": 570,
   "id": "93292775",
   "metadata": {},
   "outputs": [],
   "source": [
    "stats=df_northamerica.groupby('year').agg({\"dcases\": [np.mean, np.std, np.size]})"
   ]
  },
  {
   "cell_type": "code",
   "execution_count": 571,
   "id": "f3651dae",
   "metadata": {
    "scrolled": true
   },
   "outputs": [
    {
     "data": {
      "text/html": [
       "<div>\n",
       "<style scoped>\n",
       "    .dataframe tbody tr th:only-of-type {\n",
       "        vertical-align: middle;\n",
       "    }\n",
       "\n",
       "    .dataframe tbody tr th {\n",
       "        vertical-align: top;\n",
       "    }\n",
       "\n",
       "    .dataframe thead tr th {\n",
       "        text-align: left;\n",
       "    }\n",
       "\n",
       "    .dataframe thead tr:last-of-type th {\n",
       "        text-align: right;\n",
       "    }\n",
       "</style>\n",
       "<table border=\"1\" class=\"dataframe\">\n",
       "  <thead>\n",
       "    <tr>\n",
       "      <th></th>\n",
       "      <th colspan=\"3\" halign=\"left\">dcases</th>\n",
       "    </tr>\n",
       "    <tr>\n",
       "      <th></th>\n",
       "      <th>mean</th>\n",
       "      <th>std</th>\n",
       "      <th>size</th>\n",
       "    </tr>\n",
       "    <tr>\n",
       "      <th>year</th>\n",
       "      <th></th>\n",
       "      <th></th>\n",
       "      <th></th>\n",
       "    </tr>\n",
       "  </thead>\n",
       "  <tbody>\n",
       "    <tr>\n",
       "      <th>2020</th>\n",
       "      <td>30164.552975</td>\n",
       "      <td>53111.710028</td>\n",
       "      <td>689</td>\n",
       "    </tr>\n",
       "    <tr>\n",
       "      <th>2021</th>\n",
       "      <td>49657.521918</td>\n",
       "      <td>73271.501688</td>\n",
       "      <td>730</td>\n",
       "    </tr>\n",
       "  </tbody>\n",
       "</table>\n",
       "</div>"
      ],
      "text/plain": [
       "            dcases                   \n",
       "              mean           std size\n",
       "year                                 \n",
       "2020  30164.552975  53111.710028  689\n",
       "2021  49657.521918  73271.501688  730"
      ]
     },
     "execution_count": 571,
     "metadata": {},
     "output_type": "execute_result"
    }
   ],
   "source": [
    "stats"
   ]
  },
  {
   "cell_type": "code",
   "execution_count": 572,
   "id": "2f61085d",
   "metadata": {},
   "outputs": [
    {
     "data": {
      "text/plain": [
       "Index(['2020', '2021'], dtype='object', name='year')"
      ]
     },
     "execution_count": 572,
     "metadata": {},
     "output_type": "execute_result"
    }
   ],
   "source": [
    "stats.index"
   ]
  },
  {
   "cell_type": "code",
   "execution_count": 573,
   "id": "56aac12e",
   "metadata": {},
   "outputs": [],
   "source": [
    "ci95_hi = []\n",
    "ci95_lo = []"
   ]
  },
  {
   "cell_type": "code",
   "execution_count": 574,
   "id": "347eef6c",
   "metadata": {},
   "outputs": [],
   "source": [
    "for i in stats.index:\n",
    "    m, s, n = stats.loc[i]\n",
    "    x=scipy.stats.t.interval(.95, n-1, m,s/np.sqrt(n-1))\n",
    "    ci95_hi.append(x[1])\n",
    "    ci95_lo.append(x[0])"
   ]
  },
  {
   "cell_type": "code",
   "execution_count": 575,
   "id": "74344e26",
   "metadata": {},
   "outputs": [
    {
     "data": {
      "text/plain": [
       "[34140.20933733005, 54985.237846508666]"
      ]
     },
     "execution_count": 575,
     "metadata": {},
     "output_type": "execute_result"
    }
   ],
   "source": [
    "ci95_hi"
   ]
  },
  {
   "cell_type": "code",
   "execution_count": 576,
   "id": "463fe8d0",
   "metadata": {},
   "outputs": [
    {
     "data": {
      "text/plain": [
       "[26188.89661332307, 44329.80598910777]"
      ]
     },
     "execution_count": 576,
     "metadata": {},
     "output_type": "execute_result"
    }
   ],
   "source": [
    "ci95_lo "
   ]
  },
  {
   "cell_type": "code",
   "execution_count": 577,
   "id": "7bdd1ecf",
   "metadata": {},
   "outputs": [
    {
     "name": "stdout",
     "output_type": "stream",
     "text": [
      "            dcases                          ci95_hi       ci95_lo\n",
      "              mean           std size                            \n",
      "year                                                             \n",
      "2020  30164.552975  53111.710028  689  34140.209337  26188.896613\n",
      "2021  49657.521918  73271.501688  730  54985.237847  44329.805989\n"
     ]
    }
   ],
   "source": [
    "stats['ci95_hi'] = ci95_hi\n",
    "stats['ci95_lo'] = ci95_lo\n",
    "print(stats)"
   ]
  },
  {
   "cell_type": "code",
   "execution_count": 578,
   "id": "c7bcad63",
   "metadata": {},
   "outputs": [],
   "source": [
    "df_ci= pd.DataFrame(stats)"
   ]
  },
  {
   "cell_type": "code",
   "execution_count": 579,
   "id": "d701ded3",
   "metadata": {},
   "outputs": [
    {
     "data": {
      "text/html": [
       "<div>\n",
       "<style scoped>\n",
       "    .dataframe tbody tr th:only-of-type {\n",
       "        vertical-align: middle;\n",
       "    }\n",
       "\n",
       "    .dataframe tbody tr th {\n",
       "        vertical-align: top;\n",
       "    }\n",
       "\n",
       "    .dataframe thead tr th {\n",
       "        text-align: left;\n",
       "    }\n",
       "\n",
       "    .dataframe thead tr:last-of-type th {\n",
       "        text-align: right;\n",
       "    }\n",
       "</style>\n",
       "<table border=\"1\" class=\"dataframe\">\n",
       "  <thead>\n",
       "    <tr>\n",
       "      <th></th>\n",
       "      <th colspan=\"3\" halign=\"left\">dcases</th>\n",
       "      <th>ci95_hi</th>\n",
       "      <th>ci95_lo</th>\n",
       "    </tr>\n",
       "    <tr>\n",
       "      <th></th>\n",
       "      <th>mean</th>\n",
       "      <th>std</th>\n",
       "      <th>size</th>\n",
       "      <th></th>\n",
       "      <th></th>\n",
       "    </tr>\n",
       "    <tr>\n",
       "      <th>year</th>\n",
       "      <th></th>\n",
       "      <th></th>\n",
       "      <th></th>\n",
       "      <th></th>\n",
       "      <th></th>\n",
       "    </tr>\n",
       "  </thead>\n",
       "  <tbody>\n",
       "    <tr>\n",
       "      <th>2020</th>\n",
       "      <td>30164.552975</td>\n",
       "      <td>53111.710028</td>\n",
       "      <td>689</td>\n",
       "      <td>34140.209337</td>\n",
       "      <td>26188.896613</td>\n",
       "    </tr>\n",
       "    <tr>\n",
       "      <th>2021</th>\n",
       "      <td>49657.521918</td>\n",
       "      <td>73271.501688</td>\n",
       "      <td>730</td>\n",
       "      <td>54985.237847</td>\n",
       "      <td>44329.805989</td>\n",
       "    </tr>\n",
       "  </tbody>\n",
       "</table>\n",
       "</div>"
      ],
      "text/plain": [
       "            dcases                          ci95_hi       ci95_lo\n",
       "              mean           std size                            \n",
       "year                                                             \n",
       "2020  30164.552975  53111.710028  689  34140.209337  26188.896613\n",
       "2021  49657.521918  73271.501688  730  54985.237847  44329.805989"
      ]
     },
     "execution_count": 579,
     "metadata": {},
     "output_type": "execute_result"
    }
   ],
   "source": [
    "df_ci"
   ]
  },
  {
   "cell_type": "code",
   "execution_count": 580,
   "id": "ec7b0699",
   "metadata": {},
   "outputs": [
    {
     "data": {
      "text/plain": [
       "Index(['2020', '2021'], dtype='object', name='year')"
      ]
     },
     "execution_count": 580,
     "metadata": {},
     "output_type": "execute_result"
    }
   ],
   "source": [
    "df_ci.index"
   ]
  },
  {
   "cell_type": "code",
   "execution_count": 581,
   "id": "8a54b030",
   "metadata": {},
   "outputs": [],
   "source": [
    "df_ci['year']=df_ci.index"
   ]
  },
  {
   "cell_type": "code",
   "execution_count": 582,
   "id": "ea0d7bd8",
   "metadata": {},
   "outputs": [
    {
     "data": {
      "text/html": [
       "<div>\n",
       "<style scoped>\n",
       "    .dataframe tbody tr th:only-of-type {\n",
       "        vertical-align: middle;\n",
       "    }\n",
       "\n",
       "    .dataframe tbody tr th {\n",
       "        vertical-align: top;\n",
       "    }\n",
       "\n",
       "    .dataframe thead tr th {\n",
       "        text-align: left;\n",
       "    }\n",
       "\n",
       "    .dataframe thead tr:last-of-type th {\n",
       "        text-align: right;\n",
       "    }\n",
       "</style>\n",
       "<table border=\"1\" class=\"dataframe\">\n",
       "  <thead>\n",
       "    <tr>\n",
       "      <th></th>\n",
       "      <th colspan=\"3\" halign=\"left\">dcases</th>\n",
       "      <th>ci95_hi</th>\n",
       "      <th>ci95_lo</th>\n",
       "      <th>year</th>\n",
       "    </tr>\n",
       "    <tr>\n",
       "      <th></th>\n",
       "      <th>mean</th>\n",
       "      <th>std</th>\n",
       "      <th>size</th>\n",
       "      <th></th>\n",
       "      <th></th>\n",
       "      <th></th>\n",
       "    </tr>\n",
       "    <tr>\n",
       "      <th>year</th>\n",
       "      <th></th>\n",
       "      <th></th>\n",
       "      <th></th>\n",
       "      <th></th>\n",
       "      <th></th>\n",
       "      <th></th>\n",
       "    </tr>\n",
       "  </thead>\n",
       "  <tbody>\n",
       "    <tr>\n",
       "      <th>2020</th>\n",
       "      <td>30164.552975</td>\n",
       "      <td>53111.710028</td>\n",
       "      <td>689</td>\n",
       "      <td>34140.209337</td>\n",
       "      <td>26188.896613</td>\n",
       "      <td>2020</td>\n",
       "    </tr>\n",
       "    <tr>\n",
       "      <th>2021</th>\n",
       "      <td>49657.521918</td>\n",
       "      <td>73271.501688</td>\n",
       "      <td>730</td>\n",
       "      <td>54985.237847</td>\n",
       "      <td>44329.805989</td>\n",
       "      <td>2021</td>\n",
       "    </tr>\n",
       "  </tbody>\n",
       "</table>\n",
       "</div>"
      ],
      "text/plain": [
       "            dcases                          ci95_hi       ci95_lo  year\n",
       "              mean           std size                                  \n",
       "year                                                                   \n",
       "2020  30164.552975  53111.710028  689  34140.209337  26188.896613  2020\n",
       "2021  49657.521918  73271.501688  730  54985.237847  44329.805989  2021"
      ]
     },
     "execution_count": 582,
     "metadata": {},
     "output_type": "execute_result"
    }
   ],
   "source": [
    "df_ci"
   ]
  },
  {
   "cell_type": "code",
   "execution_count": 583,
   "id": "11be8692",
   "metadata": {},
   "outputs": [
    {
     "data": {
      "text/plain": [
       "MultiIndex([( 'dcases', 'mean'),\n",
       "            ( 'dcases',  'std'),\n",
       "            ( 'dcases', 'size'),\n",
       "            ('ci95_hi',     ''),\n",
       "            ('ci95_lo',     ''),\n",
       "            (   'year',     '')],\n",
       "           )"
      ]
     },
     "execution_count": 583,
     "metadata": {},
     "output_type": "execute_result"
    }
   ],
   "source": [
    "df_ci.columns"
   ]
  },
  {
   "cell_type": "code",
   "execution_count": 585,
   "id": "200b9059",
   "metadata": {},
   "outputs": [
    {
     "data": {
      "text/plain": [
       "(25000.0, 60000.0)"
      ]
     },
     "execution_count": 585,
     "metadata": {},
     "output_type": "execute_result"
    },
    {
     "data": {
      "image/png": "[encoded data removed]",
      "text/plain": [
       "<Figure size 432x288 with 1 Axes>"
      ]
     },
     "metadata": {
      "needs_background": "light"
     },
     "output_type": "display_data"
    }
   ],
   "source": [
    "for lb,ub,y in zip(df_ci['ci95_lo'],df_ci['ci95_hi'],range(len(df_ci))):\n",
    "    plt.plot((lb,ub),(y,y),'ro-')\n",
    "plt.yticks(range(len(df_ci)),list(df_ci['year']))\n",
    "plt.xlim([25000, 60000])"
   ]
  },
  {
   "cell_type": "markdown",
   "id": "0a9e1d94",
   "metadata": {},
   "source": [
    "### According to Continents"
   ]
  },
  {
   "cell_type": "code",
   "execution_count": 309,
   "id": "6e358b24",
   "metadata": {},
   "outputs": [
    {
     "data": {
      "text/plain": [
       "Africa                      34677\n",
       "Asia                        31103\n",
       "Europe                      29103\n",
       "North America(continent)    15229\n",
       "South America(continent)     7985\n",
       "Oceania                      4746\n",
       "Name: continent, dtype: int64"
      ]
     },
     "execution_count": 309,
     "metadata": {},
     "output_type": "execute_result"
    }
   ],
   "source": [
    "df['continent'].value_counts()"
   ]
  },
  {
   "cell_type": "markdown",
   "id": "0192f67e",
   "metadata": {},
   "source": [
    "#### Continent 1: \"Europe\""
   ]
  },
  {
   "cell_type": "code",
   "execution_count": 310,
   "id": "79a80b7f",
   "metadata": {},
   "outputs": [],
   "source": [
    "df_europe=df.loc[df['continent']=='Europe']"
   ]
  },
  {
   "cell_type": "code",
   "execution_count": 311,
   "id": "dcccabf2",
   "metadata": {},
   "outputs": [],
   "source": [
    "conditions=[(df_europe['date']<='2020-12-31'),(df_europe['date']>='2021-1-1')]"
   ]
  },
  {
   "cell_type": "code",
   "execution_count": 312,
   "id": "2b4c3ba1",
   "metadata": {},
   "outputs": [
    {
     "name": "stderr",
     "output_type": "stream",
     "text": [
      "/var/folders/3m/bxpcj6d907q836kvw4zwr1340000gn/T/ipykernel_94023/3170650690.py:1: SettingWithCopyWarning: \n",
      "A value is trying to be set on a copy of a slice from a DataFrame.\n",
      "Try using .loc[row_indexer,col_indexer] = value instead\n",
      "\n",
      "See the caveats in the documentation: https://pandas.pydata.org/pandas-docs/stable/user_guide/indexing.html#returning-a-view-versus-a-copy\n",
      "  df_europe['year']=np.select(conditions,['2020','2021'])\n"
     ]
    }
   ],
   "source": [
    "df_europe['year']=np.select(conditions,['2020','2021'])"
   ]
  },
  {
   "cell_type": "code",
   "execution_count": 313,
   "id": "1a0260ef",
   "metadata": {},
   "outputs": [],
   "source": [
    "df_europe_2020=df_europe[df_europe['year']=='2020']"
   ]
  },
  {
   "cell_type": "code",
   "execution_count": 314,
   "id": "3b8597e7",
   "metadata": {},
   "outputs": [],
   "source": [
    "df_europe_2021=df_europe[df_europe['year']=='2021']"
   ]
  },
  {
   "cell_type": "code",
   "execution_count": 553,
   "id": "6f661088",
   "metadata": {},
   "outputs": [],
   "source": [
    "stats=df_europe.groupby('year').agg({\"dcases\": [np.mean, np.std, np.size]})"
   ]
  },
  {
   "cell_type": "code",
   "execution_count": 554,
   "id": "4b1f97bd",
   "metadata": {},
   "outputs": [
    {
     "data": {
      "text/html": [
       "<div>\n",
       "<style scoped>\n",
       "    .dataframe tbody tr th:only-of-type {\n",
       "        vertical-align: middle;\n",
       "    }\n",
       "\n",
       "    .dataframe tbody tr th {\n",
       "        vertical-align: top;\n",
       "    }\n",
       "\n",
       "    .dataframe thead tr th {\n",
       "        text-align: left;\n",
       "    }\n",
       "\n",
       "    .dataframe thead tr:last-of-type th {\n",
       "        text-align: right;\n",
       "    }\n",
       "</style>\n",
       "<table border=\"1\" class=\"dataframe\">\n",
       "  <thead>\n",
       "    <tr>\n",
       "      <th></th>\n",
       "      <th colspan=\"3\" halign=\"left\">dcases</th>\n",
       "    </tr>\n",
       "    <tr>\n",
       "      <th></th>\n",
       "      <th>mean</th>\n",
       "      <th>std</th>\n",
       "      <th>size</th>\n",
       "    </tr>\n",
       "    <tr>\n",
       "      <th>year</th>\n",
       "      <th></th>\n",
       "      <th></th>\n",
       "      <th></th>\n",
       "    </tr>\n",
       "  </thead>\n",
       "  <tbody>\n",
       "    <tr>\n",
       "      <th>2020</th>\n",
       "      <td>1783.304743</td>\n",
       "      <td>5020.494465</td>\n",
       "      <td>13408</td>\n",
       "    </tr>\n",
       "    <tr>\n",
       "      <th>2021</th>\n",
       "      <td>4145.443007</td>\n",
       "      <td>10270.295699</td>\n",
       "      <td>15695</td>\n",
       "    </tr>\n",
       "  </tbody>\n",
       "</table>\n",
       "</div>"
      ],
      "text/plain": [
       "           dcases                     \n",
       "             mean           std   size\n",
       "year                                  \n",
       "2020  1783.304743   5020.494465  13408\n",
       "2021  4145.443007  10270.295699  15695"
      ]
     },
     "execution_count": 554,
     "metadata": {},
     "output_type": "execute_result"
    }
   ],
   "source": [
    "stats"
   ]
  },
  {
   "cell_type": "code",
   "execution_count": 555,
   "id": "8f0aefe1",
   "metadata": {},
   "outputs": [
    {
     "data": {
      "text/plain": [
       "Index(['2020', '2021'], dtype='object', name='year')"
      ]
     },
     "execution_count": 555,
     "metadata": {},
     "output_type": "execute_result"
    }
   ],
   "source": [
    "stats.index"
   ]
  },
  {
   "cell_type": "code",
   "execution_count": 556,
   "id": "08ec637f",
   "metadata": {},
   "outputs": [],
   "source": [
    "ci95_hi = []\n",
    "ci95_lo = []"
   ]
  },
  {
   "cell_type": "code",
   "execution_count": 557,
   "id": "d0919f50",
   "metadata": {},
   "outputs": [],
   "source": [
    "for i in stats.index:\n",
    "    m, s, n = stats.loc[i]\n",
    "    x=scipy.stats.t.interval(.95, n-1, m,s/np.sqrt(n-1))\n",
    "    ci95_hi.append(x[1])\n",
    "    ci95_lo.append(x[0])"
   ]
  },
  {
   "cell_type": "code",
   "execution_count": 558,
   "id": "77bda3b0",
   "metadata": {},
   "outputs": [
    {
     "data": {
      "text/plain": [
       "[1868.2947745278595, 4306.136285287025]"
      ]
     },
     "execution_count": 558,
     "metadata": {},
     "output_type": "execute_result"
    }
   ],
   "source": [
    "ci95_hi"
   ]
  },
  {
   "cell_type": "code",
   "execution_count": 559,
   "id": "7bc183fa",
   "metadata": {},
   "outputs": [
    {
     "data": {
      "text/plain": [
       "[1698.314712345649, 3984.749729367323]"
      ]
     },
     "execution_count": 559,
     "metadata": {},
     "output_type": "execute_result"
    }
   ],
   "source": [
    "ci95_lo"
   ]
  },
  {
   "cell_type": "code",
   "execution_count": 560,
   "id": "96499e51",
   "metadata": {},
   "outputs": [
    {
     "name": "stdout",
     "output_type": "stream",
     "text": [
      "           dcases                           ci95_hi      ci95_lo\n",
      "             mean           std   size                          \n",
      "year                                                            \n",
      "2020  1783.304743   5020.494465  13408  1868.294775  1698.314712\n",
      "2021  4145.443007  10270.295699  15695  4306.136285  3984.749729\n"
     ]
    }
   ],
   "source": [
    "stats['ci95_hi'] = ci95_hi\n",
    "stats['ci95_lo'] = ci95_lo\n",
    "print(stats)"
   ]
  },
  {
   "cell_type": "code",
   "execution_count": 561,
   "id": "36d719b7",
   "metadata": {},
   "outputs": [],
   "source": [
    "df_ci= pd.DataFrame(stats)"
   ]
  },
  {
   "cell_type": "code",
   "execution_count": 562,
   "id": "e5b69d7b",
   "metadata": {},
   "outputs": [
    {
     "data": {
      "text/html": [
       "<div>\n",
       "<style scoped>\n",
       "    .dataframe tbody tr th:only-of-type {\n",
       "        vertical-align: middle;\n",
       "    }\n",
       "\n",
       "    .dataframe tbody tr th {\n",
       "        vertical-align: top;\n",
       "    }\n",
       "\n",
       "    .dataframe thead tr th {\n",
       "        text-align: left;\n",
       "    }\n",
       "\n",
       "    .dataframe thead tr:last-of-type th {\n",
       "        text-align: right;\n",
       "    }\n",
       "</style>\n",
       "<table border=\"1\" class=\"dataframe\">\n",
       "  <thead>\n",
       "    <tr>\n",
       "      <th></th>\n",
       "      <th colspan=\"3\" halign=\"left\">dcases</th>\n",
       "      <th>ci95_hi</th>\n",
       "      <th>ci95_lo</th>\n",
       "    </tr>\n",
       "    <tr>\n",
       "      <th></th>\n",
       "      <th>mean</th>\n",
       "      <th>std</th>\n",
       "      <th>size</th>\n",
       "      <th></th>\n",
       "      <th></th>\n",
       "    </tr>\n",
       "    <tr>\n",
       "      <th>year</th>\n",
       "      <th></th>\n",
       "      <th></th>\n",
       "      <th></th>\n",
       "      <th></th>\n",
       "      <th></th>\n",
       "    </tr>\n",
       "  </thead>\n",
       "  <tbody>\n",
       "    <tr>\n",
       "      <th>2020</th>\n",
       "      <td>1783.304743</td>\n",
       "      <td>5020.494465</td>\n",
       "      <td>13408</td>\n",
       "      <td>1868.294775</td>\n",
       "      <td>1698.314712</td>\n",
       "    </tr>\n",
       "    <tr>\n",
       "      <th>2021</th>\n",
       "      <td>4145.443007</td>\n",
       "      <td>10270.295699</td>\n",
       "      <td>15695</td>\n",
       "      <td>4306.136285</td>\n",
       "      <td>3984.749729</td>\n",
       "    </tr>\n",
       "  </tbody>\n",
       "</table>\n",
       "</div>"
      ],
      "text/plain": [
       "           dcases                           ci95_hi      ci95_lo\n",
       "             mean           std   size                          \n",
       "year                                                            \n",
       "2020  1783.304743   5020.494465  13408  1868.294775  1698.314712\n",
       "2021  4145.443007  10270.295699  15695  4306.136285  3984.749729"
      ]
     },
     "execution_count": 562,
     "metadata": {},
     "output_type": "execute_result"
    }
   ],
   "source": [
    "df_ci"
   ]
  },
  {
   "cell_type": "code",
   "execution_count": 563,
   "id": "87fa197d",
   "metadata": {},
   "outputs": [
    {
     "data": {
      "text/plain": [
       "Index(['2020', '2021'], dtype='object', name='year')"
      ]
     },
     "execution_count": 563,
     "metadata": {},
     "output_type": "execute_result"
    }
   ],
   "source": [
    "df_ci.index"
   ]
  },
  {
   "cell_type": "code",
   "execution_count": 564,
   "id": "04c593c5",
   "metadata": {},
   "outputs": [],
   "source": [
    "df_ci['region']=df_ci.index"
   ]
  },
  {
   "cell_type": "code",
   "execution_count": 565,
   "id": "9119297a",
   "metadata": {},
   "outputs": [
    {
     "data": {
      "text/html": [
       "<div>\n",
       "<style scoped>\n",
       "    .dataframe tbody tr th:only-of-type {\n",
       "        vertical-align: middle;\n",
       "    }\n",
       "\n",
       "    .dataframe tbody tr th {\n",
       "        vertical-align: top;\n",
       "    }\n",
       "\n",
       "    .dataframe thead tr th {\n",
       "        text-align: left;\n",
       "    }\n",
       "\n",
       "    .dataframe thead tr:last-of-type th {\n",
       "        text-align: right;\n",
       "    }\n",
       "</style>\n",
       "<table border=\"1\" class=\"dataframe\">\n",
       "  <thead>\n",
       "    <tr>\n",
       "      <th></th>\n",
       "      <th colspan=\"3\" halign=\"left\">dcases</th>\n",
       "      <th>ci95_hi</th>\n",
       "      <th>ci95_lo</th>\n",
       "      <th>region</th>\n",
       "    </tr>\n",
       "    <tr>\n",
       "      <th></th>\n",
       "      <th>mean</th>\n",
       "      <th>std</th>\n",
       "      <th>size</th>\n",
       "      <th></th>\n",
       "      <th></th>\n",
       "      <th></th>\n",
       "    </tr>\n",
       "    <tr>\n",
       "      <th>year</th>\n",
       "      <th></th>\n",
       "      <th></th>\n",
       "      <th></th>\n",
       "      <th></th>\n",
       "      <th></th>\n",
       "      <th></th>\n",
       "    </tr>\n",
       "  </thead>\n",
       "  <tbody>\n",
       "    <tr>\n",
       "      <th>2020</th>\n",
       "      <td>1783.304743</td>\n",
       "      <td>5020.494465</td>\n",
       "      <td>13408</td>\n",
       "      <td>1868.294775</td>\n",
       "      <td>1698.314712</td>\n",
       "      <td>2020</td>\n",
       "    </tr>\n",
       "    <tr>\n",
       "      <th>2021</th>\n",
       "      <td>4145.443007</td>\n",
       "      <td>10270.295699</td>\n",
       "      <td>15695</td>\n",
       "      <td>4306.136285</td>\n",
       "      <td>3984.749729</td>\n",
       "      <td>2021</td>\n",
       "    </tr>\n",
       "  </tbody>\n",
       "</table>\n",
       "</div>"
      ],
      "text/plain": [
       "           dcases                           ci95_hi      ci95_lo region\n",
       "             mean           std   size                                 \n",
       "year                                                                   \n",
       "2020  1783.304743   5020.494465  13408  1868.294775  1698.314712   2020\n",
       "2021  4145.443007  10270.295699  15695  4306.136285  3984.749729   2021"
      ]
     },
     "execution_count": 565,
     "metadata": {},
     "output_type": "execute_result"
    }
   ],
   "source": [
    "df_ci"
   ]
  },
  {
   "cell_type": "code",
   "execution_count": 566,
   "id": "7a89f2d8",
   "metadata": {},
   "outputs": [
    {
     "data": {
      "text/plain": [
       "MultiIndex([( 'dcases', 'mean'),\n",
       "            ( 'dcases',  'std'),\n",
       "            ( 'dcases', 'size'),\n",
       "            ('ci95_hi',     ''),\n",
       "            ('ci95_lo',     ''),\n",
       "            ( 'region',     '')],\n",
       "           )"
      ]
     },
     "execution_count": 566,
     "metadata": {},
     "output_type": "execute_result"
    }
   ],
   "source": [
    "df_ci.columns"
   ]
  },
  {
   "cell_type": "code",
   "execution_count": 569,
   "id": "d9d0d01a",
   "metadata": {},
   "outputs": [
    {
     "data": {
      "text/plain": [
       "(1500.0, 4500.0)"
      ]
     },
     "execution_count": 569,
     "metadata": {},
     "output_type": "execute_result"
    },
    {
     "data": {
      "image/png": "[encoded data removed]",
      "text/plain": [
       "<Figure size 432x288 with 1 Axes>"
      ]
     },
     "metadata": {
      "needs_background": "light"
     },
     "output_type": "display_data"
    }
   ],
   "source": [
    "for lb,ub,y in zip(df_ci['ci95_lo'],df_ci['ci95_hi'],range(len(df_ci))):\n",
    "    plt.plot((lb,ub),(y,y),'ro-')\n",
    "plt.yticks(range(len(df_ci)),list(df_ci['region']))\n",
    "plt.xlim([1500, 4500])"
   ]
  },
  {
   "cell_type": "markdown",
   "id": "a99b58ab",
   "metadata": {},
   "source": [
    "#### Continent 2: \"Africa\""
   ]
  },
  {
   "cell_type": "code",
   "execution_count": 330,
   "id": "a739a013",
   "metadata": {},
   "outputs": [],
   "source": [
    "df_africa=df.loc[df['continent']=='Africa']"
   ]
  },
  {
   "cell_type": "code",
   "execution_count": 331,
   "id": "c1f9fd26",
   "metadata": {},
   "outputs": [],
   "source": [
    "conditions=[(df_africa['date']<='2020-12-31'),(df_africa['date']>='2021-1-1')]"
   ]
  },
  {
   "cell_type": "code",
   "execution_count": 332,
   "id": "ae1fdc21",
   "metadata": {},
   "outputs": [
    {
     "name": "stderr",
     "output_type": "stream",
     "text": [
      "/var/folders/3m/bxpcj6d907q836kvw4zwr1340000gn/T/ipykernel_94023/857503831.py:1: SettingWithCopyWarning: \n",
      "A value is trying to be set on a copy of a slice from a DataFrame.\n",
      "Try using .loc[row_indexer,col_indexer] = value instead\n",
      "\n",
      "See the caveats in the documentation: https://pandas.pydata.org/pandas-docs/stable/user_guide/indexing.html#returning-a-view-versus-a-copy\n",
      "  df_africa['year']=np.select(conditions,['2020','2021'])\n"
     ]
    }
   ],
   "source": [
    "df_africa['year']=np.select(conditions,['2020','2021'])"
   ]
  },
  {
   "cell_type": "code",
   "execution_count": 333,
   "id": "e5ef6e3e",
   "metadata": {},
   "outputs": [],
   "source": [
    "df_africa_2020=df_africa[df_africa['year']=='2020']"
   ]
  },
  {
   "cell_type": "code",
   "execution_count": 334,
   "id": "8084c7d6",
   "metadata": {},
   "outputs": [],
   "source": [
    "df_africa_2021=df_africa[df_africa['year']=='2021']"
   ]
  },
  {
   "cell_type": "code",
   "execution_count": 538,
   "id": "718b87da",
   "metadata": {},
   "outputs": [],
   "source": [
    "stats=df_africa.groupby('year').agg({\"dcases\": [np.mean, np.std, np.size]})"
   ]
  },
  {
   "cell_type": "code",
   "execution_count": 539,
   "id": "ed81043f",
   "metadata": {},
   "outputs": [
    {
     "data": {
      "text/html": [
       "<div>\n",
       "<style scoped>\n",
       "    .dataframe tbody tr th:only-of-type {\n",
       "        vertical-align: middle;\n",
       "    }\n",
       "\n",
       "    .dataframe tbody tr th {\n",
       "        vertical-align: top;\n",
       "    }\n",
       "\n",
       "    .dataframe thead tr th {\n",
       "        text-align: left;\n",
       "    }\n",
       "\n",
       "    .dataframe thead tr:last-of-type th {\n",
       "        text-align: right;\n",
       "    }\n",
       "</style>\n",
       "<table border=\"1\" class=\"dataframe\">\n",
       "  <thead>\n",
       "    <tr>\n",
       "      <th></th>\n",
       "      <th colspan=\"3\" halign=\"left\">dcases</th>\n",
       "    </tr>\n",
       "    <tr>\n",
       "      <th></th>\n",
       "      <th>mean</th>\n",
       "      <th>std</th>\n",
       "      <th>size</th>\n",
       "    </tr>\n",
       "    <tr>\n",
       "      <th>year</th>\n",
       "      <th></th>\n",
       "      <th></th>\n",
       "      <th></th>\n",
       "    </tr>\n",
       "  </thead>\n",
       "  <tbody>\n",
       "    <tr>\n",
       "      <th>2020</th>\n",
       "      <td>179.989695</td>\n",
       "      <td>812.148803</td>\n",
       "      <td>15332</td>\n",
       "    </tr>\n",
       "    <tr>\n",
       "      <th>2021</th>\n",
       "      <td>361.298423</td>\n",
       "      <td>1454.828779</td>\n",
       "      <td>19345</td>\n",
       "    </tr>\n",
       "  </tbody>\n",
       "</table>\n",
       "</div>"
      ],
      "text/plain": [
       "          dcases                    \n",
       "            mean          std   size\n",
       "year                                \n",
       "2020  179.989695   812.148803  15332\n",
       "2021  361.298423  1454.828779  19345"
      ]
     },
     "execution_count": 539,
     "metadata": {},
     "output_type": "execute_result"
    }
   ],
   "source": [
    "stats"
   ]
  },
  {
   "cell_type": "code",
   "execution_count": 540,
   "id": "68b434fc",
   "metadata": {},
   "outputs": [
    {
     "data": {
      "text/plain": [
       "Index(['2020', '2021'], dtype='object', name='year')"
      ]
     },
     "execution_count": 540,
     "metadata": {},
     "output_type": "execute_result"
    }
   ],
   "source": [
    "stats.index"
   ]
  },
  {
   "cell_type": "code",
   "execution_count": 541,
   "id": "c793f173",
   "metadata": {},
   "outputs": [],
   "source": [
    "ci95_hi = []\n",
    "ci95_lo = []"
   ]
  },
  {
   "cell_type": "code",
   "execution_count": 542,
   "id": "d154db44",
   "metadata": {},
   "outputs": [],
   "source": [
    "for i in stats.index:\n",
    "    m, s, n = stats.loc[i]\n",
    "    x=scipy.stats.t.interval(.95, n-1, m,s/np.sqrt(n-1))\n",
    "    ci95_hi.append(x[1])\n",
    "    ci95_lo.append(x[0])"
   ]
  },
  {
   "cell_type": "code",
   "execution_count": 543,
   "id": "67b89e7a",
   "metadata": {},
   "outputs": [
    {
     "data": {
      "text/plain": [
       "[192.84649055020242, 381.8012626579949]"
      ]
     },
     "execution_count": 543,
     "metadata": {},
     "output_type": "execute_result"
    }
   ],
   "source": [
    "ci95_hi"
   ]
  },
  {
   "cell_type": "code",
   "execution_count": 544,
   "id": "3f3f1361",
   "metadata": {},
   "outputs": [
    {
     "data": {
      "text/plain": [
       "[167.13289896192907, 340.7955840724263]"
      ]
     },
     "execution_count": 544,
     "metadata": {},
     "output_type": "execute_result"
    }
   ],
   "source": [
    "ci95_lo"
   ]
  },
  {
   "cell_type": "code",
   "execution_count": 545,
   "id": "e9ddde15",
   "metadata": {},
   "outputs": [
    {
     "name": "stdout",
     "output_type": "stream",
     "text": [
      "          dcases                         ci95_hi     ci95_lo\n",
      "            mean          std   size                        \n",
      "year                                                        \n",
      "2020  179.989695   812.148803  15332  192.846491  167.132899\n",
      "2021  361.298423  1454.828779  19345  381.801263  340.795584\n"
     ]
    }
   ],
   "source": [
    "stats['ci95_hi'] = ci95_hi\n",
    "stats['ci95_lo'] = ci95_lo\n",
    "print(stats)"
   ]
  },
  {
   "cell_type": "code",
   "execution_count": 546,
   "id": "69fbb574",
   "metadata": {},
   "outputs": [],
   "source": [
    "df_ci= pd.DataFrame(stats)"
   ]
  },
  {
   "cell_type": "code",
   "execution_count": 547,
   "id": "3dd70ce6",
   "metadata": {},
   "outputs": [
    {
     "data": {
      "text/html": [
       "<div>\n",
       "<style scoped>\n",
       "    .dataframe tbody tr th:only-of-type {\n",
       "        vertical-align: middle;\n",
       "    }\n",
       "\n",
       "    .dataframe tbody tr th {\n",
       "        vertical-align: top;\n",
       "    }\n",
       "\n",
       "    .dataframe thead tr th {\n",
       "        text-align: left;\n",
       "    }\n",
       "\n",
       "    .dataframe thead tr:last-of-type th {\n",
       "        text-align: right;\n",
       "    }\n",
       "</style>\n",
       "<table border=\"1\" class=\"dataframe\">\n",
       "  <thead>\n",
       "    <tr>\n",
       "      <th></th>\n",
       "      <th colspan=\"3\" halign=\"left\">dcases</th>\n",
       "      <th>ci95_hi</th>\n",
       "      <th>ci95_lo</th>\n",
       "    </tr>\n",
       "    <tr>\n",
       "      <th></th>\n",
       "      <th>mean</th>\n",
       "      <th>std</th>\n",
       "      <th>size</th>\n",
       "      <th></th>\n",
       "      <th></th>\n",
       "    </tr>\n",
       "    <tr>\n",
       "      <th>year</th>\n",
       "      <th></th>\n",
       "      <th></th>\n",
       "      <th></th>\n",
       "      <th></th>\n",
       "      <th></th>\n",
       "    </tr>\n",
       "  </thead>\n",
       "  <tbody>\n",
       "    <tr>\n",
       "      <th>2020</th>\n",
       "      <td>179.989695</td>\n",
       "      <td>812.148803</td>\n",
       "      <td>15332</td>\n",
       "      <td>192.846491</td>\n",
       "      <td>167.132899</td>\n",
       "    </tr>\n",
       "    <tr>\n",
       "      <th>2021</th>\n",
       "      <td>361.298423</td>\n",
       "      <td>1454.828779</td>\n",
       "      <td>19345</td>\n",
       "      <td>381.801263</td>\n",
       "      <td>340.795584</td>\n",
       "    </tr>\n",
       "  </tbody>\n",
       "</table>\n",
       "</div>"
      ],
      "text/plain": [
       "          dcases                         ci95_hi     ci95_lo\n",
       "            mean          std   size                        \n",
       "year                                                        \n",
       "2020  179.989695   812.148803  15332  192.846491  167.132899\n",
       "2021  361.298423  1454.828779  19345  381.801263  340.795584"
      ]
     },
     "execution_count": 547,
     "metadata": {},
     "output_type": "execute_result"
    }
   ],
   "source": [
    "df_ci"
   ]
  },
  {
   "cell_type": "code",
   "execution_count": 548,
   "id": "cca693ad",
   "metadata": {},
   "outputs": [
    {
     "data": {
      "text/plain": [
       "Index(['2020', '2021'], dtype='object', name='year')"
      ]
     },
     "execution_count": 548,
     "metadata": {},
     "output_type": "execute_result"
    }
   ],
   "source": [
    "df_ci.index"
   ]
  },
  {
   "cell_type": "code",
   "execution_count": 549,
   "id": "c483cd31",
   "metadata": {},
   "outputs": [],
   "source": [
    "df_ci['region']=df_ci.index"
   ]
  },
  {
   "cell_type": "code",
   "execution_count": 550,
   "id": "bebf98d3",
   "metadata": {},
   "outputs": [
    {
     "data": {
      "text/html": [
       "<div>\n",
       "<style scoped>\n",
       "    .dataframe tbody tr th:only-of-type {\n",
       "        vertical-align: middle;\n",
       "    }\n",
       "\n",
       "    .dataframe tbody tr th {\n",
       "        vertical-align: top;\n",
       "    }\n",
       "\n",
       "    .dataframe thead tr th {\n",
       "        text-align: left;\n",
       "    }\n",
       "\n",
       "    .dataframe thead tr:last-of-type th {\n",
       "        text-align: right;\n",
       "    }\n",
       "</style>\n",
       "<table border=\"1\" class=\"dataframe\">\n",
       "  <thead>\n",
       "    <tr>\n",
       "      <th></th>\n",
       "      <th colspan=\"3\" halign=\"left\">dcases</th>\n",
       "      <th>ci95_hi</th>\n",
       "      <th>ci95_lo</th>\n",
       "      <th>region</th>\n",
       "    </tr>\n",
       "    <tr>\n",
       "      <th></th>\n",
       "      <th>mean</th>\n",
       "      <th>std</th>\n",
       "      <th>size</th>\n",
       "      <th></th>\n",
       "      <th></th>\n",
       "      <th></th>\n",
       "    </tr>\n",
       "    <tr>\n",
       "      <th>year</th>\n",
       "      <th></th>\n",
       "      <th></th>\n",
       "      <th></th>\n",
       "      <th></th>\n",
       "      <th></th>\n",
       "      <th></th>\n",
       "    </tr>\n",
       "  </thead>\n",
       "  <tbody>\n",
       "    <tr>\n",
       "      <th>2020</th>\n",
       "      <td>179.989695</td>\n",
       "      <td>812.148803</td>\n",
       "      <td>15332</td>\n",
       "      <td>192.846491</td>\n",
       "      <td>167.132899</td>\n",
       "      <td>2020</td>\n",
       "    </tr>\n",
       "    <tr>\n",
       "      <th>2021</th>\n",
       "      <td>361.298423</td>\n",
       "      <td>1454.828779</td>\n",
       "      <td>19345</td>\n",
       "      <td>381.801263</td>\n",
       "      <td>340.795584</td>\n",
       "      <td>2021</td>\n",
       "    </tr>\n",
       "  </tbody>\n",
       "</table>\n",
       "</div>"
      ],
      "text/plain": [
       "          dcases                         ci95_hi     ci95_lo region\n",
       "            mean          std   size                               \n",
       "year                                                               \n",
       "2020  179.989695   812.148803  15332  192.846491  167.132899   2020\n",
       "2021  361.298423  1454.828779  19345  381.801263  340.795584   2021"
      ]
     },
     "execution_count": 550,
     "metadata": {},
     "output_type": "execute_result"
    }
   ],
   "source": [
    "df_ci"
   ]
  },
  {
   "cell_type": "code",
   "execution_count": 551,
   "id": "d8be8c19",
   "metadata": {},
   "outputs": [
    {
     "data": {
      "text/plain": [
       "MultiIndex([( 'dcases', 'mean'),\n",
       "            ( 'dcases',  'std'),\n",
       "            ( 'dcases', 'size'),\n",
       "            ('ci95_hi',     ''),\n",
       "            ('ci95_lo',     ''),\n",
       "            ( 'region',     '')],\n",
       "           )"
      ]
     },
     "execution_count": 551,
     "metadata": {},
     "output_type": "execute_result"
    }
   ],
   "source": [
    "df_ci.columns"
   ]
  },
  {
   "cell_type": "code",
   "execution_count": 552,
   "id": "b539400b",
   "metadata": {},
   "outputs": [
    {
     "data": {
      "text/plain": [
       "(150.0, 400.0)"
      ]
     },
     "execution_count": 552,
     "metadata": {},
     "output_type": "execute_result"
    },
    {
     "data": {
      "image/png": "[encoded data removed]",
      "text/plain": [
       "<Figure size 432x288 with 1 Axes>"
      ]
     },
     "metadata": {
      "needs_background": "light"
     },
     "output_type": "display_data"
    }
   ],
   "source": [
    "for lb,ub,y in zip(df_ci['ci95_lo'],df_ci['ci95_hi'],range(len(df_ci))):\n",
    "    plt.plot((lb,ub),(y,y),'ro-')\n",
    "plt.yticks(range(len(df_ci)),list(df_ci['region']))\n",
    "plt.xlim([150, 400])"
   ]
  },
  {
   "cell_type": "markdown",
   "id": "9ed651f4",
   "metadata": {},
   "source": [
    "### According to Income"
   ]
  },
  {
   "cell_type": "markdown",
   "id": "df8ba18d",
   "metadata": {},
   "source": [
    "#### Low income"
   ]
  },
  {
   "cell_type": "code",
   "execution_count": 350,
   "id": "08816360",
   "metadata": {},
   "outputs": [],
   "source": [
    "df_lowinc=df.loc[df['income']=='Low income']"
   ]
  },
  {
   "cell_type": "code",
   "execution_count": 351,
   "id": "0b96cfc7",
   "metadata": {},
   "outputs": [],
   "source": [
    "conditions=[(df_lowinc['date']<='2020-12-31'),(df_lowinc['date']>='2021-1-1')]"
   ]
  },
  {
   "cell_type": "code",
   "execution_count": 352,
   "id": "77c75fb5",
   "metadata": {},
   "outputs": [
    {
     "name": "stderr",
     "output_type": "stream",
     "text": [
      "/var/folders/3m/bxpcj6d907q836kvw4zwr1340000gn/T/ipykernel_94023/88476287.py:1: SettingWithCopyWarning: \n",
      "A value is trying to be set on a copy of a slice from a DataFrame.\n",
      "Try using .loc[row_indexer,col_indexer] = value instead\n",
      "\n",
      "See the caveats in the documentation: https://pandas.pydata.org/pandas-docs/stable/user_guide/indexing.html#returning-a-view-versus-a-copy\n",
      "  df_lowinc['year']=np.select(conditions,['2020','2021'])\n"
     ]
    }
   ],
   "source": [
    "df_lowinc['year']=np.select(conditions,['2020','2021'])"
   ]
  },
  {
   "cell_type": "code",
   "execution_count": 353,
   "id": "7594da82",
   "metadata": {},
   "outputs": [],
   "source": [
    "df_lowinc_2020=df_lowinc[df_lowinc['year']=='2020']"
   ]
  },
  {
   "cell_type": "code",
   "execution_count": 354,
   "id": "625b4564",
   "metadata": {},
   "outputs": [],
   "source": [
    "df_lowinc_2021=df_lowinc[df_lowinc['year']=='2021']"
   ]
  },
  {
   "cell_type": "code",
   "execution_count": 521,
   "id": "ef7d04b0",
   "metadata": {},
   "outputs": [],
   "source": [
    "stats=df_lowinc.groupby('year').agg({\"dcases\": [np.mean, np.std, np.size]})"
   ]
  },
  {
   "cell_type": "code",
   "execution_count": 522,
   "id": "722f68a1",
   "metadata": {},
   "outputs": [
    {
     "data": {
      "text/html": [
       "<div>\n",
       "<style scoped>\n",
       "    .dataframe tbody tr th:only-of-type {\n",
       "        vertical-align: middle;\n",
       "    }\n",
       "\n",
       "    .dataframe tbody tr th {\n",
       "        vertical-align: top;\n",
       "    }\n",
       "\n",
       "    .dataframe thead tr th {\n",
       "        text-align: left;\n",
       "    }\n",
       "\n",
       "    .dataframe thead tr:last-of-type th {\n",
       "        text-align: right;\n",
       "    }\n",
       "</style>\n",
       "<table border=\"1\" class=\"dataframe\">\n",
       "  <thead>\n",
       "    <tr>\n",
       "      <th></th>\n",
       "      <th colspan=\"3\" halign=\"left\">dcases</th>\n",
       "    </tr>\n",
       "    <tr>\n",
       "      <th></th>\n",
       "      <th>mean</th>\n",
       "      <th>std</th>\n",
       "      <th>size</th>\n",
       "    </tr>\n",
       "    <tr>\n",
       "      <th>year</th>\n",
       "      <th></th>\n",
       "      <th></th>\n",
       "      <th></th>\n",
       "    </tr>\n",
       "  </thead>\n",
       "  <tbody>\n",
       "    <tr>\n",
       "      <th>2020</th>\n",
       "      <td>77.125254</td>\n",
       "      <td>283.402922</td>\n",
       "      <td>8351</td>\n",
       "    </tr>\n",
       "    <tr>\n",
       "      <th>2021</th>\n",
       "      <td>168.681058</td>\n",
       "      <td>657.105911</td>\n",
       "      <td>10585</td>\n",
       "    </tr>\n",
       "  </tbody>\n",
       "</table>\n",
       "</div>"
      ],
      "text/plain": [
       "          dcases                   \n",
       "            mean         std   size\n",
       "year                               \n",
       "2020   77.125254  283.402922   8351\n",
       "2021  168.681058  657.105911  10585"
      ]
     },
     "execution_count": 522,
     "metadata": {},
     "output_type": "execute_result"
    }
   ],
   "source": [
    "stats"
   ]
  },
  {
   "cell_type": "code",
   "execution_count": 523,
   "id": "d8f531bd",
   "metadata": {},
   "outputs": [
    {
     "data": {
      "text/plain": [
       "Index(['2020', '2021'], dtype='object', name='year')"
      ]
     },
     "execution_count": 523,
     "metadata": {},
     "output_type": "execute_result"
    }
   ],
   "source": [
    "stats.index"
   ]
  },
  {
   "cell_type": "code",
   "execution_count": 524,
   "id": "1bb3ffee",
   "metadata": {},
   "outputs": [],
   "source": [
    "ci95_hi = []\n",
    "ci95_lo = []"
   ]
  },
  {
   "cell_type": "code",
   "execution_count": 525,
   "id": "d512454a",
   "metadata": {},
   "outputs": [],
   "source": [
    "for i in stats.index:\n",
    "    m, s, n = stats.loc[i]\n",
    "    x=scipy.stats.t.interval(.95, n-1, m,s/np.sqrt(n-1))\n",
    "    ci95_hi.append(x[1])\n",
    "    ci95_lo.append(x[0])"
   ]
  },
  {
   "cell_type": "code",
   "execution_count": 526,
   "id": "c776b356",
   "metadata": {},
   "outputs": [
    {
     "data": {
      "text/plain": [
       "[83.2048142598688, 181.20117020197694]"
      ]
     },
     "execution_count": 526,
     "metadata": {},
     "output_type": "execute_result"
    }
   ],
   "source": [
    "ci95_hi"
   ]
  },
  {
   "cell_type": "code",
   "execution_count": 527,
   "id": "1bf45dcd",
   "metadata": {},
   "outputs": [
    {
     "data": {
      "text/plain": [
       "[71.04569466121849, 156.16094600019596]"
      ]
     },
     "execution_count": 527,
     "metadata": {},
     "output_type": "execute_result"
    }
   ],
   "source": [
    "ci95_lo"
   ]
  },
  {
   "cell_type": "code",
   "execution_count": 528,
   "id": "d4dd933d",
   "metadata": {},
   "outputs": [
    {
     "name": "stdout",
     "output_type": "stream",
     "text": [
      "          dcases                        ci95_hi     ci95_lo\n",
      "            mean         std   size                        \n",
      "year                                                       \n",
      "2020   77.125254  283.402922   8351   83.204814   71.045695\n",
      "2021  168.681058  657.105911  10585  181.201170  156.160946\n"
     ]
    }
   ],
   "source": [
    "stats['ci95_hi'] = ci95_hi\n",
    "stats['ci95_lo'] = ci95_lo\n",
    "print(stats)"
   ]
  },
  {
   "cell_type": "code",
   "execution_count": 529,
   "id": "0746fa84",
   "metadata": {},
   "outputs": [],
   "source": [
    "df_ci= pd.DataFrame(stats)"
   ]
  },
  {
   "cell_type": "code",
   "execution_count": 530,
   "id": "f3859b30",
   "metadata": {},
   "outputs": [
    {
     "data": {
      "text/html": [
       "<div>\n",
       "<style scoped>\n",
       "    .dataframe tbody tr th:only-of-type {\n",
       "        vertical-align: middle;\n",
       "    }\n",
       "\n",
       "    .dataframe tbody tr th {\n",
       "        vertical-align: top;\n",
       "    }\n",
       "\n",
       "    .dataframe thead tr th {\n",
       "        text-align: left;\n",
       "    }\n",
       "\n",
       "    .dataframe thead tr:last-of-type th {\n",
       "        text-align: right;\n",
       "    }\n",
       "</style>\n",
       "<table border=\"1\" class=\"dataframe\">\n",
       "  <thead>\n",
       "    <tr>\n",
       "      <th></th>\n",
       "      <th colspan=\"3\" halign=\"left\">dcases</th>\n",
       "      <th>ci95_hi</th>\n",
       "      <th>ci95_lo</th>\n",
       "    </tr>\n",
       "    <tr>\n",
       "      <th></th>\n",
       "      <th>mean</th>\n",
       "      <th>std</th>\n",
       "      <th>size</th>\n",
       "      <th></th>\n",
       "      <th></th>\n",
       "    </tr>\n",
       "    <tr>\n",
       "      <th>year</th>\n",
       "      <th></th>\n",
       "      <th></th>\n",
       "      <th></th>\n",
       "      <th></th>\n",
       "      <th></th>\n",
       "    </tr>\n",
       "  </thead>\n",
       "  <tbody>\n",
       "    <tr>\n",
       "      <th>2020</th>\n",
       "      <td>77.125254</td>\n",
       "      <td>283.402922</td>\n",
       "      <td>8351</td>\n",
       "      <td>83.204814</td>\n",
       "      <td>71.045695</td>\n",
       "    </tr>\n",
       "    <tr>\n",
       "      <th>2021</th>\n",
       "      <td>168.681058</td>\n",
       "      <td>657.105911</td>\n",
       "      <td>10585</td>\n",
       "      <td>181.201170</td>\n",
       "      <td>156.160946</td>\n",
       "    </tr>\n",
       "  </tbody>\n",
       "</table>\n",
       "</div>"
      ],
      "text/plain": [
       "          dcases                        ci95_hi     ci95_lo\n",
       "            mean         std   size                        \n",
       "year                                                       \n",
       "2020   77.125254  283.402922   8351   83.204814   71.045695\n",
       "2021  168.681058  657.105911  10585  181.201170  156.160946"
      ]
     },
     "execution_count": 530,
     "metadata": {},
     "output_type": "execute_result"
    }
   ],
   "source": [
    "df_ci"
   ]
  },
  {
   "cell_type": "code",
   "execution_count": 531,
   "id": "d5c4458f",
   "metadata": {},
   "outputs": [
    {
     "data": {
      "text/plain": [
       "Index(['2020', '2021'], dtype='object', name='year')"
      ]
     },
     "execution_count": 531,
     "metadata": {},
     "output_type": "execute_result"
    }
   ],
   "source": [
    "df_ci.index"
   ]
  },
  {
   "cell_type": "code",
   "execution_count": 532,
   "id": "9310423b",
   "metadata": {},
   "outputs": [],
   "source": [
    "df_ci['region']=df_ci.index"
   ]
  },
  {
   "cell_type": "code",
   "execution_count": 533,
   "id": "514d1a69",
   "metadata": {},
   "outputs": [
    {
     "data": {
      "text/html": [
       "<div>\n",
       "<style scoped>\n",
       "    .dataframe tbody tr th:only-of-type {\n",
       "        vertical-align: middle;\n",
       "    }\n",
       "\n",
       "    .dataframe tbody tr th {\n",
       "        vertical-align: top;\n",
       "    }\n",
       "\n",
       "    .dataframe thead tr th {\n",
       "        text-align: left;\n",
       "    }\n",
       "\n",
       "    .dataframe thead tr:last-of-type th {\n",
       "        text-align: right;\n",
       "    }\n",
       "</style>\n",
       "<table border=\"1\" class=\"dataframe\">\n",
       "  <thead>\n",
       "    <tr>\n",
       "      <th></th>\n",
       "      <th colspan=\"3\" halign=\"left\">dcases</th>\n",
       "      <th>ci95_hi</th>\n",
       "      <th>ci95_lo</th>\n",
       "      <th>region</th>\n",
       "    </tr>\n",
       "    <tr>\n",
       "      <th></th>\n",
       "      <th>mean</th>\n",
       "      <th>std</th>\n",
       "      <th>size</th>\n",
       "      <th></th>\n",
       "      <th></th>\n",
       "      <th></th>\n",
       "    </tr>\n",
       "    <tr>\n",
       "      <th>year</th>\n",
       "      <th></th>\n",
       "      <th></th>\n",
       "      <th></th>\n",
       "      <th></th>\n",
       "      <th></th>\n",
       "      <th></th>\n",
       "    </tr>\n",
       "  </thead>\n",
       "  <tbody>\n",
       "    <tr>\n",
       "      <th>2020</th>\n",
       "      <td>77.125254</td>\n",
       "      <td>283.402922</td>\n",
       "      <td>8351</td>\n",
       "      <td>83.204814</td>\n",
       "      <td>71.045695</td>\n",
       "      <td>2020</td>\n",
       "    </tr>\n",
       "    <tr>\n",
       "      <th>2021</th>\n",
       "      <td>168.681058</td>\n",
       "      <td>657.105911</td>\n",
       "      <td>10585</td>\n",
       "      <td>181.201170</td>\n",
       "      <td>156.160946</td>\n",
       "      <td>2021</td>\n",
       "    </tr>\n",
       "  </tbody>\n",
       "</table>\n",
       "</div>"
      ],
      "text/plain": [
       "          dcases                        ci95_hi     ci95_lo region\n",
       "            mean         std   size                               \n",
       "year                                                              \n",
       "2020   77.125254  283.402922   8351   83.204814   71.045695   2020\n",
       "2021  168.681058  657.105911  10585  181.201170  156.160946   2021"
      ]
     },
     "execution_count": 533,
     "metadata": {},
     "output_type": "execute_result"
    }
   ],
   "source": [
    "df_ci"
   ]
  },
  {
   "cell_type": "code",
   "execution_count": 534,
   "id": "070f6d2d",
   "metadata": {},
   "outputs": [
    {
     "data": {
      "text/plain": [
       "MultiIndex([( 'dcases', 'mean'),\n",
       "            ( 'dcases',  'std'),\n",
       "            ( 'dcases', 'size'),\n",
       "            ('ci95_hi',     ''),\n",
       "            ('ci95_lo',     ''),\n",
       "            ( 'region',     '')],\n",
       "           )"
      ]
     },
     "execution_count": 534,
     "metadata": {},
     "output_type": "execute_result"
    }
   ],
   "source": [
    "df_ci.columns"
   ]
  },
  {
   "cell_type": "code",
   "execution_count": 537,
   "id": "bb7e43a8",
   "metadata": {},
   "outputs": [
    {
     "data": {
      "text/plain": [
       "(65.0, 190.0)"
      ]
     },
     "execution_count": 537,
     "metadata": {},
     "output_type": "execute_result"
    },
    {
     "data": {
      "image/png": "[encoded data removed]",
      "text/plain": [
       "<Figure size 432x288 with 1 Axes>"
      ]
     },
     "metadata": {
      "needs_background": "light"
     },
     "output_type": "display_data"
    }
   ],
   "source": [
    "for lb,ub,y in zip(df_ci['ci95_lo'],df_ci['ci95_hi'],range(len(df_ci))):\n",
    "    plt.plot((lb,ub),(y,y),'ro-')\n",
    "plt.yticks(range(len(df_ci)),list(df_ci['region']))\n",
    "plt.xlim([65, 190])"
   ]
  },
  {
   "cell_type": "markdown",
   "id": "4b1792aa",
   "metadata": {},
   "source": [
    "#### Lower middle income"
   ]
  },
  {
   "cell_type": "code",
   "execution_count": 370,
   "id": "aa2b719f",
   "metadata": {},
   "outputs": [],
   "source": [
    "df_lowmidinc=df.loc[df['income']=='Lower middle income']"
   ]
  },
  {
   "cell_type": "code",
   "execution_count": 371,
   "id": "1cedc386",
   "metadata": {},
   "outputs": [],
   "source": [
    "conditions=[(df_lowmidinc['date']<='2020-12-31'),(df_lowmidinc['date']>='2021-1-1')]"
   ]
  },
  {
   "cell_type": "code",
   "execution_count": 372,
   "id": "56a53648",
   "metadata": {},
   "outputs": [
    {
     "name": "stderr",
     "output_type": "stream",
     "text": [
      "/var/folders/3m/bxpcj6d907q836kvw4zwr1340000gn/T/ipykernel_94023/3453346660.py:1: SettingWithCopyWarning: \n",
      "A value is trying to be set on a copy of a slice from a DataFrame.\n",
      "Try using .loc[row_indexer,col_indexer] = value instead\n",
      "\n",
      "See the caveats in the documentation: https://pandas.pydata.org/pandas-docs/stable/user_guide/indexing.html#returning-a-view-versus-a-copy\n",
      "  df_lowmidinc['year']=np.select(conditions,['2020','2021'])\n"
     ]
    }
   ],
   "source": [
    "df_lowmidinc['year']=np.select(conditions,['2020','2021'])"
   ]
  },
  {
   "cell_type": "code",
   "execution_count": 373,
   "id": "42c06ce4",
   "metadata": {},
   "outputs": [],
   "source": [
    "df_lowmidinc_2020=df_lowmidinc[df_lowmidinc['year']=='2020']"
   ]
  },
  {
   "cell_type": "code",
   "execution_count": 374,
   "id": "07e5f150",
   "metadata": {},
   "outputs": [],
   "source": [
    "df_lowmidinc_2021=df_lowmidinc[df_lowmidinc['year']=='2021']"
   ]
  },
  {
   "cell_type": "code",
   "execution_count": 503,
   "id": "dd460c33",
   "metadata": {},
   "outputs": [],
   "source": [
    "stats=df_lowmidinc.groupby('year').agg({\"dcases\": [np.mean, np.std, np.size]})"
   ]
  },
  {
   "cell_type": "code",
   "execution_count": 504,
   "id": "bf9b3510",
   "metadata": {},
   "outputs": [
    {
     "data": {
      "text/html": [
       "<div>\n",
       "<style scoped>\n",
       "    .dataframe tbody tr th:only-of-type {\n",
       "        vertical-align: middle;\n",
       "    }\n",
       "\n",
       "    .dataframe tbody tr th {\n",
       "        vertical-align: top;\n",
       "    }\n",
       "\n",
       "    .dataframe thead tr th {\n",
       "        text-align: left;\n",
       "    }\n",
       "\n",
       "    .dataframe thead tr:last-of-type th {\n",
       "        text-align: right;\n",
       "    }\n",
       "</style>\n",
       "<table border=\"1\" class=\"dataframe\">\n",
       "  <thead>\n",
       "    <tr>\n",
       "      <th></th>\n",
       "      <th colspan=\"3\" halign=\"left\">dcases</th>\n",
       "    </tr>\n",
       "    <tr>\n",
       "      <th></th>\n",
       "      <th>mean</th>\n",
       "      <th>std</th>\n",
       "      <th>size</th>\n",
       "    </tr>\n",
       "    <tr>\n",
       "      <th>year</th>\n",
       "      <th></th>\n",
       "      <th></th>\n",
       "      <th></th>\n",
       "    </tr>\n",
       "  </thead>\n",
       "  <tbody>\n",
       "    <tr>\n",
       "      <th>2020</th>\n",
       "      <td>1214.800373</td>\n",
       "      <td>6871.170940</td>\n",
       "      <td>12879</td>\n",
       "    </tr>\n",
       "    <tr>\n",
       "      <th>2021</th>\n",
       "      <td>2550.449589</td>\n",
       "      <td>17762.604302</td>\n",
       "      <td>16653</td>\n",
       "    </tr>\n",
       "  </tbody>\n",
       "</table>\n",
       "</div>"
      ],
      "text/plain": [
       "           dcases                     \n",
       "             mean           std   size\n",
       "year                                  \n",
       "2020  1214.800373   6871.170940  12879\n",
       "2021  2550.449589  17762.604302  16653"
      ]
     },
     "execution_count": 504,
     "metadata": {},
     "output_type": "execute_result"
    }
   ],
   "source": [
    "stats"
   ]
  },
  {
   "cell_type": "code",
   "execution_count": 505,
   "id": "0b414657",
   "metadata": {},
   "outputs": [
    {
     "data": {
      "text/plain": [
       "Index(['2020', '2021'], dtype='object', name='year')"
      ]
     },
     "execution_count": 505,
     "metadata": {},
     "output_type": "execute_result"
    }
   ],
   "source": [
    "stats.index"
   ]
  },
  {
   "cell_type": "code",
   "execution_count": 506,
   "id": "e0f12caf",
   "metadata": {},
   "outputs": [],
   "source": [
    "ci95_hi = []\n",
    "ci95_lo = []"
   ]
  },
  {
   "cell_type": "code",
   "execution_count": 507,
   "id": "fa509635",
   "metadata": {},
   "outputs": [],
   "source": [
    "for i in stats.index:\n",
    "    m, s, n = stats.loc[i]\n",
    "    x=scipy.stats.t.interval(.95, n-1, m,s/np.sqrt(n-1))\n",
    "    ci95_hi.append(x[1])\n",
    "    ci95_lo.append(x[0])"
   ]
  },
  {
   "cell_type": "code",
   "execution_count": 508,
   "id": "d0f1298b",
   "metadata": {},
   "outputs": [
    {
     "data": {
      "text/plain": [
       "[1333.4852686858935, 2820.256517957905]"
      ]
     },
     "execution_count": 508,
     "metadata": {},
     "output_type": "execute_result"
    }
   ],
   "source": [
    "ci95_hi"
   ]
  },
  {
   "cell_type": "code",
   "execution_count": 509,
   "id": "1c66a121",
   "metadata": {},
   "outputs": [
    {
     "data": {
      "text/plain": [
       "[1096.115476713594, 2280.6426593675014]"
      ]
     },
     "execution_count": 509,
     "metadata": {},
     "output_type": "execute_result"
    }
   ],
   "source": [
    "ci95_lo"
   ]
  },
  {
   "cell_type": "code",
   "execution_count": 510,
   "id": "5a1889dc",
   "metadata": {},
   "outputs": [
    {
     "name": "stdout",
     "output_type": "stream",
     "text": [
      "           dcases                           ci95_hi      ci95_lo\n",
      "             mean           std   size                          \n",
      "year                                                            \n",
      "2020  1214.800373   6871.170940  12879  1333.485269  1096.115477\n",
      "2021  2550.449589  17762.604302  16653  2820.256518  2280.642659\n"
     ]
    }
   ],
   "source": [
    "stats['ci95_hi'] = ci95_hi\n",
    "stats['ci95_lo'] = ci95_lo\n",
    "print(stats)"
   ]
  },
  {
   "cell_type": "code",
   "execution_count": 511,
   "id": "d7e41195",
   "metadata": {},
   "outputs": [],
   "source": [
    "df_ci= pd.DataFrame(stats)"
   ]
  },
  {
   "cell_type": "code",
   "execution_count": 512,
   "id": "9a19ca14",
   "metadata": {},
   "outputs": [
    {
     "data": {
      "text/html": [
       "<div>\n",
       "<style scoped>\n",
       "    .dataframe tbody tr th:only-of-type {\n",
       "        vertical-align: middle;\n",
       "    }\n",
       "\n",
       "    .dataframe tbody tr th {\n",
       "        vertical-align: top;\n",
       "    }\n",
       "\n",
       "    .dataframe thead tr th {\n",
       "        text-align: left;\n",
       "    }\n",
       "\n",
       "    .dataframe thead tr:last-of-type th {\n",
       "        text-align: right;\n",
       "    }\n",
       "</style>\n",
       "<table border=\"1\" class=\"dataframe\">\n",
       "  <thead>\n",
       "    <tr>\n",
       "      <th></th>\n",
       "      <th colspan=\"3\" halign=\"left\">dcases</th>\n",
       "      <th>ci95_hi</th>\n",
       "      <th>ci95_lo</th>\n",
       "    </tr>\n",
       "    <tr>\n",
       "      <th></th>\n",
       "      <th>mean</th>\n",
       "      <th>std</th>\n",
       "      <th>size</th>\n",
       "      <th></th>\n",
       "      <th></th>\n",
       "    </tr>\n",
       "    <tr>\n",
       "      <th>year</th>\n",
       "      <th></th>\n",
       "      <th></th>\n",
       "      <th></th>\n",
       "      <th></th>\n",
       "      <th></th>\n",
       "    </tr>\n",
       "  </thead>\n",
       "  <tbody>\n",
       "    <tr>\n",
       "      <th>2020</th>\n",
       "      <td>1214.800373</td>\n",
       "      <td>6871.170940</td>\n",
       "      <td>12879</td>\n",
       "      <td>1333.485269</td>\n",
       "      <td>1096.115477</td>\n",
       "    </tr>\n",
       "    <tr>\n",
       "      <th>2021</th>\n",
       "      <td>2550.449589</td>\n",
       "      <td>17762.604302</td>\n",
       "      <td>16653</td>\n",
       "      <td>2820.256518</td>\n",
       "      <td>2280.642659</td>\n",
       "    </tr>\n",
       "  </tbody>\n",
       "</table>\n",
       "</div>"
      ],
      "text/plain": [
       "           dcases                           ci95_hi      ci95_lo\n",
       "             mean           std   size                          \n",
       "year                                                            \n",
       "2020  1214.800373   6871.170940  12879  1333.485269  1096.115477\n",
       "2021  2550.449589  17762.604302  16653  2820.256518  2280.642659"
      ]
     },
     "execution_count": 512,
     "metadata": {},
     "output_type": "execute_result"
    }
   ],
   "source": [
    "df_ci"
   ]
  },
  {
   "cell_type": "code",
   "execution_count": 513,
   "id": "55190cff",
   "metadata": {},
   "outputs": [
    {
     "data": {
      "text/plain": [
       "Index(['2020', '2021'], dtype='object', name='year')"
      ]
     },
     "execution_count": 513,
     "metadata": {},
     "output_type": "execute_result"
    }
   ],
   "source": [
    "df_ci.index"
   ]
  },
  {
   "cell_type": "code",
   "execution_count": 514,
   "id": "cacd7482",
   "metadata": {},
   "outputs": [],
   "source": [
    "df_ci['region']=df_ci.index"
   ]
  },
  {
   "cell_type": "code",
   "execution_count": 515,
   "id": "150d3b5c",
   "metadata": {},
   "outputs": [
    {
     "data": {
      "text/html": [
       "<div>\n",
       "<style scoped>\n",
       "    .dataframe tbody tr th:only-of-type {\n",
       "        vertical-align: middle;\n",
       "    }\n",
       "\n",
       "    .dataframe tbody tr th {\n",
       "        vertical-align: top;\n",
       "    }\n",
       "\n",
       "    .dataframe thead tr th {\n",
       "        text-align: left;\n",
       "    }\n",
       "\n",
       "    .dataframe thead tr:last-of-type th {\n",
       "        text-align: right;\n",
       "    }\n",
       "</style>\n",
       "<table border=\"1\" class=\"dataframe\">\n",
       "  <thead>\n",
       "    <tr>\n",
       "      <th></th>\n",
       "      <th colspan=\"3\" halign=\"left\">dcases</th>\n",
       "      <th>ci95_hi</th>\n",
       "      <th>ci95_lo</th>\n",
       "      <th>region</th>\n",
       "    </tr>\n",
       "    <tr>\n",
       "      <th></th>\n",
       "      <th>mean</th>\n",
       "      <th>std</th>\n",
       "      <th>size</th>\n",
       "      <th></th>\n",
       "      <th></th>\n",
       "      <th></th>\n",
       "    </tr>\n",
       "    <tr>\n",
       "      <th>year</th>\n",
       "      <th></th>\n",
       "      <th></th>\n",
       "      <th></th>\n",
       "      <th></th>\n",
       "      <th></th>\n",
       "      <th></th>\n",
       "    </tr>\n",
       "  </thead>\n",
       "  <tbody>\n",
       "    <tr>\n",
       "      <th>2020</th>\n",
       "      <td>1214.800373</td>\n",
       "      <td>6871.170940</td>\n",
       "      <td>12879</td>\n",
       "      <td>1333.485269</td>\n",
       "      <td>1096.115477</td>\n",
       "      <td>2020</td>\n",
       "    </tr>\n",
       "    <tr>\n",
       "      <th>2021</th>\n",
       "      <td>2550.449589</td>\n",
       "      <td>17762.604302</td>\n",
       "      <td>16653</td>\n",
       "      <td>2820.256518</td>\n",
       "      <td>2280.642659</td>\n",
       "      <td>2021</td>\n",
       "    </tr>\n",
       "  </tbody>\n",
       "</table>\n",
       "</div>"
      ],
      "text/plain": [
       "           dcases                           ci95_hi      ci95_lo region\n",
       "             mean           std   size                                 \n",
       "year                                                                   \n",
       "2020  1214.800373   6871.170940  12879  1333.485269  1096.115477   2020\n",
       "2021  2550.449589  17762.604302  16653  2820.256518  2280.642659   2021"
      ]
     },
     "execution_count": 515,
     "metadata": {},
     "output_type": "execute_result"
    }
   ],
   "source": [
    "df_ci"
   ]
  },
  {
   "cell_type": "code",
   "execution_count": 516,
   "id": "db569208",
   "metadata": {},
   "outputs": [
    {
     "data": {
      "text/plain": [
       "MultiIndex([( 'dcases', 'mean'),\n",
       "            ( 'dcases',  'std'),\n",
       "            ( 'dcases', 'size'),\n",
       "            ('ci95_hi',     ''),\n",
       "            ('ci95_lo',     ''),\n",
       "            ( 'region',     '')],\n",
       "           )"
      ]
     },
     "execution_count": 516,
     "metadata": {},
     "output_type": "execute_result"
    }
   ],
   "source": [
    "df_ci.columns"
   ]
  },
  {
   "cell_type": "code",
   "execution_count": 520,
   "id": "b58b26bc",
   "metadata": {},
   "outputs": [
    {
     "data": {
      "text/plain": [
       "(1000.0, 3000.0)"
      ]
     },
     "execution_count": 520,
     "metadata": {},
     "output_type": "execute_result"
    },
    {
     "data": {
      "image/png": "[encoded data removed]",
      "text/plain": [
       "<Figure size 432x288 with 1 Axes>"
      ]
     },
     "metadata": {
      "needs_background": "light"
     },
     "output_type": "display_data"
    }
   ],
   "source": [
    "for lb,ub,y in zip(df_ci['ci95_lo'],df_ci['ci95_hi'],range(len(df_ci))):\n",
    "    plt.plot((lb,ub),(y,y),'ro-')\n",
    "plt.yticks(range(len(df_ci)),list(df_ci['region']))\n",
    "plt.xlim([1000, 3000])"
   ]
  },
  {
   "cell_type": "markdown",
   "id": "8f945399",
   "metadata": {},
   "source": [
    "#### Upper middle income"
   ]
  },
  {
   "cell_type": "code",
   "execution_count": 390,
   "id": "795f1bce",
   "metadata": {},
   "outputs": [],
   "source": [
    "df_uppmidinc=df.loc[df['income']=='Upper middle income']"
   ]
  },
  {
   "cell_type": "code",
   "execution_count": 391,
   "id": "6b4a60bd",
   "metadata": {},
   "outputs": [],
   "source": [
    "conditions=[(df_uppmidinc['date']<='2020-12-31'),(df_uppmidinc['date']>='2021-1-1')]"
   ]
  },
  {
   "cell_type": "code",
   "execution_count": 392,
   "id": "19d9a776",
   "metadata": {},
   "outputs": [
    {
     "name": "stderr",
     "output_type": "stream",
     "text": [
      "/var/folders/3m/bxpcj6d907q836kvw4zwr1340000gn/T/ipykernel_94023/872429741.py:1: SettingWithCopyWarning: \n",
      "A value is trying to be set on a copy of a slice from a DataFrame.\n",
      "Try using .loc[row_indexer,col_indexer] = value instead\n",
      "\n",
      "See the caveats in the documentation: https://pandas.pydata.org/pandas-docs/stable/user_guide/indexing.html#returning-a-view-versus-a-copy\n",
      "  df_uppmidinc['year']=np.select(conditions,['2020','2021'])\n"
     ]
    }
   ],
   "source": [
    "df_uppmidinc['year']=np.select(conditions,['2020','2021'])"
   ]
  },
  {
   "cell_type": "code",
   "execution_count": 393,
   "id": "442ef99f",
   "metadata": {},
   "outputs": [],
   "source": [
    "df_uppmidinc_2020=df_uppmidinc[df_uppmidinc['year']=='2020']"
   ]
  },
  {
   "cell_type": "code",
   "execution_count": 394,
   "id": "bf06143b",
   "metadata": {},
   "outputs": [],
   "source": [
    "df_uppmidinc_2021=df_uppmidinc[df_uppmidinc['year']=='2021']"
   ]
  },
  {
   "cell_type": "code",
   "execution_count": 487,
   "id": "c2b22fa8",
   "metadata": {},
   "outputs": [],
   "source": [
    "stats=df_uppmidinc.groupby('year').agg({\"dcases\": [np.mean, np.std, np.size]})"
   ]
  },
  {
   "cell_type": "code",
   "execution_count": 488,
   "id": "a6715e74",
   "metadata": {},
   "outputs": [
    {
     "data": {
      "text/html": [
       "<div>\n",
       "<style scoped>\n",
       "    .dataframe tbody tr th:only-of-type {\n",
       "        vertical-align: middle;\n",
       "    }\n",
       "\n",
       "    .dataframe tbody tr th {\n",
       "        vertical-align: top;\n",
       "    }\n",
       "\n",
       "    .dataframe thead tr th {\n",
       "        text-align: left;\n",
       "    }\n",
       "\n",
       "    .dataframe thead tr:last-of-type th {\n",
       "        text-align: right;\n",
       "    }\n",
       "</style>\n",
       "<table border=\"1\" class=\"dataframe\">\n",
       "  <thead>\n",
       "    <tr>\n",
       "      <th></th>\n",
       "      <th colspan=\"3\" halign=\"left\">dcases</th>\n",
       "    </tr>\n",
       "    <tr>\n",
       "      <th></th>\n",
       "      <th>mean</th>\n",
       "      <th>std</th>\n",
       "      <th>size</th>\n",
       "    </tr>\n",
       "    <tr>\n",
       "      <th>year</th>\n",
       "      <th></th>\n",
       "      <th></th>\n",
       "      <th></th>\n",
       "    </tr>\n",
       "  </thead>\n",
       "  <tbody>\n",
       "    <tr>\n",
       "      <th>2020</th>\n",
       "      <td>1643.653786</td>\n",
       "      <td>8259.918227</td>\n",
       "      <td>15863</td>\n",
       "    </tr>\n",
       "    <tr>\n",
       "      <th>2021</th>\n",
       "      <td>3368.106393</td>\n",
       "      <td>8585.182602</td>\n",
       "      <td>19710</td>\n",
       "    </tr>\n",
       "  </tbody>\n",
       "</table>\n",
       "</div>"
      ],
      "text/plain": [
       "           dcases                    \n",
       "             mean          std   size\n",
       "year                                 \n",
       "2020  1643.653786  8259.918227  15863\n",
       "2021  3368.106393  8585.182602  19710"
      ]
     },
     "execution_count": 488,
     "metadata": {},
     "output_type": "execute_result"
    }
   ],
   "source": [
    "stats"
   ]
  },
  {
   "cell_type": "code",
   "execution_count": 489,
   "id": "a36248b8",
   "metadata": {},
   "outputs": [
    {
     "data": {
      "text/plain": [
       "Index(['2020', '2021'], dtype='object', name='year')"
      ]
     },
     "execution_count": 489,
     "metadata": {},
     "output_type": "execute_result"
    }
   ],
   "source": [
    "stats.index"
   ]
  },
  {
   "cell_type": "code",
   "execution_count": 490,
   "id": "496dd918",
   "metadata": {},
   "outputs": [],
   "source": [
    "ci95_hi = []\n",
    "ci95_lo = []"
   ]
  },
  {
   "cell_type": "code",
   "execution_count": 491,
   "id": "a3f40eb4",
   "metadata": {},
   "outputs": [],
   "source": [
    "for i in stats.index:\n",
    "    m, s, n = stats.loc[i]\n",
    "    x=scipy.stats.t.interval(.95, n-1, m,s/np.sqrt(n-1))\n",
    "    ci95_hi.append(x[1])\n",
    "    ci95_lo.append(x[0])"
   ]
  },
  {
   "cell_type": "code",
   "execution_count": 492,
   "id": "d52fc708",
   "metadata": {},
   "outputs": [
    {
     "data": {
      "text/plain": [
       "[1772.2055394973436, 3487.9712864108756]"
      ]
     },
     "execution_count": 492,
     "metadata": {},
     "output_type": "execute_result"
    }
   ],
   "source": [
    "ci95_hi"
   ]
  },
  {
   "cell_type": "code",
   "execution_count": 493,
   "id": "5b85a54a",
   "metadata": {},
   "outputs": [
    {
     "data": {
      "text/plain": [
       "[1515.102031580006, 3248.241498977252]"
      ]
     },
     "execution_count": 493,
     "metadata": {},
     "output_type": "execute_result"
    }
   ],
   "source": [
    "ci95_lo"
   ]
  },
  {
   "cell_type": "code",
   "execution_count": 494,
   "id": "12ce7c2f",
   "metadata": {},
   "outputs": [
    {
     "name": "stdout",
     "output_type": "stream",
     "text": [
      "           dcases                          ci95_hi      ci95_lo\n",
      "             mean          std   size                          \n",
      "year                                                           \n",
      "2020  1643.653786  8259.918227  15863  1772.205539  1515.102032\n",
      "2021  3368.106393  8585.182602  19710  3487.971286  3248.241499\n"
     ]
    }
   ],
   "source": [
    "stats['ci95_hi'] = ci95_hi\n",
    "stats['ci95_lo'] = ci95_lo\n",
    "print(stats)"
   ]
  },
  {
   "cell_type": "code",
   "execution_count": 495,
   "id": "62eda553",
   "metadata": {},
   "outputs": [],
   "source": [
    "df_ci= pd.DataFrame(stats)"
   ]
  },
  {
   "cell_type": "code",
   "execution_count": 496,
   "id": "20107f47",
   "metadata": {},
   "outputs": [
    {
     "data": {
      "text/html": [
       "<div>\n",
       "<style scoped>\n",
       "    .dataframe tbody tr th:only-of-type {\n",
       "        vertical-align: middle;\n",
       "    }\n",
       "\n",
       "    .dataframe tbody tr th {\n",
       "        vertical-align: top;\n",
       "    }\n",
       "\n",
       "    .dataframe thead tr th {\n",
       "        text-align: left;\n",
       "    }\n",
       "\n",
       "    .dataframe thead tr:last-of-type th {\n",
       "        text-align: right;\n",
       "    }\n",
       "</style>\n",
       "<table border=\"1\" class=\"dataframe\">\n",
       "  <thead>\n",
       "    <tr>\n",
       "      <th></th>\n",
       "      <th colspan=\"3\" halign=\"left\">dcases</th>\n",
       "      <th>ci95_hi</th>\n",
       "      <th>ci95_lo</th>\n",
       "    </tr>\n",
       "    <tr>\n",
       "      <th></th>\n",
       "      <th>mean</th>\n",
       "      <th>std</th>\n",
       "      <th>size</th>\n",
       "      <th></th>\n",
       "      <th></th>\n",
       "    </tr>\n",
       "    <tr>\n",
       "      <th>year</th>\n",
       "      <th></th>\n",
       "      <th></th>\n",
       "      <th></th>\n",
       "      <th></th>\n",
       "      <th></th>\n",
       "    </tr>\n",
       "  </thead>\n",
       "  <tbody>\n",
       "    <tr>\n",
       "      <th>2020</th>\n",
       "      <td>1643.653786</td>\n",
       "      <td>8259.918227</td>\n",
       "      <td>15863</td>\n",
       "      <td>1772.205539</td>\n",
       "      <td>1515.102032</td>\n",
       "    </tr>\n",
       "    <tr>\n",
       "      <th>2021</th>\n",
       "      <td>3368.106393</td>\n",
       "      <td>8585.182602</td>\n",
       "      <td>19710</td>\n",
       "      <td>3487.971286</td>\n",
       "      <td>3248.241499</td>\n",
       "    </tr>\n",
       "  </tbody>\n",
       "</table>\n",
       "</div>"
      ],
      "text/plain": [
       "           dcases                          ci95_hi      ci95_lo\n",
       "             mean          std   size                          \n",
       "year                                                           \n",
       "2020  1643.653786  8259.918227  15863  1772.205539  1515.102032\n",
       "2021  3368.106393  8585.182602  19710  3487.971286  3248.241499"
      ]
     },
     "execution_count": 496,
     "metadata": {},
     "output_type": "execute_result"
    }
   ],
   "source": [
    "df_ci"
   ]
  },
  {
   "cell_type": "code",
   "execution_count": 497,
   "id": "2630f3eb",
   "metadata": {},
   "outputs": [
    {
     "data": {
      "text/plain": [
       "Index(['2020', '2021'], dtype='object', name='year')"
      ]
     },
     "execution_count": 497,
     "metadata": {},
     "output_type": "execute_result"
    }
   ],
   "source": [
    "df_ci.index"
   ]
  },
  {
   "cell_type": "code",
   "execution_count": 498,
   "id": "38d3daf3",
   "metadata": {},
   "outputs": [],
   "source": [
    "df_ci['region']=df_ci.index"
   ]
  },
  {
   "cell_type": "code",
   "execution_count": 499,
   "id": "d0b1e3fa",
   "metadata": {},
   "outputs": [
    {
     "data": {
      "text/html": [
       "<div>\n",
       "<style scoped>\n",
       "    .dataframe tbody tr th:only-of-type {\n",
       "        vertical-align: middle;\n",
       "    }\n",
       "\n",
       "    .dataframe tbody tr th {\n",
       "        vertical-align: top;\n",
       "    }\n",
       "\n",
       "    .dataframe thead tr th {\n",
       "        text-align: left;\n",
       "    }\n",
       "\n",
       "    .dataframe thead tr:last-of-type th {\n",
       "        text-align: right;\n",
       "    }\n",
       "</style>\n",
       "<table border=\"1\" class=\"dataframe\">\n",
       "  <thead>\n",
       "    <tr>\n",
       "      <th></th>\n",
       "      <th colspan=\"3\" halign=\"left\">dcases</th>\n",
       "      <th>ci95_hi</th>\n",
       "      <th>ci95_lo</th>\n",
       "      <th>region</th>\n",
       "    </tr>\n",
       "    <tr>\n",
       "      <th></th>\n",
       "      <th>mean</th>\n",
       "      <th>std</th>\n",
       "      <th>size</th>\n",
       "      <th></th>\n",
       "      <th></th>\n",
       "      <th></th>\n",
       "    </tr>\n",
       "    <tr>\n",
       "      <th>year</th>\n",
       "      <th></th>\n",
       "      <th></th>\n",
       "      <th></th>\n",
       "      <th></th>\n",
       "      <th></th>\n",
       "      <th></th>\n",
       "    </tr>\n",
       "  </thead>\n",
       "  <tbody>\n",
       "    <tr>\n",
       "      <th>2020</th>\n",
       "      <td>1643.653786</td>\n",
       "      <td>8259.918227</td>\n",
       "      <td>15863</td>\n",
       "      <td>1772.205539</td>\n",
       "      <td>1515.102032</td>\n",
       "      <td>2020</td>\n",
       "    </tr>\n",
       "    <tr>\n",
       "      <th>2021</th>\n",
       "      <td>3368.106393</td>\n",
       "      <td>8585.182602</td>\n",
       "      <td>19710</td>\n",
       "      <td>3487.971286</td>\n",
       "      <td>3248.241499</td>\n",
       "      <td>2021</td>\n",
       "    </tr>\n",
       "  </tbody>\n",
       "</table>\n",
       "</div>"
      ],
      "text/plain": [
       "           dcases                          ci95_hi      ci95_lo region\n",
       "             mean          std   size                                 \n",
       "year                                                                  \n",
       "2020  1643.653786  8259.918227  15863  1772.205539  1515.102032   2020\n",
       "2021  3368.106393  8585.182602  19710  3487.971286  3248.241499   2021"
      ]
     },
     "execution_count": 499,
     "metadata": {},
     "output_type": "execute_result"
    }
   ],
   "source": [
    "df_ci"
   ]
  },
  {
   "cell_type": "code",
   "execution_count": 500,
   "id": "80b40d3c",
   "metadata": {},
   "outputs": [
    {
     "data": {
      "text/plain": [
       "MultiIndex([( 'dcases', 'mean'),\n",
       "            ( 'dcases',  'std'),\n",
       "            ( 'dcases', 'size'),\n",
       "            ('ci95_hi',     ''),\n",
       "            ('ci95_lo',     ''),\n",
       "            ( 'region',     '')],\n",
       "           )"
      ]
     },
     "execution_count": 500,
     "metadata": {},
     "output_type": "execute_result"
    }
   ],
   "source": [
    "df_ci.columns"
   ]
  },
  {
   "cell_type": "code",
   "execution_count": 502,
   "id": "8051949d",
   "metadata": {},
   "outputs": [
    {
     "data": {
      "text/plain": [
       "(1400.0, 3600.0)"
      ]
     },
     "execution_count": 502,
     "metadata": {},
     "output_type": "execute_result"
    },
    {
     "data": {
      "image/png": "[encoded data removed]",
      "text/plain": [
       "<Figure size 432x288 with 1 Axes>"
      ]
     },
     "metadata": {
      "needs_background": "light"
     },
     "output_type": "display_data"
    }
   ],
   "source": [
    "for lb,ub,y in zip(df_ci['ci95_lo'],df_ci['ci95_hi'],range(len(df_ci))):\n",
    "    plt.plot((lb,ub),(y,y),'ro-')\n",
    "plt.yticks(range(len(df_ci)),list(df_ci['region']))\n",
    "plt.xlim([1400, 3600])"
   ]
  },
  {
   "cell_type": "markdown",
   "id": "1be428d0",
   "metadata": {},
   "source": [
    "#### High income"
   ]
  },
  {
   "cell_type": "code",
   "execution_count": 449,
   "id": "c808dc26",
   "metadata": {},
   "outputs": [],
   "source": [
    "df_highinc=df.loc[df['income']=='High income']"
   ]
  },
  {
   "cell_type": "code",
   "execution_count": 450,
   "id": "cb8adfca",
   "metadata": {},
   "outputs": [],
   "source": [
    "conditions=[(df_highinc['date']<='2020-12-31'),(df_highinc['date']>='2021-1-1')]"
   ]
  },
  {
   "cell_type": "code",
   "execution_count": 451,
   "id": "16817fcc",
   "metadata": {},
   "outputs": [
    {
     "name": "stderr",
     "output_type": "stream",
     "text": [
      "/var/folders/3m/bxpcj6d907q836kvw4zwr1340000gn/T/ipykernel_94023/2346071016.py:1: SettingWithCopyWarning: \n",
      "A value is trying to be set on a copy of a slice from a DataFrame.\n",
      "Try using .loc[row_indexer,col_indexer] = value instead\n",
      "\n",
      "See the caveats in the documentation: https://pandas.pydata.org/pandas-docs/stable/user_guide/indexing.html#returning-a-view-versus-a-copy\n",
      "  df_highinc['year']=np.select(conditions,['2020','2021'])\n"
     ]
    }
   ],
   "source": [
    "df_highinc['year']=np.select(conditions,['2020','2021'])"
   ]
  },
  {
   "cell_type": "code",
   "execution_count": 452,
   "id": "8d8c00b8",
   "metadata": {},
   "outputs": [],
   "source": [
    "df_highinc_2020=df_highinc[df_highinc['year']=='2020']"
   ]
  },
  {
   "cell_type": "code",
   "execution_count": 453,
   "id": "ff344406",
   "metadata": {},
   "outputs": [],
   "source": [
    "df_highinc_2021=df_highinc[df_highinc['year']=='2021']"
   ]
  },
  {
   "cell_type": "code",
   "execution_count": 454,
   "id": "9061faa3",
   "metadata": {},
   "outputs": [],
   "source": [
    "stats=df_highinc.groupby('year').agg({\"dcases\": [np.mean, np.std, np.size]})"
   ]
  },
  {
   "cell_type": "code",
   "execution_count": 455,
   "id": "743c9512",
   "metadata": {},
   "outputs": [
    {
     "data": {
      "text/html": [
       "<div>\n",
       "<style scoped>\n",
       "    .dataframe tbody tr th:only-of-type {\n",
       "        vertical-align: middle;\n",
       "    }\n",
       "\n",
       "    .dataframe tbody tr th {\n",
       "        vertical-align: top;\n",
       "    }\n",
       "\n",
       "    .dataframe thead tr th {\n",
       "        text-align: left;\n",
       "    }\n",
       "\n",
       "    .dataframe thead tr:last-of-type th {\n",
       "        text-align: right;\n",
       "    }\n",
       "</style>\n",
       "<table border=\"1\" class=\"dataframe\">\n",
       "  <thead>\n",
       "    <tr>\n",
       "      <th></th>\n",
       "      <th colspan=\"3\" halign=\"left\">dcases</th>\n",
       "    </tr>\n",
       "    <tr>\n",
       "      <th></th>\n",
       "      <th>mean</th>\n",
       "      <th>std</th>\n",
       "      <th>size</th>\n",
       "    </tr>\n",
       "    <tr>\n",
       "      <th>year</th>\n",
       "      <th></th>\n",
       "      <th></th>\n",
       "      <th></th>\n",
       "    </tr>\n",
       "  </thead>\n",
       "  <tbody>\n",
       "    <tr>\n",
       "      <th>2020</th>\n",
       "      <td>2321.685027</td>\n",
       "      <td>12494.070695</td>\n",
       "      <td>17865</td>\n",
       "    </tr>\n",
       "    <tr>\n",
       "      <th>2021</th>\n",
       "      <td>4520.954339</td>\n",
       "      <td>18317.784729</td>\n",
       "      <td>20937</td>\n",
       "    </tr>\n",
       "  </tbody>\n",
       "</table>\n",
       "</div>"
      ],
      "text/plain": [
       "           dcases                     \n",
       "             mean           std   size\n",
       "year                                  \n",
       "2020  2321.685027  12494.070695  17865\n",
       "2021  4520.954339  18317.784729  20937"
      ]
     },
     "execution_count": 455,
     "metadata": {},
     "output_type": "execute_result"
    }
   ],
   "source": [
    "stats"
   ]
  },
  {
   "cell_type": "code",
   "execution_count": 456,
   "id": "6d148248",
   "metadata": {},
   "outputs": [
    {
     "data": {
      "text/plain": [
       "Index(['2020', '2021'], dtype='object', name='year')"
      ]
     },
     "execution_count": 456,
     "metadata": {},
     "output_type": "execute_result"
    }
   ],
   "source": [
    "stats.index"
   ]
  },
  {
   "cell_type": "code",
   "execution_count": 457,
   "id": "4038042e",
   "metadata": {},
   "outputs": [],
   "source": [
    "ci95_hi = []\n",
    "ci95_lo = []"
   ]
  },
  {
   "cell_type": "code",
   "execution_count": 458,
   "id": "baa61966",
   "metadata": {},
   "outputs": [],
   "source": [
    "for i in stats.index:\n",
    "    m, s, n = stats.loc[i]\n",
    "    x=scipy.stats.t.interval(.95, n-1, m,s/np.sqrt(n-1))\n",
    "    ci95_hi.append(x[1])\n",
    "    ci95_lo.append(x[0])"
   ]
  },
  {
   "cell_type": "code",
   "execution_count": 459,
   "id": "c727141c",
   "metadata": {},
   "outputs": [
    {
     "data": {
      "text/plain": [
       "[2504.91314477934, 4769.09577766815]"
      ]
     },
     "execution_count": 459,
     "metadata": {},
     "output_type": "execute_result"
    }
   ],
   "source": [
    "ci95_hi"
   ]
  },
  {
   "cell_type": "code",
   "execution_count": 460,
   "id": "a57866aa",
   "metadata": {},
   "outputs": [
    {
     "data": {
      "text/plain": [
       "[2138.4569083972624, 4272.812900748051]"
      ]
     },
     "execution_count": 460,
     "metadata": {},
     "output_type": "execute_result"
    }
   ],
   "source": [
    "ci95_lo"
   ]
  },
  {
   "cell_type": "code",
   "execution_count": 461,
   "id": "baabc564",
   "metadata": {},
   "outputs": [
    {
     "name": "stdout",
     "output_type": "stream",
     "text": [
      "           dcases                           ci95_hi      ci95_lo\n",
      "             mean           std   size                          \n",
      "year                                                            \n",
      "2020  2321.685027  12494.070695  17865  2504.913145  2138.456908\n",
      "2021  4520.954339  18317.784729  20937  4769.095778  4272.812901\n"
     ]
    }
   ],
   "source": [
    "stats['ci95_hi'] = ci95_hi\n",
    "stats['ci95_lo'] = ci95_lo\n",
    "print(stats)"
   ]
  },
  {
   "cell_type": "code",
   "execution_count": 462,
   "id": "232a8ff8",
   "metadata": {},
   "outputs": [],
   "source": [
    "df_ci= pd.DataFrame(stats)"
   ]
  },
  {
   "cell_type": "code",
   "execution_count": 463,
   "id": "0277012d",
   "metadata": {},
   "outputs": [
    {
     "data": {
      "text/html": [
       "<div>\n",
       "<style scoped>\n",
       "    .dataframe tbody tr th:only-of-type {\n",
       "        vertical-align: middle;\n",
       "    }\n",
       "\n",
       "    .dataframe tbody tr th {\n",
       "        vertical-align: top;\n",
       "    }\n",
       "\n",
       "    .dataframe thead tr th {\n",
       "        text-align: left;\n",
       "    }\n",
       "\n",
       "    .dataframe thead tr:last-of-type th {\n",
       "        text-align: right;\n",
       "    }\n",
       "</style>\n",
       "<table border=\"1\" class=\"dataframe\">\n",
       "  <thead>\n",
       "    <tr>\n",
       "      <th></th>\n",
       "      <th colspan=\"3\" halign=\"left\">dcases</th>\n",
       "      <th>ci95_hi</th>\n",
       "      <th>ci95_lo</th>\n",
       "    </tr>\n",
       "    <tr>\n",
       "      <th></th>\n",
       "      <th>mean</th>\n",
       "      <th>std</th>\n",
       "      <th>size</th>\n",
       "      <th></th>\n",
       "      <th></th>\n",
       "    </tr>\n",
       "    <tr>\n",
       "      <th>year</th>\n",
       "      <th></th>\n",
       "      <th></th>\n",
       "      <th></th>\n",
       "      <th></th>\n",
       "      <th></th>\n",
       "    </tr>\n",
       "  </thead>\n",
       "  <tbody>\n",
       "    <tr>\n",
       "      <th>2020</th>\n",
       "      <td>2321.685027</td>\n",
       "      <td>12494.070695</td>\n",
       "      <td>17865</td>\n",
       "      <td>2504.913145</td>\n",
       "      <td>2138.456908</td>\n",
       "    </tr>\n",
       "    <tr>\n",
       "      <th>2021</th>\n",
       "      <td>4520.954339</td>\n",
       "      <td>18317.784729</td>\n",
       "      <td>20937</td>\n",
       "      <td>4769.095778</td>\n",
       "      <td>4272.812901</td>\n",
       "    </tr>\n",
       "  </tbody>\n",
       "</table>\n",
       "</div>"
      ],
      "text/plain": [
       "           dcases                           ci95_hi      ci95_lo\n",
       "             mean           std   size                          \n",
       "year                                                            \n",
       "2020  2321.685027  12494.070695  17865  2504.913145  2138.456908\n",
       "2021  4520.954339  18317.784729  20937  4769.095778  4272.812901"
      ]
     },
     "execution_count": 463,
     "metadata": {},
     "output_type": "execute_result"
    }
   ],
   "source": [
    "df_ci"
   ]
  },
  {
   "cell_type": "code",
   "execution_count": 464,
   "id": "2da424d7",
   "metadata": {},
   "outputs": [
    {
     "data": {
      "text/plain": [
       "Index(['2020', '2021'], dtype='object', name='year')"
      ]
     },
     "execution_count": 464,
     "metadata": {},
     "output_type": "execute_result"
    }
   ],
   "source": [
    "df_ci.index"
   ]
  },
  {
   "cell_type": "code",
   "execution_count": 465,
   "id": "2af8c81c",
   "metadata": {},
   "outputs": [],
   "source": [
    "df_ci['region']=df_ci.index"
   ]
  },
  {
   "cell_type": "code",
   "execution_count": 466,
   "id": "3df90902",
   "metadata": {},
   "outputs": [
    {
     "data": {
      "text/html": [
       "<div>\n",
       "<style scoped>\n",
       "    .dataframe tbody tr th:only-of-type {\n",
       "        vertical-align: middle;\n",
       "    }\n",
       "\n",
       "    .dataframe tbody tr th {\n",
       "        vertical-align: top;\n",
       "    }\n",
       "\n",
       "    .dataframe thead tr th {\n",
       "        text-align: left;\n",
       "    }\n",
       "\n",
       "    .dataframe thead tr:last-of-type th {\n",
       "        text-align: right;\n",
       "    }\n",
       "</style>\n",
       "<table border=\"1\" class=\"dataframe\">\n",
       "  <thead>\n",
       "    <tr>\n",
       "      <th></th>\n",
       "      <th colspan=\"3\" halign=\"left\">dcases</th>\n",
       "      <th>ci95_hi</th>\n",
       "      <th>ci95_lo</th>\n",
       "      <th>region</th>\n",
       "    </tr>\n",
       "    <tr>\n",
       "      <th></th>\n",
       "      <th>mean</th>\n",
       "      <th>std</th>\n",
       "      <th>size</th>\n",
       "      <th></th>\n",
       "      <th></th>\n",
       "      <th></th>\n",
       "    </tr>\n",
       "    <tr>\n",
       "      <th>year</th>\n",
       "      <th></th>\n",
       "      <th></th>\n",
       "      <th></th>\n",
       "      <th></th>\n",
       "      <th></th>\n",
       "      <th></th>\n",
       "    </tr>\n",
       "  </thead>\n",
       "  <tbody>\n",
       "    <tr>\n",
       "      <th>2020</th>\n",
       "      <td>2321.685027</td>\n",
       "      <td>12494.070695</td>\n",
       "      <td>17865</td>\n",
       "      <td>2504.913145</td>\n",
       "      <td>2138.456908</td>\n",
       "      <td>2020</td>\n",
       "    </tr>\n",
       "    <tr>\n",
       "      <th>2021</th>\n",
       "      <td>4520.954339</td>\n",
       "      <td>18317.784729</td>\n",
       "      <td>20937</td>\n",
       "      <td>4769.095778</td>\n",
       "      <td>4272.812901</td>\n",
       "      <td>2021</td>\n",
       "    </tr>\n",
       "  </tbody>\n",
       "</table>\n",
       "</div>"
      ],
      "text/plain": [
       "           dcases                           ci95_hi      ci95_lo region\n",
       "             mean           std   size                                 \n",
       "year                                                                   \n",
       "2020  2321.685027  12494.070695  17865  2504.913145  2138.456908   2020\n",
       "2021  4520.954339  18317.784729  20937  4769.095778  4272.812901   2021"
      ]
     },
     "execution_count": 466,
     "metadata": {},
     "output_type": "execute_result"
    }
   ],
   "source": [
    "df_ci"
   ]
  },
  {
   "cell_type": "code",
   "execution_count": 467,
   "id": "a21190ee",
   "metadata": {},
   "outputs": [
    {
     "data": {
      "text/plain": [
       "MultiIndex([( 'dcases', 'mean'),\n",
       "            ( 'dcases',  'std'),\n",
       "            ( 'dcases', 'size'),\n",
       "            ('ci95_hi',     ''),\n",
       "            ('ci95_lo',     ''),\n",
       "            ( 'region',     '')],\n",
       "           )"
      ]
     },
     "execution_count": 467,
     "metadata": {},
     "output_type": "execute_result"
    }
   ],
   "source": [
    "df_ci.columns"
   ]
  },
  {
   "cell_type": "code",
   "execution_count": 471,
   "id": "61ac4d48",
   "metadata": {},
   "outputs": [
    {
     "data": {
      "text/plain": [
       "(2000.0, 5000.0)"
      ]
     },
     "execution_count": 471,
     "metadata": {},
     "output_type": "execute_result"
    },
    {
     "data": {
      "image/png": "[encoded data removed]",
      "text/plain": [
       "<Figure size 432x288 with 1 Axes>"
      ]
     },
     "metadata": {
      "needs_background": "light"
     },
     "output_type": "display_data"
    }
   ],
   "source": [
    "for lb,ub,y in zip(df_ci['ci95_lo'],df_ci['ci95_hi'],range(len(df_ci))):\n",
    "    plt.plot((lb,ub),(y,y),'ro-')\n",
    "plt.yticks(range(len(df_ci)),list(df_ci['region']))\n",
    "plt.xlim([2000, 5000])"
   ]
  },
  {
   "cell_type": "markdown",
   "id": "4462ea2b",
   "metadata": {},
   "source": [
    "## Extra: Compare Condifence Intervals of All Income Levels"
   ]
  },
  {
   "cell_type": "code",
   "execution_count": 430,
   "id": "ed425d9c",
   "metadata": {},
   "outputs": [],
   "source": [
    "stats=df.groupby('income').agg({\"dcases\": [np.mean, np.std, np.size]})"
   ]
  },
  {
   "cell_type": "code",
   "execution_count": 431,
   "id": "a059a29b",
   "metadata": {},
   "outputs": [
    {
     "data": {
      "text/html": [
       "<div>\n",
       "<style scoped>\n",
       "    .dataframe tbody tr th:only-of-type {\n",
       "        vertical-align: middle;\n",
       "    }\n",
       "\n",
       "    .dataframe tbody tr th {\n",
       "        vertical-align: top;\n",
       "    }\n",
       "\n",
       "    .dataframe thead tr th {\n",
       "        text-align: left;\n",
       "    }\n",
       "\n",
       "    .dataframe thead tr:last-of-type th {\n",
       "        text-align: right;\n",
       "    }\n",
       "</style>\n",
       "<table border=\"1\" class=\"dataframe\">\n",
       "  <thead>\n",
       "    <tr>\n",
       "      <th></th>\n",
       "      <th colspan=\"3\" halign=\"left\">dcases</th>\n",
       "    </tr>\n",
       "    <tr>\n",
       "      <th></th>\n",
       "      <th>mean</th>\n",
       "      <th>std</th>\n",
       "      <th>size</th>\n",
       "    </tr>\n",
       "    <tr>\n",
       "      <th>income</th>\n",
       "      <th></th>\n",
       "      <th></th>\n",
       "      <th></th>\n",
       "    </tr>\n",
       "  </thead>\n",
       "  <tbody>\n",
       "    <tr>\n",
       "      <th>High income</th>\n",
       "      <td>3508.379053</td>\n",
       "      <td>15941.148992</td>\n",
       "      <td>38802</td>\n",
       "    </tr>\n",
       "    <tr>\n",
       "      <th>Low income</th>\n",
       "      <td>128.303866</td>\n",
       "      <td>528.052513</td>\n",
       "      <td>18936</td>\n",
       "    </tr>\n",
       "    <tr>\n",
       "      <th>Lower middle income</th>\n",
       "      <td>1967.968678</td>\n",
       "      <td>14104.539546</td>\n",
       "      <td>29532</td>\n",
       "    </tr>\n",
       "    <tr>\n",
       "      <th>Upper middle income</th>\n",
       "      <td>2599.124533</td>\n",
       "      <td>8484.977570</td>\n",
       "      <td>35573</td>\n",
       "    </tr>\n",
       "  </tbody>\n",
       "</table>\n",
       "</div>"
      ],
      "text/plain": [
       "                          dcases                     \n",
       "                            mean           std   size\n",
       "income                                               \n",
       "High income          3508.379053  15941.148992  38802\n",
       "Low income            128.303866    528.052513  18936\n",
       "Lower middle income  1967.968678  14104.539546  29532\n",
       "Upper middle income  2599.124533   8484.977570  35573"
      ]
     },
     "execution_count": 431,
     "metadata": {},
     "output_type": "execute_result"
    }
   ],
   "source": [
    "stats"
   ]
  },
  {
   "cell_type": "code",
   "execution_count": 432,
   "id": "0d29f130",
   "metadata": {},
   "outputs": [
    {
     "data": {
      "text/plain": [
       "Index(['High income', 'Low income', 'Lower middle income',\n",
       "       'Upper middle income'],\n",
       "      dtype='object', name='income')"
      ]
     },
     "execution_count": 432,
     "metadata": {},
     "output_type": "execute_result"
    }
   ],
   "source": [
    "stats.index"
   ]
  },
  {
   "cell_type": "code",
   "execution_count": 433,
   "id": "20494dcf",
   "metadata": {},
   "outputs": [],
   "source": [
    "ci95_hi = []\n",
    "ci95_lo = []"
   ]
  },
  {
   "cell_type": "code",
   "execution_count": 434,
   "id": "89efd482",
   "metadata": {},
   "outputs": [],
   "source": [
    "for i in stats.index:\n",
    "    m, s, n = stats.loc[i]\n",
    "    x=scipy.stats.t.interval(.95, n-1, m,s/np.sqrt(n-1))\n",
    "    ci95_hi.append(x[1])\n",
    "    ci95_lo.append(x[0])"
   ]
  },
  {
   "cell_type": "code",
   "execution_count": 435,
   "id": "dd2294fe",
   "metadata": {},
   "outputs": [
    {
     "data": {
      "text/plain": [
       "[3666.999730039011, 135.82564020188033, 2128.8426288376204, 2687.3023663783597]"
      ]
     },
     "execution_count": 435,
     "metadata": {},
     "output_type": "execute_result"
    }
   ],
   "source": [
    "ci95_hi"
   ]
  },
  {
   "cell_type": "code",
   "execution_count": 436,
   "id": "d5adc87b",
   "metadata": {},
   "outputs": [
    {
     "data": {
      "text/plain": [
       "[3349.7583752132955,\n",
       " 120.78209110356958,\n",
       " 1807.0947272506905,\n",
       " 2510.9466989239763]"
      ]
     },
     "execution_count": 436,
     "metadata": {},
     "output_type": "execute_result"
    }
   ],
   "source": [
    "ci95_lo"
   ]
  },
  {
   "cell_type": "code",
   "execution_count": 437,
   "id": "c174153a",
   "metadata": {},
   "outputs": [
    {
     "name": "stdout",
     "output_type": "stream",
     "text": [
      "                          dcases                           ci95_hi  \\\n",
      "                            mean           std   size                \n",
      "income                                                               \n",
      "High income          3508.379053  15941.148992  38802  3666.999730   \n",
      "Low income            128.303866    528.052513  18936   135.825640   \n",
      "Lower middle income  1967.968678  14104.539546  29532  2128.842629   \n",
      "Upper middle income  2599.124533   8484.977570  35573  2687.302366   \n",
      "\n",
      "                         ci95_lo  \n",
      "                                  \n",
      "income                            \n",
      "High income          3349.758375  \n",
      "Low income            120.782091  \n",
      "Lower middle income  1807.094727  \n",
      "Upper middle income  2510.946699  \n"
     ]
    }
   ],
   "source": [
    "stats['ci95_hi'] = ci95_hi\n",
    "stats['ci95_lo'] = ci95_lo\n",
    "print(stats)"
   ]
  },
  {
   "cell_type": "code",
   "execution_count": 438,
   "id": "2411e032",
   "metadata": {},
   "outputs": [],
   "source": [
    "df_ci= pd.DataFrame(stats)"
   ]
  },
  {
   "cell_type": "code",
   "execution_count": 439,
   "id": "aa3141a0",
   "metadata": {},
   "outputs": [
    {
     "data": {
      "text/html": [
       "<div>\n",
       "<style scoped>\n",
       "    .dataframe tbody tr th:only-of-type {\n",
       "        vertical-align: middle;\n",
       "    }\n",
       "\n",
       "    .dataframe tbody tr th {\n",
       "        vertical-align: top;\n",
       "    }\n",
       "\n",
       "    .dataframe thead tr th {\n",
       "        text-align: left;\n",
       "    }\n",
       "\n",
       "    .dataframe thead tr:last-of-type th {\n",
       "        text-align: right;\n",
       "    }\n",
       "</style>\n",
       "<table border=\"1\" class=\"dataframe\">\n",
       "  <thead>\n",
       "    <tr>\n",
       "      <th></th>\n",
       "      <th colspan=\"3\" halign=\"left\">dcases</th>\n",
       "      <th>ci95_hi</th>\n",
       "      <th>ci95_lo</th>\n",
       "    </tr>\n",
       "    <tr>\n",
       "      <th></th>\n",
       "      <th>mean</th>\n",
       "      <th>std</th>\n",
       "      <th>size</th>\n",
       "      <th></th>\n",
       "      <th></th>\n",
       "    </tr>\n",
       "    <tr>\n",
       "      <th>income</th>\n",
       "      <th></th>\n",
       "      <th></th>\n",
       "      <th></th>\n",
       "      <th></th>\n",
       "      <th></th>\n",
       "    </tr>\n",
       "  </thead>\n",
       "  <tbody>\n",
       "    <tr>\n",
       "      <th>High income</th>\n",
       "      <td>3508.379053</td>\n",
       "      <td>15941.148992</td>\n",
       "      <td>38802</td>\n",
       "      <td>3666.999730</td>\n",
       "      <td>3349.758375</td>\n",
       "    </tr>\n",
       "    <tr>\n",
       "      <th>Low income</th>\n",
       "      <td>128.303866</td>\n",
       "      <td>528.052513</td>\n",
       "      <td>18936</td>\n",
       "      <td>135.825640</td>\n",
       "      <td>120.782091</td>\n",
       "    </tr>\n",
       "    <tr>\n",
       "      <th>Lower middle income</th>\n",
       "      <td>1967.968678</td>\n",
       "      <td>14104.539546</td>\n",
       "      <td>29532</td>\n",
       "      <td>2128.842629</td>\n",
       "      <td>1807.094727</td>\n",
       "    </tr>\n",
       "    <tr>\n",
       "      <th>Upper middle income</th>\n",
       "      <td>2599.124533</td>\n",
       "      <td>8484.977570</td>\n",
       "      <td>35573</td>\n",
       "      <td>2687.302366</td>\n",
       "      <td>2510.946699</td>\n",
       "    </tr>\n",
       "  </tbody>\n",
       "</table>\n",
       "</div>"
      ],
      "text/plain": [
       "                          dcases                           ci95_hi  \\\n",
       "                            mean           std   size                \n",
       "income                                                               \n",
       "High income          3508.379053  15941.148992  38802  3666.999730   \n",
       "Low income            128.303866    528.052513  18936   135.825640   \n",
       "Lower middle income  1967.968678  14104.539546  29532  2128.842629   \n",
       "Upper middle income  2599.124533   8484.977570  35573  2687.302366   \n",
       "\n",
       "                         ci95_lo  \n",
       "                                  \n",
       "income                            \n",
       "High income          3349.758375  \n",
       "Low income            120.782091  \n",
       "Lower middle income  1807.094727  \n",
       "Upper middle income  2510.946699  "
      ]
     },
     "execution_count": 439,
     "metadata": {},
     "output_type": "execute_result"
    }
   ],
   "source": [
    "df_ci"
   ]
  },
  {
   "cell_type": "code",
   "execution_count": 440,
   "id": "68a8b203",
   "metadata": {},
   "outputs": [
    {
     "data": {
      "text/plain": [
       "Index(['High income', 'Low income', 'Lower middle income',\n",
       "       'Upper middle income'],\n",
       "      dtype='object', name='income')"
      ]
     },
     "execution_count": 440,
     "metadata": {},
     "output_type": "execute_result"
    }
   ],
   "source": [
    "df_ci.index"
   ]
  },
  {
   "cell_type": "code",
   "execution_count": 441,
   "id": "46db3cac",
   "metadata": {},
   "outputs": [],
   "source": [
    "df_ci['region']=df_ci.index"
   ]
  },
  {
   "cell_type": "code",
   "execution_count": 442,
   "id": "ab9062fd",
   "metadata": {},
   "outputs": [
    {
     "data": {
      "text/html": [
       "<div>\n",
       "<style scoped>\n",
       "    .dataframe tbody tr th:only-of-type {\n",
       "        vertical-align: middle;\n",
       "    }\n",
       "\n",
       "    .dataframe tbody tr th {\n",
       "        vertical-align: top;\n",
       "    }\n",
       "\n",
       "    .dataframe thead tr th {\n",
       "        text-align: left;\n",
       "    }\n",
       "\n",
       "    .dataframe thead tr:last-of-type th {\n",
       "        text-align: right;\n",
       "    }\n",
       "</style>\n",
       "<table border=\"1\" class=\"dataframe\">\n",
       "  <thead>\n",
       "    <tr>\n",
       "      <th></th>\n",
       "      <th colspan=\"3\" halign=\"left\">dcases</th>\n",
       "      <th>ci95_hi</th>\n",
       "      <th>ci95_lo</th>\n",
       "      <th>region</th>\n",
       "    </tr>\n",
       "    <tr>\n",
       "      <th></th>\n",
       "      <th>mean</th>\n",
       "      <th>std</th>\n",
       "      <th>size</th>\n",
       "      <th></th>\n",
       "      <th></th>\n",
       "      <th></th>\n",
       "    </tr>\n",
       "    <tr>\n",
       "      <th>income</th>\n",
       "      <th></th>\n",
       "      <th></th>\n",
       "      <th></th>\n",
       "      <th></th>\n",
       "      <th></th>\n",
       "      <th></th>\n",
       "    </tr>\n",
       "  </thead>\n",
       "  <tbody>\n",
       "    <tr>\n",
       "      <th>High income</th>\n",
       "      <td>3508.379053</td>\n",
       "      <td>15941.148992</td>\n",
       "      <td>38802</td>\n",
       "      <td>3666.999730</td>\n",
       "      <td>3349.758375</td>\n",
       "      <td>High income</td>\n",
       "    </tr>\n",
       "    <tr>\n",
       "      <th>Low income</th>\n",
       "      <td>128.303866</td>\n",
       "      <td>528.052513</td>\n",
       "      <td>18936</td>\n",
       "      <td>135.825640</td>\n",
       "      <td>120.782091</td>\n",
       "      <td>Low income</td>\n",
       "    </tr>\n",
       "    <tr>\n",
       "      <th>Lower middle income</th>\n",
       "      <td>1967.968678</td>\n",
       "      <td>14104.539546</td>\n",
       "      <td>29532</td>\n",
       "      <td>2128.842629</td>\n",
       "      <td>1807.094727</td>\n",
       "      <td>Lower middle income</td>\n",
       "    </tr>\n",
       "    <tr>\n",
       "      <th>Upper middle income</th>\n",
       "      <td>2599.124533</td>\n",
       "      <td>8484.977570</td>\n",
       "      <td>35573</td>\n",
       "      <td>2687.302366</td>\n",
       "      <td>2510.946699</td>\n",
       "      <td>Upper middle income</td>\n",
       "    </tr>\n",
       "  </tbody>\n",
       "</table>\n",
       "</div>"
      ],
      "text/plain": [
       "                          dcases                           ci95_hi  \\\n",
       "                            mean           std   size                \n",
       "income                                                               \n",
       "High income          3508.379053  15941.148992  38802  3666.999730   \n",
       "Low income            128.303866    528.052513  18936   135.825640   \n",
       "Lower middle income  1967.968678  14104.539546  29532  2128.842629   \n",
       "Upper middle income  2599.124533   8484.977570  35573  2687.302366   \n",
       "\n",
       "                         ci95_lo               region  \n",
       "                                                       \n",
       "income                                                 \n",
       "High income          3349.758375          High income  \n",
       "Low income            120.782091           Low income  \n",
       "Lower middle income  1807.094727  Lower middle income  \n",
       "Upper middle income  2510.946699  Upper middle income  "
      ]
     },
     "execution_count": 442,
     "metadata": {},
     "output_type": "execute_result"
    }
   ],
   "source": [
    "df_ci"
   ]
  },
  {
   "cell_type": "code",
   "execution_count": 443,
   "id": "5e61eebe",
   "metadata": {},
   "outputs": [
    {
     "data": {
      "text/plain": [
       "MultiIndex([( 'dcases', 'mean'),\n",
       "            ( 'dcases',  'std'),\n",
       "            ( 'dcases', 'size'),\n",
       "            ('ci95_hi',     ''),\n",
       "            ('ci95_lo',     ''),\n",
       "            ( 'region',     '')],\n",
       "           )"
      ]
     },
     "execution_count": 443,
     "metadata": {},
     "output_type": "execute_result"
    }
   ],
   "source": [
    "df_ci.columns"
   ]
  },
  {
   "cell_type": "code",
   "execution_count": 446,
   "id": "6c3aefaa",
   "metadata": {},
   "outputs": [
    {
     "data": {
      "text/plain": [
       "(0.0, 4000.0)"
      ]
     },
     "execution_count": 446,
     "metadata": {},
     "output_type": "execute_result"
    },
    {
     "data": {
      "image/png": "[encoded data removed]",
      "text/plain": [
       "<Figure size 432x288 with 1 Axes>"
      ]
     },
     "metadata": {
      "needs_background": "light"
     },
     "output_type": "display_data"
    }
   ],
   "source": [
    "for lb,ub,y in zip(df_ci['ci95_lo'],df_ci['ci95_hi'],range(len(df_ci))):\n",
    "    plt.plot((lb,ub),(y,y),'ro-')\n",
    "plt.yticks(range(len(df_ci)),list(df_ci['region']))\n",
    "plt.xlim([0, 4000])"
   ]
  },
  {
   "cell_type": "markdown",
   "id": "08142e04",
   "metadata": {},
   "source": [
    "### Discussion"
   ]
  },
  {
   "cell_type": "markdown",
   "id": "b0a60958",
   "metadata": {},
   "source": []
  },
  {
   "cell_type": "markdown",
   "id": "689dcdbd",
   "metadata": {},
   "source": [
    "### Conclusion"
   ]
  },
  {
   "cell_type": "markdown",
   "id": "8e24d943",
   "metadata": {},
   "source": []
  }
 ],
 "metadata": {
  "kernelspec": {
   "display_name": "Python 3 (ipykernel)",
   "language": "python",
   "name": "python3"
  },
  "language_info": {
   "codemirror_mode": {
    "name": "ipython",
    "version": 3
   },
   "file_extension": ".py",
   "mimetype": "text/x-python",
   "name": "python",
   "nbconvert_exporter": "python",
   "pygments_lexer": "ipython3",
   "version": "3.9.7"
  }
 },
 "nbformat": 4,
 "nbformat_minor": 5
}
